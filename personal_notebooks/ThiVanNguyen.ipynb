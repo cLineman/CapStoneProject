{
 "cells": [
  {
   "cell_type": "markdown",
   "metadata": {},
   "source": [
    "# Movie data analysis between genre and profit ratio"
   ]
  },
  {
   "cell_type": "markdown",
   "metadata": {},
   "source": [
    "The movie business might look pretty glamorous and lucrative.\n",
    "I wanted to take a look at how the major genres perform around the world relative to their global average performance to determine which genres are the most profitable.I also think that genre is so important for any studio creating a new movie . If we investigate this data, we can to an extent understand what genre is the best for audience. I wanted to use this dataset to get a deeper understanding of profit ratio between difference genre. I will be performing ANOVA and t-test  between the genres and profit ratio."
   ]
  },
  {
   "cell_type": "markdown",
   "metadata": {},
   "source": [
    "## Part 1: Preparing data"
   ]
  },
  {
   "cell_type": "code",
   "execution_count": 1,
   "metadata": {},
   "outputs": [],
   "source": [
    "#import library\n",
    "import pandas as pd\n",
    "import matplotlib.pyplot as plt\n",
    "import numpy as np\n",
    "import sqlite3\n",
    "import seaborn as sns\n",
    "import zipfile\n",
    "import statsmodels.api as sm\n",
    "from statsmodels.formula.api import ols\n",
    "sns.set()"
   ]
  },
  {
   "cell_type": "code",
   "execution_count": 12,
   "metadata": {},
   "outputs": [
    {
     "name": "stdout",
     "output_type": "stream",
     "text": [
      "Extracted all\n"
     ]
    }
   ],
   "source": [
    "#read data\n",
    "movie_budgets =pd.read_csv('C:/Users/thivnguyen/Git/Flatiron/CapStoneProject/zippedData/tn.movie_budgets.csv.gz')\n",
    "zip_file = \"C:/Users/thivnguyen/Git/Flatiron/CapStoneProject/zippedData/im.db.zip\"\n",
    "\n",
    "try:\n",
    "    with zipfile.ZipFile(zip_file, 'r') as z:\n",
    "        z.extractall(\"zippedData/unZippedim.db\")\n",
    "        print(\"Extracted all\")\n",
    "except:\n",
    "    print(\"Invalid file\")\n",
    "conn = sqlite3.connect(\"zippedData/unZippedim.db/im.db\")\n",
    "##change trelease_date object type to datetime type\n",
    "movie_budgets[\"release_date\"] = pd.to_datetime(movie_budgets[\"release_date\"])\n",
    "#movie_budgets.info()\\\n",
    "#clean movie_budget dataset\n",
    "def clean_currency(x):\n",
    "    \"\"\" If the value is a string, then remove currency symbol and delimiters\n",
    "    otherwise, the value is numeric and can be converted\n",
    "    \"\"\"\n",
    "    if isinstance(x, str):\n",
    "        return(x.replace('$', '').replace(',', ''))\n",
    "    return(x)\n",
    "\n",
    "movie_budgets['production_budget'] = movie_budgets['production_budget'].apply(clean_currency).astype('float64')\n",
    "movie_budgets['domestic_gross'] = movie_budgets['domestic_gross'].apply(clean_currency).astype('float64')\n",
    "movie_budgets['worldwide_gross'] = movie_budgets['worldwide_gross'].apply(clean_currency).astype('float64')\n"
   ]
  },
  {
   "cell_type": "code",
   "execution_count": 13,
   "metadata": {},
   "outputs": [
    {
     "name": "stdout",
     "output_type": "stream",
     "text": [
      "<class 'pandas.core.frame.DataFrame'>\n",
      "RangeIndex: 5782 entries, 0 to 5781\n",
      "Data columns (total 6 columns):\n",
      " #   Column             Non-Null Count  Dtype         \n",
      "---  ------             --------------  -----         \n",
      " 0   id                 5782 non-null   int64         \n",
      " 1   release_date       5782 non-null   datetime64[ns]\n",
      " 2   movie              5782 non-null   object        \n",
      " 3   production_budget  5782 non-null   float64       \n",
      " 4   domestic_gross     5782 non-null   float64       \n",
      " 5   worldwide_gross    5782 non-null   float64       \n",
      "dtypes: datetime64[ns](1), float64(3), int64(1), object(1)\n",
      "memory usage: 271.2+ KB\n"
     ]
    }
   ],
   "source": [
    "movie_budgets.info()"
   ]
  },
  {
   "cell_type": "code",
   "execution_count": 44,
   "metadata": {},
   "outputs": [
    {
     "data": {
      "text/html": [
       "<div>\n",
       "<style scoped>\n",
       "    .dataframe tbody tr th:only-of-type {\n",
       "        vertical-align: middle;\n",
       "    }\n",
       "\n",
       "    .dataframe tbody tr th {\n",
       "        vertical-align: top;\n",
       "    }\n",
       "\n",
       "    .dataframe thead th {\n",
       "        text-align: right;\n",
       "    }\n",
       "</style>\n",
       "<table border=\"1\" class=\"dataframe\">\n",
       "  <thead>\n",
       "    <tr style=\"text-align: right;\">\n",
       "      <th></th>\n",
       "      <th>release_date</th>\n",
       "      <th>movie</th>\n",
       "      <th>production_budget</th>\n",
       "      <th>domestic_gross</th>\n",
       "      <th>worldwide_gross</th>\n",
       "      <th>start_year</th>\n",
       "      <th>runtime_minutes</th>\n",
       "      <th>genres</th>\n",
       "      <th>profit</th>\n",
       "      <th>foreign_gross</th>\n",
       "      <th>profit_ratio</th>\n",
       "    </tr>\n",
       "  </thead>\n",
       "  <tbody>\n",
       "    <tr>\n",
       "      <th>1565</th>\n",
       "      <td>2015-07-10</td>\n",
       "      <td>The Gallows</td>\n",
       "      <td>100000.0</td>\n",
       "      <td>22764410.0</td>\n",
       "      <td>41656474.0</td>\n",
       "      <td>2015</td>\n",
       "      <td>81.0</td>\n",
       "      <td>Horror,Mystery,Thriller</td>\n",
       "      <td>41556474.0</td>\n",
       "      <td>18892064.0</td>\n",
       "      <td>414.564740</td>\n",
       "    </tr>\n",
       "    <tr>\n",
       "      <th>1465</th>\n",
       "      <td>2012-01-06</td>\n",
       "      <td>The Devil Inside</td>\n",
       "      <td>1000000.0</td>\n",
       "      <td>53262945.0</td>\n",
       "      <td>101759490.0</td>\n",
       "      <td>2012</td>\n",
       "      <td>83.0</td>\n",
       "      <td>Horror</td>\n",
       "      <td>100759490.0</td>\n",
       "      <td>48496545.0</td>\n",
       "      <td>99.759490</td>\n",
       "    </tr>\n",
       "    <tr>\n",
       "      <th>1338</th>\n",
       "      <td>2010-10-20</td>\n",
       "      <td>Paranormal Activity 2</td>\n",
       "      <td>3000000.0</td>\n",
       "      <td>84752907.0</td>\n",
       "      <td>177512032.0</td>\n",
       "      <td>2010</td>\n",
       "      <td>91.0</td>\n",
       "      <td>Horror</td>\n",
       "      <td>174512032.0</td>\n",
       "      <td>92759125.0</td>\n",
       "      <td>57.170677</td>\n",
       "    </tr>\n",
       "    <tr>\n",
       "      <th>1242</th>\n",
       "      <td>2017-02-24</td>\n",
       "      <td>Get Out</td>\n",
       "      <td>5000000.0</td>\n",
       "      <td>176040665.0</td>\n",
       "      <td>255367951.0</td>\n",
       "      <td>2017</td>\n",
       "      <td>104.0</td>\n",
       "      <td>Horror,Mystery,Thriller</td>\n",
       "      <td>250367951.0</td>\n",
       "      <td>79327286.0</td>\n",
       "      <td>49.073590</td>\n",
       "    </tr>\n",
       "    <tr>\n",
       "      <th>1436</th>\n",
       "      <td>2016-10-21</td>\n",
       "      <td>Moonlight</td>\n",
       "      <td>1500000.0</td>\n",
       "      <td>27854931.0</td>\n",
       "      <td>65245512.0</td>\n",
       "      <td>2016</td>\n",
       "      <td>111.0</td>\n",
       "      <td>Drama</td>\n",
       "      <td>63745512.0</td>\n",
       "      <td>37390581.0</td>\n",
       "      <td>41.497008</td>\n",
       "    </tr>\n",
       "  </tbody>\n",
       "</table>\n",
       "</div>"
      ],
      "text/plain": [
       "     release_date                  movie  production_budget  domestic_gross  \\\n",
       "1565   2015-07-10            The Gallows           100000.0      22764410.0   \n",
       "1465   2012-01-06       The Devil Inside          1000000.0      53262945.0   \n",
       "1338   2010-10-20  Paranormal Activity 2          3000000.0      84752907.0   \n",
       "1242   2017-02-24                Get Out          5000000.0     176040665.0   \n",
       "1436   2016-10-21              Moonlight          1500000.0      27854931.0   \n",
       "\n",
       "      worldwide_gross  start_year  runtime_minutes                   genres  \\\n",
       "1565       41656474.0        2015             81.0  Horror,Mystery,Thriller   \n",
       "1465      101759490.0        2012             83.0                   Horror   \n",
       "1338      177512032.0        2010             91.0                   Horror   \n",
       "1242      255367951.0        2017            104.0  Horror,Mystery,Thriller   \n",
       "1436       65245512.0        2016            111.0                    Drama   \n",
       "\n",
       "           profit  foreign_gross  profit_ratio  \n",
       "1565   41556474.0     18892064.0    414.564740  \n",
       "1465  100759490.0     48496545.0     99.759490  \n",
       "1338  174512032.0     92759125.0     57.170677  \n",
       "1242  250367951.0     79327286.0     49.073590  \n",
       "1436   63745512.0     37390581.0     41.497008  "
      ]
     },
     "execution_count": 44,
     "metadata": {},
     "output_type": "execute_result"
    }
   ],
   "source": [
    "q1= \"\"\"\n",
    "SELECT * \n",
    "FROM movie_basics\n",
    "INNER JOIN movie_ratings\n",
    "USING(\"movie_id\")\n",
    "INNER JOIN movie_akas\n",
    "USING(\"movie_id\")\n",
    "\"\"\"\n",
    "sql_dataset_merge1 = pd.read_sql(q1,conn)\n",
    "#find duplicate rows across 'title', 'start_year','runtime_minutes' columns \n",
    "duplicateRows = sql_dataset_merge1[sql_dataset_merge1.duplicated(['movie_id','title', 'start_year','runtime_minutes'])]\n",
    "data1= sql_dataset_merge1.drop(duplicateRows.index,axis=0)\n",
    "#create new \"release_year\" column for merging 2 datatset\n",
    "movie_budgets['release_year']= movie_budgets['release_date'].dt.year\n",
    "##merge 2 dataset by using title and released year\n",
    "merge_data= movie_budgets.merge(data1, how= 'inner', left_on=['movie','release_year'], right_on= ['title','start_year'])\n",
    "dataset= merge_data[[ 'release_date', 'movie', 'production_budget',\n",
    "       'domestic_gross', 'worldwide_gross',\n",
    "       'start_year',\n",
    "       'runtime_minutes', 'genres']]\n",
    "#drop 7 rows with NA\n",
    "dataset=dataset.dropna()\n",
    "## calulate profit by subtracting gross and budget and foreign gross by subtracting gross and budget domestic_gross\n",
    "dataset['profit']= dataset['worldwide_gross']- dataset['production_budget']\n",
    "dataset['foreign_gross']= dataset['worldwide_gross']- dataset['domestic_gross']\n",
    "#dataset.loc[dataset['profit'] < 0, 'profit']= 0\n",
    "##calulate profit ratio\n",
    "dataset['profit_ratio'] = (dataset['profit'] -dataset['production_budget'] )/ dataset['production_budget']\n",
    "## top 5 greatest profit ratio \n",
    "dataset.sort_values(['profit_ratio'], ascending=False).head()\n"
   ]
  },
  {
   "cell_type": "code",
   "execution_count": 47,
   "metadata": {},
   "outputs": [
    {
     "data": {
      "text/html": [
       "<div>\n",
       "<style scoped>\n",
       "    .dataframe tbody tr th:only-of-type {\n",
       "        vertical-align: middle;\n",
       "    }\n",
       "\n",
       "    .dataframe tbody tr th {\n",
       "        vertical-align: top;\n",
       "    }\n",
       "\n",
       "    .dataframe thead th {\n",
       "        text-align: right;\n",
       "    }\n",
       "</style>\n",
       "<table border=\"1\" class=\"dataframe\">\n",
       "  <thead>\n",
       "    <tr style=\"text-align: right;\">\n",
       "      <th></th>\n",
       "      <th>release_date</th>\n",
       "      <th>movie</th>\n",
       "      <th>production_budget</th>\n",
       "      <th>domestic_gross</th>\n",
       "      <th>worldwide_gross</th>\n",
       "      <th>start_year</th>\n",
       "      <th>runtime_minutes</th>\n",
       "      <th>genres</th>\n",
       "      <th>profit</th>\n",
       "      <th>foreign_gross</th>\n",
       "      <th>profit_ratio</th>\n",
       "    </tr>\n",
       "  </thead>\n",
       "  <tbody>\n",
       "    <tr>\n",
       "      <th>0</th>\n",
       "      <td>2011-05-20</td>\n",
       "      <td>Pirates of the Caribbean: On Stranger Tides</td>\n",
       "      <td>410600000.0</td>\n",
       "      <td>241063875.0</td>\n",
       "      <td>1.045664e+09</td>\n",
       "      <td>2011</td>\n",
       "      <td>136.0</td>\n",
       "      <td>Action,Adventure,Fantasy</td>\n",
       "      <td>6.350639e+08</td>\n",
       "      <td>8.046000e+08</td>\n",
       "      <td>0.546673</td>\n",
       "    </tr>\n",
       "    <tr>\n",
       "      <th>1</th>\n",
       "      <td>2019-06-07</td>\n",
       "      <td>Dark Phoenix</td>\n",
       "      <td>350000000.0</td>\n",
       "      <td>42762350.0</td>\n",
       "      <td>1.497624e+08</td>\n",
       "      <td>2019</td>\n",
       "      <td>113.0</td>\n",
       "      <td>Action,Adventure,Sci-Fi</td>\n",
       "      <td>-2.002376e+08</td>\n",
       "      <td>1.070000e+08</td>\n",
       "      <td>-1.572108</td>\n",
       "    </tr>\n",
       "    <tr>\n",
       "      <th>2</th>\n",
       "      <td>2015-05-01</td>\n",
       "      <td>Avengers: Age of Ultron</td>\n",
       "      <td>330600000.0</td>\n",
       "      <td>459005868.0</td>\n",
       "      <td>1.403014e+09</td>\n",
       "      <td>2015</td>\n",
       "      <td>141.0</td>\n",
       "      <td>Action,Adventure,Sci-Fi</td>\n",
       "      <td>1.072414e+09</td>\n",
       "      <td>9.440081e+08</td>\n",
       "      <td>2.243841</td>\n",
       "    </tr>\n",
       "    <tr>\n",
       "      <th>3</th>\n",
       "      <td>2018-04-27</td>\n",
       "      <td>Avengers: Infinity War</td>\n",
       "      <td>300000000.0</td>\n",
       "      <td>678815482.0</td>\n",
       "      <td>2.048134e+09</td>\n",
       "      <td>2018</td>\n",
       "      <td>149.0</td>\n",
       "      <td>Action,Adventure,Sci-Fi</td>\n",
       "      <td>1.748134e+09</td>\n",
       "      <td>1.369319e+09</td>\n",
       "      <td>4.827114</td>\n",
       "    </tr>\n",
       "    <tr>\n",
       "      <th>4</th>\n",
       "      <td>2017-11-17</td>\n",
       "      <td>Justice League</td>\n",
       "      <td>300000000.0</td>\n",
       "      <td>229024295.0</td>\n",
       "      <td>6.559452e+08</td>\n",
       "      <td>2017</td>\n",
       "      <td>120.0</td>\n",
       "      <td>Action,Adventure,Fantasy</td>\n",
       "      <td>3.559452e+08</td>\n",
       "      <td>4.269209e+08</td>\n",
       "      <td>0.186484</td>\n",
       "    </tr>\n",
       "    <tr>\n",
       "      <th>...</th>\n",
       "      <td>...</td>\n",
       "      <td>...</td>\n",
       "      <td>...</td>\n",
       "      <td>...</td>\n",
       "      <td>...</td>\n",
       "      <td>...</td>\n",
       "      <td>...</td>\n",
       "      <td>...</td>\n",
       "      <td>...</td>\n",
       "      <td>...</td>\n",
       "      <td>...</td>\n",
       "    </tr>\n",
       "    <tr>\n",
       "      <th>1583</th>\n",
       "      <td>2017-01-27</td>\n",
       "      <td>Emily</td>\n",
       "      <td>27000.0</td>\n",
       "      <td>3547.0</td>\n",
       "      <td>3.547000e+03</td>\n",
       "      <td>2017</td>\n",
       "      <td>83.0</td>\n",
       "      <td>Drama</td>\n",
       "      <td>-2.345300e+04</td>\n",
       "      <td>0.000000e+00</td>\n",
       "      <td>-1.868630</td>\n",
       "    </tr>\n",
       "    <tr>\n",
       "      <th>1584</th>\n",
       "      <td>2015-09-01</td>\n",
       "      <td>Exeter</td>\n",
       "      <td>25000.0</td>\n",
       "      <td>0.0</td>\n",
       "      <td>4.897920e+05</td>\n",
       "      <td>2015</td>\n",
       "      <td>91.0</td>\n",
       "      <td>Horror,Mystery,Thriller</td>\n",
       "      <td>4.647920e+05</td>\n",
       "      <td>4.897920e+05</td>\n",
       "      <td>17.591680</td>\n",
       "    </tr>\n",
       "    <tr>\n",
       "      <th>1585</th>\n",
       "      <td>2015-12-01</td>\n",
       "      <td>Dutch Kills</td>\n",
       "      <td>25000.0</td>\n",
       "      <td>0.0</td>\n",
       "      <td>0.000000e+00</td>\n",
       "      <td>2015</td>\n",
       "      <td>90.0</td>\n",
       "      <td>Crime,Drama,Thriller</td>\n",
       "      <td>-2.500000e+04</td>\n",
       "      <td>0.000000e+00</td>\n",
       "      <td>-2.000000</td>\n",
       "    </tr>\n",
       "    <tr>\n",
       "      <th>1586</th>\n",
       "      <td>2011-11-25</td>\n",
       "      <td>The Ridges</td>\n",
       "      <td>17300.0</td>\n",
       "      <td>0.0</td>\n",
       "      <td>0.000000e+00</td>\n",
       "      <td>2011</td>\n",
       "      <td>89.0</td>\n",
       "      <td>Drama,Horror,Thriller</td>\n",
       "      <td>-1.730000e+04</td>\n",
       "      <td>0.000000e+00</td>\n",
       "      <td>-2.000000</td>\n",
       "    </tr>\n",
       "    <tr>\n",
       "      <th>1587</th>\n",
       "      <td>2014-12-31</td>\n",
       "      <td>Stories of Our Lives</td>\n",
       "      <td>15000.0</td>\n",
       "      <td>0.0</td>\n",
       "      <td>0.000000e+00</td>\n",
       "      <td>2014</td>\n",
       "      <td>60.0</td>\n",
       "      <td>Drama</td>\n",
       "      <td>-1.500000e+04</td>\n",
       "      <td>0.000000e+00</td>\n",
       "      <td>-2.000000</td>\n",
       "    </tr>\n",
       "  </tbody>\n",
       "</table>\n",
       "<p>1581 rows × 11 columns</p>\n",
       "</div>"
      ],
      "text/plain": [
       "     release_date                                        movie  \\\n",
       "0      2011-05-20  Pirates of the Caribbean: On Stranger Tides   \n",
       "1      2019-06-07                                 Dark Phoenix   \n",
       "2      2015-05-01                      Avengers: Age of Ultron   \n",
       "3      2018-04-27                       Avengers: Infinity War   \n",
       "4      2017-11-17                               Justice League   \n",
       "...           ...                                          ...   \n",
       "1583   2017-01-27                                        Emily   \n",
       "1584   2015-09-01                                       Exeter   \n",
       "1585   2015-12-01                                  Dutch Kills   \n",
       "1586   2011-11-25                                   The Ridges   \n",
       "1587   2014-12-31                         Stories of Our Lives   \n",
       "\n",
       "      production_budget  domestic_gross  worldwide_gross  start_year  \\\n",
       "0           410600000.0     241063875.0     1.045664e+09        2011   \n",
       "1           350000000.0      42762350.0     1.497624e+08        2019   \n",
       "2           330600000.0     459005868.0     1.403014e+09        2015   \n",
       "3           300000000.0     678815482.0     2.048134e+09        2018   \n",
       "4           300000000.0     229024295.0     6.559452e+08        2017   \n",
       "...                 ...             ...              ...         ...   \n",
       "1583            27000.0          3547.0     3.547000e+03        2017   \n",
       "1584            25000.0             0.0     4.897920e+05        2015   \n",
       "1585            25000.0             0.0     0.000000e+00        2015   \n",
       "1586            17300.0             0.0     0.000000e+00        2011   \n",
       "1587            15000.0             0.0     0.000000e+00        2014   \n",
       "\n",
       "      runtime_minutes                    genres        profit  foreign_gross  \\\n",
       "0               136.0  Action,Adventure,Fantasy  6.350639e+08   8.046000e+08   \n",
       "1               113.0   Action,Adventure,Sci-Fi -2.002376e+08   1.070000e+08   \n",
       "2               141.0   Action,Adventure,Sci-Fi  1.072414e+09   9.440081e+08   \n",
       "3               149.0   Action,Adventure,Sci-Fi  1.748134e+09   1.369319e+09   \n",
       "4               120.0  Action,Adventure,Fantasy  3.559452e+08   4.269209e+08   \n",
       "...               ...                       ...           ...            ...   \n",
       "1583             83.0                     Drama -2.345300e+04   0.000000e+00   \n",
       "1584             91.0   Horror,Mystery,Thriller  4.647920e+05   4.897920e+05   \n",
       "1585             90.0      Crime,Drama,Thriller -2.500000e+04   0.000000e+00   \n",
       "1586             89.0     Drama,Horror,Thriller -1.730000e+04   0.000000e+00   \n",
       "1587             60.0                     Drama -1.500000e+04   0.000000e+00   \n",
       "\n",
       "      profit_ratio  \n",
       "0         0.546673  \n",
       "1        -1.572108  \n",
       "2         2.243841  \n",
       "3         4.827114  \n",
       "4         0.186484  \n",
       "...            ...  \n",
       "1583     -1.868630  \n",
       "1584     17.591680  \n",
       "1585     -2.000000  \n",
       "1586     -2.000000  \n",
       "1587     -2.000000  \n",
       "\n",
       "[1581 rows x 11 columns]"
      ]
     },
     "execution_count": 47,
     "metadata": {},
     "output_type": "execute_result"
    }
   ],
   "source": [
    "dataset"
   ]
  },
  {
   "cell_type": "code",
   "execution_count": 46,
   "metadata": {},
   "outputs": [
    {
     "data": {
      "text/plain": [
       "1      -1.572108\n",
       "7      -0.570359\n",
       "8      -1.054538\n",
       "9      -0.971716\n",
       "21     -0.575101\n",
       "          ...   \n",
       "1582   -2.000000\n",
       "1583   -1.868630\n",
       "1585   -2.000000\n",
       "1586   -2.000000\n",
       "1587   -2.000000\n",
       "Name: profit_ratio, Length: 762, dtype: float64"
      ]
     },
     "execution_count": 46,
     "metadata": {},
     "output_type": "execute_result"
    }
   ],
   "source": [
    "dataset.loc[dataset['profit_ratio'] < 0, 'profit_ratio']"
   ]
  },
  {
   "cell_type": "code",
   "execution_count": 36,
   "metadata": {},
   "outputs": [],
   "source": [
    "\n",
    "#find duplicate rows across 'title', 'start_year','runtime_minutes' columns \n",
    "duplicateRows = sql_dataset_merge1[sql_dataset_merge1.duplicated(['movie_id','title', 'start_year','runtime_minutes'])]\n",
    "data1= sql_dataset_merge1.drop(duplicateRows.index,axis=0)"
   ]
  },
  {
   "cell_type": "code",
   "execution_count": 41,
   "metadata": {},
   "outputs": [
    {
     "name": "stdout",
     "output_type": "stream",
     "text": [
      "<class 'pandas.core.frame.DataFrame'>\n",
      "Int64Index: 1588 entries, 0 to 1587\n",
      "Data columns (total 22 columns):\n",
      " #   Column             Non-Null Count  Dtype         \n",
      "---  ------             --------------  -----         \n",
      " 0   id                 1588 non-null   int64         \n",
      " 1   release_date       1588 non-null   datetime64[ns]\n",
      " 2   movie              1588 non-null   object        \n",
      " 3   production_budget  1588 non-null   float64       \n",
      " 4   domestic_gross     1588 non-null   float64       \n",
      " 5   worldwide_gross    1588 non-null   float64       \n",
      " 6   release_year       1588 non-null   int64         \n",
      " 7   movie_id           1588 non-null   object        \n",
      " 8   primary_title      1588 non-null   object        \n",
      " 9   original_title     1588 non-null   object        \n",
      " 10  start_year         1588 non-null   int64         \n",
      " 11  runtime_minutes    1581 non-null   float64       \n",
      " 12  genres             1586 non-null   object        \n",
      " 13  averagerating      1588 non-null   float64       \n",
      " 14  numvotes           1588 non-null   int64         \n",
      " 15  ordering           1588 non-null   int64         \n",
      " 16  title              1588 non-null   object        \n",
      " 17  region             1092 non-null   object        \n",
      " 18  language           157 non-null    object        \n",
      " 19  types              1103 non-null   object        \n",
      " 20  attributes         36 non-null     object        \n",
      " 21  is_original_title  1588 non-null   float64       \n",
      "dtypes: datetime64[ns](1), float64(6), int64(5), object(10)\n",
      "memory usage: 285.3+ KB\n"
     ]
    }
   ],
   "source": [
    "#create new \"release_year\" column for merging 2 datatset\n",
    "movie_budgets['release_year']= movie_budgets['release_date'].dt.year\n",
    "##merge 2 dataset by using title and released year\n",
    "merge_data= movie_budgets.merge(data1, how= 'inner', left_on=['movie','release_year'], right_on= ['title','start_year'])\n",
    "merge_data.info()"
   ]
  },
  {
   "cell_type": "markdown",
   "metadata": {},
   "source": [
    "I want to split up the genres column cells so we can tally each genre individually. Next I'll remove the 'genres' column (with multiple values) and replace it with a 'genre' column (with single values). Then I'll make sure that there is a new row for each genre, so there will be multiple rows with the same movie_title.\n",
    "\n"
   ]
  },
  {
   "cell_type": "code",
   "execution_count": 48,
   "metadata": {},
   "outputs": [
    {
     "data": {
      "text/plain": [
       "array(['Action', 'Adventure', 'Fantasy', 'Sci-Fi', 'Thriller', 'Western',\n",
       "       'Family', 'Crime', 'Comedy', 'Animation', 'Horror', 'Drama',\n",
       "       'Romance', 'Mystery', 'Musical', 'History', 'Documentary',\n",
       "       'Biography', 'Music', 'War', 'Sport', 'News'], dtype=object)"
      ]
     },
     "execution_count": 48,
     "metadata": {},
     "output_type": "execute_result"
    }
   ],
   "source": [
    "df_split_genre = dataset.copy()\n",
    "split_genre = df_split_genre['genres'].str.split(',').apply(pd.Series, 1).stack().reset_index(level=1, drop=True)\n",
    "split_genre.name = 'genre_split'\n",
    "df_split_genre = df_split_genre.drop(['genres'], axis=1).join(split_genre)\n",
    "## filter released movie year from 2010 to 2020\n",
    "df_split_genre= df_split_genre[df_split_genre['release_date'].dt.year >2010]\n",
    "##differrence genre in the dataset\n",
    "df_split_genre['genre_split'].unique()"
   ]
  },
  {
   "cell_type": "markdown",
   "metadata": {},
   "source": [
    "## Visualize dataset"
   ]
  },
  {
   "cell_type": "code",
   "execution_count": 56,
   "metadata": {},
   "outputs": [
    {
     "data": {
      "text/html": [
       "<div>\n",
       "<style scoped>\n",
       "    .dataframe tbody tr th:only-of-type {\n",
       "        vertical-align: middle;\n",
       "    }\n",
       "\n",
       "    .dataframe tbody tr th {\n",
       "        vertical-align: top;\n",
       "    }\n",
       "\n",
       "    .dataframe thead th {\n",
       "        text-align: right;\n",
       "    }\n",
       "</style>\n",
       "<table border=\"1\" class=\"dataframe\">\n",
       "  <thead>\n",
       "    <tr style=\"text-align: right;\">\n",
       "      <th></th>\n",
       "      <th>release_date</th>\n",
       "      <th>movie</th>\n",
       "      <th>production_budget</th>\n",
       "      <th>domestic_gross</th>\n",
       "      <th>worldwide_gross</th>\n",
       "      <th>start_year</th>\n",
       "      <th>runtime_minutes</th>\n",
       "      <th>profit</th>\n",
       "      <th>foreign_gross</th>\n",
       "      <th>profit_ratio</th>\n",
       "      <th>genre_split</th>\n",
       "    </tr>\n",
       "  </thead>\n",
       "  <tbody>\n",
       "    <tr>\n",
       "      <th>1248</th>\n",
       "      <td>2015-09-11</td>\n",
       "      <td>The Visit</td>\n",
       "      <td>5000000.0</td>\n",
       "      <td>65206105.0</td>\n",
       "      <td>98677816.0</td>\n",
       "      <td>2015</td>\n",
       "      <td>43.0</td>\n",
       "      <td>93677816.0</td>\n",
       "      <td>33471711.0</td>\n",
       "      <td>17.735563</td>\n",
       "      <td>News</td>\n",
       "    </tr>\n",
       "  </tbody>\n",
       "</table>\n",
       "</div>"
      ],
      "text/plain": [
       "     release_date      movie  production_budget  domestic_gross  \\\n",
       "1248   2015-09-11  The Visit          5000000.0      65206105.0   \n",
       "\n",
       "      worldwide_gross  start_year  runtime_minutes      profit  foreign_gross  \\\n",
       "1248       98677816.0        2015             43.0  93677816.0     33471711.0   \n",
       "\n",
       "      profit_ratio genre_split  \n",
       "1248     17.735563        News  "
      ]
     },
     "execution_count": 56,
     "metadata": {},
     "output_type": "execute_result"
    }
   ],
   "source": [
    "##check outlier with genre New\n",
    "df_split_genre[df_split_genre['genre_split']==\"News\"]"
   ]
  },
  {
   "cell_type": "code",
   "execution_count": 49,
   "metadata": {},
   "outputs": [
    {
     "data": {
      "image/png": "[encoded data removed]",
      "text/plain": [
       "<Figure size 432x288 with 1 Axes>"
      ]
     },
     "metadata": {},
     "output_type": "display_data"
    }
   ],
   "source": [
    "df_split_genre['genre_split'].value_counts().plot(kind='bar', color='g');\n",
    "plt.title('Movie releases by Genre, 2010-2020', size=18)\n",
    "plt.xlabel('Genre', size=12)\n",
    "plt.ylabel('Movie count', size=12);"
   ]
  },
  {
   "cell_type": "markdown",
   "metadata": {},
   "source": [
    "In terms of the number of releases worldwide, dramas and comedies top the list ( in North America) between 2010 and 2020 as more than 500 comedy films were released and over 800 drama films have been released."
   ]
  },
  {
   "cell_type": "code",
   "execution_count": 51,
   "metadata": {},
   "outputs": [
    {
     "data": {
      "image/png": "[encoded data removed]",
      "text/plain": [
       "<Figure size 432x288 with 1 Axes>"
      ]
     },
     "metadata": {},
     "output_type": "display_data"
    }
   ],
   "source": [
    "\n",
    "df_split_genre['start_year']= df_split_genre['release_date'].dt.year\n",
    "gross_mean= df_split_genre.groupby(dataset['start_year'])['profit_ratio'].mean()\n",
    "#print(gross_mean)\n",
    "plt.plot(gross_mean)\n",
    "plt.title('Worldwide  gross over the Years', size=15);\n",
    "plt.xlabel('Released year', size=12)\n",
    "plt.ylabel('Worldwide gross (ten million dollars)', size=12);"
   ]
  },
  {
   "cell_type": "code",
   "execution_count": 52,
   "metadata": {},
   "outputs": [],
   "source": [
    "profit_ratio_genre=df_split_genre.groupby('genre_split')['profit_ratio'].mean().sort_values()\n",
    "#profit_ratio_genre\n",
    "genre_profit=df_split_genre[['genre_split','profit_ratio']].sort_values('genre_split').reset_index(level=0, drop=True)\n",
    "# generate a boxplot to see the data distribution by treatments. Using boxplot, we can \n",
    "# easily detect the differences between different genre\n",
    "# ax = sns.boxplot(x='genre_split', y='profit_ratio', data=genre_profit)\n",
    "# plt.xticks(rotation=45)\n",
    "\n",
    "# plt.show()"
   ]
  },
  {
   "cell_type": "markdown",
   "metadata": {},
   "source": [
    "## Hypothesis testing"
   ]
  },
  {
   "cell_type": "code",
   "execution_count": 53,
   "metadata": {},
   "outputs": [
    {
     "data": {
      "image/png": "[encoded data removed]",
      "text/plain": [
       "<Figure size 432x288 with 1 Axes>"
      ]
     },
     "metadata": {},
     "output_type": "display_data"
    }
   ],
   "source": [
    "profit_ratio_genre=df_split_genre.groupby('genre_split')['profit_ratio'].mean().sort_values()\n",
    "profit_ratio_genre.plot(kind='bar', color='y');\n",
    "plt.title('Profit ratio vs Genre, 2010-2020', size=18)\n",
    "plt.xlabel('Genre', size=12)\n",
    "plt.ylabel('Movie count', size=12);"
   ]
  },
  {
   "cell_type": "code",
   "execution_count": 54,
   "metadata": {},
   "outputs": [
    {
     "data": {
      "text/html": [
       "<div>\n",
       "<style scoped>\n",
       "    .dataframe tbody tr th:only-of-type {\n",
       "        vertical-align: middle;\n",
       "    }\n",
       "\n",
       "    .dataframe tbody tr th {\n",
       "        vertical-align: top;\n",
       "    }\n",
       "\n",
       "    .dataframe thead th {\n",
       "        text-align: right;\n",
       "    }\n",
       "</style>\n",
       "<table border=\"1\" class=\"dataframe\">\n",
       "  <thead>\n",
       "    <tr style=\"text-align: right;\">\n",
       "      <th></th>\n",
       "      <th>sum_sq</th>\n",
       "      <th>df</th>\n",
       "      <th>F</th>\n",
       "      <th>PR(&gt;F)</th>\n",
       "    </tr>\n",
       "  </thead>\n",
       "  <tbody>\n",
       "    <tr>\n",
       "      <th>C(genre_split)</th>\n",
       "      <td>12788.665577</td>\n",
       "      <td>21.0</td>\n",
       "      <td>3.640717</td>\n",
       "      <td>3.954486e-08</td>\n",
       "    </tr>\n",
       "    <tr>\n",
       "      <th>Residual</th>\n",
       "      <td>588289.955841</td>\n",
       "      <td>3517.0</td>\n",
       "      <td>NaN</td>\n",
       "      <td>NaN</td>\n",
       "    </tr>\n",
       "  </tbody>\n",
       "</table>\n",
       "</div>"
      ],
      "text/plain": [
       "                       sum_sq      df         F        PR(>F)\n",
       "C(genre_split)   12788.665577    21.0  3.640717  3.954486e-08\n",
       "Residual        588289.955841  3517.0       NaN           NaN"
      ]
     },
     "execution_count": 54,
     "metadata": {},
     "output_type": "execute_result"
    }
   ],
   "source": [
    "\n",
    "\n",
    "# Ordinary Least Squares (OLS) model\n",
    "model = ols('profit_ratio ~ C(genre_split)', data=genre_profit).fit()\n",
    "anova_table = sm.stats.anova_lm(model, typ=2)\n",
    "anova_table\n",
    "# display model summary\n",
    "#print(model.summary())"
   ]
  },
  {
   "cell_type": "markdown",
   "metadata": {},
   "source": [
    "The p value obtained from ANOVA analysis is significant (p < 0.05), and therefore, we conclude that there are significant differences among genre."
   ]
  },
  {
   "cell_type": "markdown",
   "metadata": {},
   "source": [
    "From ANOVA analysis, we know that genre differences are statistically significant, but ANOVA does not tell which genre are significantly different from each other. To know the pairs of significant different treatments, we will perform multiple pairwise comparison (post hoc comparison) analysis for all unplanned comparison using Tukey’s honestly significantly differenced (HSD) test.\n",
    "\n",
    "Note: When the ANOVA is significant, post hoc tests are used to see differences between specific groups. post hoc tests control the family-wise error rate (inflated type I error rate) due to multiple comparisons. post hoc tests adjust the p values (Bonferroni correction) or critical value (Tukey's HSD test).\n",
    "\n",
    "We have Tukey’s HSD test for multiple comparisons and corrects for family-wise error rate (FWER) (inflated type I error)\n",
    " \n",
    " \n",
    " Link reference:https://www.reneshbedre.com/blog/anova.html"
   ]
  },
  {
   "cell_type": "code",
   "execution_count": 21,
   "metadata": {},
   "outputs": [
    {
     "data": {
      "text/html": [
       "<div>\n",
       "<style scoped>\n",
       "    .dataframe tbody tr th:only-of-type {\n",
       "        vertical-align: middle;\n",
       "    }\n",
       "\n",
       "    .dataframe tbody tr th {\n",
       "        vertical-align: top;\n",
       "    }\n",
       "\n",
       "    .dataframe thead th {\n",
       "        text-align: right;\n",
       "    }\n",
       "</style>\n",
       "<table border=\"1\" class=\"dataframe\">\n",
       "  <thead>\n",
       "    <tr style=\"text-align: right;\">\n",
       "      <th></th>\n",
       "      <th>group1</th>\n",
       "      <th>group2</th>\n",
       "      <th>Diff</th>\n",
       "      <th>Lower</th>\n",
       "      <th>Upper</th>\n",
       "      <th>q-value</th>\n",
       "      <th>p-value</th>\n",
       "    </tr>\n",
       "  </thead>\n",
       "  <tbody>\n",
       "    <tr>\n",
       "      <th>0</th>\n",
       "      <td>Action</td>\n",
       "      <td>Adventure</td>\n",
       "      <td>0.205652</td>\n",
       "      <td>-2.945134</td>\n",
       "      <td>3.356438</td>\n",
       "      <td>0.329678</td>\n",
       "      <td>0.9</td>\n",
       "    </tr>\n",
       "    <tr>\n",
       "      <th>1</th>\n",
       "      <td>Action</td>\n",
       "      <td>Animation</td>\n",
       "      <td>0.716557</td>\n",
       "      <td>-4.208537</td>\n",
       "      <td>5.641650</td>\n",
       "      <td>0.734874</td>\n",
       "      <td>0.9</td>\n",
       "    </tr>\n",
       "    <tr>\n",
       "      <th>2</th>\n",
       "      <td>Action</td>\n",
       "      <td>Biography</td>\n",
       "      <td>0.428916</td>\n",
       "      <td>-3.721754</td>\n",
       "      <td>4.579585</td>\n",
       "      <td>0.521952</td>\n",
       "      <td>0.9</td>\n",
       "    </tr>\n",
       "    <tr>\n",
       "      <th>3</th>\n",
       "      <td>Action</td>\n",
       "      <td>Comedy</td>\n",
       "      <td>0.467055</td>\n",
       "      <td>-2.390079</td>\n",
       "      <td>3.324188</td>\n",
       "      <td>0.825684</td>\n",
       "      <td>0.9</td>\n",
       "    </tr>\n",
       "    <tr>\n",
       "      <th>4</th>\n",
       "      <td>Action</td>\n",
       "      <td>Crime</td>\n",
       "      <td>0.669413</td>\n",
       "      <td>-2.771322</td>\n",
       "      <td>4.110148</td>\n",
       "      <td>0.982696</td>\n",
       "      <td>0.9</td>\n",
       "    </tr>\n",
       "    <tr>\n",
       "      <th>...</th>\n",
       "      <td>...</td>\n",
       "      <td>...</td>\n",
       "      <td>...</td>\n",
       "      <td>...</td>\n",
       "      <td>...</td>\n",
       "      <td>...</td>\n",
       "      <td>...</td>\n",
       "    </tr>\n",
       "    <tr>\n",
       "      <th>205</th>\n",
       "      <td>Sport</td>\n",
       "      <td>War</td>\n",
       "      <td>1.873293</td>\n",
       "      <td>-9.764104</td>\n",
       "      <td>13.510691</td>\n",
       "      <td>0.813067</td>\n",
       "      <td>0.9</td>\n",
       "    </tr>\n",
       "    <tr>\n",
       "      <th>206</th>\n",
       "      <td>Sport</td>\n",
       "      <td>Western</td>\n",
       "      <td>2.198353</td>\n",
       "      <td>-12.117258</td>\n",
       "      <td>16.513964</td>\n",
       "      <td>0.775647</td>\n",
       "      <td>0.9</td>\n",
       "    </tr>\n",
       "    <tr>\n",
       "      <th>207</th>\n",
       "      <td>Thriller</td>\n",
       "      <td>War</td>\n",
       "      <td>4.407884</td>\n",
       "      <td>-4.998745</td>\n",
       "      <td>13.814513</td>\n",
       "      <td>2.366861</td>\n",
       "      <td>0.9</td>\n",
       "    </tr>\n",
       "    <tr>\n",
       "      <th>208</th>\n",
       "      <td>Thriller</td>\n",
       "      <td>Western</td>\n",
       "      <td>4.732944</td>\n",
       "      <td>-7.836558</td>\n",
       "      <td>17.302446</td>\n",
       "      <td>1.901909</td>\n",
       "      <td>0.9</td>\n",
       "    </tr>\n",
       "    <tr>\n",
       "      <th>209</th>\n",
       "      <td>War</td>\n",
       "      <td>Western</td>\n",
       "      <td>0.325060</td>\n",
       "      <td>-14.965416</td>\n",
       "      <td>15.615535</td>\n",
       "      <td>0.107379</td>\n",
       "      <td>0.9</td>\n",
       "    </tr>\n",
       "  </tbody>\n",
       "</table>\n",
       "<p>210 rows × 7 columns</p>\n",
       "</div>"
      ],
      "text/plain": [
       "       group1     group2      Diff      Lower      Upper   q-value  p-value\n",
       "0      Action  Adventure  0.205652  -2.945134   3.356438  0.329678      0.9\n",
       "1      Action  Animation  0.716557  -4.208537   5.641650  0.734874      0.9\n",
       "2      Action  Biography  0.428916  -3.721754   4.579585  0.521952      0.9\n",
       "3      Action     Comedy  0.467055  -2.390079   3.324188  0.825684      0.9\n",
       "4      Action      Crime  0.669413  -2.771322   4.110148  0.982696      0.9\n",
       "..        ...        ...       ...        ...        ...       ...      ...\n",
       "205     Sport        War  1.873293  -9.764104  13.510691  0.813067      0.9\n",
       "206     Sport    Western  2.198353 -12.117258  16.513964  0.775647      0.9\n",
       "207  Thriller        War  4.407884  -4.998745  13.814513  2.366861      0.9\n",
       "208  Thriller    Western  4.732944  -7.836558  17.302446  1.901909      0.9\n",
       "209       War    Western  0.325060 -14.965416  15.615535  0.107379      0.9\n",
       "\n",
       "[210 rows x 7 columns]"
      ]
     },
     "execution_count": 21,
     "metadata": {},
     "output_type": "execute_result"
    }
   ],
   "source": [
    "# we will use bioinfokit (v1.0.3 or later) for performing tukey HSD test\n",
    "# check documentation here https://github.com/reneshbedre/bioinfokit\n",
    "##install bioinfokit package\n",
    "from bioinfokit.analys import stat\n",
    "# perform multiple pairwise comparison (Tukey's HSD)\n",
    "# unequal sample size data, tukey_hsd uses Tukey-Kramer test\n",
    "res = stat()\n",
    "res.tukey_hsd(df=genre_profit, res_var='profit_ratio', xfac_var='genre_split', anova_model='profit_ratio ~ C(genre_split)')\n",
    "##full report(if you want)\n",
    "#res.tukey_summary\n",
    "##filter p-value less than 0.05\n",
    "res.tukey_summary[res.tukey_summary['p-value']< 0.05].sort_values('p-value')"
   ]
  },
  {
   "cell_type": "markdown",
   "metadata": {},
   "source": [
    "Above results from Tukey’s HSD suggests that all other pairwise comparisons for treatments rejects null hypothesis (p < 0.05) and indicates statistical significant differences."
   ]
  },
  {
   "cell_type": "raw",
   "metadata": {},
   "source": [
    "I want to know whether or not horror movie  have the greater mean profit_ratio than Mystery movie"
   ]
  },
  {
   "cell_type": "code",
   "execution_count": 76,
   "metadata": {},
   "outputs": [
    {
     "data": {
      "text/plain": [
       "Ttest_indResult(statistic=-0.37778319398627075, pvalue=0.7058088691623766)"
      ]
     },
     "execution_count": 76,
     "metadata": {},
     "output_type": "execute_result"
    }
   ],
   "source": [
    "horror=df_split_genre[df_split_genre['genre_split'] ==\"Horror\"]['profit_ratio']\n",
    "#horror\n",
    "mystery=df_split_genre[df_split_genre['genre_split'] ==\"Mystery\"]['profit_ratio']\n",
    "#mystery\n",
    "import scipy.stats as stats\n",
    "\n",
    "# #perform two sample t-test\n",
    "stats.ttest_ind(a=horror, b=mystery,nan_policy='omit')"
   ]
  },
  {
   "cell_type": "markdown",
   "metadata": {},
   "source": [
    "We see that p value greater than 0.05 so we fail to reject the null hypothesis. There is no difference of the mean profit ratio between horror and mystery."
   ]
  },
  {
   "cell_type": "code",
   "execution_count": 88,
   "metadata": {},
   "outputs": [
    {
     "data": {
      "text/plain": [
       "Ttest_indResult(statistic=3.868964135372525, pvalue=0.00011984399187478124)"
      ]
     },
     "execution_count": 88,
     "metadata": {},
     "output_type": "execute_result"
    }
   ],
   "source": [
    "horror=df_split_genre[df_split_genre['genre_split'] ==\"Horror\"]['profit_ratio']\n",
    "#horror\n",
    "action=df_split_genre[df_split_genre['genre_split'] ==\"Action\"]['profit_ratio']\n",
    "#action\n",
    "stats.ttest_ind(a=horror, b=action ,nan_policy='omit')"
   ]
  },
  {
   "cell_type": "markdown",
   "metadata": {},
   "source": [
    "We see that p value less than 0.05 so we fail to reject the null hypothesis. There is difference of the mean profit ratio between horror and action."
   ]
  },
  {
   "cell_type": "markdown",
   "metadata": {},
   "source": [
    "## Conclusion"
   ]
  },
  {
   "cell_type": "markdown",
   "metadata": {},
   "source": [
    "It is clear there is  correlation between profit ration and movie genre.Top 3 genres making the most profit ratio are Mystery, Horror and Thriller.As some movie commbined 2 or 3 genres, it hard to focus only one genre. It also depend on demand of customer at particular time because the public can be fickle (changing frequently). In future, we do futher  analysis to see how to combine difference genres to maximize profit."
   ]
  },
  {
   "cell_type": "markdown",
   "metadata": {},
   "source": [
    "##### NOT IMPORTANT"
   ]
  },
  {
   "cell_type": "code",
   "execution_count": 23,
   "metadata": {},
   "outputs": [],
   "source": [
    "##create a new column, tital_gross_level, to splice the worldwide gross column into groups: low (under a million), mediun (millions), and high (billions).\n",
    "\n",
    "# bin_edges = [0, 1e+06, 1e+09, 2048134200.0]\n",
    "# bin_names = ['under_million', 'millions', 'billions']\n",
    "# dataset['total_gross_level'] = pd.cut(dataset['worldwide_gross'], bin_edges, labels=bin_names)\n",
    "# dataset['total_gross_level'].value_counts()"
   ]
  },
  {
   "cell_type": "code",
   "execution_count": 24,
   "metadata": {},
   "outputs": [],
   "source": [
    "# studio_mean= dataset.groupby(dataset['studio'])['worldwide_gross'].mean()\n",
    "# studio_mean.sort_values()\n",
    "# top5_studio= dataset[dataset['studio'].isin(['BV','P/DW','GrtIndia','Sony','Fox'])]\n",
    "# sns.scatterplot(data=top5_studio, x='worldwide_gross', y='profit', hue= 'studio')"
   ]
  },
  {
   "cell_type": "code",
   "execution_count": 25,
   "metadata": {},
   "outputs": [],
   "source": [
    "###merge table\n",
    "\n",
    "# movie_buget_gross= movie_budgets.merge(movie_gross, how='inner', left_on= 'movie', right_on='title' )\n",
    "# df1= movie_buget_gross[movie_buget_gross.columns[0:8]]\n",
    "# df1= df1.drop(labels='title',axis=1)\n",
    "# df1.head()\n",
    "# df2= df1.merge(movies, how='inner', left_on= 'movie', right_on='title' )\n",
    "# df2.head()\n",
    "\n",
    "# remove_list=[ 'Unnamed: 0', 'original_title','release_date_y', 'title']\n",
    "\n",
    "# df2= df2.drop(labels=remove_list,axis=1)\n",
    "# df2.head()"
   ]
  },
  {
   "cell_type": "code",
   "execution_count": 26,
   "metadata": {},
   "outputs": [],
   "source": [
    "# movie_budgets[\"release_date\"] = pd.to_datetime(movie_budgets[\"release_date\"])\n",
    "# result = pd.merge(reviews, movie_info, how=\"inner\", on=[\"id\", \"id\"])\n",
    "# result.info()\n"
   ]
  },
  {
   "cell_type": "code",
   "execution_count": 28,
   "metadata": {},
   "outputs": [],
   "source": [
    "# #read data\n",
    "# movie_gross = pd.read_csv('zippedData/bom.movie_gross.csv.gz')\n",
    "# movie_info = pd.read_csv('zippedData/rt.movie_info.tsv.gz', sep='\\t')\n",
    "# reviews = pd.read_csv('zippedData/rt.reviews.tsv.gz', sep='\\t', encoding='ANSI')\n",
    "# movies = pd.read_csv('zippedData/tmdb.movies.csv.gz')\n",
    "# movie_budgets = pd.read_csv('zippedData/tn.movie_budgets.csv.gz')\n"
   ]
  },
  {
   "cell_type": "code",
   "execution_count": 29,
   "metadata": {},
   "outputs": [],
   "source": [
    "# #change theater_date and dvd_date object type to date type\n",
    "# movie_info['theater_date']= pd.to_datetime(movie_info['theater_date'])\n",
    "# movie_info['dvd_date'] = pd.to_datetime(movie_info['dvd_date'])\n",
    "# #change runtime   to float data type\n",
    "# movie_info['runtime'] = movie_info['runtime'].str.replace('minutes','')\n",
    "# movie_info['runtime']  = movie_info['runtime'].astype(\"float64\")\n",
    "# #movie_info['box_office']= movie_info['box_office'].astype(\"float64\")\n",
    "# ### create copy of movie data set that remove 3 columns currency, box office and studio\n",
    "# movie_info_1= movie_info.copy()\n",
    "# movie_info_1= movie_info_1.drop(labels=['currency', 'box_office', 'studio'], axis=1)\n",
    "\n",
    "# #histogram of movie year \n",
    "# sns.histplot(movie_info_1['theater_date'].dt.year)\n"
   ]
  },
  {
   "cell_type": "code",
   "execution_count": 30,
   "metadata": {},
   "outputs": [],
   "source": [
    "###Review dataset\n",
    "# rt_info.rename(columns={'currency':'currency_dollars'}, inplace=True)\n",
    "# rt_info['currency_dollars'].fillna(False, inplace=True)\n",
    "# rt_info.loc[rt_info['currency_dollars'] == '$', 'currency_dollars'] = True\n",
    "\n",
    "###reviews.rating.unique()\n",
    "###reviews.groupby(\"id\").count()"
   ]
  },
  {
   "cell_type": "code",
   "execution_count": 35,
   "metadata": {},
   "outputs": [],
   "source": [
    "# #check normality\n",
    "# import scipy.stats as stats\n",
    "\n",
    "# stats.shapiro(model.resid)"
   ]
  },
  {
   "cell_type": "code",
   "execution_count": 34,
   "metadata": {},
   "outputs": [],
   "source": [
    "# # check residual\n",
    "# import matplotlib.pyplot as plt\n",
    "\n",
    "# fig = plt.figure(figsize= (10, 10))\n",
    "# ax = fig.add_subplot(111)\n",
    "\n",
    "# normality_plot, stat = stats.probplot(model.resid, plot= plt, rvalue= True)\n",
    "# ax.set_title(\"Probability plot of model residual's\", fontsize= 20)\n",
    "# ax.set\n",
    "\n",
    "# plt.show()"
   ]
  },
  {
   "cell_type": "code",
   "execution_count": null,
   "metadata": {},
   "outputs": [],
   "source": []
  }
 ],
 "metadata": {
  "kernelspec": {
   "display_name": "Python (learn-env)",
   "language": "python",
   "name": "learn-env"
  },
  "language_info": {
   "codemirror_mode": {
    "name": "ipython",
    "version": 3
   },
   "file_extension": ".py",
   "mimetype": "text/x-python",
   "name": "python",
   "nbconvert_exporter": "python",
   "pygments_lexer": "ipython3",
   "version": "3.8.5"
  }
 },
 "nbformat": 4,
 "nbformat_minor": 4
}
