{
 "cells": [
  {
   "cell_type": "markdown",
   "metadata": {},
   "source": [
    "# Movie data analysis between genre and profit ratio"
   ]
  },
  {
   "cell_type": "markdown",
   "metadata": {},
   "source": [
    "The movie business might look pretty glamorous and lucrative.\n",
    "I wanted to take a look at how the major genres perform around the world relative to their global average performance to determine which genres are the most profitable.I also think that genre is so important for any studio creating a new movie . If we investigate this data, we can to an extent understand what genre is the best for audience. I wanted to use this dataset to get a deeper understanding of profit ratio between difference genre. I will be performing ANOVA and t-test  between the genres and profit ratio."
   ]
  },
  {
   "cell_type": "markdown",
   "metadata": {},
   "source": [
    "## Part 1: Preparing data"
   ]
  },
  {
   "cell_type": "code",
   "execution_count": 10,
   "metadata": {},
   "outputs": [],
   "source": [
    "#import library\n",
    "import pandas as pd\n",
    "import matplotlib.pyplot as plt\n",
    "import numpy as np\n",
    "import sqlite3\n",
    "import seaborn as sns\n",
    "import zipfile\n",
    "import statsmodels.api as sm\n",
    "from statsmodels.formula.api import ols\n",
    "sns.set()"
   ]
  },
  {
   "cell_type": "code",
   "execution_count": 11,
   "metadata": {},
   "outputs": [
    {
     "name": "stdout",
     "output_type": "stream",
     "text": [
      "Extracted all\n"
     ]
    }
   ],
   "source": [
    "#read data\n",
    "movie_budgets =pd.read_csv('C:/Users/thivnguyen/Git/Flatiron/CapStoneProject/zippedData/tn.movie_budgets.csv.gz')\n",
    "zip_file = \"C:/Users/thivnguyen/Git/Flatiron/CapStoneProject/zippedData/im.db.zip\"\n",
    "\n",
    "try:\n",
    "    with zipfile.ZipFile(zip_file, 'r') as z:\n",
    "        z.extractall(\"zippedData/unZippedim.db\")\n",
    "        print(\"Extracted all\")\n",
    "except:\n",
    "    print(\"Invalid file\")\n",
    "conn = sqlite3.connect(\"zippedData/unZippedim.db/im.db\")\n",
    "##change trelease_date object type to datetime type\n",
    "movie_budgets[\"release_date\"] = pd.to_datetime(movie_budgets[\"release_date\"])\n",
    "#movie_budgets.info()\\\n",
    "#clean movie_budget dataset\n",
    "def clean_currency(x):\n",
    "    \"\"\" If the value is a string, then remove currency symbol and delimiters\n",
    "    otherwise, the value is numeric and can be converted\n",
    "    \"\"\"\n",
    "    if isinstance(x, str):\n",
    "        return(x.replace('$', '').replace(',', ''))\n",
    "    return(x)\n",
    "\n",
    "movie_budgets['production_budget'] = movie_budgets['production_budget'].apply(clean_currency).astype('float64')\n",
    "movie_budgets['domestic_gross'] = movie_budgets['domestic_gross'].apply(clean_currency).astype('float64')\n",
    "movie_budgets['worldwide_gross'] = movie_budgets['worldwide_gross'].apply(clean_currency).astype('float64')\n"
   ]
  },
  {
   "cell_type": "markdown",
   "metadata": {},
   "source": [
    "There are a lot of different factors that go into making film. You can do poorly even with all element but you have to yourself up to success a big element of that is genre. In order to camparing different genre, I use profit ratio which is calulated by suntracting profit and movie budget then dividing to movie buget. This table shows you top 5 highest profit ratio movies ."
   ]
  },
  {
   "cell_type": "code",
   "execution_count": 61,
   "metadata": {},
   "outputs": [
    {
     "data": {
      "text/html": [
       "<div>\n",
       "<style scoped>\n",
       "    .dataframe tbody tr th:only-of-type {\n",
       "        vertical-align: middle;\n",
       "    }\n",
       "\n",
       "    .dataframe tbody tr th {\n",
       "        vertical-align: top;\n",
       "    }\n",
       "\n",
       "    .dataframe thead th {\n",
       "        text-align: right;\n",
       "    }\n",
       "</style>\n",
       "<table border=\"1\" class=\"dataframe\">\n",
       "  <thead>\n",
       "    <tr style=\"text-align: right;\">\n",
       "      <th></th>\n",
       "      <th>release_date</th>\n",
       "      <th>movie</th>\n",
       "      <th>production_budget</th>\n",
       "      <th>domestic_gross</th>\n",
       "      <th>worldwide_gross</th>\n",
       "      <th>start_year</th>\n",
       "      <th>runtime_minutes</th>\n",
       "      <th>genres</th>\n",
       "      <th>profit</th>\n",
       "      <th>profit_ratio</th>\n",
       "    </tr>\n",
       "  </thead>\n",
       "  <tbody>\n",
       "    <tr>\n",
       "      <th>1565</th>\n",
       "      <td>2015-07-10</td>\n",
       "      <td>The Gallows</td>\n",
       "      <td>100000.0</td>\n",
       "      <td>22764410.0</td>\n",
       "      <td>41656474.0</td>\n",
       "      <td>2015</td>\n",
       "      <td>81.0</td>\n",
       "      <td>Horror,Mystery,Thriller</td>\n",
       "      <td>41556474.0</td>\n",
       "      <td>414.564740</td>\n",
       "    </tr>\n",
       "    <tr>\n",
       "      <th>1465</th>\n",
       "      <td>2012-01-06</td>\n",
       "      <td>The Devil Inside</td>\n",
       "      <td>1000000.0</td>\n",
       "      <td>53262945.0</td>\n",
       "      <td>101759490.0</td>\n",
       "      <td>2012</td>\n",
       "      <td>83.0</td>\n",
       "      <td>Horror</td>\n",
       "      <td>100759490.0</td>\n",
       "      <td>99.759490</td>\n",
       "    </tr>\n",
       "    <tr>\n",
       "      <th>1338</th>\n",
       "      <td>2010-10-20</td>\n",
       "      <td>Paranormal Activity 2</td>\n",
       "      <td>3000000.0</td>\n",
       "      <td>84752907.0</td>\n",
       "      <td>177512032.0</td>\n",
       "      <td>2010</td>\n",
       "      <td>91.0</td>\n",
       "      <td>Horror</td>\n",
       "      <td>174512032.0</td>\n",
       "      <td>57.170677</td>\n",
       "    </tr>\n",
       "    <tr>\n",
       "      <th>1242</th>\n",
       "      <td>2017-02-24</td>\n",
       "      <td>Get Out</td>\n",
       "      <td>5000000.0</td>\n",
       "      <td>176040665.0</td>\n",
       "      <td>255367951.0</td>\n",
       "      <td>2017</td>\n",
       "      <td>104.0</td>\n",
       "      <td>Horror,Mystery,Thriller</td>\n",
       "      <td>250367951.0</td>\n",
       "      <td>49.073590</td>\n",
       "    </tr>\n",
       "    <tr>\n",
       "      <th>1436</th>\n",
       "      <td>2016-10-21</td>\n",
       "      <td>Moonlight</td>\n",
       "      <td>1500000.0</td>\n",
       "      <td>27854931.0</td>\n",
       "      <td>65245512.0</td>\n",
       "      <td>2016</td>\n",
       "      <td>111.0</td>\n",
       "      <td>Drama</td>\n",
       "      <td>63745512.0</td>\n",
       "      <td>41.497008</td>\n",
       "    </tr>\n",
       "  </tbody>\n",
       "</table>\n",
       "</div>"
      ],
      "text/plain": [
       "     release_date                  movie  production_budget  domestic_gross  \\\n",
       "1565   2015-07-10            The Gallows           100000.0      22764410.0   \n",
       "1465   2012-01-06       The Devil Inside          1000000.0      53262945.0   \n",
       "1338   2010-10-20  Paranormal Activity 2          3000000.0      84752907.0   \n",
       "1242   2017-02-24                Get Out          5000000.0     176040665.0   \n",
       "1436   2016-10-21              Moonlight          1500000.0      27854931.0   \n",
       "\n",
       "      worldwide_gross  start_year  runtime_minutes                   genres  \\\n",
       "1565       41656474.0        2015             81.0  Horror,Mystery,Thriller   \n",
       "1465      101759490.0        2012             83.0                   Horror   \n",
       "1338      177512032.0        2010             91.0                   Horror   \n",
       "1242      255367951.0        2017            104.0  Horror,Mystery,Thriller   \n",
       "1436       65245512.0        2016            111.0                    Drama   \n",
       "\n",
       "           profit  profit_ratio  \n",
       "1565   41556474.0    414.564740  \n",
       "1465  100759490.0     99.759490  \n",
       "1338  174512032.0     57.170677  \n",
       "1242  250367951.0     49.073590  \n",
       "1436   63745512.0     41.497008  "
      ]
     },
     "execution_count": 61,
     "metadata": {},
     "output_type": "execute_result"
    }
   ],
   "source": [
    "q1= \"\"\"\n",
    "SELECT * \n",
    "FROM movie_basics\n",
    "INNER JOIN movie_ratings\n",
    "USING(\"movie_id\")\n",
    "INNER JOIN movie_akas\n",
    "USING(\"movie_id\")\n",
    "\"\"\"\n",
    "sql_dataset_merge1 = pd.read_sql(q1,conn)\n",
    "#find and remove duplicate rows across'movie_id', 'title', 'start_year' columns \n",
    "duplicateRows = sql_dataset_merge1[sql_dataset_merge1.duplicated(['movie_id','title', 'start_year'])]\n",
    "data1= sql_dataset_merge1.drop(duplicateRows.index,axis=0)\n",
    "#create new \"release_year\" column for merging 2 datatset\n",
    "movie_budgets['release_year']= movie_budgets['release_date'].dt.year\n",
    "##merge 2 dataset by using title and released year\n",
    "merge_data= movie_budgets.merge(data1, how= 'inner', left_on=['movie','release_year'], right_on= ['title','start_year'])\n",
    "dataset= merge_data[[ 'release_date', 'movie', 'production_budget',\n",
    "       'domestic_gross', 'worldwide_gross',\n",
    "       'start_year',\n",
    "       'runtime_minutes', 'genres']]\n",
    "#drop 7 rows with NA\n",
    "dataset=dataset.dropna()\n",
    "## calulate profit by subtracting gross and budget  by subtracting gross and budget domestic_gross\n",
    "dataset['profit']= dataset['worldwide_gross']- dataset['production_budget']\n",
    "##calulate profit ratio\n",
    "dataset['profit_ratio'] = (dataset['profit'] - dataset['production_budget'])/ dataset['production_budget']\n",
    "\n",
    "## top 5 greatest profit ratio \n",
    "dataset.sort_values(['profit_ratio'], ascending=False).head()\n",
    "\n",
    "##this code check which movies in specific genre\n",
    "#dataset[dataset['genres']. str.contains(\"Drama\")]"
   ]
  },
  {
   "cell_type": "markdown",
   "metadata": {},
   "source": [
    "The dataset contain 1581 movies after 2010. Each movie include 1 main genre or adding 2 sub-genre.After exploring dataset, I found that action movie is the most expensive genre with high budget. It makes sense because action film take longer to shot to build sequence of sence look like put people in danger to draw attention of audience. Therefore, action movie bring low profit ratio. While horror movie is low budget with high profit ratio such as The Gallow(2015), The Devil Inside(2012),..."
   ]
  },
  {
   "cell_type": "markdown",
   "metadata": {},
   "source": [
    "I want to split up the genres column cells so we can tally each genre individually. Next I'll remove the 'genres' column (with multiple values) and replace it with a 'genre' column (with single values). Then I'll make sure that there is a new row for each genre, so there will be multiple rows with the same movie_title.\n",
    "\n"
   ]
  },
  {
   "cell_type": "code",
   "execution_count": 65,
   "metadata": {},
   "outputs": [],
   "source": [
    "\n",
    "df_split_genre = dataset.copy()\n",
    "# limit data to 2010-present\n",
    "df_split_genre = df_split_genre.loc[df_split_genre['release_date'].dt.year >= 2010]\n",
    "split_genre = df_split_genre['genres'].str.split(',').apply(pd.Series, 1).stack().reset_index(level=1, drop=True)\n",
    "split_genre.name = 'genre_split'\n",
    "df_split_genre = df_split_genre.drop(['genres'], axis=1).join(split_genre)\n",
    "##remove outlier with only 1 movie genre which is News\n",
    "df_split_genre= df_split_genre[df_split_genre['genre_split']. str.contains(\"News\")== False]\n",
    "##differrence genre in the dataset\n",
    "#df_split_genre['genre_split'].unique()"
   ]
  },
  {
   "cell_type": "markdown",
   "metadata": {},
   "source": [
    "## Visualize dataset"
   ]
  },
  {
   "cell_type": "code",
   "execution_count": 66,
   "metadata": {},
   "outputs": [
    {
     "data": {
      "image/png": "[encoded data removed]",
      "text/plain": [
       "<Figure size 432x288 with 1 Axes>"
      ]
     },
     "metadata": {},
     "output_type": "display_data"
    }
   ],
   "source": [
    "\n",
    "##histogram\n",
    "df_split_genre['genre_split'].value_counts().plot(kind='bar', color='g');\n",
    "plt.title('Movie releases by Genre, 2010-2019', size=18)\n",
    "plt.xlabel('Genre', size=12)\n",
    "plt.ylabel('Movie count', size=12);"
   ]
  },
  {
   "cell_type": "markdown",
   "metadata": {},
   "source": [
    "In terms of the number of releases worldwide, dramas,comedies,action top the list between 2010 and 2019 as nearly 500 action films were released, more than 500 comedy films were released and over 700 drama films have been released.This means that the public nowadays love these kind of genres more than other. It doesn't mean that if you do that you will be sucessful because these genre require a lot of elements such as big star, high buget, so on."
   ]
  },
  {
   "cell_type": "code",
   "execution_count": 69,
   "metadata": {},
   "outputs": [
    {
     "data": {
      "image/png": "[encoded data removed]",
      "text/plain": [
       "<Figure size 432x288 with 1 Axes>"
      ]
     },
     "metadata": {},
     "output_type": "display_data"
    }
   ],
   "source": [
    "\n",
    "df_split_genre['start_year']= df_split_genre['release_date'].dt.year\n",
    "gross_mean= df_split_genre.groupby(dataset['start_year'])['profit_ratio'].mean()\n",
    "#print(gross_mean)\n",
    "plt.plot(gross_mean)\n",
    "plt.axhline(df_split_genre['profit_ratio'].mean(), color ='red')\n",
    "plt.title('Average profit ratio  movie over the Years', size=15);\n",
    "plt.xlabel('Released year', size=12)\n",
    "plt.ylabel('Percent', size=12)\n",
    "plt.legend;"
   ]
  },
  {
   "cell_type": "markdown",
   "metadata": {},
   "source": [
    "We could see the average profit ratio tend to go up but the trend decrease significantly after 2018 because of the economic and covid 19. The red line show average of all profit ratio over the year which is 1.7%. This mean that it is not easy to making sucessful film making money."
   ]
  },
  {
   "cell_type": "markdown",
   "metadata": {},
   "source": [
    "## Hypothesis testing"
   ]
  },
  {
   "cell_type": "code",
   "execution_count": 1,
   "metadata": {},
   "outputs": [
    {
     "ename": "NameError",
     "evalue": "name 'df_split_genre' is not defined",
     "output_type": "error",
     "traceback": [
      "\u001b[1;31m---------------------------------------------------------------------------\u001b[0m",
      "\u001b[1;31mNameError\u001b[0m                                 Traceback (most recent call last)",
      "\u001b[1;32m<ipython-input-1-639f6e10b3fe>\u001b[0m in \u001b[0;36m<module>\u001b[1;34m\u001b[0m\n\u001b[0;32m      1\u001b[0m \u001b[1;31m#tranform data set to keep only genre and profit ratio\u001b[0m\u001b[1;33m\u001b[0m\u001b[1;33m\u001b[0m\u001b[1;33m\u001b[0m\u001b[0m\n\u001b[1;32m----> 2\u001b[1;33m \u001b[0mprofit_ratio_genre\u001b[0m\u001b[1;33m=\u001b[0m\u001b[0mdf_split_genre\u001b[0m\u001b[1;33m.\u001b[0m\u001b[0mgroupby\u001b[0m\u001b[1;33m(\u001b[0m\u001b[1;34m'genre_split'\u001b[0m\u001b[1;33m)\u001b[0m\u001b[1;33m[\u001b[0m\u001b[1;34m'profit_ratio'\u001b[0m\u001b[1;33m]\u001b[0m\u001b[1;33m.\u001b[0m\u001b[0mmean\u001b[0m\u001b[1;33m(\u001b[0m\u001b[1;33m)\u001b[0m\u001b[1;33m.\u001b[0m\u001b[0msort_values\u001b[0m\u001b[1;33m(\u001b[0m\u001b[1;33m)\u001b[0m\u001b[1;33m\u001b[0m\u001b[1;33m\u001b[0m\u001b[0m\n\u001b[0m\u001b[0;32m      3\u001b[0m \u001b[0mgenre_profit\u001b[0m\u001b[1;33m=\u001b[0m\u001b[0mdf_split_genre\u001b[0m\u001b[1;33m[\u001b[0m\u001b[1;33m[\u001b[0m\u001b[1;34m'genre_split'\u001b[0m\u001b[1;33m,\u001b[0m\u001b[1;34m'profit_ratio'\u001b[0m\u001b[1;33m]\u001b[0m\u001b[1;33m]\u001b[0m\u001b[1;33m.\u001b[0m\u001b[0msort_values\u001b[0m\u001b[1;33m(\u001b[0m\u001b[1;34m'genre_split'\u001b[0m\u001b[1;33m)\u001b[0m\u001b[1;33m.\u001b[0m\u001b[0mreset_index\u001b[0m\u001b[1;33m(\u001b[0m\u001b[0mlevel\u001b[0m\u001b[1;33m=\u001b[0m\u001b[1;36m0\u001b[0m\u001b[1;33m,\u001b[0m \u001b[0mdrop\u001b[0m\u001b[1;33m=\u001b[0m\u001b[1;32mTrue\u001b[0m\u001b[1;33m)\u001b[0m\u001b[1;33m\u001b[0m\u001b[1;33m\u001b[0m\u001b[0m\n\u001b[0;32m      4\u001b[0m \u001b[0mprofit_ratio_genre\u001b[0m\u001b[1;33m=\u001b[0m\u001b[0mdf_split_genre\u001b[0m\u001b[1;33m.\u001b[0m\u001b[0mgroupby\u001b[0m\u001b[1;33m(\u001b[0m\u001b[1;34m'genre_split'\u001b[0m\u001b[1;33m)\u001b[0m\u001b[1;33m[\u001b[0m\u001b[1;34m'profit_ratio'\u001b[0m\u001b[1;33m]\u001b[0m\u001b[1;33m.\u001b[0m\u001b[0mmean\u001b[0m\u001b[1;33m(\u001b[0m\u001b[1;33m)\u001b[0m\u001b[1;33m.\u001b[0m\u001b[0msort_values\u001b[0m\u001b[1;33m(\u001b[0m\u001b[1;33m)\u001b[0m\u001b[1;33m\u001b[0m\u001b[1;33m\u001b[0m\u001b[0m\n\u001b[0;32m      5\u001b[0m \u001b[0mprofit_ratio_genre\u001b[0m\u001b[1;33m.\u001b[0m\u001b[0mplot\u001b[0m\u001b[1;33m(\u001b[0m\u001b[0mkind\u001b[0m\u001b[1;33m=\u001b[0m\u001b[1;34m'bar'\u001b[0m\u001b[1;33m,\u001b[0m \u001b[0mcolor\u001b[0m\u001b[1;33m=\u001b[0m\u001b[1;34m'y'\u001b[0m\u001b[1;33m)\u001b[0m\u001b[1;33m;\u001b[0m\u001b[1;33m\u001b[0m\u001b[1;33m\u001b[0m\u001b[0m\n",
      "\u001b[1;31mNameError\u001b[0m: name 'df_split_genre' is not defined"
     ]
    }
   ],
   "source": [
    "#tranform data set to keep only genre and profit ratio\n",
    "profit_ratio_genre=df_split_genre.groupby('genre_split')['profit_ratio'].mean().sort_values()\n",
    "genre_profit=df_split_genre[['genre_split','profit_ratio']].sort_values('genre_split').reset_index(level=0, drop=True)\n",
    "profit_ratio_genre=df_split_genre.groupby('genre_split')['profit_ratio'].mean().sort_values()\n",
    "profit_ratio_genre.plot(kind='bar', color='y');\n",
    "plt.title('Profit ratio vs Genre, 2010-2020', size=18)\n",
    "plt.xlabel('Genre', size=12)\n",
    "plt.ylabel('Movie count', size=12);"
   ]
  },
  {
   "cell_type": "markdown",
   "metadata": {},
   "source": [
    "It is clear that Mystery , Horror, Thriller is top 3 of genre with highest profit ratio. These genres have inbuild audience. This mean that as long as you have something to deliver on it for example if you do haunting movie the ghost has to be scary ot if you do thriller, the movie has to be sufficiently thrilling, the audience doesn't care a lot of actors or actress is big name or not. I would recommend, if you starting out of making films, these genres are good chance to make money. "
   ]
  },
  {
   "cell_type": "markdown",
   "metadata": {},
   "source": [
    "Next, I use one-way ANOVA to determine whether there are any statistically significant differences between the means of profit ratio in  different genres."
   ]
  },
  {
   "cell_type": "code",
   "execution_count": 71,
   "metadata": {},
   "outputs": [
    {
     "data": {
      "text/html": [
       "<div>\n",
       "<style scoped>\n",
       "    .dataframe tbody tr th:only-of-type {\n",
       "        vertical-align: middle;\n",
       "    }\n",
       "\n",
       "    .dataframe tbody tr th {\n",
       "        vertical-align: top;\n",
       "    }\n",
       "\n",
       "    .dataframe thead th {\n",
       "        text-align: right;\n",
       "    }\n",
       "</style>\n",
       "<table border=\"1\" class=\"dataframe\">\n",
       "  <thead>\n",
       "    <tr style=\"text-align: right;\">\n",
       "      <th></th>\n",
       "      <th>sum_sq</th>\n",
       "      <th>df</th>\n",
       "      <th>F</th>\n",
       "      <th>PR(&gt;F)</th>\n",
       "    </tr>\n",
       "  </thead>\n",
       "  <tbody>\n",
       "    <tr>\n",
       "      <th>C(genre_split)</th>\n",
       "      <td>12602.659279</td>\n",
       "      <td>20.0</td>\n",
       "      <td>4.192011</td>\n",
       "      <td>1.135141e-09</td>\n",
       "    </tr>\n",
       "    <tr>\n",
       "      <th>Residual</th>\n",
       "      <td>599767.100907</td>\n",
       "      <td>3990.0</td>\n",
       "      <td>NaN</td>\n",
       "      <td>NaN</td>\n",
       "    </tr>\n",
       "  </tbody>\n",
       "</table>\n",
       "</div>"
      ],
      "text/plain": [
       "                       sum_sq      df         F        PR(>F)\n",
       "C(genre_split)   12602.659279    20.0  4.192011  1.135141e-09\n",
       "Residual        599767.100907  3990.0       NaN           NaN"
      ]
     },
     "execution_count": 71,
     "metadata": {},
     "output_type": "execute_result"
    }
   ],
   "source": [
    "\n",
    "\n",
    "# Ordinary Least Squares (OLS) model\n",
    "model = ols('profit_ratio ~ C(genre_split)', data=genre_profit).fit()\n",
    "anova_table = sm.stats.anova_lm(model, typ=2)\n",
    "anova_table\n",
    "# display model summary\n",
    "#print(model.summary())"
   ]
  },
  {
   "cell_type": "markdown",
   "metadata": {},
   "source": [
    "The p value obtained from ANOVA analysis is significant (p < 0.05), and therefore, we conclude that there are significant differences among genre."
   ]
  },
  {
   "cell_type": "markdown",
   "metadata": {},
   "source": [
    "From ANOVA analysis, we know that genre differences are statistically significant, but ANOVA does not tell which genre are significantly different from each other. To know the pairs of significant different treatments, we will perform multiple pairwise comparison (post hoc comparison) analysis for all unplanned comparison using Tukey’s honestly significantly differenced (HSD) test.\n",
    "\n",
    "Note: When the ANOVA is significant, post hoc tests are used to see differences between specific groups. post hoc tests control the family-wise error rate (inflated type I error rate) due to multiple comparisons. post hoc tests adjust the p values (Bonferroni correction) or critical value (Tukey's HSD test).\n",
    "\n",
    "We have Tukey’s HSD test for multiple comparisons and corrects for family-wise error rate (FWER) (inflated type I error)\n",
    " \n",
    " \n",
    " Link reference:https://www.reneshbedre.com/blog/anova.html"
   ]
  },
  {
   "cell_type": "code",
   "execution_count": 72,
   "metadata": {},
   "outputs": [
    {
     "data": {
      "text/html": [
       "<div>\n",
       "<style scoped>\n",
       "    .dataframe tbody tr th:only-of-type {\n",
       "        vertical-align: middle;\n",
       "    }\n",
       "\n",
       "    .dataframe tbody tr th {\n",
       "        vertical-align: top;\n",
       "    }\n",
       "\n",
       "    .dataframe thead th {\n",
       "        text-align: right;\n",
       "    }\n",
       "</style>\n",
       "<table border=\"1\" class=\"dataframe\">\n",
       "  <thead>\n",
       "    <tr style=\"text-align: right;\">\n",
       "      <th></th>\n",
       "      <th>group1</th>\n",
       "      <th>group2</th>\n",
       "      <th>Diff</th>\n",
       "      <th>Lower</th>\n",
       "      <th>Upper</th>\n",
       "      <th>q-value</th>\n",
       "      <th>p-value</th>\n",
       "    </tr>\n",
       "  </thead>\n",
       "  <tbody>\n",
       "    <tr>\n",
       "      <th>10</th>\n",
       "      <td>Action</td>\n",
       "      <td>Horror</td>\n",
       "      <td>5.963383</td>\n",
       "      <td>2.219645</td>\n",
       "      <td>9.707121</td>\n",
       "      <td>8.045882</td>\n",
       "      <td>0.001000</td>\n",
       "    </tr>\n",
       "    <tr>\n",
       "      <th>125</th>\n",
       "      <td>Drama</td>\n",
       "      <td>Mystery</td>\n",
       "      <td>6.153440</td>\n",
       "      <td>2.051797</td>\n",
       "      <td>10.255083</td>\n",
       "      <td>7.577859</td>\n",
       "      <td>0.001000</td>\n",
       "    </tr>\n",
       "    <tr>\n",
       "      <th>122</th>\n",
       "      <td>Drama</td>\n",
       "      <td>Horror</td>\n",
       "      <td>5.422917</td>\n",
       "      <td>1.894627</td>\n",
       "      <td>8.951207</td>\n",
       "      <td>7.763455</td>\n",
       "      <td>0.001000</td>\n",
       "    </tr>\n",
       "    <tr>\n",
       "      <th>95</th>\n",
       "      <td>Crime</td>\n",
       "      <td>Horror</td>\n",
       "      <td>6.393819</td>\n",
       "      <td>2.186790</td>\n",
       "      <td>10.600848</td>\n",
       "      <td>7.676642</td>\n",
       "      <td>0.001000</td>\n",
       "    </tr>\n",
       "    <tr>\n",
       "      <th>83</th>\n",
       "      <td>Comedy</td>\n",
       "      <td>Mystery</td>\n",
       "      <td>6.184147</td>\n",
       "      <td>1.954746</td>\n",
       "      <td>10.413549</td>\n",
       "      <td>7.385626</td>\n",
       "      <td>0.001000</td>\n",
       "    </tr>\n",
       "    <tr>\n",
       "      <th>80</th>\n",
       "      <td>Comedy</td>\n",
       "      <td>Horror</td>\n",
       "      <td>5.453624</td>\n",
       "      <td>1.777595</td>\n",
       "      <td>9.129654</td>\n",
       "      <td>7.493637</td>\n",
       "      <td>0.001000</td>\n",
       "    </tr>\n",
       "    <tr>\n",
       "      <th>98</th>\n",
       "      <td>Crime</td>\n",
       "      <td>Mystery</td>\n",
       "      <td>7.124342</td>\n",
       "      <td>2.426073</td>\n",
       "      <td>11.822612</td>\n",
       "      <td>7.659374</td>\n",
       "      <td>0.001000</td>\n",
       "    </tr>\n",
       "    <tr>\n",
       "      <th>32</th>\n",
       "      <td>Adventure</td>\n",
       "      <td>Mystery</td>\n",
       "      <td>6.227739</td>\n",
       "      <td>1.806252</td>\n",
       "      <td>10.649226</td>\n",
       "      <td>7.114567</td>\n",
       "      <td>0.001000</td>\n",
       "    </tr>\n",
       "    <tr>\n",
       "      <th>29</th>\n",
       "      <td>Adventure</td>\n",
       "      <td>Horror</td>\n",
       "      <td>5.497216</td>\n",
       "      <td>1.601718</td>\n",
       "      <td>9.392714</td>\n",
       "      <td>7.127976</td>\n",
       "      <td>0.001000</td>\n",
       "    </tr>\n",
       "    <tr>\n",
       "      <th>13</th>\n",
       "      <td>Action</td>\n",
       "      <td>Mystery</td>\n",
       "      <td>6.693906</td>\n",
       "      <td>2.405524</td>\n",
       "      <td>10.982288</td>\n",
       "      <td>7.884472</td>\n",
       "      <td>0.001000</td>\n",
       "    </tr>\n",
       "    <tr>\n",
       "      <th>189</th>\n",
       "      <td>Mystery</td>\n",
       "      <td>Romance</td>\n",
       "      <td>5.851013</td>\n",
       "      <td>0.957515</td>\n",
       "      <td>10.744512</td>\n",
       "      <td>6.039459</td>\n",
       "      <td>0.003583</td>\n",
       "    </tr>\n",
       "    <tr>\n",
       "      <th>137</th>\n",
       "      <td>Family</td>\n",
       "      <td>Mystery</td>\n",
       "      <td>6.765594</td>\n",
       "      <td>0.945167</td>\n",
       "      <td>12.586021</td>\n",
       "      <td>5.871344</td>\n",
       "      <td>0.005882</td>\n",
       "    </tr>\n",
       "    <tr>\n",
       "      <th>168</th>\n",
       "      <td>Horror</td>\n",
       "      <td>Romance</td>\n",
       "      <td>5.120490</td>\n",
       "      <td>0.696500</td>\n",
       "      <td>9.544480</td>\n",
       "      <td>5.846337</td>\n",
       "      <td>0.006321</td>\n",
       "    </tr>\n",
       "    <tr>\n",
       "      <th>148</th>\n",
       "      <td>Fantasy</td>\n",
       "      <td>Mystery</td>\n",
       "      <td>6.164237</td>\n",
       "      <td>0.762830</td>\n",
       "      <td>11.565645</td>\n",
       "      <td>5.764463</td>\n",
       "      <td>0.007980</td>\n",
       "    </tr>\n",
       "    <tr>\n",
       "      <th>67</th>\n",
       "      <td>Biography</td>\n",
       "      <td>Mystery</td>\n",
       "      <td>5.957207</td>\n",
       "      <td>0.646299</td>\n",
       "      <td>11.268115</td>\n",
       "      <td>5.665788</td>\n",
       "      <td>0.010505</td>\n",
       "    </tr>\n",
       "    <tr>\n",
       "      <th>134</th>\n",
       "      <td>Family</td>\n",
       "      <td>Horror</td>\n",
       "      <td>6.035071</td>\n",
       "      <td>0.603430</td>\n",
       "      <td>11.466713</td>\n",
       "      <td>5.612259</td>\n",
       "      <td>0.012164</td>\n",
       "    </tr>\n",
       "    <tr>\n",
       "      <th>145</th>\n",
       "      <td>Fantasy</td>\n",
       "      <td>Horror</td>\n",
       "      <td>5.433714</td>\n",
       "      <td>0.453699</td>\n",
       "      <td>10.413730</td>\n",
       "      <td>5.511280</td>\n",
       "      <td>0.015964</td>\n",
       "    </tr>\n",
       "    <tr>\n",
       "      <th>190</th>\n",
       "      <td>Mystery</td>\n",
       "      <td>Sci-Fi</td>\n",
       "      <td>5.724798</td>\n",
       "      <td>0.432611</td>\n",
       "      <td>11.016984</td>\n",
       "      <td>5.464009</td>\n",
       "      <td>0.018082</td>\n",
       "    </tr>\n",
       "    <tr>\n",
       "      <th>64</th>\n",
       "      <td>Biography</td>\n",
       "      <td>Horror</td>\n",
       "      <td>5.226684</td>\n",
       "      <td>0.344973</td>\n",
       "      <td>10.108395</td>\n",
       "      <td>5.408048</td>\n",
       "      <td>0.020905</td>\n",
       "    </tr>\n",
       "    <tr>\n",
       "      <th>17</th>\n",
       "      <td>Action</td>\n",
       "      <td>Thriller</td>\n",
       "      <td>3.517918</td>\n",
       "      <td>0.197122</td>\n",
       "      <td>6.838715</td>\n",
       "      <td>5.350938</td>\n",
       "      <td>0.024165</td>\n",
       "    </tr>\n",
       "    <tr>\n",
       "      <th>102</th>\n",
       "      <td>Crime</td>\n",
       "      <td>Thriller</td>\n",
       "      <td>3.948355</td>\n",
       "      <td>0.112836</td>\n",
       "      <td>7.783874</td>\n",
       "      <td>5.199702</td>\n",
       "      <td>0.035258</td>\n",
       "    </tr>\n",
       "    <tr>\n",
       "      <th>169</th>\n",
       "      <td>Horror</td>\n",
       "      <td>Sci-Fi</td>\n",
       "      <td>4.994275</td>\n",
       "      <td>0.132938</td>\n",
       "      <td>9.855612</td>\n",
       "      <td>5.189232</td>\n",
       "      <td>0.036169</td>\n",
       "    </tr>\n",
       "    <tr>\n",
       "      <th>50</th>\n",
       "      <td>Animation</td>\n",
       "      <td>Mystery</td>\n",
       "      <td>5.733406</td>\n",
       "      <td>0.070756</td>\n",
       "      <td>11.396055</td>\n",
       "      <td>5.114220</td>\n",
       "      <td>0.043256</td>\n",
       "    </tr>\n",
       "  </tbody>\n",
       "</table>\n",
       "</div>"
      ],
      "text/plain": [
       "        group1    group2      Diff     Lower      Upper   q-value   p-value\n",
       "10      Action    Horror  5.963383  2.219645   9.707121  8.045882  0.001000\n",
       "125      Drama   Mystery  6.153440  2.051797  10.255083  7.577859  0.001000\n",
       "122      Drama    Horror  5.422917  1.894627   8.951207  7.763455  0.001000\n",
       "95       Crime    Horror  6.393819  2.186790  10.600848  7.676642  0.001000\n",
       "83      Comedy   Mystery  6.184147  1.954746  10.413549  7.385626  0.001000\n",
       "80      Comedy    Horror  5.453624  1.777595   9.129654  7.493637  0.001000\n",
       "98       Crime   Mystery  7.124342  2.426073  11.822612  7.659374  0.001000\n",
       "32   Adventure   Mystery  6.227739  1.806252  10.649226  7.114567  0.001000\n",
       "29   Adventure    Horror  5.497216  1.601718   9.392714  7.127976  0.001000\n",
       "13      Action   Mystery  6.693906  2.405524  10.982288  7.884472  0.001000\n",
       "189    Mystery   Romance  5.851013  0.957515  10.744512  6.039459  0.003583\n",
       "137     Family   Mystery  6.765594  0.945167  12.586021  5.871344  0.005882\n",
       "168     Horror   Romance  5.120490  0.696500   9.544480  5.846337  0.006321\n",
       "148    Fantasy   Mystery  6.164237  0.762830  11.565645  5.764463  0.007980\n",
       "67   Biography   Mystery  5.957207  0.646299  11.268115  5.665788  0.010505\n",
       "134     Family    Horror  6.035071  0.603430  11.466713  5.612259  0.012164\n",
       "145    Fantasy    Horror  5.433714  0.453699  10.413730  5.511280  0.015964\n",
       "190    Mystery    Sci-Fi  5.724798  0.432611  11.016984  5.464009  0.018082\n",
       "64   Biography    Horror  5.226684  0.344973  10.108395  5.408048  0.020905\n",
       "17      Action  Thriller  3.517918  0.197122   6.838715  5.350938  0.024165\n",
       "102      Crime  Thriller  3.948355  0.112836   7.783874  5.199702  0.035258\n",
       "169     Horror    Sci-Fi  4.994275  0.132938   9.855612  5.189232  0.036169\n",
       "50   Animation   Mystery  5.733406  0.070756  11.396055  5.114220  0.043256"
      ]
     },
     "execution_count": 72,
     "metadata": {},
     "output_type": "execute_result"
    }
   ],
   "source": [
    "# we will use bioinfokit (v1.0.3 or later) for performing tukey HSD test\n",
    "# check documentation here https://github.com/reneshbedre/bioinfokit\n",
    "##install bioinfokit package\n",
    "from bioinfokit.analys import stat\n",
    "# perform multiple pairwise comparison (Tukey's HSD)\n",
    "# unequal sample size data, tukey_hsd uses Tukey-Kramer test\n",
    "res = stat()\n",
    "res.tukey_hsd(df=genre_profit, res_var='profit_ratio', xfac_var='genre_split', anova_model='profit_ratio ~ C(genre_split)')\n",
    "##full report(if you want)\n",
    "#res.tukey_summary\n",
    "##filter p-value less than 0.05\n",
    "res.tukey_summary[res.tukey_summary['p-value']< 0.05].sort_values('p-value')"
   ]
  },
  {
   "cell_type": "markdown",
   "metadata": {},
   "source": [
    "Above results from Tukey’s HSD suggests that all other pairwise comparisons for treatments rejects null hypothesis (p < 0.05) and indicates statistical significant differences between them."
   ]
  },
  {
   "cell_type": "raw",
   "metadata": {},
   "source": [
    "I want to know whether or not horror movie  have the different mean profit_ratio  with Mystery movie with t test"
   ]
  },
  {
   "cell_type": "code",
   "execution_count": 74,
   "metadata": {},
   "outputs": [
    {
     "data": {
      "text/plain": [
       "Ttest_indResult(statistic=-0.19171913020997952, pvalue=0.8480819453023514)"
      ]
     },
     "execution_count": 74,
     "metadata": {},
     "output_type": "execute_result"
    }
   ],
   "source": [
    "horror=df_split_genre[df_split_genre['genre_split'] ==\"Horror\"]['profit_ratio']\n",
    "#horror\n",
    "mystery=df_split_genre[df_split_genre['genre_split'] ==\"Mystery\"]['profit_ratio']\n",
    "#mystery\n",
    "import scipy.stats as stats\n",
    "\n",
    "# #perform two sample t-test\n",
    "stats.ttest_ind(a=horror, b=mystery,nan_policy='omit')"
   ]
  },
  {
   "cell_type": "markdown",
   "metadata": {},
   "source": [
    "We see that p value greater than 0.05 so we fail to reject the null hypothesis. There is no difference of the mean profit ratio between horror and mystery."
   ]
  },
  {
   "cell_type": "markdown",
   "metadata": {},
   "source": [
    "I want to know whether or not horror movie  have the different mean profit_ratio with action movie with t-test"
   ]
  },
  {
   "cell_type": "code",
   "execution_count": 75,
   "metadata": {},
   "outputs": [
    {
     "data": {
      "text/plain": [
       "Ttest_indResult(statistic=4.029432560755676, pvalue=6.241193309724377e-05)"
      ]
     },
     "execution_count": 75,
     "metadata": {},
     "output_type": "execute_result"
    }
   ],
   "source": [
    "horror=df_split_genre[df_split_genre['genre_split'] ==\"Horror\"]['profit_ratio']\n",
    "#horror\n",
    "action=df_split_genre[df_split_genre['genre_split'] ==\"Action\"]['profit_ratio']\n",
    "#action\n",
    "stats.ttest_ind(a=horror, b=action ,nan_policy='omit')"
   ]
  },
  {
   "cell_type": "markdown",
   "metadata": {},
   "source": [
    "We see that p value less than 0.05 so we fail to reject the null hypothesis. There is difference of the mean profit ratio between horror and action."
   ]
  },
  {
   "cell_type": "markdown",
   "metadata": {},
   "source": [
    "## Conclusion"
   ]
  },
  {
   "cell_type": "markdown",
   "metadata": {},
   "source": [
    "It is clear there is  correlation between profit ration and movie genre.Top 3 genres making the most profit ratio are Mystery, Horror and Thriller.As some movie commbined 2 or 3 genres, it hard to focus only one genre. It also depend on demand of customer at particular time because the public can be fickle (changing frequently). In future, we do futher  analysis to see how to combine difference genres to maximize profit."
   ]
  }
 ],
 "metadata": {
  "kernelspec": {
   "display_name": "Python (learn-env)",
   "language": "python",
   "name": "learn-env"
  },
  "language_info": {
   "codemirror_mode": {
    "name": "ipython",
    "version": 3
   },
   "file_extension": ".py",
   "mimetype": "text/x-python",
   "name": "python",
   "nbconvert_exporter": "python",
   "pygments_lexer": "ipython3",
   "version": "3.8.5"
  }
 },
 "nbformat": 4,
 "nbformat_minor": 4
}
