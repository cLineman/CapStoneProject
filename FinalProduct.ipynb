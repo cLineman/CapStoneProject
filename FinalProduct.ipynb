{
 "cells": [
  {
   "cell_type": "markdown",
   "metadata": {},
   "source": [
    "<span style=\"color: red;\">NOTE:  \n",
    "    Sections marked TODO should be completed before final submission.  \n",
    "    Delete this section when finished.</span>"
   ]
  },
  {
   "cell_type": "markdown",
   "metadata": {},
   "source": [
    "# AI Academy Semester 1 Capstone"
   ]
  },
  {
   "cell_type": "markdown",
   "metadata": {},
   "source": [
    "Last Updated: 2022-07-29  \n",
    "Collaborators: A. Donahue, C. Lineman, N. Netznik, T.V. Nguyen, A. White"
   ]
  },
  {
   "cell_type": "markdown",
   "metadata": {},
   "source": [
    "# <span style=\"color: blue;\">Background</span>\n",
    "\n",
    "<span style='color: red'>TODO</span>  \n",
    "More specifically point out stakeholders (head of CV)\n",
    "\n",
    "### Business Case\n",
    "\n",
    "Original video content is a growing field into which many big businesses are investing. The client, Computing Vision, would like to begin creating their own original videos, so they are creating a new movie studio. They are seeking assistance in understanding the current trends in films, specifically which kinds movies are currently doing the best at the box office. They will use these insights to drive their own choices in movie creation.\n",
    "\n",
    "### Scope\n",
    "\n",
    "This study will use a variety of historic data on recent movie performance to illuminate trends in profitability and to develop actionable insights for the head of Computing Vision's new movie studio. We will limit data to the range of 2010-present (where available) to ensure that insights are still valid.\n",
    "\n",
    "### Purpose\n",
    "\n",
    "The results of this study will provide statistical support for at least three actionable insights that Computing Vision can use to **maximize profits and performance** from their new movie studio."
   ]
  },
  {
   "cell_type": "markdown",
   "metadata": {},
   "source": [
    "# <span style=\"color: blue;\">Importing and Processing Data Sources</span>"
   ]
  },
  {
   "cell_type": "code",
   "execution_count": 1,
   "metadata": {},
   "outputs": [],
   "source": [
    "import pandas as pd\n",
    "import numpy as np\n",
    "import matplotlib.pyplot as plt\n",
    "import seaborn as sns\n",
    "import sqlite3\n",
    "import zipfile\n",
    "import scipy.stats as st\n",
    "import math\n"
   ]
  },
  {
   "cell_type": "markdown",
   "metadata": {},
   "source": [
    "<span style='color: red'>TODO</span>  \n",
    "Alex W.: Import and suppress warnings"
   ]
  },
  {
   "cell_type": "code",
   "execution_count": 2,
   "metadata": {},
   "outputs": [
    {
     "name": "stdout",
     "output_type": "stream",
     "text": [
      "Extracted all\n"
     ]
    }
   ],
   "source": [
    "#read data\n",
    "movie_gross = pd.read_csv('zippedData/bom.movie_gross.csv.gz')\n",
    "movie_info = pd.read_csv('zippedData/rt.movie_info.tsv.gz', sep='\\t')\n",
    "reviews = pd.read_csv('zippedData/rt.reviews.tsv.gz', sep='\\t', encoding='ANSI')\n",
    "movies = pd.read_csv('zippedData/tmdb.movies.csv.gz')\n",
    "movie_budgets = pd.read_csv('zippedData/tn.movie_budgets.csv.gz')\n",
    "\n",
    "zip_file = \"zippedData/im.db.zip\"\n",
    "try:\n",
    "    with zipfile.ZipFile(zip_file, 'r') as z:\n",
    "        z.extractall(\"zippedData/unZipped/\")\n",
    "        print(\"Extracted all\")\n",
    "except:\n",
    "    print(\"Invalid file\")\n",
    "\n",
    "conn = sqlite3.connect(\"zippedData/unZipped/im.db\")"
   ]
  },
  {
   "cell_type": "markdown",
   "metadata": {},
   "source": [
    "### Data Sources\n",
    "\n",
    "Our team has thoroughly reviewed 5 different sources of data in which we were able to pull detailed insights that will help lead Computing Vision to success in the movie creation realm. "
   ]
  },
  {
   "cell_type": "markdown",
   "metadata": {},
   "source": [
    "#### Sources\n",
    "\n",
    "* Box Office Mojo(https://www.boxofficemojo.com/)\n",
    "* IMDB (https://www.imdb.com/)\n",
    "* Rotten Tomatoes (https://www.rottentomatoes.com/)\n",
    "* TheMovieDB (https://www.themoviedb.org/)\n",
    "* The Numbers (https://www.the-numbers.com/)"
   ]
  },
  {
   "cell_type": "markdown",
   "metadata": {},
   "source": [
    "#### Box Office Mojo"
   ]
  },
  {
   "cell_type": "markdown",
   "metadata": {},
   "source": [
    "Our team imported Data from Box Office Mojo as we found that it to be a credible resource that provided with a large amount of data and information regarding movie gross values. We successfully pulled and sized the data to present us with a data frame of 3387 movies including the movie title, the studio of production, the domestic and foreign gross values of each movie, and the year the movie was released as well. \n",
    "\n"
   ]
  },
  {
   "cell_type": "markdown",
   "metadata": {},
   "source": [
    "#### IMDB"
   ]
  },
  {
   "cell_type": "markdown",
   "metadata": {},
   "source": [
    "Internet Movie Database (IMDb) is considered the largest and most comprehensive movie databases. This database provides information related to films, television series, home videos, video games, and streaming content. Our team found this source to be a valuable as it allowed us to view a large depository of movies specific information. This source allowed us to pull a wide arrange of data and source into different tables that includes information on movie personal, principals, directors, writer, rating, basics, etc."
   ]
  },
  {
   "cell_type": "markdown",
   "metadata": {},
   "source": [
    "#### Rotten Tomatoes "
   ]
  },
  {
   "cell_type": "markdown",
   "metadata": {},
   "source": [
    "Rotten Tomatoes is a review aggregation website for film and television. Rotten Tomatoes is one of the most trusted recommendations recourses for quality of entertainment. Rotten tomatoes specify in reviews from critics and provides a comprehensive guide on ratings for movies. We were able to use this source to specify the relation of Rotten Tomatoes rating and movies success. As well link these rating to several different aspects in which we give insights on throughout the analysis. This source was able to provide was with multiple different data frames in which our team use primarily in two which include data on Movie reviews and Movie specific information.  Regarding movie information we were successfully able to pull data on 1560 movies with details regarding synopsis, MPA Rating (PG, PG13, R, etc.), genre, director, writer, Theater date, DVD release date, currency, Box office sales, movie runtime, and production studio.  \n",
    "\n",
    "As well with the use of Rotten tomatoes source we were able to import a data frame allowing us to view details on movie reviews. We were able to import 54432 data points that gave us compressive information regarding movie ID, distinct reviews, review rating, fresh/rotten specification, critic of the review, the top critic, publisher, and date of review. We must note that this data frame provided was with multiple reviews from different critics through different publishers on different dates for the movies. \n"
   ]
  },
  {
   "cell_type": "markdown",
   "metadata": {},
   "source": [
    "#### The MovieDB "
   ]
  },
  {
   "cell_type": "markdown",
   "metadata": {},
   "source": [
    "The Movie Database (TMDB) is a community-built movie and TV database. This data base was able to provide us insights on individual movie specifics and there rating.  We were able to successfully import 26517 movies with information regarding genre, language, title, popularity, release date, vote average and vote count regarding movie rating. "
   ]
  },
  {
   "cell_type": "markdown",
   "metadata": {},
   "source": [
    "#### The Numbers"
   ]
  },
  {
   "cell_type": "markdown",
   "metadata": {},
   "source": [
    "The Numbers is a film industry data website that tracks box office revenue.  We primarily used this source to generate a data frame that provided information regarding movie budgets. Digging deeper we were able to pull information for 5782 movies with details on Release date, Movie title, production budget, domestic gross, and worldwide gross. Our team found this provided data to valuable in regards of generating profit percentage and movie success throughout our overall analysis. "
   ]
  },
  {
   "cell_type": "markdown",
   "metadata": {},
   "source": [
    "#### Limitations  "
   ]
  },
  {
   "cell_type": "markdown",
   "metadata": {},
   "source": [
    "We must also note that our team did run into some limitations when it came to connecting and merging data frames due to differentiation in primary keys. Our team found that the best fit primary key to over come this issue was merging and connecting through movie titles. \n",
    "\n",
    "The specific limitation with the use of titles is that they could potentially be less consistent than numeric identifiers."
   ]
  },
  {
   "cell_type": "markdown",
   "metadata": {},
   "source": [
    "# <span style=\"color: blue;\">Data Preparation & Cleaning</span>"
   ]
  },
  {
   "cell_type": "code",
   "execution_count": 3,
   "metadata": {},
   "outputs": [],
   "source": [
    "# Turn foreign gross to an int\n",
    "movie_gross['foreign_gross'] = movie_gross['foreign_gross'].str.replace(',','')\n",
    "movie_gross['foreign_gross'] = movie_gross[\"foreign_gross\"].astype(\"float64\")\n",
    "\n",
    "# Turned run time into an integer\n",
    "movie_info['runtime'] = movie_info['runtime'].str.replace(' minutes','')\n",
    "movie_info['runtime']  = movie_info['runtime'].astype(\"float64\")\n",
    "\n",
    "# Turned box_offices into an interger\n",
    "movie_info['box_office'] = movie_info['box_office'].str.replace(',','')\n",
    "movie_info['box_office'] = movie_info['box_office'].astype(\"float64\")\n",
    "\n",
    "# Change currency to binary variable\n",
    "for i in movie_info['currency']:\n",
    "    if i is not None:\n",
    "        i = 1\n",
    "    else:\n",
    "        i = 0\n",
    "\n",
    "# Update 'fresh'/'rotten' in reviews to boolean variable\n",
    "reviews['fresh'] = reviews['fresh'].str.replace('fresh','1')\n",
    "reviews['fresh'] = reviews['fresh'].str.replace('rotten','0')\n",
    "reviews['fresh']  = reviews['fresh'].astype(\"float64\")\n",
    "\n",
    "reviews.drop_duplicates(inplace=True)"
   ]
  },
  {
   "cell_type": "markdown",
   "metadata": {},
   "source": [
    "A brief analysis reveals that ratings within the Rotten Tomatoes reviews database are very inconsistent. We seek to clean and reorganize these ratings to make them usable.\n",
    "\n",
    "We will make the following modifications to the ratings column:\n",
    "\n",
    "* We will be changing all letter \"grades\" to numerical scores out of 10, evenly distributed between 0 and 10.\n",
    "    * Note that F+ and F- will be grouped with F.\n",
    "* We will be replacing all NaN ratings, ratings out of 2, all ratings without an \"out-of\" denominator, and any other nonsensical ratings with '-1/1'. This will allow us to split all ratings by the '/' character before making further calculations in the future; upon performing these calculations we will go back and reset all '-1/1' values to NaN."
   ]
  },
  {
   "cell_type": "code",
   "execution_count": 4,
   "metadata": {},
   "outputs": [],
   "source": [
    "# Change letter ratings to numerical (out of 10)\n",
    "reviews['rating'].replace('F+', 'F', inplace=True)\n",
    "reviews['rating'].replace('F-', 'F', inplace=True)\n",
    "\n",
    "letter_ratings = ['A+','A','A-','B+','B','B-','C+','C','C-','D+','D','D-','F']\n",
    "nums = list(np.round(np.linspace(0,10, 13), 1))\n",
    "num_ratings = [f'{str(num)}/10' for num in nums]\n",
    "mapping = dict(zip(letter_ratings, num_ratings))\n",
    "\n",
    "for rating in letter_ratings:\n",
    "    reviews.replace(rating, mapping[rating], inplace=True)\n",
    "\n",
    "reviews['rating'].fillna('-1/1', inplace=True)\n",
    "    \n",
    "# Remove all ratings that do not contain '/'\n",
    "for rating in reviews['rating'].unique():\n",
    "    if \"/\" not in rating:\n",
    "        reviews['rating'].replace(rating, '-1/1', inplace=True)\n",
    "\n",
    "# Remove other nonsensical ratings\n",
    "reviews['rating'].replace('R', '-1/1', inplace=True)\n",
    "reviews['rating'].replace('N', '-1/1', inplace=True)\n",
    "reviews['rating'].replace('T', '-1/1', inplace=True)\n",
    "\n",
    "reviews['rating'].replace('1/2', '-1/1', inplace=True)\n",
    "reviews['rating'].replace('2/2', '-1/1', inplace=True)\n",
    "reviews['rating'].replace('3/2', '-1/1', inplace=True)\n",
    "reviews['rating'].replace('3 1/2', '-1/1', inplace=True)\n",
    "reviews['rating'].replace('1-5', '-1/1', inplace=True)\n",
    "reviews['rating'].replace('5/4', '-1/1', inplace=True)\n",
    "reviews['rating'].replace('2.1/2', '-1/1', inplace=True)\n",
    "reviews['rating'].replace('5.5/5', '-1/1', inplace=True)"
   ]
  },
  {
   "cell_type": "code",
   "execution_count": 5,
   "metadata": {},
   "outputs": [],
   "source": [
    "# Remove unwanted symbols from string values and cast string values as floats\n",
    "\n",
    "movie_budgets['production_budget'] = movie_budgets['production_budget'].str.replace(',','')\n",
    "movie_budgets['production_budget'] = movie_budgets['production_budget'].str.replace('$', '')\n",
    "movie_budgets['production_budget'] = movie_budgets['production_budget'].astype(\"float64\")\n",
    "\n",
    "movie_budgets['domestic_gross'] = movie_budgets['domestic_gross'].str.replace(',','')\n",
    "movie_budgets['domestic_gross'] = movie_budgets['domestic_gross'].str.replace('$', '')\n",
    "movie_budgets['domestic_gross'] = movie_budgets['domestic_gross'].astype(\"float64\")\n",
    "\n",
    "movie_budgets['worldwide_gross'] = movie_budgets['worldwide_gross'].str.replace(',','')\n",
    "movie_budgets['worldwide_gross'] = movie_budgets['worldwide_gross'].str.replace('$', '')\n",
    "movie_budgets['worldwide_gross'] = movie_budgets['worldwide_gross'].astype(\"float64\")\n",
    "\n",
    "# Change type of release_date to datetime\n",
    "movie_budgets['release_date'] = pd.to_datetime(movie_budgets['release_date'])\n",
    "\n",
    "# Clean titles to make them consistent/comparable\n",
    "\n",
    "movie_gross['title'] = movie_gross['title'].str.strip().str.replace('[^\\w\\s]', '')\n",
    "movies['original_title'] = movies['original_title'].str.strip().str.replace('[^\\w\\s]', '')\n",
    "movie_budgets['movie'] = movie_budgets['movie'].str.replace(\"â€™\", \"'\") # replaces improperly encoded ' characters\n",
    "movie_budgets['movie'] = movie_budgets['movie'].str.strip().str.replace('[^\\w\\s]', '')\n",
    "\n",
    "movie_gross['title'] = movie_gross['title'].str.upper()\n",
    "movies['original_title'] = movies['original_title'].str.upper()\n",
    "movie_budgets['movie'] = movie_budgets['movie'].str.upper()\n"
   ]
  },
  {
   "cell_type": "markdown",
   "metadata": {},
   "source": [
    "# <span style=\"color: blue;\">Analysis of Selected Variables</span>"
   ]
  },
  {
   "cell_type": "markdown",
   "metadata": {},
   "source": [
    "## Budget vs. Profit Ratio\n",
    "\n",
    "<span style=\"color: red;\">TODO</span>  \n",
    "Add justification and explanation"
   ]
  },
  {
   "cell_type": "code",
   "execution_count": 6,
   "metadata": {},
   "outputs": [],
   "source": [
    "movie_budgets[\"profit\"] = movie_budgets['worldwide_gross'] - movie_budgets['production_budget']\n",
    "\n",
    "movie_budgets.rename(columns = {'movie' : 'title'}, inplace = True)\n",
    "grossJoinBudget = pd.DataFrame.merge(movie_gross, movie_budgets, on = 'title')\n",
    "\n",
    "movie_budgets[\"profit\"] = movie_budgets['worldwide_gross'] - movie_budgets['production_budget']\n",
    "\n",
    "grossJoinBudget.fillna(0, inplace=True)"
   ]
  },
  {
   "cell_type": "markdown",
   "metadata": {},
   "source": [
    "<span style='color: red'>TODO</span>  \n",
    "Explain justification for 2 million cutoff point"
   ]
  },
  {
   "cell_type": "code",
   "execution_count": 7,
   "metadata": {},
   "outputs": [
    {
     "data": {
      "image/png": "[encoded data removed]",
      "text/plain": [
       "<Figure size 432x288 with 1 Axes>"
      ]
     },
     "metadata": {
      "needs_background": "light"
     },
     "output_type": "display_data"
    }
   ],
   "source": [
    "grossJoinBudget['budget_type'] = grossJoinBudget['production_budget'].map(lambda x: 'high' if x >= 20000000  else 'low' )\n",
    "\n",
    "grossJoinBudget['profitRatio'] = (grossJoinBudget['profit'] - grossJoinBudget['production_budget']) / grossJoinBudget['production_budget']\n",
    "\n",
    "sns.lineplot(x='year', y='profitRatio', hue='budget_type', data=grossJoinBudget);"
   ]
  },
  {
   "cell_type": "markdown",
   "metadata": {},
   "source": [
    "#### Hypothesis test for budget vs profit ratios  \n",
    "<span style='color: red'>TODO</span>  Revise hypothesis testing code/markdown to one-tailed test\n",
    "\n",
    "We will conduct a one-tailed two sample t-test with a 5% level of significance to conclude whether low budget movies yield higher product ratios on average than high budget movies.\n",
    "\n",
    "    Null: There is no difference in profit ratios between high and low budget movies.\n",
    "    Alternative: Low budget movies yield higher product ratios on average than high budget movies."
   ]
  },
  {
   "cell_type": "markdown",
   "metadata": {},
   "source": [
    "<span style='color: red'>TODO</span>  \n",
    "Colton: Change code to use earlier column"
   ]
  },
  {
   "cell_type": "code",
   "execution_count": 8,
   "metadata": {},
   "outputs": [],
   "source": [
    "# s1 = grossJoinBudget.loc[high]['profitRatio']\n",
    "# s2 = grossJoinBudget.loc[low]['profitRatio']"
   ]
  },
  {
   "cell_type": "code",
   "execution_count": 9,
   "metadata": {},
   "outputs": [],
   "source": [
    "# type(s1)"
   ]
  },
  {
   "cell_type": "code",
   "execution_count": 10,
   "metadata": {},
   "outputs": [],
   "source": [
    "# s2"
   ]
  },
  {
   "cell_type": "code",
   "execution_count": 11,
   "metadata": {},
   "outputs": [],
   "source": [
    "# plt.boxplot([s1, s2]);"
   ]
  },
  {
   "cell_type": "markdown",
   "metadata": {},
   "source": [
    "<span style='color: red'>TODO</span>  \n",
    "Colton: Consider changing to IQR formula; move removing of outliers to earlier in section"
   ]
  },
  {
   "cell_type": "code",
   "execution_count": 12,
   "metadata": {},
   "outputs": [],
   "source": [
    "# s1 = s1[(s1>np.quantile(s1,0.25)) & (s1<np.quantile(s1,0.75))].tolist()"
   ]
  },
  {
   "cell_type": "code",
   "execution_count": 13,
   "metadata": {},
   "outputs": [],
   "source": [
    "# s2 = s2[(s2>np.quantile(s2,0.25)) & (s2<np.quantile(s2,0.75))].tolist()"
   ]
  },
  {
   "cell_type": "code",
   "execution_count": 14,
   "metadata": {},
   "outputs": [],
   "source": [
    "# plt.boxplot([s1, s2]);"
   ]
  },
  {
   "cell_type": "code",
   "execution_count": 15,
   "metadata": {},
   "outputs": [],
   "source": [
    "# # stat, pval = st.ttest_ind(s1,s2,equal_var = False)\n",
    "# pval/2"
   ]
  },
  {
   "cell_type": "markdown",
   "metadata": {},
   "source": [
    "**Conclusion:** We would reject the NULL  \n",
    "<span style=\"color: red;\">TODO</span>  \n",
    "What does it mean? Include business recommendation."
   ]
  },
  {
   "cell_type": "markdown",
   "metadata": {},
   "source": [
    "## Genre vs. Profit Ratio"
   ]
  },
  {
   "cell_type": "markdown",
   "metadata": {},
   "source": [
    "We want to take a look at how the major genres perform around the world relative to their global average performance to determine which genres are the most profitable."
   ]
  },
  {
   "cell_type": "code",
   "execution_count": 16,
   "metadata": {},
   "outputs": [],
   "source": [
    "q1= \"\"\"\n",
    "SELECT * \n",
    "FROM movie_basics\n",
    "INNER JOIN movie_ratings\n",
    "USING(\"movie_id\")\n",
    "INNER JOIN movie_akas\n",
    "USING(\"movie_id\")\n",
    "\n",
    "\n",
    "\n",
    "\"\"\"\n",
    "sql_dataset_merge1 = pd.read_sql(q1,conn)\n",
    "sql_dataset_merge1['title'] = sql_dataset_merge1['title'].str.upper()"
   ]
  },
  {
   "cell_type": "markdown",
   "metadata": {},
   "source": [
    "<span style='color: red'>TODO</span>  \n",
    "Van: Do we need to show the tables every time?"
   ]
  },
  {
   "cell_type": "code",
   "execution_count": 17,
   "metadata": {},
   "outputs": [],
   "source": [
    "#keep only original movie\n",
    "sql_dataset_merge1= sql_dataset_merge1[sql_dataset_merge1.is_original_title==1]\n",
    "\n",
    "data= movie_budgets.merge(sql_dataset_merge1, how= 'inner', left_on='title', right_on= 'title')\n",
    "\n",
    "dataset= data[[ 'release_date', 'title', 'production_budget',\n",
    "       'domestic_gross', 'worldwide_gross',\n",
    "       'start_year',\n",
    "       'runtime_minutes', 'genres', 'averagerating', 'numvotes', 'ordering']]\n",
    "\n"
   ]
  },
  {
   "cell_type": "markdown",
   "metadata": {},
   "source": [
    "<span style='color: red'>TODO</span>  \n",
    "Van: Justify dropping data"
   ]
  },
  {
   "cell_type": "code",
   "execution_count": 18,
   "metadata": {},
   "outputs": [],
   "source": [
    "dataset=dataset.dropna()"
   ]
  },
  {
   "cell_type": "code",
   "execution_count": 19,
   "metadata": {},
   "outputs": [],
   "source": [
    "## calulate profit by subtracting gross and budget and foreign gross by subtracting gross and budget domestic_gross\n",
    "dataset['profit']= dataset['worldwide_gross']- dataset['production_budget']\n",
    "dataset['foreign_gross']= dataset['worldwide_gross']- dataset['domestic_gross']\n",
    "# dataset.loc[dataset['profit'] < 0, 'profit']= 0\n",
    "##calulate profit ratio\n",
    "dataset['profit_ratio'] = (dataset['profit'] - dataset['production_budget']) / dataset['production_budget']"
   ]
  },
  {
   "cell_type": "markdown",
   "metadata": {},
   "source": [
    "I want to split up the genres column cells so we can tally each genre individually. Next I'll remove the 'genres' column (with multiple values) and replace it with a 'genre' column (with single values). Then I'll make sure that there is a new row for each genre, so there will be multiple rows with the same movie_title.\n"
   ]
  },
  {
   "cell_type": "code",
   "execution_count": 20,
   "metadata": {},
   "outputs": [],
   "source": [
    "df_split_genre = dataset.copy()\n",
    "split_genre = df_split_genre['genres'].str.split(',').apply(pd.Series, 1).stack().reset_index(level=1, drop=True)\n",
    "split_genre.name = 'genre_split'\n",
    "df_split_genre = df_split_genre.drop(['genres'], axis=1).join(split_genre)\n",
    "\n",
    "# limit data to 2010-present\n",
    "df_split_genre = df_split_genre.loc[df_split_genre['release_date'].dt.year >= 2010]"
   ]
  },
  {
   "cell_type": "markdown",
   "metadata": {},
   "source": [
    "<span style='color: red'>TODO</span>  \n",
    "Remove extraneous text below?"
   ]
  },
  {
   "cell_type": "markdown",
   "metadata": {},
   "source": [
    "### Visualize dataset"
   ]
  },
  {
   "cell_type": "code",
   "execution_count": 21,
   "metadata": {},
   "outputs": [
    {
     "data": {
      "image/png": "[encoded data removed]",
      "text/plain": [
       "<Figure size 432x288 with 1 Axes>"
      ]
     },
     "metadata": {
      "needs_background": "light"
     },
     "output_type": "display_data"
    }
   ],
   "source": [
    "df_split_genre['genre_split'].value_counts().plot(kind='bar', color='g');\n",
    "plt.title('Movies by Genre, 2010-2020', size=18)\n",
    "plt.xlabel('Genre', size=12)\n",
    "plt.ylabel('Movie count', size=12);"
   ]
  },
  {
   "cell_type": "markdown",
   "metadata": {},
   "source": [
    "In terms of the number of releases worldwide, dramas and comedies top the list ( in North America) between 2010 and 2020 as more than 500 comedy films were released and over 900 drama films have been released."
   ]
  },
  {
   "cell_type": "code",
   "execution_count": 22,
   "metadata": {},
   "outputs": [
    {
     "data": {
      "image/png": "[encoded data removed]",
      "text/plain": [
       "<Figure size 432x288 with 1 Axes>"
      ]
     },
     "metadata": {
      "needs_background": "light"
     },
     "output_type": "display_data"
    }
   ],
   "source": [
    "#line gross\n",
    "gross_mean= df_split_genre.groupby(df_split_genre['start_year'])['worldwide_gross'].mean()\n",
    "plt.plot(gross_mean)\n",
    "plt.title('Gross over the Years', size=15);\n",
    "plt.xlabel('Decade', size=12)\n",
    "plt.ylabel('Average Revenue', size=12);"
   ]
  },
  {
   "cell_type": "markdown",
   "metadata": {},
   "source": [
    "<span style=\"color: red\">TODO</span>  \n",
    "Move this up somewhere"
   ]
  },
  {
   "cell_type": "code",
   "execution_count": 23,
   "metadata": {},
   "outputs": [],
   "source": [
    "genre_profit=df_split_genre[['genre_split','profit_ratio']].sort_values('genre_split').reset_index(level=0, drop=True)"
   ]
  },
  {
   "cell_type": "markdown",
   "metadata": {},
   "source": [
    "### Hypothesis testing\n",
    "\n",
    "<span style=\"color: red;\">TODO</span>  \n",
    "Declare H0/HA; set alpha=0.05"
   ]
  },
  {
   "cell_type": "code",
   "execution_count": 24,
   "metadata": {},
   "outputs": [
    {
     "data": {
      "text/html": [
       "<div>\n",
       "<style scoped>\n",
       "    .dataframe tbody tr th:only-of-type {\n",
       "        vertical-align: middle;\n",
       "    }\n",
       "\n",
       "    .dataframe tbody tr th {\n",
       "        vertical-align: top;\n",
       "    }\n",
       "\n",
       "    .dataframe thead th {\n",
       "        text-align: right;\n",
       "    }\n",
       "</style>\n",
       "<table border=\"1\" class=\"dataframe\">\n",
       "  <thead>\n",
       "    <tr style=\"text-align: right;\">\n",
       "      <th></th>\n",
       "      <th>sum_sq</th>\n",
       "      <th>df</th>\n",
       "      <th>F</th>\n",
       "      <th>PR(&gt;F)</th>\n",
       "    </tr>\n",
       "  </thead>\n",
       "  <tbody>\n",
       "    <tr>\n",
       "      <th>C(genre_split)</th>\n",
       "      <td>13114.623621</td>\n",
       "      <td>20.0</td>\n",
       "      <td>4.176862</td>\n",
       "      <td>1.264954e-09</td>\n",
       "    </tr>\n",
       "    <tr>\n",
       "      <th>Residual</th>\n",
       "      <td>648845.153437</td>\n",
       "      <td>4133.0</td>\n",
       "      <td>NaN</td>\n",
       "      <td>NaN</td>\n",
       "    </tr>\n",
       "  </tbody>\n",
       "</table>\n",
       "</div>"
      ],
      "text/plain": [
       "                       sum_sq      df         F        PR(>F)\n",
       "C(genre_split)   13114.623621    20.0  4.176862  1.264954e-09\n",
       "Residual        648845.153437  4133.0       NaN           NaN"
      ]
     },
     "execution_count": 24,
     "metadata": {},
     "output_type": "execute_result"
    }
   ],
   "source": [
    "import statsmodels.api as sm\n",
    "from statsmodels.formula.api import ols\n",
    "\n",
    "# Ordinary Least Squares (OLS) model\n",
    "model = ols('profit_ratio ~ C(genre_split)', data=genre_profit).fit()\n",
    "anova_table = sm.stats.anova_lm(model, typ=2)\n",
    "anova_table\n"
   ]
  },
  {
   "cell_type": "markdown",
   "metadata": {},
   "source": [
    "The p value obtained from ANOVA analysis is significant (p < 0.05), and therefore, we conclude that there are significant differences among genre."
   ]
  },
  {
   "cell_type": "code",
   "execution_count": 25,
   "metadata": {},
   "outputs": [
    {
     "data": {
      "image/png": "[encoded data removed]",
      "text/plain": [
       "<Figure size 432x288 with 1 Axes>"
      ]
     },
     "metadata": {
      "needs_background": "light"
     },
     "output_type": "display_data"
    }
   ],
   "source": [
    "profit_ratio_genre=df_split_genre.groupby('genre_split')['profit_ratio'].mean().sort_values()\n",
    "profit_ratio_genre.plot(kind='bar', color='y');\n",
    "plt.title('Profit ratio vs Genre, 2010-2020', size=18)\n",
    "plt.xlabel('Genre', size=12)\n",
    "plt.ylabel('Movie count', size=12);"
   ]
  },
  {
   "cell_type": "markdown",
   "metadata": {},
   "source": [
    "<span style=\"color: red\">TODO</span>  \n",
    "Move this up for posterity"
   ]
  },
  {
   "cell_type": "code",
   "execution_count": 26,
   "metadata": {},
   "outputs": [],
   "source": [
    "  \n",
    "# display model summary\n",
    "# print(model.summary())\n"
   ]
  },
  {
   "cell_type": "markdown",
   "metadata": {},
   "source": [
    "From ANOVA analysis, we know that genre differences are statistically significant, but ANOVA does not tell which genre are significantly different from each other. To know the pairs of significant different treatments, we will perform multiple pairwise comparison (post hoc comparison) analysis for all unplanned comparison using Tukey’s honestly significantly differenced (HSD) test.\n",
    "\n",
    "Note: When the ANOVA is significant, post hoc tests are used to see differences between specific groups. post hoc tests control the family-wise error rate (inflated type I error rate) due to multiple comparisons. post hoc tests adjust the p values (Bonferroni correction) or critical value (Tukey's HSD test).\n",
    "\n",
    "We have Tukey’s HSD test for multiple comparisons and corrects for family-wise error rate (FWER) (inflated type I error)\n",
    " \n",
    " \n",
    " Link reference:https://www.reneshbedre.com/blog/anova.html"
   ]
  },
  {
   "cell_type": "code",
   "execution_count": 27,
   "metadata": {},
   "outputs": [
    {
     "name": "stdout",
     "output_type": "stream",
     "text": [
      "Requirement already satisfied: bioinfokit in c:\\users\\nnetznik\\anaconda3\\envs\\learn-env\\lib\\site-packages (2.0.8)\n",
      "Requirement already satisfied: adjustText in c:\\users\\nnetznik\\anaconda3\\envs\\learn-env\\lib\\site-packages (from bioinfokit) (0.7.3)\n",
      "Requirement already satisfied: seaborn in c:\\users\\nnetznik\\anaconda3\\envs\\learn-env\\lib\\site-packages (from bioinfokit) (0.11.0)\n",
      "Requirement already satisfied: pandas in c:\\users\\nnetznik\\anaconda3\\envs\\learn-env\\lib\\site-packages (from bioinfokit) (1.1.3)\n",
      "Requirement already satisfied: scipy in c:\\users\\nnetznik\\anaconda3\\envs\\learn-env\\lib\\site-packages (from bioinfokit) (1.5.0)\n",
      "Requirement already satisfied: statsmodels in c:\\users\\nnetznik\\anaconda3\\envs\\learn-env\\lib\\site-packages (from bioinfokit) (0.12.0)\n",
      "Requirement already satisfied: textwrap3 in c:\\users\\nnetznik\\anaconda3\\envs\\learn-env\\lib\\site-packages (from bioinfokit) (0.9.2)\n",
      "Requirement already satisfied: matplotlib in c:\\users\\nnetznik\\anaconda3\\envs\\learn-env\\lib\\site-packages (from bioinfokit) (3.3.1)\n",
      "Requirement already satisfied: scikit-learn in c:\\users\\nnetznik\\anaconda3\\envs\\learn-env\\lib\\site-packages (from bioinfokit) (0.23.2)\n",
      "Requirement already satisfied: tabulate in c:\\users\\nnetznik\\anaconda3\\envs\\learn-env\\lib\\site-packages (from bioinfokit) (0.8.10)\n",
      "Requirement already satisfied: matplotlib-venn in c:\\users\\nnetznik\\anaconda3\\envs\\learn-env\\lib\\site-packages (from bioinfokit) (0.11.7)\n",
      "Requirement already satisfied: numpy in c:\\users\\nnetznik\\anaconda3\\envs\\learn-env\\lib\\site-packages (from bioinfokit) (1.18.5)\n",
      "Requirement already satisfied: pytz>=2017.2 in c:\\users\\nnetznik\\anaconda3\\envs\\learn-env\\lib\\site-packages (from pandas->bioinfokit) (2020.1)\n",
      "Requirement already satisfied: python-dateutil>=2.7.3 in c:\\users\\nnetznik\\anaconda3\\envs\\learn-env\\lib\\site-packages (from pandas->bioinfokit) (2.8.1)\n",
      "Requirement already satisfied: patsy>=0.5 in c:\\users\\nnetznik\\anaconda3\\envs\\learn-env\\lib\\site-packages (from statsmodels->bioinfokit) (0.5.1)\n",
      "Requirement already satisfied: certifi>=2020.06.20 in c:\\users\\nnetznik\\anaconda3\\envs\\learn-env\\lib\\site-packages (from matplotlib->bioinfokit) (2020.6.20)\n",
      "Requirement already satisfied: pyparsing!=2.0.4,!=2.1.2,!=2.1.6,>=2.0.3 in c:\\users\\nnetznik\\anaconda3\\envs\\learn-env\\lib\\site-packages (from matplotlib->bioinfokit) (2.4.7)\n",
      "Requirement already satisfied: pillow>=6.2.0 in c:\\users\\nnetznik\\anaconda3\\envs\\learn-env\\lib\\site-packages (from matplotlib->bioinfokit) (8.0.0)\n",
      "Requirement already satisfied: cycler>=0.10 in c:\\users\\nnetznik\\anaconda3\\envs\\learn-env\\lib\\site-packages (from matplotlib->bioinfokit) (0.10.0)\n",
      "Requirement already satisfied: kiwisolver>=1.0.1 in c:\\users\\nnetznik\\anaconda3\\envs\\learn-env\\lib\\site-packages (from matplotlib->bioinfokit) (1.2.0)\n",
      "Requirement already satisfied: joblib>=0.11 in c:\\users\\nnetznik\\anaconda3\\envs\\learn-env\\lib\\site-packages (from scikit-learn->bioinfokit) (0.17.0)\n",
      "Requirement already satisfied: threadpoolctl>=2.0.0 in c:\\users\\nnetznik\\anaconda3\\envs\\learn-env\\lib\\site-packages (from scikit-learn->bioinfokit) (2.1.0)\n",
      "Requirement already satisfied: six>=1.5 in c:\\users\\nnetznik\\anaconda3\\envs\\learn-env\\lib\\site-packages (from python-dateutil>=2.7.3->pandas->bioinfokit) (1.15.0)\n"
     ]
    }
   ],
   "source": [
    " !pip install bioinfokit;"
   ]
  },
  {
   "cell_type": "code",
   "execution_count": 28,
   "metadata": {},
   "outputs": [
    {
     "data": {
      "text/html": [
       "<div>\n",
       "<style scoped>\n",
       "    .dataframe tbody tr th:only-of-type {\n",
       "        vertical-align: middle;\n",
       "    }\n",
       "\n",
       "    .dataframe tbody tr th {\n",
       "        vertical-align: top;\n",
       "    }\n",
       "\n",
       "    .dataframe thead th {\n",
       "        text-align: right;\n",
       "    }\n",
       "</style>\n",
       "<table border=\"1\" class=\"dataframe\">\n",
       "  <thead>\n",
       "    <tr style=\"text-align: right;\">\n",
       "      <th></th>\n",
       "      <th>group1</th>\n",
       "      <th>group2</th>\n",
       "      <th>Diff</th>\n",
       "      <th>Lower</th>\n",
       "      <th>Upper</th>\n",
       "      <th>q-value</th>\n",
       "      <th>p-value</th>\n",
       "    </tr>\n",
       "  </thead>\n",
       "  <tbody>\n",
       "    <tr>\n",
       "      <th>0</th>\n",
       "      <td>Action</td>\n",
       "      <td>Adventure</td>\n",
       "      <td>0.379659</td>\n",
       "      <td>-2.958043</td>\n",
       "      <td>3.717362</td>\n",
       "      <td>0.574543</td>\n",
       "      <td>0.9</td>\n",
       "    </tr>\n",
       "    <tr>\n",
       "      <th>1</th>\n",
       "      <td>Action</td>\n",
       "      <td>Animation</td>\n",
       "      <td>1.042500</td>\n",
       "      <td>-4.057050</td>\n",
       "      <td>6.142049</td>\n",
       "      <td>1.032571</td>\n",
       "      <td>0.9</td>\n",
       "    </tr>\n",
       "    <tr>\n",
       "      <th>2</th>\n",
       "      <td>Action</td>\n",
       "      <td>Biography</td>\n",
       "      <td>0.778788</td>\n",
       "      <td>-3.459530</td>\n",
       "      <td>5.017105</td>\n",
       "      <td>0.928115</td>\n",
       "      <td>0.9</td>\n",
       "    </tr>\n",
       "    <tr>\n",
       "      <th>3</th>\n",
       "      <td>Action</td>\n",
       "      <td>Comedy</td>\n",
       "      <td>0.584592</td>\n",
       "      <td>-2.334785</td>\n",
       "      <td>3.503969</td>\n",
       "      <td>1.011437</td>\n",
       "      <td>0.9</td>\n",
       "    </tr>\n",
       "    <tr>\n",
       "      <th>4</th>\n",
       "      <td>Action</td>\n",
       "      <td>Crime</td>\n",
       "      <td>0.592273</td>\n",
       "      <td>-2.884896</td>\n",
       "      <td>4.069442</td>\n",
       "      <td>0.860344</td>\n",
       "      <td>0.9</td>\n",
       "    </tr>\n",
       "    <tr>\n",
       "      <th>...</th>\n",
       "      <td>...</td>\n",
       "      <td>...</td>\n",
       "      <td>...</td>\n",
       "      <td>...</td>\n",
       "      <td>...</td>\n",
       "      <td>...</td>\n",
       "      <td>...</td>\n",
       "    </tr>\n",
       "    <tr>\n",
       "      <th>205</th>\n",
       "      <td>Sport</td>\n",
       "      <td>War</td>\n",
       "      <td>1.992699</td>\n",
       "      <td>-9.772479</td>\n",
       "      <td>13.757876</td>\n",
       "      <td>0.855498</td>\n",
       "      <td>0.9</td>\n",
       "    </tr>\n",
       "    <tr>\n",
       "      <th>206</th>\n",
       "      <td>Sport</td>\n",
       "      <td>Western</td>\n",
       "      <td>2.027741</td>\n",
       "      <td>-11.914754</td>\n",
       "      <td>15.970235</td>\n",
       "      <td>0.734595</td>\n",
       "      <td>0.9</td>\n",
       "    </tr>\n",
       "    <tr>\n",
       "      <th>207</th>\n",
       "      <td>Thriller</td>\n",
       "      <td>War</td>\n",
       "      <td>4.370089</td>\n",
       "      <td>-5.290576</td>\n",
       "      <td>14.030753</td>\n",
       "      <td>2.284858</td>\n",
       "      <td>0.9</td>\n",
       "    </tr>\n",
       "    <tr>\n",
       "      <th>208</th>\n",
       "      <td>Thriller</td>\n",
       "      <td>Western</td>\n",
       "      <td>4.405130</td>\n",
       "      <td>-7.813797</td>\n",
       "      <td>16.624058</td>\n",
       "      <td>1.820965</td>\n",
       "      <td>0.9</td>\n",
       "    </tr>\n",
       "    <tr>\n",
       "      <th>209</th>\n",
       "      <td>War</td>\n",
       "      <td>Western</td>\n",
       "      <td>0.035042</td>\n",
       "      <td>-15.134477</td>\n",
       "      <td>15.204560</td>\n",
       "      <td>0.011668</td>\n",
       "      <td>0.9</td>\n",
       "    </tr>\n",
       "  </tbody>\n",
       "</table>\n",
       "<p>210 rows × 7 columns</p>\n",
       "</div>"
      ],
      "text/plain": [
       "       group1     group2      Diff      Lower      Upper   q-value  p-value\n",
       "0      Action  Adventure  0.379659  -2.958043   3.717362  0.574543      0.9\n",
       "1      Action  Animation  1.042500  -4.057050   6.142049  1.032571      0.9\n",
       "2      Action  Biography  0.778788  -3.459530   5.017105  0.928115      0.9\n",
       "3      Action     Comedy  0.584592  -2.334785   3.503969  1.011437      0.9\n",
       "4      Action      Crime  0.592273  -2.884896   4.069442  0.860344      0.9\n",
       "..        ...        ...       ...        ...        ...       ...      ...\n",
       "205     Sport        War  1.992699  -9.772479  13.757876  0.855498      0.9\n",
       "206     Sport    Western  2.027741 -11.914754  15.970235  0.734595      0.9\n",
       "207  Thriller        War  4.370089  -5.290576  14.030753  2.284858      0.9\n",
       "208  Thriller    Western  4.405130  -7.813797  16.624058  1.820965      0.9\n",
       "209       War    Western  0.035042 -15.134477  15.204560  0.011668      0.9\n",
       "\n",
       "[210 rows x 7 columns]"
      ]
     },
     "execution_count": 28,
     "metadata": {},
     "output_type": "execute_result"
    }
   ],
   "source": [
    "# we will use bioinfokit (v1.0.3 or later) for performing tukey HSD test\n",
    "# check documentation here https://github.com/reneshbedre/bioinfokit\n",
    "##install bioinfokit package\n",
    "from bioinfokit.analys import stat\n",
    "# perform multiple pairwise comparison (Tukey's HSD)\n",
    "# unequal sample size data, tukey_hsd uses Tukey-Kramer test\n",
    "res = stat()\n",
    "res.tukey_hsd(df=genre_profit, res_var='profit_ratio', xfac_var='genre_split', anova_model='profit_ratio ~ C(genre_split)')\n",
    "res.tukey_summary"
   ]
  },
  {
   "cell_type": "markdown",
   "metadata": {},
   "source": [
    "<span style=\"color: red\">TODO</span>  \n",
    "Show only the important results from this call"
   ]
  },
  {
   "cell_type": "code",
   "execution_count": 29,
   "metadata": {},
   "outputs": [
    {
     "data": {
      "text/html": [
       "<div>\n",
       "<style scoped>\n",
       "    .dataframe tbody tr th:only-of-type {\n",
       "        vertical-align: middle;\n",
       "    }\n",
       "\n",
       "    .dataframe tbody tr th {\n",
       "        vertical-align: top;\n",
       "    }\n",
       "\n",
       "    .dataframe thead th {\n",
       "        text-align: right;\n",
       "    }\n",
       "</style>\n",
       "<table border=\"1\" class=\"dataframe\">\n",
       "  <thead>\n",
       "    <tr style=\"text-align: right;\">\n",
       "      <th></th>\n",
       "      <th>group1</th>\n",
       "      <th>group2</th>\n",
       "      <th>Diff</th>\n",
       "      <th>Lower</th>\n",
       "      <th>Upper</th>\n",
       "      <th>q-value</th>\n",
       "      <th>p-value</th>\n",
       "    </tr>\n",
       "  </thead>\n",
       "  <tbody>\n",
       "    <tr>\n",
       "      <th>10</th>\n",
       "      <td>Action</td>\n",
       "      <td>Horror</td>\n",
       "      <td>5.841909</td>\n",
       "      <td>2.126565</td>\n",
       "      <td>9.557253</td>\n",
       "      <td>7.942036</td>\n",
       "      <td>0.001000</td>\n",
       "    </tr>\n",
       "    <tr>\n",
       "      <th>125</th>\n",
       "      <td>Drama</td>\n",
       "      <td>Mystery</td>\n",
       "      <td>5.846141</td>\n",
       "      <td>1.878267</td>\n",
       "      <td>9.814016</td>\n",
       "      <td>7.441962</td>\n",
       "      <td>0.001000</td>\n",
       "    </tr>\n",
       "    <tr>\n",
       "      <th>122</th>\n",
       "      <td>Drama</td>\n",
       "      <td>Horror</td>\n",
       "      <td>5.174124</td>\n",
       "      <td>1.810251</td>\n",
       "      <td>8.537996</td>\n",
       "      <td>7.769147</td>\n",
       "      <td>0.001000</td>\n",
       "    </tr>\n",
       "    <tr>\n",
       "      <th>98</th>\n",
       "      <td>Crime</td>\n",
       "      <td>Mystery</td>\n",
       "      <td>7.106200</td>\n",
       "      <td>2.532261</td>\n",
       "      <td>11.680139</td>\n",
       "      <td>7.847351</td>\n",
       "      <td>0.001000</td>\n",
       "    </tr>\n",
       "    <tr>\n",
       "      <th>83</th>\n",
       "      <td>Comedy</td>\n",
       "      <td>Mystery</td>\n",
       "      <td>5.929335</td>\n",
       "      <td>1.763644</td>\n",
       "      <td>10.095025</td>\n",
       "      <td>7.189439</td>\n",
       "      <td>0.001000</td>\n",
       "    </tr>\n",
       "    <tr>\n",
       "      <th>80</th>\n",
       "      <td>Comedy</td>\n",
       "      <td>Horror</td>\n",
       "      <td>5.257317</td>\n",
       "      <td>1.662239</td>\n",
       "      <td>8.852395</td>\n",
       "      <td>7.386383</td>\n",
       "      <td>0.001000</td>\n",
       "    </tr>\n",
       "    <tr>\n",
       "      <th>95</th>\n",
       "      <td>Crime</td>\n",
       "      <td>Horror</td>\n",
       "      <td>6.434182</td>\n",
       "      <td>2.373083</td>\n",
       "      <td>10.495282</td>\n",
       "      <td>8.002502</td>\n",
       "      <td>0.001000</td>\n",
       "    </tr>\n",
       "    <tr>\n",
       "      <th>32</th>\n",
       "      <td>Adventure</td>\n",
       "      <td>Mystery</td>\n",
       "      <td>6.134267</td>\n",
       "      <td>1.665434</td>\n",
       "      <td>10.603101</td>\n",
       "      <td>6.933373</td>\n",
       "      <td>0.001000</td>\n",
       "    </tr>\n",
       "    <tr>\n",
       "      <th>29</th>\n",
       "      <td>Adventure</td>\n",
       "      <td>Horror</td>\n",
       "      <td>5.462250</td>\n",
       "      <td>1.519905</td>\n",
       "      <td>9.404594</td>\n",
       "      <td>6.998307</td>\n",
       "      <td>0.001000</td>\n",
       "    </tr>\n",
       "    <tr>\n",
       "      <th>13</th>\n",
       "      <td>Action</td>\n",
       "      <td>Mystery</td>\n",
       "      <td>6.513927</td>\n",
       "      <td>2.244012</td>\n",
       "      <td>10.783841</td>\n",
       "      <td>7.705481</td>\n",
       "      <td>0.001000</td>\n",
       "    </tr>\n",
       "    <tr>\n",
       "      <th>189</th>\n",
       "      <td>Mystery</td>\n",
       "      <td>Romance</td>\n",
       "      <td>5.628861</td>\n",
       "      <td>0.879968</td>\n",
       "      <td>10.377753</td>\n",
       "      <td>5.986929</td>\n",
       "      <td>0.004192</td>\n",
       "    </tr>\n",
       "    <tr>\n",
       "      <th>168</th>\n",
       "      <td>Horror</td>\n",
       "      <td>Romance</td>\n",
       "      <td>4.956843</td>\n",
       "      <td>0.699661</td>\n",
       "      <td>9.214024</td>\n",
       "      <td>5.881106</td>\n",
       "      <td>0.005715</td>\n",
       "    </tr>\n",
       "    <tr>\n",
       "      <th>190</th>\n",
       "      <td>Mystery</td>\n",
       "      <td>Sci-Fi</td>\n",
       "      <td>6.033407</td>\n",
       "      <td>0.717740</td>\n",
       "      <td>11.349073</td>\n",
       "      <td>5.732986</td>\n",
       "      <td>0.008711</td>\n",
       "    </tr>\n",
       "    <tr>\n",
       "      <th>67</th>\n",
       "      <td>Biography</td>\n",
       "      <td>Mystery</td>\n",
       "      <td>5.735139</td>\n",
       "      <td>0.558890</td>\n",
       "      <td>10.911387</td>\n",
       "      <td>5.596350</td>\n",
       "      <td>0.012696</td>\n",
       "    </tr>\n",
       "    <tr>\n",
       "      <th>169</th>\n",
       "      <td>Horror</td>\n",
       "      <td>Sci-Fi</td>\n",
       "      <td>5.361389</td>\n",
       "      <td>0.480004</td>\n",
       "      <td>10.242774</td>\n",
       "      <td>5.547666</td>\n",
       "      <td>0.014481</td>\n",
       "    </tr>\n",
       "    <tr>\n",
       "      <th>64</th>\n",
       "      <td>Biography</td>\n",
       "      <td>Horror</td>\n",
       "      <td>5.063121</td>\n",
       "      <td>0.333939</td>\n",
       "      <td>9.792303</td>\n",
       "      <td>5.407647</td>\n",
       "      <td>0.020916</td>\n",
       "    </tr>\n",
       "    <tr>\n",
       "      <th>102</th>\n",
       "      <td>Crime</td>\n",
       "      <td>Thriller</td>\n",
       "      <td>3.947300</td>\n",
       "      <td>0.252993</td>\n",
       "      <td>7.641607</td>\n",
       "      <td>5.396885</td>\n",
       "      <td>0.021500</td>\n",
       "    </tr>\n",
       "    <tr>\n",
       "      <th>137</th>\n",
       "      <td>Family</td>\n",
       "      <td>Mystery</td>\n",
       "      <td>6.303043</td>\n",
       "      <td>0.235306</td>\n",
       "      <td>12.370779</td>\n",
       "      <td>5.246861</td>\n",
       "      <td>0.031386</td>\n",
       "    </tr>\n",
       "    <tr>\n",
       "      <th>17</th>\n",
       "      <td>Action</td>\n",
       "      <td>Thriller</td>\n",
       "      <td>3.355027</td>\n",
       "      <td>0.044566</td>\n",
       "      <td>6.665488</td>\n",
       "      <td>5.118981</td>\n",
       "      <td>0.042761</td>\n",
       "    </tr>\n",
       "  </tbody>\n",
       "</table>\n",
       "</div>"
      ],
      "text/plain": [
       "        group1    group2      Diff     Lower      Upper   q-value   p-value\n",
       "10      Action    Horror  5.841909  2.126565   9.557253  7.942036  0.001000\n",
       "125      Drama   Mystery  5.846141  1.878267   9.814016  7.441962  0.001000\n",
       "122      Drama    Horror  5.174124  1.810251   8.537996  7.769147  0.001000\n",
       "98       Crime   Mystery  7.106200  2.532261  11.680139  7.847351  0.001000\n",
       "83      Comedy   Mystery  5.929335  1.763644  10.095025  7.189439  0.001000\n",
       "80      Comedy    Horror  5.257317  1.662239   8.852395  7.386383  0.001000\n",
       "95       Crime    Horror  6.434182  2.373083  10.495282  8.002502  0.001000\n",
       "32   Adventure   Mystery  6.134267  1.665434  10.603101  6.933373  0.001000\n",
       "29   Adventure    Horror  5.462250  1.519905   9.404594  6.998307  0.001000\n",
       "13      Action   Mystery  6.513927  2.244012  10.783841  7.705481  0.001000\n",
       "189    Mystery   Romance  5.628861  0.879968  10.377753  5.986929  0.004192\n",
       "168     Horror   Romance  4.956843  0.699661   9.214024  5.881106  0.005715\n",
       "190    Mystery    Sci-Fi  6.033407  0.717740  11.349073  5.732986  0.008711\n",
       "67   Biography   Mystery  5.735139  0.558890  10.911387  5.596350  0.012696\n",
       "169     Horror    Sci-Fi  5.361389  0.480004  10.242774  5.547666  0.014481\n",
       "64   Biography    Horror  5.063121  0.333939   9.792303  5.407647  0.020916\n",
       "102      Crime  Thriller  3.947300  0.252993   7.641607  5.396885  0.021500\n",
       "137     Family   Mystery  6.303043  0.235306  12.370779  5.246861  0.031386\n",
       "17      Action  Thriller  3.355027  0.044566   6.665488  5.118981  0.042761"
      ]
     },
     "execution_count": 29,
     "metadata": {},
     "output_type": "execute_result"
    }
   ],
   "source": [
    "##filter p-value less than 0.05\n",
    "res.tukey_summary[res.tukey_summary['p-value']< 0.05].sort_values('p-value')"
   ]
  },
  {
   "cell_type": "markdown",
   "metadata": {},
   "source": [
    "Above results from Tukey’s HSD suggests that all other pairwise comparisons for treatments rejects null hypothesis (p < 0.05) and indicates statistical significant differences."
   ]
  },
  {
   "cell_type": "markdown",
   "metadata": {},
   "source": [
    "# Nate work\n",
    "<span style='color: red'>TODO</span>  \n",
    "Rename this"
   ]
  },
  {
   "cell_type": "markdown",
   "metadata": {},
   "source": [
    "### Creating New Columns\n",
    "<span style=\"color: red;\">TODO</span>  \n",
    "Add markdown to explain feature engineering"
   ]
  },
  {
   "cell_type": "code",
   "execution_count": 30,
   "metadata": {},
   "outputs": [],
   "source": [
    "reviews['num_stars'] = reviews['rating'].map(lambda x : float(x.split('/')[0]))\n",
    "reviews['out_of_stars'] = reviews['rating'].map(lambda x : float(x.split('/')[1]))\n",
    "reviews['rating_out_of_10'] = reviews['num_stars'] / reviews['out_of_stars'] * 10"
   ]
  },
  {
   "cell_type": "code",
   "execution_count": 31,
   "metadata": {},
   "outputs": [],
   "source": [
    "reviews['rating'].replace('-1/1', np.nan, inplace=True)\n",
    "reviews['num_stars'].replace(-1.0, np.nan, inplace=True)\n",
    "reviews['out_of_stars'].replace(1.0, np.nan, inplace=True)\n",
    "reviews['rating_out_of_10'].replace(-10.0, np.nan, inplace=True)"
   ]
  },
  {
   "cell_type": "markdown",
   "metadata": {},
   "source": [
    "# Exploratory Data Analysis on Rotten Tomatoes Reviews"
   ]
  },
  {
   "cell_type": "code",
   "execution_count": 32,
   "metadata": {},
   "outputs": [
    {
     "data": {
      "image/png": "[encoded data removed]",
      "text/plain": [
       "<Figure size 864x432 with 1 Axes>"
      ]
     },
     "metadata": {
      "needs_background": "light"
     },
     "output_type": "display_data"
    }
   ],
   "source": [
    "reviews['rating_out_of_10'].plot(figsize=(12,6), kind='hist', title='Distribution of rating (out of 10)');"
   ]
  },
  {
   "cell_type": "code",
   "execution_count": 33,
   "metadata": {},
   "outputs": [
    {
     "data": {
      "text/plain": [
       "5.91708490119365"
      ]
     },
     "execution_count": 33,
     "metadata": {},
     "output_type": "execute_result"
    }
   ],
   "source": [
    "reviews['rating_out_of_10'].mean()"
   ]
  },
  {
   "cell_type": "code",
   "execution_count": 34,
   "metadata": {},
   "outputs": [
    {
     "data": {
      "text/plain": [
       "6.0"
      ]
     },
     "execution_count": 34,
     "metadata": {},
     "output_type": "execute_result"
    }
   ],
   "source": [
    "reviews['rating_out_of_10'].median()"
   ]
  },
  {
   "cell_type": "code",
   "execution_count": 35,
   "metadata": {},
   "outputs": [
    {
     "data": {
      "text/plain": [
       "0    6.0\n",
       "dtype: float64"
      ]
     },
     "execution_count": 35,
     "metadata": {},
     "output_type": "execute_result"
    }
   ],
   "source": [
    "reviews['rating_out_of_10'].mode()"
   ]
  },
  {
   "cell_type": "markdown",
   "metadata": {},
   "source": [
    "We have found that movies average **6 out of 10 stars**. We could consider movies with below 6 out of 10 stars to be below average and movies with above 6 out of 10 stars to be above average."
   ]
  },
  {
   "cell_type": "markdown",
   "metadata": {},
   "source": [
    "# Research Question\n",
    "Do a **director's previous movie ratings** relate to the **profit** that their movies generate?"
   ]
  },
  {
   "cell_type": "markdown",
   "metadata": {},
   "source": [
    "## Approach\n",
    "To answer this question, we will begin by creating two groups of directors - those with a \"good\" average rating, and those with a \"bad\" average rating. We will determine a threshold by which we can classify ratings as \"good\" or \"bad\" by investigating the distribution of Rotten Tomatoes rating data within movies classified by Rotten Tomatoes as \"fresh\" and those classified as \"rotten\", as well as considering the results from the exploratory data analysis performed above.\n",
    "\n",
    "Upon choosing a threshold, we will use IMDB databases joined with movie budget data from The Numbers to calculate mean movie rating by director along with the director's mean profit. In particular, we are interested in established directors - those who have received over 1,000 reviews and have worked on at least two movies. We will then split these directors into two groups - one group with mean ratings of greater than or equal to the threshold, and one with mean ratings below the threshold.\n",
    "\n",
    "We will then investigate whether there is a relationship between mean rating by director and their mean profit. We will conduct a hypothesis test to determine if the mean profit for established directors with the higher mean ratings is greater than that of established directors with the lower mean ratings."
   ]
  },
  {
   "cell_type": "markdown",
   "metadata": {},
   "source": [
    "### Determining a Threshold"
   ]
  },
  {
   "cell_type": "code",
   "execution_count": 36,
   "metadata": {},
   "outputs": [],
   "source": [
    "rotten_tomatoes = movie_info.merge(reviews, on='id')"
   ]
  },
  {
   "cell_type": "code",
   "execution_count": 37,
   "metadata": {},
   "outputs": [],
   "source": [
    "fresh_reviews = rotten_tomatoes.loc[rotten_tomatoes['fresh'] == 1]\n",
    "rotten_reviews = rotten_tomatoes.loc[rotten_tomatoes['fresh'] == 0]"
   ]
  },
  {
   "cell_type": "code",
   "execution_count": 38,
   "metadata": {},
   "outputs": [
    {
     "name": "stderr",
     "output_type": "stream",
     "text": [
      "C:\\Users\\nnetznik\\Anaconda3\\envs\\learn-env\\lib\\site-packages\\numpy\\lib\\histograms.py:839: RuntimeWarning: invalid value encountered in greater_equal\n",
      "  keep = (tmp_a >= first_edge)\n",
      "C:\\Users\\nnetznik\\Anaconda3\\envs\\learn-env\\lib\\site-packages\\numpy\\lib\\histograms.py:840: RuntimeWarning: invalid value encountered in less_equal\n",
      "  keep &= (tmp_a <= last_edge)\n"
     ]
    },
    {
     "data": {
      "image/png": "[encoded data removed]",
      "text/plain": [
       "<Figure size 864x432 with 1 Axes>"
      ]
     },
     "metadata": {
      "needs_background": "light"
     },
     "output_type": "display_data"
    }
   ],
   "source": [
    "fig, ax = plt.subplots(figsize=(12,6))\n",
    "ax.hist(fresh_reviews['rating_out_of_10'], alpha=0.5)\n",
    "ax.hist(rotten_reviews['rating_out_of_10'], alpha=0.5)\n",
    "ax.set_title(\"Fresh vs. Rotten Reviews (out of 10)\")\n",
    "ax.set_xlabel(\"Rating (out of 10)\")\n",
    "ax.set_ylabel(\"Frequency\")\n",
    "ax.legend(['Fresh','Rotten'])\n",
    "plt.axvline(x=6, color='black', lw=3);"
   ]
  },
  {
   "cell_type": "markdown",
   "metadata": {},
   "source": [
    "Based upon the visualization above, as well as the distribution of ratings investigated in the preceding exploratory data analysis on Rotten Tomatoes reviews, we will set our threshold to **6 out of 10**."
   ]
  },
  {
   "cell_type": "markdown",
   "metadata": {},
   "source": [
    "### Gathering Data"
   ]
  },
  {
   "cell_type": "code",
   "execution_count": 39,
   "metadata": {},
   "outputs": [],
   "source": [
    "movie_budgets['profit'] = movie_budgets['worldwide_gross']-movie_budgets['production_budget']"
   ]
  },
  {
   "cell_type": "code",
   "execution_count": 40,
   "metadata": {},
   "outputs": [],
   "source": [
    "directorRatings = pd.read_sql(\"\"\"\n",
    "    SELECT \n",
    "    persons.primary_name AS director, movie_basics.original_title AS title, movie_ratings.averagerating AS AVG_Movie_rating\n",
    "    FROM persons\n",
    "    JOIN principals\n",
    "        USING(person_id)\n",
    "    JOIN movie_basics\n",
    "        USING(movie_id)\n",
    "    JOIN movie_ratings\n",
    "        USING(movie_id)\n",
    "    GROUP BY persons.primary_name\n",
    "    HAVING principals.category == 'director' AND movie_ratings.numvotes >= 1000 AND COUNT(movie_ratings.movie_id) > 1\n",
    "    ORDER BY AVG_Movie_rating DESC\n",
    "  ;\n",
    "\"\"\", conn)"
   ]
  },
  {
   "cell_type": "code",
   "execution_count": 41,
   "metadata": {},
   "outputs": [],
   "source": [
    "directorRatings['title'] = directorRatings['title'].str.upper()"
   ]
  },
  {
   "cell_type": "code",
   "execution_count": 42,
   "metadata": {},
   "outputs": [],
   "source": [
    "budgetJoinDirector = movie_budgets.merge(directorRatings, left_on = 'title', right_on='title')"
   ]
  },
  {
   "cell_type": "markdown",
   "metadata": {},
   "source": [
    "To obtain relevant data, we will only focus on data since **2010**:"
   ]
  },
  {
   "cell_type": "code",
   "execution_count": 43,
   "metadata": {},
   "outputs": [],
   "source": [
    "budgetJoinDirector['year'] = budgetJoinDirector['release_date'].dt.year"
   ]
  },
  {
   "cell_type": "code",
   "execution_count": 44,
   "metadata": {},
   "outputs": [],
   "source": [
    "budgetJoinDirector = budgetJoinDirector.loc[budgetJoinDirector['year'] >= 2010]"
   ]
  },
  {
   "cell_type": "code",
   "execution_count": 45,
   "metadata": {},
   "outputs": [],
   "source": [
    "budgetJoinDirector=budgetJoinDirector.drop('id', axis =1)\n",
    "budgetJoinDirector=budgetJoinDirector.drop('release_date', axis =1)\n",
    "budgetJoinDirector=budgetJoinDirector.drop('title', axis =1)\n"
   ]
  },
  {
   "cell_type": "code",
   "execution_count": 46,
   "metadata": {},
   "outputs": [],
   "source": [
    "budgetJoinDirector['profit'] = budgetJoinDirector['worldwide_gross']-budgetJoinDirector['production_budget']\n",
    "budgetJoinDirector['profitRatio'] = (budgetJoinDirector['worldwide_gross'] - budgetJoinDirector['production_budget'])/ budgetJoinDirector['production_budget']"
   ]
  },
  {
   "cell_type": "code",
   "execution_count": 47,
   "metadata": {},
   "outputs": [],
   "source": [
    "budgetJoinDirector['positive_review'] = budgetJoinDirector['AVG_Movie_rating'] >= 6"
   ]
  },
  {
   "cell_type": "code",
   "execution_count": 48,
   "metadata": {},
   "outputs": [],
   "source": [
    "grouped = budgetJoinDirector.groupby('director').mean().sort_values('AVG_Movie_rating', ascending = False)"
   ]
  },
  {
   "cell_type": "markdown",
   "metadata": {},
   "source": [
    "### Investigating Data\n",
    "\n",
    "<span style=\"color: red;\">TODO</span>  \n",
    "Elaborate on profit vs. profit ratio comparisons"
   ]
  },
  {
   "cell_type": "code",
   "execution_count": 49,
   "metadata": {},
   "outputs": [],
   "source": [
    "avg_movie_rating = grouped['AVG_Movie_rating']\n",
    "avg_profit = grouped['profit']\n",
    "profitRatioGroup = grouped['profitRatio']"
   ]
  },
  {
   "cell_type": "code",
   "execution_count": 50,
   "metadata": {
    "scrolled": false
   },
   "outputs": [
    {
     "name": "stderr",
     "output_type": "stream",
     "text": [
      "C:\\Users\\nnetznik\\Anaconda3\\envs\\learn-env\\lib\\site-packages\\seaborn\\distributions.py:2551: FutureWarning: `distplot` is a deprecated function and will be removed in a future version. Please adapt your code to use either `displot` (a figure-level function with similar flexibility) or `histplot` (an axes-level function for histograms).\n",
      "  warnings.warn(msg, FutureWarning)\n"
     ]
    },
    {
     "data": {
      "text/plain": [
       "Text(0.5, 1.0, 'Distribution of mean movie rating per director')"
      ]
     },
     "execution_count": 50,
     "metadata": {},
     "output_type": "execute_result"
    },
    {
     "data": {
      "image/png": "[encoded data removed]",
      "text/plain": [
       "<Figure size 864x432 with 1 Axes>"
      ]
     },
     "metadata": {
      "needs_background": "light"
     },
     "output_type": "display_data"
    }
   ],
   "source": [
    "fig, ax = plt.subplots(figsize=(12,6))\n",
    "sns.distplot(avg_movie_rating)\n",
    "ax.set_title('Distribution of mean movie rating per director')"
   ]
  },
  {
   "cell_type": "code",
   "execution_count": 51,
   "metadata": {},
   "outputs": [
    {
     "name": "stderr",
     "output_type": "stream",
     "text": [
      "C:\\Users\\nnetznik\\Anaconda3\\envs\\learn-env\\lib\\site-packages\\seaborn\\distributions.py:2551: FutureWarning: `distplot` is a deprecated function and will be removed in a future version. Please adapt your code to use either `displot` (a figure-level function with similar flexibility) or `histplot` (an axes-level function for histograms).\n",
      "  warnings.warn(msg, FutureWarning)\n"
     ]
    },
    {
     "data": {
      "text/plain": [
       "Text(0.5, 1.0, 'Distribution of mean profit per director')"
      ]
     },
     "execution_count": 51,
     "metadata": {},
     "output_type": "execute_result"
    },
    {
     "data": {
      "image/png": "[encoded data removed]",
      "text/plain": [
       "<Figure size 864x432 with 1 Axes>"
      ]
     },
     "metadata": {
      "needs_background": "light"
     },
     "output_type": "display_data"
    }
   ],
   "source": [
    "fig, ax = plt.subplots(figsize=(12,6))\n",
    "sns.distplot(avg_profit)\n",
    "ax.set_title('Distribution of mean profit per director')"
   ]
  },
  {
   "cell_type": "code",
   "execution_count": 52,
   "metadata": {},
   "outputs": [
    {
     "name": "stderr",
     "output_type": "stream",
     "text": [
      "C:\\Users\\nnetznik\\Anaconda3\\envs\\learn-env\\lib\\site-packages\\seaborn\\distributions.py:2551: FutureWarning: `distplot` is a deprecated function and will be removed in a future version. Please adapt your code to use either `displot` (a figure-level function with similar flexibility) or `histplot` (an axes-level function for histograms).\n",
      "  warnings.warn(msg, FutureWarning)\n"
     ]
    },
    {
     "data": {
      "text/plain": [
       "Text(0.5, 1.0, 'Distribution of profit Ratio per director')"
      ]
     },
     "execution_count": 52,
     "metadata": {},
     "output_type": "execute_result"
    },
    {
     "data": {
      "image/png": "[encoded data removed]",
      "text/plain": [
       "<Figure size 864x432 with 1 Axes>"
      ]
     },
     "metadata": {
      "needs_background": "light"
     },
     "output_type": "display_data"
    }
   ],
   "source": [
    "fig, ax = plt.subplots(figsize=(12,6))\n",
    "sns.distplot(profitRatioGroup)\n",
    "ax.set_title('Distribution of profit Ratio per director')"
   ]
  },
  {
   "cell_type": "markdown",
   "metadata": {},
   "source": [
    "It appears that our profit data contains several outliers. We will trim these outliers using the **IQR rule** before proceeding with our analysis so we can focus on typical profits."
   ]
  },
  {
   "cell_type": "markdown",
   "metadata": {},
   "source": [
    "### Investigating Trimmed Data"
   ]
  },
  {
   "cell_type": "code",
   "execution_count": 53,
   "metadata": {},
   "outputs": [],
   "source": [
    "Q1 = grouped['profit'].quantile(0.25)\n",
    "Q3 = grouped['profit'].quantile(0.75)\n",
    "IQR = Q3-Q1\n",
    "grouped_trimmed = grouped.loc[(grouped['profit'] >= Q1-1.5*IQR) & (grouped['profit'] <= Q3 + 1.5*IQR)]\n",
    "\n",
    "avg_movie_rating = grouped_trimmed['AVG_Movie_rating']\n",
    "avg_profit = grouped_trimmed['profit']"
   ]
  },
  {
   "cell_type": "code",
   "execution_count": 54,
   "metadata": {},
   "outputs": [],
   "source": [
    "Q1 = grouped['profitRatio'].quantile(0.25)\n",
    "Q3 = grouped['profitRatio'].quantile(0.75)\n",
    "IQR = Q3-Q1\n",
    "\n",
    "grouped_clean = grouped.loc[(grouped['profitRatio'] >= Q1-(1.5*IQR)) & (grouped['profitRatio'] <= Q3 + 1.5*IQR)]\n",
    "\n",
    "profitRatio = grouped_clean['profitRatio']\n",
    "avg_movie_rating_ratio = grouped_clean['AVG_Movie_rating']"
   ]
  },
  {
   "cell_type": "code",
   "execution_count": 55,
   "metadata": {},
   "outputs": [
    {
     "name": "stderr",
     "output_type": "stream",
     "text": [
      "C:\\Users\\nnetznik\\Anaconda3\\envs\\learn-env\\lib\\site-packages\\seaborn\\distributions.py:2551: FutureWarning: `distplot` is a deprecated function and will be removed in a future version. Please adapt your code to use either `displot` (a figure-level function with similar flexibility) or `histplot` (an axes-level function for histograms).\n",
      "  warnings.warn(msg, FutureWarning)\n"
     ]
    },
    {
     "data": {
      "text/plain": [
       "Text(0.5, 1.0, 'Distribution of mean movie rating per director')"
      ]
     },
     "execution_count": 55,
     "metadata": {},
     "output_type": "execute_result"
    },
    {
     "data": {
      "image/png": "[encoded data removed]",
      "text/plain": [
       "<Figure size 864x432 with 1 Axes>"
      ]
     },
     "metadata": {
      "needs_background": "light"
     },
     "output_type": "display_data"
    }
   ],
   "source": [
    "fig, ax = plt.subplots(figsize=(12,6))\n",
    "sns.distplot(avg_movie_rating)\n",
    "ax.set_title('Distribution of mean movie rating per director')"
   ]
  },
  {
   "cell_type": "code",
   "execution_count": 56,
   "metadata": {},
   "outputs": [
    {
     "name": "stderr",
     "output_type": "stream",
     "text": [
      "C:\\Users\\nnetznik\\Anaconda3\\envs\\learn-env\\lib\\site-packages\\seaborn\\distributions.py:2551: FutureWarning: `distplot` is a deprecated function and will be removed in a future version. Please adapt your code to use either `displot` (a figure-level function with similar flexibility) or `histplot` (an axes-level function for histograms).\n",
      "  warnings.warn(msg, FutureWarning)\n"
     ]
    },
    {
     "data": {
      "image/png": "[encoded data removed]",
      "text/plain": [
       "<Figure size 864x432 with 1 Axes>"
      ]
     },
     "metadata": {
      "needs_background": "light"
     },
     "output_type": "display_data"
    }
   ],
   "source": [
    "fig, ax = plt.subplots(figsize=(12,6))\n",
    "sns.distplot(avg_profit)\n",
    "ax.set_title('Distribution of mean profit per director');"
   ]
  },
  {
   "cell_type": "code",
   "execution_count": 57,
   "metadata": {},
   "outputs": [
    {
     "name": "stderr",
     "output_type": "stream",
     "text": [
      "C:\\Users\\nnetznik\\Anaconda3\\envs\\learn-env\\lib\\site-packages\\seaborn\\distributions.py:2551: FutureWarning: `distplot` is a deprecated function and will be removed in a future version. Please adapt your code to use either `displot` (a figure-level function with similar flexibility) or `histplot` (an axes-level function for histograms).\n",
      "  warnings.warn(msg, FutureWarning)\n"
     ]
    },
    {
     "data": {
      "text/plain": [
       "Text(0.5, 1.0, 'Distribution of profit Ratio per director')"
      ]
     },
     "execution_count": 57,
     "metadata": {},
     "output_type": "execute_result"
    },
    {
     "data": {
      "image/png": "[encoded data removed]",
      "text/plain": [
       "<Figure size 864x432 with 1 Axes>"
      ]
     },
     "metadata": {
      "needs_background": "light"
     },
     "output_type": "display_data"
    }
   ],
   "source": [
    "fig, ax = plt.subplots(figsize=(12,6))\n",
    "sns.distplot(avg_movie_rating_ratio)\n",
    "ax.set_title('Distribution of profit Ratio per director')\n"
   ]
  },
  {
   "cell_type": "code",
   "execution_count": 58,
   "metadata": {},
   "outputs": [
    {
     "name": "stderr",
     "output_type": "stream",
     "text": [
      "C:\\Users\\nnetznik\\Anaconda3\\envs\\learn-env\\lib\\site-packages\\seaborn\\distributions.py:2551: FutureWarning: `distplot` is a deprecated function and will be removed in a future version. Please adapt your code to use either `displot` (a figure-level function with similar flexibility) or `histplot` (an axes-level function for histograms).\n",
      "  warnings.warn(msg, FutureWarning)\n"
     ]
    },
    {
     "data": {
      "text/plain": [
       "Text(0.5, 1.0, 'Distribution of profit Ratio per director')"
      ]
     },
     "execution_count": 58,
     "metadata": {},
     "output_type": "execute_result"
    },
    {
     "data": {
      "image/png": "[encoded data removed]",
      "text/plain": [
       "<Figure size 864x432 with 1 Axes>"
      ]
     },
     "metadata": {
      "needs_background": "light"
     },
     "output_type": "display_data"
    }
   ],
   "source": [
    "fig, ax = plt.subplots(figsize=(12,6))\n",
    "sns.distplot(profitRatio)\n",
    "ax.set_title('Distribution of profit Ratio per director')"
   ]
  },
  {
   "cell_type": "code",
   "execution_count": 59,
   "metadata": {},
   "outputs": [],
   "source": [
    "greaterThanEqual6_trimmed = grouped_trimmed.loc[avg_movie_rating >= 6]['profit']\n",
    "lessThan6_trimmed = grouped_trimmed.loc[avg_movie_rating < 6]['profit']"
   ]
  },
  {
   "cell_type": "code",
   "execution_count": 60,
   "metadata": {},
   "outputs": [],
   "source": [
    "greaterThanEqual6_trimmed_ratio = grouped_clean.loc[grouped_clean['AVG_Movie_rating'] >= 6]['profitRatio']\n",
    "lessThan6_trimmed_ratio = grouped_clean.loc[grouped_clean['AVG_Movie_rating'] < 6]['profitRatio']"
   ]
  },
  {
   "cell_type": "markdown",
   "metadata": {},
   "source": [
    "<span style='color: red'>TODO</span>  \n",
    "Nate: Move these plots to a side-by-side format"
   ]
  },
  {
   "cell_type": "code",
   "execution_count": 118,
   "metadata": {},
   "outputs": [
    {
     "name": "stderr",
     "output_type": "stream",
     "text": [
      "C:\\Users\\nnetznik\\Anaconda3\\envs\\learn-env\\lib\\site-packages\\seaborn\\_decorators.py:36: FutureWarning: Pass the following variables as keyword args: x, y. From version 0.12, the only valid positional argument will be `data`, and passing other arguments without an explicit keyword will result in an error or misinterpretation.\n",
      "  warnings.warn(\n"
     ]
    },
    {
     "data": {
      "image/png": "[encoded data removed]",
      "text/plain": [
       "<Figure size 864x432 with 1 Axes>"
      ]
     },
     "metadata": {
      "needs_background": "light"
     },
     "output_type": "display_data"
    }
   ],
   "source": [
    "fig, ax = plt.subplots(figsize=(12,6))\n",
    "ax = sns.regplot(avg_movie_rating, avg_profit)\n",
    "ax.axvline(6, color='red', lw=3, alpha=0.5);\n",
    "ax.set_title('Mean Movie Rating vs. Mean Profit by Director')\n",
    "ax.set_xlabel('Mean Movie Rating (stars out of 10)')\n",
    "ax.set_ylabel('Mean Profit ($)')\n",
    "plt.ticklabel_format(style='plain');"
   ]
  },
  {
   "cell_type": "code",
   "execution_count": 120,
   "metadata": {},
   "outputs": [
    {
     "name": "stderr",
     "output_type": "stream",
     "text": [
      "C:\\Users\\nnetznik\\Anaconda3\\envs\\learn-env\\lib\\site-packages\\seaborn\\_decorators.py:36: FutureWarning: Pass the following variables as keyword args: x, y. From version 0.12, the only valid positional argument will be `data`, and passing other arguments without an explicit keyword will result in an error or misinterpretation.\n",
      "  warnings.warn(\n"
     ]
    },
    {
     "data": {
      "image/png": "[encoded data removed]",
      "text/plain": [
       "<Figure size 864x432 with 1 Axes>"
      ]
     },
     "metadata": {
      "needs_background": "light"
     },
     "output_type": "display_data"
    }
   ],
   "source": [
    "fig, ax = plt.subplots(figsize=(12,6))\n",
    "ax = sns.regplot(avg_movie_rating_ratio, profitRatio )\n",
    "ax.axvline(6, color='red', lw=3, alpha=0.5);\n",
    "ax.set_title('Mean Movie Rating vs. Mean Profit Ratio by Director')\n",
    "ax.set_xlabel('Mean Movie Rating (stars out of 10)')\n",
    "ax.set_ylabel('Mean Profit Ratio')\n",
    "plt.ticklabel_format(style='plain');"
   ]
  },
  {
   "cell_type": "code",
   "execution_count": 63,
   "metadata": {},
   "outputs": [
    {
     "data": {
      "text/plain": [
       "0.180997452442317"
      ]
     },
     "execution_count": 63,
     "metadata": {},
     "output_type": "execute_result"
    }
   ],
   "source": [
    "#for the profit\n",
    "np.corrcoef(avg_movie_rating, avg_profit)[0][1]"
   ]
  },
  {
   "cell_type": "code",
   "execution_count": 64,
   "metadata": {},
   "outputs": [
    {
     "data": {
      "text/plain": [
       "37372798.47979798"
      ]
     },
     "execution_count": 64,
     "metadata": {},
     "output_type": "execute_result"
    }
   ],
   "source": [
    "greaterThanEqual6_trimmed.mean()"
   ]
  },
  {
   "cell_type": "code",
   "execution_count": 65,
   "metadata": {},
   "outputs": [
    {
     "data": {
      "text/plain": [
       "18683923.664233577"
      ]
     },
     "execution_count": 65,
     "metadata": {},
     "output_type": "execute_result"
    }
   ],
   "source": [
    "lessThan6_trimmed.mean()"
   ]
  },
  {
   "cell_type": "code",
   "execution_count": 66,
   "metadata": {},
   "outputs": [
    {
     "data": {
      "text/plain": [
       "18688874.815564405"
      ]
     },
     "execution_count": 66,
     "metadata": {},
     "output_type": "execute_result"
    }
   ],
   "source": [
    "greaterThanEqual6_trimmed.mean() - lessThan6_trimmed.mean()"
   ]
  },
  {
   "cell_type": "code",
   "execution_count": 67,
   "metadata": {},
   "outputs": [
    {
     "data": {
      "text/plain": [
       "2851196205844287.0"
      ]
     },
     "execution_count": 67,
     "metadata": {},
     "output_type": "execute_result"
    }
   ],
   "source": [
    "greaterThanEqual6_trimmed.std(ddof=1)**2"
   ]
  },
  {
   "cell_type": "code",
   "execution_count": 68,
   "metadata": {},
   "outputs": [
    {
     "data": {
      "text/plain": [
       "1744435558069636.8"
      ]
     },
     "execution_count": 68,
     "metadata": {},
     "output_type": "execute_result"
    }
   ],
   "source": [
    "lessThan6_trimmed.std(ddof=1)**2"
   ]
  },
  {
   "cell_type": "code",
   "execution_count": 69,
   "metadata": {},
   "outputs": [
    {
     "data": {
      "text/plain": [
       "0.2689343683676368"
      ]
     },
     "execution_count": 69,
     "metadata": {},
     "output_type": "execute_result"
    }
   ],
   "source": [
    "#fir the profit ratio\n",
    "np.corrcoef(avg_movie_rating_ratio, profitRatio)[0][1]"
   ]
  },
  {
   "cell_type": "markdown",
   "metadata": {},
   "source": [
    "#### Observations\n",
    "* There is a **slight positive correlation** between mean movie rating per director and mean profit.\n",
    "\n",
    "* The means of these two categories **differ**.\n",
    "* The variances of these two categories **differ**."
   ]
  },
  {
   "cell_type": "markdown",
   "metadata": {},
   "source": [
    "## Rationale and Analysis\n",
    "<span style=\"color: red;\">TODO</span>  \n",
    "Consider more simple graphs to visualize things\n",
    "\n",
    "Using $\\alpha=0.05$, we will conduct a one-tailed unpaired Welch's t-test (which does NOT assume that population variances are equal) to test our hypothesis that established directors with a mean rating of greater than or equal to 6 produce a greater mean profit than those with a mean rating of less than 6.\n",
    "\n",
    "Let:\n",
    "> $\\mu_{GE6}$ denote the mean profit for directors with a mean rating of greater than or equal to 6;\n",
    "\n",
    "> $\\mu_{L6}$ denote the mean profit for directors with a mean rating of less than 6.\n",
    "\n",
    "$H_{0}: \\mu_{GE6} - \\mu_{L6} = 0$\n",
    "\n",
    "$H_{A}: \\mu_{GE6} - \\mu_{L6} > 0$"
   ]
  },
  {
   "cell_type": "code",
   "execution_count": 78,
   "metadata": {},
   "outputs": [
    {
     "data": {
      "text/plain": [
       "4.686646375630644e-05"
      ]
     },
     "execution_count": 78,
     "metadata": {},
     "output_type": "execute_result"
    }
   ],
   "source": [
    "#for profit\n",
    "statistic, pvalue = st.ttest_ind(greaterThanEqual6_trimmed, lessThan6_trimmed, equal_var=False)\n",
    "pvalue/2"
   ]
  },
  {
   "cell_type": "code",
   "execution_count": 79,
   "metadata": {},
   "outputs": [
    {
     "data": {
      "text/plain": [
       "5.2855105942360924e-05"
      ]
     },
     "execution_count": 79,
     "metadata": {},
     "output_type": "execute_result"
    }
   ],
   "source": [
    "#for profit ratio\n",
    "statistic, pvalue = st.ttest_ind(greaterThanEqual6_trimmed_ratio, lessThan6_trimmed_ratio, equal_var=False)\n",
    "pvalue/2"
   ]
  },
  {
   "cell_type": "markdown",
   "metadata": {},
   "source": [
    "### Conclusion\n",
    "If both groups do produce the same profits, there is approximately a 0.19% chance that we obtain a difference in sample means at least as large as obtained above. Given this probability and $\\alpha=0.05$, we conclude that established directors with a mean rating of greater than or equal to 6 produce **greater mean profits** than those with a mean rating of less than 6, with a 5% chance of committing a type I error.."
   ]
  },
  {
   "cell_type": "markdown",
   "metadata": {},
   "source": [
    "## Recommendation\n",
    "We recommend that ...  \n",
    "<span style='color: red'>TODO</span>  \n",
    "Nate"
   ]
  },
  {
   "cell_type": "markdown",
   "metadata": {},
   "source": [
    "## Season vs. Gross Profit "
   ]
  },
  {
   "cell_type": "markdown",
   "metadata": {},
   "source": [
    "<span style='color: red'>TODO</span>  \n",
    "Alex D. (or Colton): Create explanatory markdown and comment code  \n",
    "Drop outliers  \n",
    "Add intro  \n",
    "Add conclusion  \n",
    "Add business suggestion"
   ]
  },
  {
   "cell_type": "markdown",
   "metadata": {},
   "source": [
    "# Research Question"
   ]
  },
  {
   "cell_type": "markdown",
   "metadata": {},
   "source": [
    "##### Is there a direct correlation in which season a movie is released and the gross profits generated?"
   ]
  },
  {
   "cell_type": "markdown",
   "metadata": {},
   "source": [
    "# Approach"
   ]
  },
  {
   "cell_type": "markdown",
   "metadata": {},
   "source": [
    "We will begin by making needed adjustments to to the movie budgets and movie gross data frames. Following the required adjustments we will merge the two data frames into one. We will then filter and clean the merged data frame to till we recieve the desired output to run our statistical analysis and create the appropriate visualizions that compare season relase date to gross profits"
   ]
  },
  {
   "cell_type": "markdown",
   "metadata": {},
   "source": [
    "separate release date"
   ]
  },
  {
   "cell_type": "markdown",
   "metadata": {},
   "source": [
    "Create new collumn as release month"
   ]
  },
  {
   "cell_type": "code",
   "execution_count": 80,
   "metadata": {
    "scrolled": true
   },
   "outputs": [],
   "source": [
    "release_month = movie_budgets['release_date'].dt.strftime('%m')\n",
    "movie_budgets['release_month']= release_month"
   ]
  },
  {
   "cell_type": "markdown",
   "metadata": {},
   "source": [
    "Create new collumn for relase year"
   ]
  },
  {
   "cell_type": "code",
   "execution_count": 81,
   "metadata": {},
   "outputs": [],
   "source": [
    "release_year = movie_budgets['release_date'].dt.strftime('%Y')\n",
    "movie_budgets['release_year']= release_year"
   ]
  },
  {
   "cell_type": "markdown",
   "metadata": {},
   "source": [
    "Creat dictionary to correalte each release month to a specifice Season"
   ]
  },
  {
   "cell_type": "markdown",
   "metadata": {},
   "source": [
    "<span style=\"color: red\">TODO</span>  \n",
    "Move up to cleaning section"
   ]
  },
  {
   "cell_type": "code",
   "execution_count": 82,
   "metadata": {},
   "outputs": [],
   "source": [
    "#Season: spring = 1, summer=2, fall= 3, winter=4\n",
    "season_dict = {'01': '4',\n",
    "               '02': '4',\n",
    "               '03': '1', \n",
    "               '04': '1',\n",
    "               '05': '1',\n",
    "               '06': '2',\n",
    "               '07': '2',\n",
    "               '08': '2',\n",
    "               '09': '3',\n",
    "               '10': '3',\n",
    "               '11': '3',\n",
    "               '12': '4'}\n",
    "movie_budgets['Season'] = movie_budgets['release_month'].apply(lambda x: season_dict[x])"
   ]
  },
  {
   "cell_type": "markdown",
   "metadata": {},
   "source": [
    "convert relase month, release year, and season to integers"
   ]
  },
  {
   "cell_type": "code",
   "execution_count": 83,
   "metadata": {},
   "outputs": [],
   "source": [
    "movie_budgets['release_year']  = movie_budgets['release_year'].astype(\"int\")\n",
    "movie_budgets['release_month']  = movie_budgets['release_month'].astype(\"int\")\n",
    "movie_budgets['Season']  = movie_budgets['Season'].astype(\"int\")"
   ]
  },
  {
   "cell_type": "markdown",
   "metadata": {},
   "source": [
    "#### Merge Gross and budgets"
   ]
  },
  {
   "cell_type": "code",
   "execution_count": 84,
   "metadata": {},
   "outputs": [],
   "source": [
    "movieGrossJoinBudgets = pd.DataFrame.merge(movie_gross, movie_budgets, on = 'title')"
   ]
  },
  {
   "cell_type": "markdown",
   "metadata": {},
   "source": [
    "Check for null values\n",
    "\n",
    "Set Null Values to 0"
   ]
  },
  {
   "cell_type": "code",
   "execution_count": 85,
   "metadata": {},
   "outputs": [],
   "source": [
    "movieGrossJoinBudgets.fillna(0, inplace = True)"
   ]
  },
  {
   "cell_type": "markdown",
   "metadata": {},
   "source": [
    "calculate for inflations in the merged data frame"
   ]
  },
  {
   "cell_type": "code",
   "execution_count": 86,
   "metadata": {},
   "outputs": [],
   "source": [
    "i = 0\n",
    "for row in movieGrossJoinBudgets.itertuples(index = False):\n",
    "    if row[4] == 2010:\n",
    "        movieGrossJoinBudgets.iat[i,2] = row[2] * ((8*.0151) + 1)\n",
    "\n",
    "    if row[4] == 2011:\n",
    "        movieGrossJoinBudgets.iat[i,2] = row[2] * ((7*.0151) + 1)\n",
    "\n",
    "    if row[4] == 2012:\n",
    "        movieGrossJoinBudgets.iat[i,2] = row[2] * ((6*.0151) + 1)\n",
    "\n",
    "    if row[4] == 2013:\n",
    "        movieGrossJoinBudgets.iat[i,2] = row[2] * ((5*.0151) + 1)\n",
    "\n",
    "    if row[4] == 2014:\n",
    "        movieGrossJoinBudgets.iat[i,2] = row[2] * ((4*.0151) + 1)\n",
    "\n",
    "    if row[4] == 2015:\n",
    "        movieGrossJoinBudgets.iat[i,2] = row[2] * ((3*.0151) + 1)\n",
    "\n",
    "    if row[4] == 2016:\n",
    "        movieGrossJoinBudgets.iat[i,2] = row[2] * ((2*.0151) + 1)\n",
    "\n",
    "    if row[4] == 2017:\n",
    "        movieGrossJoinBudgets.iat[i,2] = row[2] * ((1*.0151) + 1)\n",
    "\n",
    "    i +=1"
   ]
  },
  {
   "cell_type": "code",
   "execution_count": 87,
   "metadata": {},
   "outputs": [],
   "source": [
    "i = 0\n",
    "for row in movieGrossJoinBudgets.itertuples(index = False):\n",
    "    if row[4] == 2010:\n",
    "        movieGrossJoinBudgets.iat[i,3] = row[3] * ((8*.0151) + 1)\n",
    "\n",
    "    if row[4] == 2011:\n",
    "        movieGrossJoinBudgets.iat[i,3] = row[3] * ((7*.0151) + 1)\n",
    "\n",
    "    if row[4] == 2012:\n",
    "        movieGrossJoinBudgets.iat[i,3] = row[3] * ((6*.0151) + 1)\n",
    "\n",
    "    if row[4] == 2013:\n",
    "        movieGrossJoinBudgets.iat[i,3] = row[3] * ((5*.0151) + 1)\n",
    "\n",
    "    if row[4] == 2014:\n",
    "        movieGrossJoinBudgets.iat[i,3] = row[3] * ((4*.0151) + 1)\n",
    "\n",
    "    if row[4] == 2015:\n",
    "        movieGrossJoinBudgets.iat[i,3] = row[3] * ((3*.0151) + 1)\n",
    "\n",
    "    if row[4] == 2016:\n",
    "        movieGrossJoinBudgets.iat[i,3] = row[3] * ((2*.0151) + 1)\n",
    "\n",
    "    if row[4] == 2017:\n",
    "        movieGrossJoinBudgets.iat[i,3] = row[3] * ((1*.0151) + 1)\n",
    "\n",
    "    i +=1"
   ]
  },
  {
   "cell_type": "code",
   "execution_count": 88,
   "metadata": {},
   "outputs": [],
   "source": [
    "movieGrossJoinBudgets.drop(['domestic_gross_y'], axis=1, inplace=True)"
   ]
  },
  {
   "cell_type": "code",
   "execution_count": 89,
   "metadata": {},
   "outputs": [],
   "source": [
    "GrossJoinBudgetGrouped = movieGrossJoinBudgets.groupby('Season').mean()"
   ]
  },
  {
   "cell_type": "code",
   "execution_count": 90,
   "metadata": {},
   "outputs": [],
   "source": [
    "GrossJoinBudgetGrouped.drop(['year', 'id', 'production_budget', 'worldwide_gross', 'release_month', 'release_year', 'profit'], axis=1, inplace=True)"
   ]
  },
  {
   "cell_type": "code",
   "execution_count": 91,
   "metadata": {},
   "outputs": [],
   "source": [
    "Q1 = movieGrossJoinBudgets['domestic_gross_x'].quantile(0.25)\n",
    "Q3 = movieGrossJoinBudgets['domestic_gross_x'].quantile(0.75)\n",
    "IQR = Q3 - Q1\n",
    "\n",
    "grouped_trimmed = movieGrossJoinBudgets.loc[(movieGrossJoinBudgets['domestic_gross_x'] >= Q1-1.5*IQR) & (movieGrossJoinBudgets['domestic_gross_x'] <= Q3 + 1.5*IQR)]\n",
    "\n",
    "domSpring = grouped_trimmed.loc[(movieGrossJoinBudgets['Season'] == 1)]['domestic_gross_x']\n",
    "domSummer = grouped_trimmed.loc[(movieGrossJoinBudgets['Season'] == 2)]['domestic_gross_x']\n",
    "domFall = grouped_trimmed.loc[(movieGrossJoinBudgets['Season'] == 3)]['domestic_gross_x']\n",
    "domWinter = grouped_trimmed.loc[(movieGrossJoinBudgets['Season'] == 4)]['domestic_gross_x']"
   ]
  },
  {
   "cell_type": "code",
   "execution_count": 92,
   "metadata": {},
   "outputs": [],
   "source": [
    "Q1 = movieGrossJoinBudgets['foreign_gross'].quantile(0.25)\n",
    "Q3 = movieGrossJoinBudgets['foreign_gross'].quantile(0.75)\n",
    "IQR = Q3 - Q1\n",
    "\n",
    "grouped_trimmed = movieGrossJoinBudgets.loc[(movieGrossJoinBudgets['foreign_gross'] >= Q1-1.5*IQR) & (movieGrossJoinBudgets['foreign_gross'] <= Q3 + 1.5*IQR)]\n",
    "\n",
    "forSpring = grouped_trimmed.loc[(movieGrossJoinBudgets['Season'] == 1)]['foreign_gross']\n",
    "forSummer = grouped_trimmed.loc[(movieGrossJoinBudgets['Season'] == 2)]['foreign_gross']\n",
    "forFall = grouped_trimmed.loc[(movieGrossJoinBudgets['Season'] == 3)]['foreign_gross']\n",
    "forWinter = grouped_trimmed.loc[(movieGrossJoinBudgets['Season'] == 4)]['foreign_gross']"
   ]
  },
  {
   "cell_type": "code",
   "execution_count": 93,
   "metadata": {},
   "outputs": [
    {
     "data": {
      "image/png": "[encoded data removed]",
      "text/plain": [
       "<Figure size 432x288 with 1 Axes>"
      ]
     },
     "metadata": {
      "needs_background": "light"
     },
     "output_type": "display_data"
    }
   ],
   "source": [
    "w=0.4\n",
    "x = ['Spring', 'Summer', 'Fall', 'Winter']\n",
    "domestic_gross_x = [6.286046e+07, 8.006786e+07, 5.330879e+07, 6.289587e+07]\n",
    "foreign_gross = [8.961715e+07, 1.160124e+08, 8.214393e+07, 8.460717e+07]\n",
    "\n",
    "bar1 = np.arange(len(x))\n",
    "bar2 = [i+w for i in bar1]\n",
    "\n",
    "plt.bar(bar1,domestic_gross_x,w,label='Domestic Gross')\n",
    "plt.bar(bar2,foreign_gross,w,label='Foreign Gross')\n",
    "plt.title('Seasonal Gross Values')\n",
    "plt.xticks(bar1+w/2,x)\n",
    "plt.xlabel('Season')\n",
    "plt.ylabel('Gross Value')\n",
    "plt.legend()\n",
    "plt.show()"
   ]
  },
  {
   "cell_type": "markdown",
   "metadata": {},
   "source": [
    "#### Hypothesis Testing"
   ]
  },
  {
   "cell_type": "markdown",
   "metadata": {},
   "source": [
    "##### Hypothesis\n",
    "    Null: There is no significant difference between the summer release dates and non summer release dates. H0:𝜇 ≥ 𝑥¯  \n",
    "    Alternative: The the gross value is significantly bigger when released than not released in summer mean. 𝐻𝑎: 𝜇<𝑥¯\n",
    "    Alpha= .02"
   ]
  },
  {
   "cell_type": "markdown",
   "metadata": {},
   "source": [
    "**We will be performing a**  \n",
    "<span style='color: red'>TODO</span>  \n",
    "Finish this"
   ]
  },
  {
   "cell_type": "code",
   "execution_count": 94,
   "metadata": {},
   "outputs": [],
   "source": [
    "winter = movieGrossJoinBudgets['Season'].values == 4\n",
    "spring = movieGrossJoinBudgets['Season'].values == 1\n",
    "fall = movieGrossJoinBudgets['Season'].values == 3\n",
    "\n",
    "forSpring = movieGrossJoinBudgets.loc[spring]['foreign_gross']\n",
    "domSpring = movieGrossJoinBudgets.loc[spring]['domestic_gross_x']\n",
    "forFall = movieGrossJoinBudgets.loc[fall]['foreign_gross']\n",
    "domFall = movieGrossJoinBudgets.loc[fall]['domestic_gross_x']\n",
    "forWinter = movieGrossJoinBudgets.loc[winter]['foreign_gross']\n",
    "domWinter = movieGrossJoinBudgets.loc[winter]['domestic_gross_x']"
   ]
  },
  {
   "cell_type": "markdown",
   "metadata": {},
   "source": [
    "<span style=\"color: red;\">TODO</span>  \n",
    "Change 1 sample test to 2 sample test; divide p_val by 2 for 1-sample test; give explanation at beginning of section for hypothesis test approach"
   ]
  },
  {
   "cell_type": "code",
   "execution_count": 95,
   "metadata": {},
   "outputs": [
    {
     "name": "stderr",
     "output_type": "stream",
     "text": [
      "C:\\Users\\alexwhite2\\Anaconda3\\envs\\learn-env\\lib\\site-packages\\numpy\\core\\fromnumeric.py:3583: RuntimeWarning: Degrees of freedom <= 0 for slice\n",
      "  return _methods._var(a, axis=axis, dtype=dtype, out=out, ddof=ddof,\n",
      "C:\\Users\\alexwhite2\\Anaconda3\\envs\\learn-env\\lib\\site-packages\\numpy\\core\\_methods.py:209: RuntimeWarning: invalid value encountered in double_scalars\n",
      "  ret = ret.dtype.type(ret / rcount)\n",
      "C:\\Users\\alexwhite2\\Anaconda3\\envs\\learn-env\\lib\\site-packages\\scipy\\stats\\_distn_infrastructure.py:1932: RuntimeWarning: invalid value encountered in less_equal\n",
      "  cond2 = cond0 & (x <= _a)\n"
     ]
    },
    {
     "data": {
      "text/plain": [
       "nan"
      ]
     },
     "execution_count": 95,
     "metadata": {},
     "output_type": "execute_result"
    }
   ],
   "source": [
    "# T-test for foriegn market in summer\n",
    "stat, pval = st.ttest_ind(forSummer, movieGrossJoinBudgets['foreign_gross'].mean(), equal_var = False)\n",
    "pval/2"
   ]
  },
  {
   "cell_type": "code",
   "execution_count": 96,
   "metadata": {},
   "outputs": [
    {
     "data": {
      "text/plain": [
       "nan"
      ]
     },
     "execution_count": 96,
     "metadata": {},
     "output_type": "execute_result"
    }
   ],
   "source": [
    "#T-test for domestic market for summer\n",
    "stat, pval = st.ttest_ind(domSummer, movieGrossJoinBudgets['domestic_gross_x'].mean(), equal_var = False)\n",
    "pval/2"
   ]
  },
  {
   "cell_type": "markdown",
   "metadata": {},
   "source": [
    "#  Decision"
   ]
  },
  {
   "cell_type": "markdown",
   "metadata": {},
   "source": [
    "Since pvalue both pvalue for foreign and domestic gross are less than an alpha = .02 we reject the null.  \n",
    "Stating that we are 98% sure that movies released in the Summer will result in larger gross profits."
   ]
  },
  {
   "cell_type": "markdown",
   "metadata": {},
   "source": [
    "## ANOVA Test\n",
    "\n",
    "<span style=\"color: red;\">TODO</span>  \n",
    "Explain test\n",
    "Establish H0/HA and alpha = 0.02"
   ]
  },
  {
   "cell_type": "code",
   "execution_count": 97,
   "metadata": {},
   "outputs": [
    {
     "data": {
      "text/html": [
       "<div>\n",
       "<style scoped>\n",
       "    .dataframe tbody tr th:only-of-type {\n",
       "        vertical-align: middle;\n",
       "    }\n",
       "\n",
       "    .dataframe tbody tr th {\n",
       "        vertical-align: top;\n",
       "    }\n",
       "\n",
       "    .dataframe thead th {\n",
       "        text-align: right;\n",
       "    }\n",
       "</style>\n",
       "<table border=\"1\" class=\"dataframe\">\n",
       "  <thead>\n",
       "    <tr style=\"text-align: right;\">\n",
       "      <th></th>\n",
       "      <th>sum_sq</th>\n",
       "      <th>df</th>\n",
       "      <th>F</th>\n",
       "      <th>PR(&gt;F)</th>\n",
       "    </tr>\n",
       "  </thead>\n",
       "  <tbody>\n",
       "    <tr>\n",
       "      <th>C(Season)</th>\n",
       "      <td>2.427040e+17</td>\n",
       "      <td>3.0</td>\n",
       "      <td>3.382495</td>\n",
       "      <td>0.017637</td>\n",
       "    </tr>\n",
       "    <tr>\n",
       "      <th>Residual</th>\n",
       "      <td>3.116469e+19</td>\n",
       "      <td>1303.0</td>\n",
       "      <td>NaN</td>\n",
       "      <td>NaN</td>\n",
       "    </tr>\n",
       "  </tbody>\n",
       "</table>\n",
       "</div>"
      ],
      "text/plain": [
       "                 sum_sq      df         F    PR(>F)\n",
       "C(Season)  2.427040e+17     3.0  3.382495  0.017637\n",
       "Residual   3.116469e+19  1303.0       NaN       NaN"
      ]
     },
     "execution_count": 97,
     "metadata": {},
     "output_type": "execute_result"
    }
   ],
   "source": [
    "import statsmodels.api as sm\n",
    "from statsmodels.formula.api import ols\n",
    "\n",
    "model = ols('foreign_gross ~ C(Season)', data=movieGrossJoinBudgets).fit()\n",
    "anova_table = sm.stats.anova_lm(model, typ=2)\n",
    "anova_table"
   ]
  },
  {
   "cell_type": "code",
   "execution_count": 98,
   "metadata": {},
   "outputs": [
    {
     "data": {
      "text/html": [
       "<div>\n",
       "<style scoped>\n",
       "    .dataframe tbody tr th:only-of-type {\n",
       "        vertical-align: middle;\n",
       "    }\n",
       "\n",
       "    .dataframe tbody tr th {\n",
       "        vertical-align: top;\n",
       "    }\n",
       "\n",
       "    .dataframe thead th {\n",
       "        text-align: right;\n",
       "    }\n",
       "</style>\n",
       "<table border=\"1\" class=\"dataframe\">\n",
       "  <thead>\n",
       "    <tr style=\"text-align: right;\">\n",
       "      <th></th>\n",
       "      <th>sum_sq</th>\n",
       "      <th>df</th>\n",
       "      <th>F</th>\n",
       "      <th>PR(&gt;F)</th>\n",
       "    </tr>\n",
       "  </thead>\n",
       "  <tbody>\n",
       "    <tr>\n",
       "      <th>C(Season)</th>\n",
       "      <td>1.279204e+17</td>\n",
       "      <td>3.0</td>\n",
       "      <td>5.427947</td>\n",
       "      <td>0.001037</td>\n",
       "    </tr>\n",
       "    <tr>\n",
       "      <th>Residual</th>\n",
       "      <td>1.023593e+19</td>\n",
       "      <td>1303.0</td>\n",
       "      <td>NaN</td>\n",
       "      <td>NaN</td>\n",
       "    </tr>\n",
       "  </tbody>\n",
       "</table>\n",
       "</div>"
      ],
      "text/plain": [
       "                 sum_sq      df         F    PR(>F)\n",
       "C(Season)  1.279204e+17     3.0  5.427947  0.001037\n",
       "Residual   1.023593e+19  1303.0       NaN       NaN"
      ]
     },
     "execution_count": 98,
     "metadata": {},
     "output_type": "execute_result"
    }
   ],
   "source": [
    "model = ols('domestic_gross_x ~ C(Season)', data=movieGrossJoinBudgets).fit()\n",
    "anova_table = sm.stats.anova_lm(model, typ=2)\n",
    "anova_table"
   ]
  },
  {
   "cell_type": "markdown",
   "metadata": {},
   "source": [
    "We conclude that there is a statistical difference between at least one pair of seasons. "
   ]
  },
  {
   "cell_type": "markdown",
   "metadata": {},
   "source": [
    "We will test summer against each season to see if it performs significantly better than each."
   ]
  },
  {
   "cell_type": "markdown",
   "metadata": {},
   "source": [
    "<span style=\"color: red\">TODO</span>  \n",
    "Show all of below in one table"
   ]
  },
  {
   "cell_type": "code",
   "execution_count": 99,
   "metadata": {},
   "outputs": [
    {
     "data": {
      "text/plain": [
       "2.1869211270872725e-05"
      ]
     },
     "execution_count": 99,
     "metadata": {},
     "output_type": "execute_result"
    }
   ],
   "source": [
    "#summer vs spring: for\n",
    "stat, pval = st.ttest_ind(forSummer,forSpring,equal_var = False)\n",
    "pval/2"
   ]
  },
  {
   "cell_type": "code",
   "execution_count": 100,
   "metadata": {},
   "outputs": [
    {
     "data": {
      "text/plain": [
       "2.4614528754853014e-05"
      ]
     },
     "execution_count": 100,
     "metadata": {},
     "output_type": "execute_result"
    }
   ],
   "source": [
    "#summer vs fall: for\n",
    "stat, pval =st.ttest_ind(forSummer,forFall,equal_var = False)\n",
    "pval/2"
   ]
  },
  {
   "cell_type": "code",
   "execution_count": 101,
   "metadata": {},
   "outputs": [
    {
     "data": {
      "text/plain": [
       "1.256499056325375e-05"
      ]
     },
     "execution_count": 101,
     "metadata": {},
     "output_type": "execute_result"
    }
   ],
   "source": [
    "#summer vs winter: for\n",
    "stat, pval =st.ttest_ind(forSummer,forWinter,equal_var = False)\n",
    "pval/2"
   ]
  },
  {
   "cell_type": "code",
   "execution_count": 102,
   "metadata": {},
   "outputs": [
    {
     "data": {
      "text/plain": [
       "0.015404473777821429"
      ]
     },
     "execution_count": 102,
     "metadata": {},
     "output_type": "execute_result"
    }
   ],
   "source": [
    "#summer vs spring: Dom\n",
    "stat, pval =st.ttest_ind(domSummer,domSpring,equal_var = False)\n",
    "pval/2"
   ]
  },
  {
   "cell_type": "code",
   "execution_count": 103,
   "metadata": {},
   "outputs": [
    {
     "data": {
      "text/plain": [
       "0.2216923676198902"
      ]
     },
     "execution_count": 103,
     "metadata": {},
     "output_type": "execute_result"
    }
   ],
   "source": [
    "#summer vs fall: dome\n",
    "stat, pval =st.ttest_ind(domSummer,domFall,equal_var= False)\n",
    "pval/2"
   ]
  },
  {
   "cell_type": "code",
   "execution_count": 104,
   "metadata": {},
   "outputs": [
    {
     "data": {
      "text/plain": [
       "0.008295581757871684"
      ]
     },
     "execution_count": 104,
     "metadata": {},
     "output_type": "execute_result"
    }
   ],
   "source": [
    "#summer vs winter: dom\n",
    "stat, pval =st.ttest_ind(domSummer,domWinter,equal_var = False)\n",
    "pval/2"
   ]
  },
  {
   "cell_type": "markdown",
   "metadata": {},
   "source": [
    "<span style=\"color: red;\">TODO</span>  \n",
    "Rephrase since using one-tailed tests\n",
    "\n",
    "Given alpha=0.02:\n",
    "* We found a significant difference between summer and all other seasons for the domestic market.\n",
    "* We found a significant difference between summer with fall and winter for the foreign market.\n",
    "* We did not find a significant difference between summer and spring in the foreign market."
   ]
  },
  {
   "cell_type": "markdown",
   "metadata": {},
   "source": [
    "<span style='color: red'>TODO</span>  \n",
    "Alex W.:  \n",
    "Add conclusion  \n",
    "Make explicit business suggestions and actionable insights"
   ]
  }
 ],
 "metadata": {
  "kernelspec": {
   "display_name": "Python 3",
   "language": "python",
   "name": "python3"
  },
  "language_info": {
   "codemirror_mode": {
    "name": "ipython",
    "version": 3
   },
   "file_extension": ".py",
   "mimetype": "text/x-python",
   "name": "python",
   "nbconvert_exporter": "python",
   "pygments_lexer": "ipython3",
   "version": "3.8.5"
  }
 },
 "nbformat": 4,
 "nbformat_minor": 4
}
