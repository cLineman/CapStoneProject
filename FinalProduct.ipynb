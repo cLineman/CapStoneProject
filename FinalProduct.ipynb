{
 "cells": [
  {
   "cell_type": "markdown",
   "metadata": {},
   "source": [
    "<span style=\"color: red;\">NOTE:  \n",
    "    Sections marked TODO should be completed before final submission.  \n",
    "    Delete this section when finished.</span>"
   ]
  },
  {
   "cell_type": "markdown",
   "metadata": {},
   "source": [
    "# AI Academy Semester 1 Capstone"
   ]
  },
  {
   "cell_type": "markdown",
   "metadata": {},
   "source": [
    "Last Updated: 2022-07-29  \n",
    "Collaborators: A. Donahue, C. Lineman, N. Netznik, T.V. Nguyen, A. White"
   ]
  },
  {
   "cell_type": "markdown",
   "metadata": {},
   "source": [
    "# <span style=\"color: blue;\">Background</span>\n",
    "\n",
    "<span style='color: red'>TODO</span>  \n",
    "More specifically point out stakeholders (head of CV)\n",
    "\n",
    "### Business Case\n",
    "\n",
    "Original video content is a growing field into which many big businesses are investing. The client, Computing Vision, would like to begin creating their own original videos, so they are creating a new movie studio. They are seeking assistance in understanding the current trends in films, specifically which kinds movies are currently doing the best at the box office. They will use these insights to drive their own choices in movie creation.\n",
    "\n",
    "### Scope\n",
    "\n",
    "This study will use a variety of historic data on recent movie performance to illuminate trends in profitability and to develop actionable insights for the head of Computing Vision's new movie studio. We will limit data to the range of 2010-present (where available) to ensure that insights are still valid.\n",
    "\n",
    "### Purpose\n",
    "\n",
    "The results of this study will provide statistical support for at least three actionable insights that Computing Vision can use to **maximize profits and performance** from their new movie studio."
   ]
  },
  {
   "cell_type": "markdown",
   "metadata": {},
   "source": [
    "# <span style=\"color: blue;\">Importing and Processing Data Sources</span>"
   ]
  },
  {
   "cell_type": "code",
   "execution_count": 1,
   "metadata": {},
   "outputs": [],
   "source": [
    "import pandas as pd\n",
    "import numpy as np\n",
    "import matplotlib.pyplot as plt\n",
    "import seaborn as sns\n",
    "import sqlite3\n",
    "import zipfile\n",
    "import scipy.stats as st\n",
    "import math"
   ]
  },
  {
   "cell_type": "markdown",
   "metadata": {},
   "source": [
    "<span style='color: red'>TODO</span>  \n",
    "Alex W.: Import and suppress warnings"
   ]
  },
  {
   "cell_type": "code",
   "execution_count": 2,
   "metadata": {},
   "outputs": [
    {
     "name": "stdout",
     "output_type": "stream",
     "text": [
      "Extracted all\n"
     ]
    }
   ],
   "source": [
    "#read data\n",
    "movie_gross = pd.read_csv('zippedData/bom.movie_gross.csv.gz')\n",
    "movie_info = pd.read_csv('zippedData/rt.movie_info.tsv.gz', sep='\\t')\n",
    "reviews = pd.read_csv('zippedData/rt.reviews.tsv.gz', sep='\\t', encoding='ANSI')\n",
    "movies = pd.read_csv('zippedData/tmdb.movies.csv.gz')\n",
    "movie_budgets = pd.read_csv('zippedData/tn.movie_budgets.csv.gz')\n",
    "\n",
    "zip_file = \"zippedData/im.db.zip\"\n",
    "try:\n",
    "    with zipfile.ZipFile(zip_file, 'r') as z:\n",
    "        z.extractall(\"zippedData/unZipped/\")\n",
    "        print(\"Extracted all\")\n",
    "except:\n",
    "    print(\"Invalid file\")\n",
    "\n",
    "conn = sqlite3.connect(\"zippedData/unZipped/im.db\")"
   ]
  },
  {
   "cell_type": "markdown",
   "metadata": {},
   "source": [
    "### Data Sources\n",
    "\n",
    "Our team has thoroughly reviewed 5 different sources of data in which we were able to pull detailed insights that will help lead Computing Vision to success in the movie creation realm. "
   ]
  },
  {
   "cell_type": "markdown",
   "metadata": {},
   "source": [
    "#### Sources\n",
    "\n",
    "* Box Office Mojo(https://www.boxofficemojo.com/)\n",
    "* IMDB (https://www.imdb.com/)\n",
    "* Rotten Tomatoes (https://www.rottentomatoes.com/)\n",
    "* TheMovieDB (https://www.themoviedb.org/)\n",
    "* The Numbers (https://www.the-numbers.com/)"
   ]
  },
  {
   "cell_type": "markdown",
   "metadata": {},
   "source": [
    "#### Box Office Mojo"
   ]
  },
  {
   "cell_type": "markdown",
   "metadata": {},
   "source": [
    "Our team imported Data from Box Office Mojo as we found that it to be a credible resource that provided with a large amount of data and information regarding movie gross values. We successfully pulled and sized the data to present us with a data frame of 3387 movies including the movie title, the studio of production, the domestic and foreign gross values of each movie, and the year the movie was released as well. \n",
    "\n"
   ]
  },
  {
   "cell_type": "markdown",
   "metadata": {},
   "source": [
    "#### IMDB"
   ]
  },
  {
   "cell_type": "markdown",
   "metadata": {},
   "source": [
    "Internet Movie Database (IMDb) is considered the largest and most comprehensive movie databases. This database provides information related to films, television series, home videos, video games, and streaming content. Our team found this source to be a valuable as it allowed us to view a large depository of movies specific information. This source allowed us to pull a wide arrange of data and source into different tables that includes information on movie personal, principals, directors, writer, rating, basics, etc."
   ]
  },
  {
   "cell_type": "markdown",
   "metadata": {},
   "source": [
    "#### Rotten Tomatoes "
   ]
  },
  {
   "cell_type": "markdown",
   "metadata": {},
   "source": [
    "Rotten Tomatoes is a review aggregation website for film and television. Rotten Tomatoes is one of the most trusted recommendations recourses for quality of entertainment. Rotten tomatoes specify in reviews from critics and provides a comprehensive guide on ratings for movies. We were able to use this source to specify the relation of Rotten Tomatoes rating and movies success. As well link these rating to several different aspects in which we give insights on throughout the analysis. This source was able to provide was with multiple different data frames in which our team use primarily in two which include data on Movie reviews and Movie specific information.  Regarding movie information we were successfully able to pull data on 1560 movies with details regarding synopsis, MPA Rating (PG, PG13, R, etc.), genre, director, writer, Theater date, DVD release date, currency, Box office sales, movie runtime, and production studio.  \n",
    "\n",
    "As well with the use of Rotten tomatoes source we were able to import a data frame allowing us to view details on movie reviews. We were able to import 54432 data points that gave us compressive information regarding movie ID, distinct reviews, review rating, fresh/rotten specification, critic of the review, the top critic, publisher, and date of review. We must note that this data frame provided was with multiple reviews from different critics through different publishers on different dates for the movies. \n"
   ]
  },
  {
   "cell_type": "markdown",
   "metadata": {},
   "source": [
    "#### The MovieDB "
   ]
  },
  {
   "cell_type": "markdown",
   "metadata": {},
   "source": [
    "The Movie Database (TMDB) is a community-built movie and TV database. This data base was able to provide us insights on individual movie specifics and there rating.  We were able to successfully import 26517 movies with information regarding genre, language, title, popularity, release date, vote average and vote count regarding movie rating. "
   ]
  },
  {
   "cell_type": "markdown",
   "metadata": {},
   "source": [
    "#### The Numbers"
   ]
  },
  {
   "cell_type": "markdown",
   "metadata": {},
   "source": [
    "The Numbers is a film industry data website that tracks box office revenue.  We primarily used this source to generate a data frame that provided information regarding movie budgets. Digging deeper we were able to pull information for 5782 movies with details on Release date, Movie title, production budget, domestic gross, and worldwide gross. Our team found this provided data to valuable in regards of generating profit percentage and movie success throughout our overall analysis. "
   ]
  },
  {
   "cell_type": "markdown",
   "metadata": {},
   "source": [
    "#### Limitations  "
   ]
  },
  {
   "cell_type": "markdown",
   "metadata": {},
   "source": [
    "We must also note that our team did run into some limitations when it came to connecting and merging data frames due to differentiation in primary keys. Our team found that the best fit primary key to over come this issue was merging and connecting through movie titles. \n",
    "\n",
    "The specific limitation with the use of titles is that they could potentially be less consistent than numeric identifiers."
   ]
  },
  {
   "cell_type": "markdown",
   "metadata": {},
   "source": [
    "# <span style=\"color: blue;\">Data Preparation</span>"
   ]
  },
  {
   "cell_type": "markdown",
   "metadata": {},
   "source": [
    "## Movie Gross"
   ]
  },
  {
   "cell_type": "code",
   "execution_count": 175,
   "metadata": {},
   "outputs": [
    {
     "data": {
      "text/html": [
       "<div>\n",
       "<style scoped>\n",
       "    .dataframe tbody tr th:only-of-type {\n",
       "        vertical-align: middle;\n",
       "    }\n",
       "\n",
       "    .dataframe tbody tr th {\n",
       "        vertical-align: top;\n",
       "    }\n",
       "\n",
       "    .dataframe thead th {\n",
       "        text-align: right;\n",
       "    }\n",
       "</style>\n",
       "<table border=\"1\" class=\"dataframe\">\n",
       "  <thead>\n",
       "    <tr style=\"text-align: right;\">\n",
       "      <th></th>\n",
       "      <th>title</th>\n",
       "      <th>studio</th>\n",
       "      <th>domestic_gross</th>\n",
       "      <th>foreign_gross</th>\n",
       "      <th>year</th>\n",
       "    </tr>\n",
       "  </thead>\n",
       "  <tbody>\n",
       "    <tr>\n",
       "      <th>0</th>\n",
       "      <td>Toy Story 3</td>\n",
       "      <td>BV</td>\n",
       "      <td>415000000.0</td>\n",
       "      <td>652000000</td>\n",
       "      <td>2010</td>\n",
       "    </tr>\n",
       "    <tr>\n",
       "      <th>1</th>\n",
       "      <td>Alice in Wonderland (2010)</td>\n",
       "      <td>BV</td>\n",
       "      <td>334200000.0</td>\n",
       "      <td>691300000</td>\n",
       "      <td>2010</td>\n",
       "    </tr>\n",
       "    <tr>\n",
       "      <th>2</th>\n",
       "      <td>Harry Potter and the Deathly Hallows Part 1</td>\n",
       "      <td>WB</td>\n",
       "      <td>296000000.0</td>\n",
       "      <td>664300000</td>\n",
       "      <td>2010</td>\n",
       "    </tr>\n",
       "    <tr>\n",
       "      <th>3</th>\n",
       "      <td>Inception</td>\n",
       "      <td>WB</td>\n",
       "      <td>292600000.0</td>\n",
       "      <td>535700000</td>\n",
       "      <td>2010</td>\n",
       "    </tr>\n",
       "    <tr>\n",
       "      <th>4</th>\n",
       "      <td>Shrek Forever After</td>\n",
       "      <td>P/DW</td>\n",
       "      <td>238700000.0</td>\n",
       "      <td>513900000</td>\n",
       "      <td>2010</td>\n",
       "    </tr>\n",
       "  </tbody>\n",
       "</table>\n",
       "</div>"
      ],
      "text/plain": [
       "                                         title studio  domestic_gross  \\\n",
       "0                                  Toy Story 3     BV     415000000.0   \n",
       "1                   Alice in Wonderland (2010)     BV     334200000.0   \n",
       "2  Harry Potter and the Deathly Hallows Part 1     WB     296000000.0   \n",
       "3                                    Inception     WB     292600000.0   \n",
       "4                          Shrek Forever After   P/DW     238700000.0   \n",
       "\n",
       "  foreign_gross  year  \n",
       "0     652000000  2010  \n",
       "1     691300000  2010  \n",
       "2     664300000  2010  \n",
       "3     535700000  2010  \n",
       "4     513900000  2010  "
      ]
     },
     "execution_count": 175,
     "metadata": {},
     "output_type": "execute_result"
    }
   ],
   "source": [
    "movie_gross.head()"
   ]
  },
  {
   "cell_type": "code",
   "execution_count": 176,
   "metadata": {},
   "outputs": [
    {
     "name": "stdout",
     "output_type": "stream",
     "text": [
      "<class 'pandas.core.frame.DataFrame'>\n",
      "RangeIndex: 3387 entries, 0 to 3386\n",
      "Data columns (total 5 columns):\n",
      " #   Column          Non-Null Count  Dtype  \n",
      "---  ------          --------------  -----  \n",
      " 0   title           3387 non-null   object \n",
      " 1   studio          3382 non-null   object \n",
      " 2   domestic_gross  3359 non-null   float64\n",
      " 3   foreign_gross   2037 non-null   object \n",
      " 4   year            3387 non-null   int64  \n",
      "dtypes: float64(1), int64(1), object(3)\n",
      "memory usage: 132.4+ KB\n"
     ]
    }
   ],
   "source": [
    "movie_gross.info()"
   ]
  },
  {
   "cell_type": "markdown",
   "metadata": {},
   "source": [
    "Here we will be converting numeric strings to floats. "
   ]
  },
  {
   "cell_type": "code",
   "execution_count": 177,
   "metadata": {},
   "outputs": [],
   "source": [
    "# Turn foreign gross to an int\n",
    "movie_gross['foreign_gross'] = movie_gross['foreign_gross'].str.replace(',','')\n",
    "movie_gross['foreign_gross'] = movie_gross[\"foreign_gross\"].astype(\"float64\")"
   ]
  },
  {
   "cell_type": "markdown",
   "metadata": {},
   "source": [
    "## Movie Info"
   ]
  },
  {
   "cell_type": "code",
   "execution_count": 178,
   "metadata": {},
   "outputs": [
    {
     "data": {
      "text/html": [
       "<div>\n",
       "<style scoped>\n",
       "    .dataframe tbody tr th:only-of-type {\n",
       "        vertical-align: middle;\n",
       "    }\n",
       "\n",
       "    .dataframe tbody tr th {\n",
       "        vertical-align: top;\n",
       "    }\n",
       "\n",
       "    .dataframe thead th {\n",
       "        text-align: right;\n",
       "    }\n",
       "</style>\n",
       "<table border=\"1\" class=\"dataframe\">\n",
       "  <thead>\n",
       "    <tr style=\"text-align: right;\">\n",
       "      <th></th>\n",
       "      <th>id</th>\n",
       "      <th>synopsis</th>\n",
       "      <th>rating</th>\n",
       "      <th>genre</th>\n",
       "      <th>director</th>\n",
       "      <th>writer</th>\n",
       "      <th>theater_date</th>\n",
       "      <th>dvd_date</th>\n",
       "      <th>currency</th>\n",
       "      <th>box_office</th>\n",
       "      <th>runtime</th>\n",
       "      <th>studio</th>\n",
       "    </tr>\n",
       "  </thead>\n",
       "  <tbody>\n",
       "    <tr>\n",
       "      <th>0</th>\n",
       "      <td>1</td>\n",
       "      <td>This gritty, fast-paced, and innovative police...</td>\n",
       "      <td>R</td>\n",
       "      <td>Action and Adventure|Classics|Drama</td>\n",
       "      <td>William Friedkin</td>\n",
       "      <td>Ernest Tidyman</td>\n",
       "      <td>Oct 9, 1971</td>\n",
       "      <td>Sep 25, 2001</td>\n",
       "      <td>NaN</td>\n",
       "      <td>NaN</td>\n",
       "      <td>104 minutes</td>\n",
       "      <td>NaN</td>\n",
       "    </tr>\n",
       "    <tr>\n",
       "      <th>1</th>\n",
       "      <td>3</td>\n",
       "      <td>New York City, not-too-distant-future: Eric Pa...</td>\n",
       "      <td>R</td>\n",
       "      <td>Drama|Science Fiction and Fantasy</td>\n",
       "      <td>David Cronenberg</td>\n",
       "      <td>David Cronenberg|Don DeLillo</td>\n",
       "      <td>Aug 17, 2012</td>\n",
       "      <td>Jan 1, 2013</td>\n",
       "      <td>$</td>\n",
       "      <td>600,000</td>\n",
       "      <td>108 minutes</td>\n",
       "      <td>Entertainment One</td>\n",
       "    </tr>\n",
       "    <tr>\n",
       "      <th>2</th>\n",
       "      <td>5</td>\n",
       "      <td>Illeana Douglas delivers a superb performance ...</td>\n",
       "      <td>R</td>\n",
       "      <td>Drama|Musical and Performing Arts</td>\n",
       "      <td>Allison Anders</td>\n",
       "      <td>Allison Anders</td>\n",
       "      <td>Sep 13, 1996</td>\n",
       "      <td>Apr 18, 2000</td>\n",
       "      <td>NaN</td>\n",
       "      <td>NaN</td>\n",
       "      <td>116 minutes</td>\n",
       "      <td>NaN</td>\n",
       "    </tr>\n",
       "    <tr>\n",
       "      <th>3</th>\n",
       "      <td>6</td>\n",
       "      <td>Michael Douglas runs afoul of a treacherous su...</td>\n",
       "      <td>R</td>\n",
       "      <td>Drama|Mystery and Suspense</td>\n",
       "      <td>Barry Levinson</td>\n",
       "      <td>Paul Attanasio|Michael Crichton</td>\n",
       "      <td>Dec 9, 1994</td>\n",
       "      <td>Aug 27, 1997</td>\n",
       "      <td>NaN</td>\n",
       "      <td>NaN</td>\n",
       "      <td>128 minutes</td>\n",
       "      <td>NaN</td>\n",
       "    </tr>\n",
       "    <tr>\n",
       "      <th>4</th>\n",
       "      <td>7</td>\n",
       "      <td>NaN</td>\n",
       "      <td>NR</td>\n",
       "      <td>Drama|Romance</td>\n",
       "      <td>Rodney Bennett</td>\n",
       "      <td>Giles Cooper</td>\n",
       "      <td>NaN</td>\n",
       "      <td>NaN</td>\n",
       "      <td>NaN</td>\n",
       "      <td>NaN</td>\n",
       "      <td>200 minutes</td>\n",
       "      <td>NaN</td>\n",
       "    </tr>\n",
       "  </tbody>\n",
       "</table>\n",
       "</div>"
      ],
      "text/plain": [
       "   id                                           synopsis rating  \\\n",
       "0   1  This gritty, fast-paced, and innovative police...      R   \n",
       "1   3  New York City, not-too-distant-future: Eric Pa...      R   \n",
       "2   5  Illeana Douglas delivers a superb performance ...      R   \n",
       "3   6  Michael Douglas runs afoul of a treacherous su...      R   \n",
       "4   7                                                NaN     NR   \n",
       "\n",
       "                                 genre          director  \\\n",
       "0  Action and Adventure|Classics|Drama  William Friedkin   \n",
       "1    Drama|Science Fiction and Fantasy  David Cronenberg   \n",
       "2    Drama|Musical and Performing Arts    Allison Anders   \n",
       "3           Drama|Mystery and Suspense    Barry Levinson   \n",
       "4                        Drama|Romance    Rodney Bennett   \n",
       "\n",
       "                            writer  theater_date      dvd_date currency  \\\n",
       "0                   Ernest Tidyman   Oct 9, 1971  Sep 25, 2001      NaN   \n",
       "1     David Cronenberg|Don DeLillo  Aug 17, 2012   Jan 1, 2013        $   \n",
       "2                   Allison Anders  Sep 13, 1996  Apr 18, 2000      NaN   \n",
       "3  Paul Attanasio|Michael Crichton   Dec 9, 1994  Aug 27, 1997      NaN   \n",
       "4                     Giles Cooper           NaN           NaN      NaN   \n",
       "\n",
       "  box_office      runtime             studio  \n",
       "0        NaN  104 minutes                NaN  \n",
       "1    600,000  108 minutes  Entertainment One  \n",
       "2        NaN  116 minutes                NaN  \n",
       "3        NaN  128 minutes                NaN  \n",
       "4        NaN  200 minutes                NaN  "
      ]
     },
     "execution_count": 178,
     "metadata": {},
     "output_type": "execute_result"
    }
   ],
   "source": [
    "movie_info.head()"
   ]
  },
  {
   "cell_type": "code",
   "execution_count": 179,
   "metadata": {},
   "outputs": [
    {
     "name": "stdout",
     "output_type": "stream",
     "text": [
      "<class 'pandas.core.frame.DataFrame'>\n",
      "RangeIndex: 1560 entries, 0 to 1559\n",
      "Data columns (total 12 columns):\n",
      " #   Column        Non-Null Count  Dtype \n",
      "---  ------        --------------  ----- \n",
      " 0   id            1560 non-null   int64 \n",
      " 1   synopsis      1498 non-null   object\n",
      " 2   rating        1557 non-null   object\n",
      " 3   genre         1552 non-null   object\n",
      " 4   director      1361 non-null   object\n",
      " 5   writer        1111 non-null   object\n",
      " 6   theater_date  1201 non-null   object\n",
      " 7   dvd_date      1201 non-null   object\n",
      " 8   currency      340 non-null    object\n",
      " 9   box_office    340 non-null    object\n",
      " 10  runtime       1530 non-null   object\n",
      " 11  studio        494 non-null    object\n",
      "dtypes: int64(1), object(11)\n",
      "memory usage: 146.4+ KB\n"
     ]
    }
   ],
   "source": [
    "movie_info.info()"
   ]
  },
  {
   "cell_type": "markdown",
   "metadata": {},
   "source": [
    "Here again we observed that some numeric values were stored as strings. So we adjusted them apropriately to floats. \n",
    "As well adjusted curency to a boolean so that it will be easier to operate on in the future. "
   ]
  },
  {
   "cell_type": "code",
   "execution_count": 180,
   "metadata": {},
   "outputs": [],
   "source": [
    "# Turned run time into an integer\n",
    "movie_info['runtime'] = movie_info['runtime'].str.replace(' minutes','')\n",
    "movie_info['runtime']  = movie_info['runtime'].astype(\"float64\")\n",
    "\n",
    "# Turned box_offices into an interger\n",
    "movie_info['box_office'] = movie_info['box_office'].str.replace(',','')\n",
    "movie_info['box_office'] = movie_info['box_office'].astype(\"float64\")\n",
    "\n",
    "# Change currency to binary variable\n",
    "for i in movie_info['currency']:\n",
    "    if i is not None:\n",
    "        i = 1\n",
    "    else:\n",
    "        i = 0"
   ]
  },
  {
   "cell_type": "markdown",
   "metadata": {},
   "source": [
    "## Reviews"
   ]
  },
  {
   "cell_type": "code",
   "execution_count": 181,
   "metadata": {},
   "outputs": [
    {
     "data": {
      "text/html": [
       "<div>\n",
       "<style scoped>\n",
       "    .dataframe tbody tr th:only-of-type {\n",
       "        vertical-align: middle;\n",
       "    }\n",
       "\n",
       "    .dataframe tbody tr th {\n",
       "        vertical-align: top;\n",
       "    }\n",
       "\n",
       "    .dataframe thead th {\n",
       "        text-align: right;\n",
       "    }\n",
       "</style>\n",
       "<table border=\"1\" class=\"dataframe\">\n",
       "  <thead>\n",
       "    <tr style=\"text-align: right;\">\n",
       "      <th></th>\n",
       "      <th>id</th>\n",
       "      <th>review</th>\n",
       "      <th>rating</th>\n",
       "      <th>fresh</th>\n",
       "      <th>critic</th>\n",
       "      <th>top_critic</th>\n",
       "      <th>publisher</th>\n",
       "      <th>date</th>\n",
       "    </tr>\n",
       "  </thead>\n",
       "  <tbody>\n",
       "    <tr>\n",
       "      <th>0</th>\n",
       "      <td>3</td>\n",
       "      <td>A distinctly gallows take on contemporary fina...</td>\n",
       "      <td>3/5</td>\n",
       "      <td>fresh</td>\n",
       "      <td>PJ Nabarro</td>\n",
       "      <td>0</td>\n",
       "      <td>Patrick Nabarro</td>\n",
       "      <td>November 10, 2018</td>\n",
       "    </tr>\n",
       "    <tr>\n",
       "      <th>1</th>\n",
       "      <td>3</td>\n",
       "      <td>It's an allegory in search of a meaning that n...</td>\n",
       "      <td>NaN</td>\n",
       "      <td>rotten</td>\n",
       "      <td>Annalee Newitz</td>\n",
       "      <td>0</td>\n",
       "      <td>io9.com</td>\n",
       "      <td>May 23, 2018</td>\n",
       "    </tr>\n",
       "    <tr>\n",
       "      <th>2</th>\n",
       "      <td>3</td>\n",
       "      <td>... life lived in a bubble in financial dealin...</td>\n",
       "      <td>NaN</td>\n",
       "      <td>fresh</td>\n",
       "      <td>Sean Axmaker</td>\n",
       "      <td>0</td>\n",
       "      <td>Stream on Demand</td>\n",
       "      <td>January 4, 2018</td>\n",
       "    </tr>\n",
       "    <tr>\n",
       "      <th>3</th>\n",
       "      <td>3</td>\n",
       "      <td>Continuing along a line introduced in last yea...</td>\n",
       "      <td>NaN</td>\n",
       "      <td>fresh</td>\n",
       "      <td>Daniel Kasman</td>\n",
       "      <td>0</td>\n",
       "      <td>MUBI</td>\n",
       "      <td>November 16, 2017</td>\n",
       "    </tr>\n",
       "    <tr>\n",
       "      <th>4</th>\n",
       "      <td>3</td>\n",
       "      <td>... a perverse twist on neorealism...</td>\n",
       "      <td>NaN</td>\n",
       "      <td>fresh</td>\n",
       "      <td>NaN</td>\n",
       "      <td>0</td>\n",
       "      <td>Cinema Scope</td>\n",
       "      <td>October 12, 2017</td>\n",
       "    </tr>\n",
       "  </tbody>\n",
       "</table>\n",
       "</div>"
      ],
      "text/plain": [
       "   id                                             review rating   fresh  \\\n",
       "0   3  A distinctly gallows take on contemporary fina...    3/5   fresh   \n",
       "1   3  It's an allegory in search of a meaning that n...    NaN  rotten   \n",
       "2   3  ... life lived in a bubble in financial dealin...    NaN   fresh   \n",
       "3   3  Continuing along a line introduced in last yea...    NaN   fresh   \n",
       "4   3             ... a perverse twist on neorealism...     NaN   fresh   \n",
       "\n",
       "           critic  top_critic         publisher               date  \n",
       "0      PJ Nabarro           0   Patrick Nabarro  November 10, 2018  \n",
       "1  Annalee Newitz           0           io9.com       May 23, 2018  \n",
       "2    Sean Axmaker           0  Stream on Demand    January 4, 2018  \n",
       "3   Daniel Kasman           0              MUBI  November 16, 2017  \n",
       "4             NaN           0      Cinema Scope   October 12, 2017  "
      ]
     },
     "execution_count": 181,
     "metadata": {},
     "output_type": "execute_result"
    }
   ],
   "source": [
    "reviews.head()"
   ]
  },
  {
   "cell_type": "code",
   "execution_count": 182,
   "metadata": {},
   "outputs": [
    {
     "name": "stdout",
     "output_type": "stream",
     "text": [
      "<class 'pandas.core.frame.DataFrame'>\n",
      "RangeIndex: 54432 entries, 0 to 54431\n",
      "Data columns (total 8 columns):\n",
      " #   Column      Non-Null Count  Dtype \n",
      "---  ------      --------------  ----- \n",
      " 0   id          54432 non-null  int64 \n",
      " 1   review      48869 non-null  object\n",
      " 2   rating      40915 non-null  object\n",
      " 3   fresh       54432 non-null  object\n",
      " 4   critic      51710 non-null  object\n",
      " 5   top_critic  54432 non-null  int64 \n",
      " 6   publisher   54123 non-null  object\n",
      " 7   date        54432 non-null  object\n",
      "dtypes: int64(2), object(6)\n",
      "memory usage: 3.3+ MB\n"
     ]
    }
   ],
   "source": [
    "reviews.info()"
   ]
  },
  {
   "cell_type": "code",
   "execution_count": 183,
   "metadata": {},
   "outputs": [],
   "source": [
    "# Update 'fresh'/'rotten' in reviews to boolean variable\n",
    "reviews['fresh'] = reviews['fresh'].str.replace('fresh','1')\n",
    "reviews['fresh'] = reviews['fresh'].str.replace('rotten','0')\n",
    "reviews['fresh']  = reviews['fresh'].astype(\"float64\")\n",
    "\n",
    "reviews.drop_duplicates(inplace=True)"
   ]
  },
  {
   "cell_type": "markdown",
   "metadata": {},
   "source": [
    "A brief analysis reveals that ratings within the Rotten Tomatoes reviews database are very inconsistent. We seek to clean and reorganize these ratings to make them usable."
   ]
  },
  {
   "cell_type": "code",
   "execution_count": 184,
   "metadata": {},
   "outputs": [
    {
     "data": {
      "text/plain": [
       "array(['3/5', nan, 'C', '2/5', 'B-', '2/4', 'B', '3/4', '4/5', '4/4',\n",
       "       '6/10', '1/4', '8', '2.5/4', '4/10', '2.0/5', '3/10', '7/10', 'A-',\n",
       "       '5/5', 'F', '3.5/4', 'D+', '1.5/4', '3.5/5', '8/10', 'B+', '9/10',\n",
       "       '2.5/5', '7.5/10', '5.5/10', 'C-', '1.5/5', '1/5', '5/10', 'C+',\n",
       "       '0/5', '6', '0.5/4', 'D', '3.1/5', '3/6', '4.5/5', '0/4', '2/10',\n",
       "       'D-', '7', '1/10', '3', 'A+', 'A', '4.0/4', '9.5/10', '2.5',\n",
       "       '2.1/2', '6.5/10', '3.7/5', '8.4/10', '9', '1', '7.2/10', '2.2/5',\n",
       "       '0.5/10', '5', '0', '2', '4.5', '7.7', '5.0/5', '8.5/10', '3.0/5',\n",
       "       '0.5/5', '1.5/10', '3.0/4', '2.3/10', '4.5/10', '4/6', '3.5',\n",
       "       '8.6/10', '6/8', '2.0/4', '2.7', '4.2/10', '5.8', '4', '7.1/10',\n",
       "       '5/4', 'N', '3.5/10', '5.8/10', 'R', '4.0/5', '0/10', '5.0/10',\n",
       "       '5.9/10', '2.4/5', '1.9/5', '4.9', '7.4/10', '1.5', '2.3/4',\n",
       "       '8.8/10', '4.0/10', '2.2', '3.8/10', '6.8/10', '7.3', '7.0/10',\n",
       "       '3.2', '4.2', '8.4', '5.5/5', '6.3/10', '7.6/10', '8.1/10',\n",
       "       '3.6/5', '2/6', '7.7/10', '1.8', '8.9/10', '8.9', '8.2/10',\n",
       "       '8.3/10', '2.6/6', '4.1/10', '2.5/10', 'F+', '6.0/10', '1.0/4',\n",
       "       '7.9/10', '8.7/10', '4.3/10', '9.6/10', '9.0/10', '4.0', '1.7',\n",
       "       '7.9', '6.7', '8.0/10', '9.2/10', '5.2', '5.9', '3.7', '4.7',\n",
       "       '6.2/10', '1/6', '8.2', '2.6/5', '3.4', '9.7', '3.3/5', '3.8/5',\n",
       "       '1/2', '7.4', '4.8', '1.6/5', '2/2', '1-5', '1.0', '4.3/5', '5/6',\n",
       "       '9.2', '2.7/5', '4.9/10', '3.0', '3.1', '7.8/10', 'F-', '2.3/5',\n",
       "       '3.0/10', '3/2', '7.8', '4.2/5', '9.0', '7.3/10', '4.4/5',\n",
       "       '6.9/10', '0/6', 'T', '6.2', '3.3', '9.8', '8.5', '1.0/5', '4.1',\n",
       "       '7.1', '3 1/2'], dtype=object)"
      ]
     },
     "execution_count": 184,
     "metadata": {},
     "output_type": "execute_result"
    }
   ],
   "source": [
    "reviews['rating'].unique()"
   ]
  },
  {
   "cell_type": "markdown",
   "metadata": {},
   "source": [
    "We will make the following modifications to the ratings column:\n",
    "\n",
    "* We will be changing all letter \"grades\" to numerical scores out of 10, evenly distributed between 0 and 10.\n",
    "    * Note that F+ and F- will be grouped with F.\n",
    "* We will be replacing all NaN ratings, ratings out of 2, all ratings without an \"out-of\" denominator, and any other nonsensical ratings with '-1/1'. This will allow us to split all ratings by the '/' character before making further calculations in the future; upon performing these calculations we will go back and reset all '-1/1' values to NaN."
   ]
  },
  {
   "cell_type": "code",
   "execution_count": 185,
   "metadata": {},
   "outputs": [],
   "source": [
    "# Change letter ratings to numerical (out of 10)\n",
    "reviews['rating'].replace('F+', 'F', inplace=True)\n",
    "reviews['rating'].replace('F-', 'F', inplace=True)\n",
    "\n",
    "letter_ratings = ['A+','A','A-','B+','B','B-','C+','C','C-','D+','D','D-','F']\n",
    "nums = list(np.round(np.linspace(0,10, 13), 1))\n",
    "num_ratings = [f'{str(num)}/10' for num in nums]\n",
    "mapping = dict(zip(letter_ratings, num_ratings))\n",
    "\n",
    "for rating in letter_ratings:\n",
    "    reviews.replace(rating, mapping[rating], inplace=True)\n",
    "\n",
    "reviews['rating'].fillna('-1/1', inplace=True)\n",
    "    \n",
    "# Remove all ratings that do not contain '/'\n",
    "for rating in reviews['rating'].unique():\n",
    "    if \"/\" not in rating:\n",
    "        reviews['rating'].replace(rating, '-1/1', inplace=True)\n",
    "\n",
    "# Remove other nonsensical ratings\n",
    "reviews['rating'].replace('R', '-1/1', inplace=True)\n",
    "reviews['rating'].replace('N', '-1/1', inplace=True)\n",
    "reviews['rating'].replace('T', '-1/1', inplace=True)\n",
    "\n",
    "reviews['rating'].replace('1/2', '-1/1', inplace=True)\n",
    "reviews['rating'].replace('2/2', '-1/1', inplace=True)\n",
    "reviews['rating'].replace('3/2', '-1/1', inplace=True)\n",
    "reviews['rating'].replace('3 1/2', '-1/1', inplace=True)\n",
    "reviews['rating'].replace('1-5', '-1/1', inplace=True)\n",
    "reviews['rating'].replace('5/4', '-1/1', inplace=True)\n",
    "reviews['rating'].replace('2.1/2', '-1/1', inplace=True)\n",
    "reviews['rating'].replace('5.5/5', '-1/1', inplace=True)"
   ]
  },
  {
   "cell_type": "code",
   "execution_count": 186,
   "metadata": {},
   "outputs": [
    {
     "data": {
      "text/plain": [
       "array(['3/5', '-1/1', '5.8/10', '2/5', '4.2/10', '2/4', '3.3/10', '3/4',\n",
       "       '4/5', '4/4', '6/10', '1/4', '2.5/4', '4/10', '2.0/5', '3/10',\n",
       "       '7/10', '1.7/10', '5/5', '10.0/10', '3.5/4', '7.5/10', '1.5/4',\n",
       "       '3.5/5', '8/10', '2.5/10', '9/10', '2.5/5', '5.5/10', '6.7/10',\n",
       "       '1.5/5', '1/5', '5/10', '5.0/10', '0/5', '0.5/4', '8.3/10',\n",
       "       '3.1/5', '3/6', '4.5/5', '0/4', '2/10', '9.2/10', '1/10', '0.0/10',\n",
       "       '0.8/10', '4.0/4', '9.5/10', '6.5/10', '3.7/5', '8.4/10', '7.2/10',\n",
       "       '2.2/5', '0.5/10', '5.0/5', '8.5/10', '3.0/5', '0.5/5', '1.5/10',\n",
       "       '3.0/4', '2.3/10', '4.5/10', '4/6', '8.6/10', '6/8', '2.0/4',\n",
       "       '7.1/10', '3.5/10', '4.0/5', '0/10', '5.9/10', '2.4/5', '1.9/5',\n",
       "       '7.4/10', '2.3/4', '8.8/10', '4.0/10', '3.8/10', '6.8/10',\n",
       "       '7.0/10', '6.3/10', '7.6/10', '8.1/10', '3.6/5', '2/6', '7.7/10',\n",
       "       '8.9/10', '8.2/10', '2.6/6', '4.1/10', '6.0/10', '1.0/4', '7.9/10',\n",
       "       '8.7/10', '4.3/10', '9.6/10', '9.0/10', '8.0/10', '6.2/10', '1/6',\n",
       "       '2.6/5', '3.3/5', '3.8/5', '1.6/5', '4.3/5', '5/6', '2.7/5',\n",
       "       '4.9/10', '7.8/10', '2.3/5', '3.0/10', '4.2/5', '7.3/10', '4.4/5',\n",
       "       '6.9/10', '0/6', '1.0/5'], dtype=object)"
      ]
     },
     "execution_count": 186,
     "metadata": {},
     "output_type": "execute_result"
    }
   ],
   "source": [
    "reviews['rating'].unique()"
   ]
  },
  {
   "cell_type": "markdown",
   "metadata": {},
   "source": [
    "## Movie Budgets"
   ]
  },
  {
   "cell_type": "code",
   "execution_count": 187,
   "metadata": {},
   "outputs": [
    {
     "data": {
      "text/html": [
       "<div>\n",
       "<style scoped>\n",
       "    .dataframe tbody tr th:only-of-type {\n",
       "        vertical-align: middle;\n",
       "    }\n",
       "\n",
       "    .dataframe tbody tr th {\n",
       "        vertical-align: top;\n",
       "    }\n",
       "\n",
       "    .dataframe thead th {\n",
       "        text-align: right;\n",
       "    }\n",
       "</style>\n",
       "<table border=\"1\" class=\"dataframe\">\n",
       "  <thead>\n",
       "    <tr style=\"text-align: right;\">\n",
       "      <th></th>\n",
       "      <th>id</th>\n",
       "      <th>release_date</th>\n",
       "      <th>movie</th>\n",
       "      <th>production_budget</th>\n",
       "      <th>domestic_gross</th>\n",
       "      <th>worldwide_gross</th>\n",
       "    </tr>\n",
       "  </thead>\n",
       "  <tbody>\n",
       "    <tr>\n",
       "      <th>0</th>\n",
       "      <td>1</td>\n",
       "      <td>Dec 18, 2009</td>\n",
       "      <td>Avatar</td>\n",
       "      <td>$425,000,000</td>\n",
       "      <td>$760,507,625</td>\n",
       "      <td>$2,776,345,279</td>\n",
       "    </tr>\n",
       "    <tr>\n",
       "      <th>1</th>\n",
       "      <td>2</td>\n",
       "      <td>May 20, 2011</td>\n",
       "      <td>Pirates of the Caribbean: On Stranger Tides</td>\n",
       "      <td>$410,600,000</td>\n",
       "      <td>$241,063,875</td>\n",
       "      <td>$1,045,663,875</td>\n",
       "    </tr>\n",
       "    <tr>\n",
       "      <th>2</th>\n",
       "      <td>3</td>\n",
       "      <td>Jun 7, 2019</td>\n",
       "      <td>Dark Phoenix</td>\n",
       "      <td>$350,000,000</td>\n",
       "      <td>$42,762,350</td>\n",
       "      <td>$149,762,350</td>\n",
       "    </tr>\n",
       "    <tr>\n",
       "      <th>3</th>\n",
       "      <td>4</td>\n",
       "      <td>May 1, 2015</td>\n",
       "      <td>Avengers: Age of Ultron</td>\n",
       "      <td>$330,600,000</td>\n",
       "      <td>$459,005,868</td>\n",
       "      <td>$1,403,013,963</td>\n",
       "    </tr>\n",
       "    <tr>\n",
       "      <th>4</th>\n",
       "      <td>5</td>\n",
       "      <td>Dec 15, 2017</td>\n",
       "      <td>Star Wars Ep. VIII: The Last Jedi</td>\n",
       "      <td>$317,000,000</td>\n",
       "      <td>$620,181,382</td>\n",
       "      <td>$1,316,721,747</td>\n",
       "    </tr>\n",
       "  </tbody>\n",
       "</table>\n",
       "</div>"
      ],
      "text/plain": [
       "   id  release_date                                        movie  \\\n",
       "0   1  Dec 18, 2009                                       Avatar   \n",
       "1   2  May 20, 2011  Pirates of the Caribbean: On Stranger Tides   \n",
       "2   3   Jun 7, 2019                                 Dark Phoenix   \n",
       "3   4   May 1, 2015                      Avengers: Age of Ultron   \n",
       "4   5  Dec 15, 2017            Star Wars Ep. VIII: The Last Jedi   \n",
       "\n",
       "  production_budget domestic_gross worldwide_gross  \n",
       "0      $425,000,000   $760,507,625  $2,776,345,279  \n",
       "1      $410,600,000   $241,063,875  $1,045,663,875  \n",
       "2      $350,000,000    $42,762,350    $149,762,350  \n",
       "3      $330,600,000   $459,005,868  $1,403,013,963  \n",
       "4      $317,000,000   $620,181,382  $1,316,721,747  "
      ]
     },
     "execution_count": 187,
     "metadata": {},
     "output_type": "execute_result"
    }
   ],
   "source": [
    "movie_budgets.head()"
   ]
  },
  {
   "cell_type": "code",
   "execution_count": 188,
   "metadata": {},
   "outputs": [
    {
     "name": "stdout",
     "output_type": "stream",
     "text": [
      "<class 'pandas.core.frame.DataFrame'>\n",
      "RangeIndex: 5782 entries, 0 to 5781\n",
      "Data columns (total 6 columns):\n",
      " #   Column             Non-Null Count  Dtype \n",
      "---  ------             --------------  ----- \n",
      " 0   id                 5782 non-null   int64 \n",
      " 1   release_date       5782 non-null   object\n",
      " 2   movie              5782 non-null   object\n",
      " 3   production_budget  5782 non-null   object\n",
      " 4   domestic_gross     5782 non-null   object\n",
      " 5   worldwide_gross    5782 non-null   object\n",
      "dtypes: int64(1), object(5)\n",
      "memory usage: 271.2+ KB\n"
     ]
    }
   ],
   "source": [
    "movie_budgets.info()"
   ]
  },
  {
   "cell_type": "markdown",
   "metadata": {},
   "source": [
    "Like above we are again converting strings to floats."
   ]
  },
  {
   "cell_type": "code",
   "execution_count": 189,
   "metadata": {},
   "outputs": [],
   "source": [
    "# Remove unwanted symbols from string values and cast string values as floats\n",
    "\n",
    "movie_budgets['production_budget'] = movie_budgets['production_budget'].str.replace(',','')\n",
    "movie_budgets['production_budget'] = movie_budgets['production_budget'].str.replace('$', '')\n",
    "movie_budgets['production_budget'] = movie_budgets['production_budget'].astype(\"float64\")\n",
    "\n",
    "movie_budgets['domestic_gross'] = movie_budgets['domestic_gross'].str.replace(',','')\n",
    "movie_budgets['domestic_gross'] = movie_budgets['domestic_gross'].str.replace('$', '')\n",
    "movie_budgets['domestic_gross'] = movie_budgets['domestic_gross'].astype(\"float64\")\n",
    "\n",
    "movie_budgets['worldwide_gross'] = movie_budgets['worldwide_gross'].str.replace(',','')\n",
    "movie_budgets['worldwide_gross'] = movie_budgets['worldwide_gross'].str.replace('$', '')\n",
    "movie_budgets['worldwide_gross'] = movie_budgets['worldwide_gross'].astype(\"float64\")\n",
    "\n",
    "movie_budgets['release_date'] = pd.to_datetime(movie_budgets['release_date'])"
   ]
  },
  {
   "cell_type": "markdown",
   "metadata": {},
   "source": [
    "This will clean the movie titles to that they are uniform to every dataframe."
   ]
  },
  {
   "cell_type": "code",
   "execution_count": 190,
   "metadata": {},
   "outputs": [],
   "source": [
    "movie_budgets['movie'] = movie_budgets['movie'].str.replace(\"â€™\", \"'\")"
   ]
  },
  {
   "cell_type": "code",
   "execution_count": 191,
   "metadata": {},
   "outputs": [
    {
     "name": "stdout",
     "output_type": "stream",
     "text": [
      "<class 'pandas.core.frame.DataFrame'>\n",
      "RangeIndex: 5782 entries, 0 to 5781\n",
      "Data columns (total 6 columns):\n",
      " #   Column             Non-Null Count  Dtype         \n",
      "---  ------             --------------  -----         \n",
      " 0   id                 5782 non-null   int64         \n",
      " 1   release_date       5782 non-null   datetime64[ns]\n",
      " 2   movie              5782 non-null   object        \n",
      " 3   production_budget  5782 non-null   float64       \n",
      " 4   domestic_gross     5782 non-null   float64       \n",
      " 5   worldwide_gross    5782 non-null   float64       \n",
      "dtypes: datetime64[ns](1), float64(3), int64(1), object(1)\n",
      "memory usage: 271.2+ KB\n"
     ]
    }
   ],
   "source": [
    "movie_budgets.info()"
   ]
  },
  {
   "cell_type": "markdown",
   "metadata": {},
   "source": [
    "## Additional Cleaning\n",
    "\n",
    "Clean all titles to make them consistent over the various dataframes."
   ]
  },
  {
   "cell_type": "code",
   "execution_count": 192,
   "metadata": {},
   "outputs": [],
   "source": [
    "# Clean titles to make them consistent/comparable\n",
    "\n",
    "movie_gross['title'] = movie_gross['title'].str.strip().str.replace('[^\\w\\s]', '')\n",
    "movies['original_title'] = movies['original_title'].str.strip().str.replace('[^\\w\\s]', '')\n",
    "movie_budgets['movie'] = movie_budgets['movie'].str.replace(\"â€™\", \"'\") # replaces improperly encoded ' characters\n",
    "movie_budgets['movie'] = movie_budgets['movie'].str.strip().str.replace('[^\\w\\s]', '')\n",
    "\n",
    "movie_gross['title'] = movie_gross['title'].str.upper()\n",
    "movies['original_title'] = movies['original_title'].str.upper()\n",
    "movie_budgets['movie'] = movie_budgets['movie'].str.upper()\n"
   ]
  },
  {
   "cell_type": "markdown",
   "metadata": {},
   "source": [
    "# <span style=\"color: blue;\">Analysis of Selected Variables</span>"
   ]
  },
  {
   "cell_type": "markdown",
   "metadata": {},
   "source": [
    "## Budget vs. Profit Ratio\n",
    "\n",
    "<span style=\"color: red;\">TODO</span>  \n",
    "Add justification and explanation"
   ]
  },
  {
   "cell_type": "code",
   "execution_count": 193,
   "metadata": {},
   "outputs": [],
   "source": [
    "movie_budgets[\"profit\"] = movie_budgets['worldwide_gross'] - movie_budgets['production_budget']"
   ]
  },
  {
   "cell_type": "code",
   "execution_count": 194,
   "metadata": {},
   "outputs": [],
   "source": [
    "movie_budgets.rename(columns = {'movie' : 'title'}, inplace = True)\n",
    "# print(type(movie_gross))\n",
    "# print(type(movie_budgets))\n",
    "grossJoinBudget = pd.DataFrame.merge(movie_gross, movie_budgets, on = 'title')"
   ]
  },
  {
   "cell_type": "code",
   "execution_count": 195,
   "metadata": {},
   "outputs": [
    {
     "data": {
      "text/html": [
       "<div>\n",
       "<style scoped>\n",
       "    .dataframe tbody tr th:only-of-type {\n",
       "        vertical-align: middle;\n",
       "    }\n",
       "\n",
       "    .dataframe tbody tr th {\n",
       "        vertical-align: top;\n",
       "    }\n",
       "\n",
       "    .dataframe thead th {\n",
       "        text-align: right;\n",
       "    }\n",
       "</style>\n",
       "<table border=\"1\" class=\"dataframe\">\n",
       "  <thead>\n",
       "    <tr style=\"text-align: right;\">\n",
       "      <th></th>\n",
       "      <th>id</th>\n",
       "      <th>release_date</th>\n",
       "      <th>title</th>\n",
       "      <th>production_budget</th>\n",
       "      <th>domestic_gross</th>\n",
       "      <th>worldwide_gross</th>\n",
       "      <th>profit</th>\n",
       "    </tr>\n",
       "  </thead>\n",
       "  <tbody>\n",
       "    <tr>\n",
       "      <th>0</th>\n",
       "      <td>1</td>\n",
       "      <td>2009-12-18</td>\n",
       "      <td>AVATAR</td>\n",
       "      <td>425000000.0</td>\n",
       "      <td>760507625.0</td>\n",
       "      <td>2.776345e+09</td>\n",
       "      <td>2.351345e+09</td>\n",
       "    </tr>\n",
       "    <tr>\n",
       "      <th>42</th>\n",
       "      <td>43</td>\n",
       "      <td>1997-12-19</td>\n",
       "      <td>TITANIC</td>\n",
       "      <td>200000000.0</td>\n",
       "      <td>659363944.0</td>\n",
       "      <td>2.208208e+09</td>\n",
       "      <td>2.008208e+09</td>\n",
       "    </tr>\n",
       "    <tr>\n",
       "      <th>6</th>\n",
       "      <td>7</td>\n",
       "      <td>2018-04-27</td>\n",
       "      <td>AVENGERS INFINITY WAR</td>\n",
       "      <td>300000000.0</td>\n",
       "      <td>678815482.0</td>\n",
       "      <td>2.048134e+09</td>\n",
       "      <td>1.748134e+09</td>\n",
       "    </tr>\n",
       "    <tr>\n",
       "      <th>5</th>\n",
       "      <td>6</td>\n",
       "      <td>2015-12-18</td>\n",
       "      <td>STAR WARS EP VII THE FORCE AWAKENS</td>\n",
       "      <td>306000000.0</td>\n",
       "      <td>936662225.0</td>\n",
       "      <td>2.053311e+09</td>\n",
       "      <td>1.747311e+09</td>\n",
       "    </tr>\n",
       "    <tr>\n",
       "      <th>33</th>\n",
       "      <td>34</td>\n",
       "      <td>2015-06-12</td>\n",
       "      <td>JURASSIC WORLD</td>\n",
       "      <td>215000000.0</td>\n",
       "      <td>652270625.0</td>\n",
       "      <td>1.648855e+09</td>\n",
       "      <td>1.433855e+09</td>\n",
       "    </tr>\n",
       "    <tr>\n",
       "      <th>...</th>\n",
       "      <td>...</td>\n",
       "      <td>...</td>\n",
       "      <td>...</td>\n",
       "      <td>...</td>\n",
       "      <td>...</td>\n",
       "      <td>...</td>\n",
       "      <td>...</td>\n",
       "    </tr>\n",
       "    <tr>\n",
       "      <th>352</th>\n",
       "      <td>53</td>\n",
       "      <td>2001-04-27</td>\n",
       "      <td>TOWN  COUNTRY</td>\n",
       "      <td>105000000.0</td>\n",
       "      <td>6712451.0</td>\n",
       "      <td>1.036477e+07</td>\n",
       "      <td>-9.463523e+07</td>\n",
       "    </tr>\n",
       "    <tr>\n",
       "      <th>341</th>\n",
       "      <td>42</td>\n",
       "      <td>2019-06-14</td>\n",
       "      <td>MEN IN BLACK INTERNATIONAL</td>\n",
       "      <td>110000000.0</td>\n",
       "      <td>3100000.0</td>\n",
       "      <td>3.100000e+06</td>\n",
       "      <td>-1.069000e+08</td>\n",
       "    </tr>\n",
       "    <tr>\n",
       "      <th>193</th>\n",
       "      <td>94</td>\n",
       "      <td>2011-03-11</td>\n",
       "      <td>MARS NEEDS MOMS</td>\n",
       "      <td>150000000.0</td>\n",
       "      <td>21392758.0</td>\n",
       "      <td>3.954976e+07</td>\n",
       "      <td>-1.104502e+08</td>\n",
       "    </tr>\n",
       "    <tr>\n",
       "      <th>194</th>\n",
       "      <td>95</td>\n",
       "      <td>2020-12-31</td>\n",
       "      <td>MOONFALL</td>\n",
       "      <td>150000000.0</td>\n",
       "      <td>0.0</td>\n",
       "      <td>0.000000e+00</td>\n",
       "      <td>-1.500000e+08</td>\n",
       "    </tr>\n",
       "    <tr>\n",
       "      <th>2</th>\n",
       "      <td>3</td>\n",
       "      <td>2019-06-07</td>\n",
       "      <td>DARK PHOENIX</td>\n",
       "      <td>350000000.0</td>\n",
       "      <td>42762350.0</td>\n",
       "      <td>1.497624e+08</td>\n",
       "      <td>-2.002376e+08</td>\n",
       "    </tr>\n",
       "  </tbody>\n",
       "</table>\n",
       "<p>5782 rows × 7 columns</p>\n",
       "</div>"
      ],
      "text/plain": [
       "     id release_date                               title  production_budget  \\\n",
       "0     1   2009-12-18                              AVATAR        425000000.0   \n",
       "42   43   1997-12-19                             TITANIC        200000000.0   \n",
       "6     7   2018-04-27               AVENGERS INFINITY WAR        300000000.0   \n",
       "5     6   2015-12-18  STAR WARS EP VII THE FORCE AWAKENS        306000000.0   \n",
       "33   34   2015-06-12                      JURASSIC WORLD        215000000.0   \n",
       "..   ..          ...                                 ...                ...   \n",
       "352  53   2001-04-27                       TOWN  COUNTRY        105000000.0   \n",
       "341  42   2019-06-14          MEN IN BLACK INTERNATIONAL        110000000.0   \n",
       "193  94   2011-03-11                     MARS NEEDS MOMS        150000000.0   \n",
       "194  95   2020-12-31                            MOONFALL        150000000.0   \n",
       "2     3   2019-06-07                        DARK PHOENIX        350000000.0   \n",
       "\n",
       "     domestic_gross  worldwide_gross        profit  \n",
       "0       760507625.0     2.776345e+09  2.351345e+09  \n",
       "42      659363944.0     2.208208e+09  2.008208e+09  \n",
       "6       678815482.0     2.048134e+09  1.748134e+09  \n",
       "5       936662225.0     2.053311e+09  1.747311e+09  \n",
       "33      652270625.0     1.648855e+09  1.433855e+09  \n",
       "..              ...              ...           ...  \n",
       "352       6712451.0     1.036477e+07 -9.463523e+07  \n",
       "341       3100000.0     3.100000e+06 -1.069000e+08  \n",
       "193      21392758.0     3.954976e+07 -1.104502e+08  \n",
       "194             0.0     0.000000e+00 -1.500000e+08  \n",
       "2        42762350.0     1.497624e+08 -2.002376e+08  \n",
       "\n",
       "[5782 rows x 7 columns]"
      ]
     },
     "execution_count": 195,
     "metadata": {},
     "output_type": "execute_result"
    }
   ],
   "source": [
    "movie_budgets[\"profit\"] = movie_budgets['worldwide_gross'] - movie_budgets['production_budget']\n",
    "movie_budgets.sort_values(['profit'], ascending=False)"
   ]
  },
  {
   "cell_type": "code",
   "execution_count": 196,
   "metadata": {},
   "outputs": [
    {
     "data": {
      "text/plain": [
       "title                0\n",
       "studio               0\n",
       "domestic_gross_x     0\n",
       "foreign_gross        0\n",
       "year                 0\n",
       "id                   0\n",
       "release_date         0\n",
       "production_budget    0\n",
       "domestic_gross_y     0\n",
       "worldwide_gross      0\n",
       "profit               0\n",
       "dtype: int64"
      ]
     },
     "execution_count": 196,
     "metadata": {},
     "output_type": "execute_result"
    }
   ],
   "source": [
    "grossJoinBudget.fillna(0, inplace=True)\n",
    "grossJoinBudget.isna().sum()"
   ]
  },
  {
   "cell_type": "markdown",
   "metadata": {},
   "source": [
    "<span style='color: red'>TODO</span>  \n",
    "Explain justification for 2 million cutoff point"
   ]
  },
  {
   "cell_type": "code",
   "execution_count": 197,
   "metadata": {},
   "outputs": [],
   "source": [
    "grossJoinBudget['budget_type'] = grossJoinBudget['production_budget'].map(lambda x: 'high' if x >= 20000000  else 'low' )"
   ]
  },
  {
   "cell_type": "code",
   "execution_count": 198,
   "metadata": {},
   "outputs": [
    {
     "data": {
      "text/html": [
       "<div>\n",
       "<style scoped>\n",
       "    .dataframe tbody tr th:only-of-type {\n",
       "        vertical-align: middle;\n",
       "    }\n",
       "\n",
       "    .dataframe tbody tr th {\n",
       "        vertical-align: top;\n",
       "    }\n",
       "\n",
       "    .dataframe thead th {\n",
       "        text-align: right;\n",
       "    }\n",
       "</style>\n",
       "<table border=\"1\" class=\"dataframe\">\n",
       "  <thead>\n",
       "    <tr style=\"text-align: right;\">\n",
       "      <th></th>\n",
       "      <th>title</th>\n",
       "      <th>studio</th>\n",
       "      <th>domestic_gross_x</th>\n",
       "      <th>foreign_gross</th>\n",
       "      <th>year</th>\n",
       "      <th>id</th>\n",
       "      <th>release_date</th>\n",
       "      <th>production_budget</th>\n",
       "      <th>domestic_gross_y</th>\n",
       "      <th>worldwide_gross</th>\n",
       "      <th>profit</th>\n",
       "      <th>budget_type</th>\n",
       "    </tr>\n",
       "  </thead>\n",
       "  <tbody>\n",
       "    <tr>\n",
       "      <th>0</th>\n",
       "      <td>TOY STORY 3</td>\n",
       "      <td>BV</td>\n",
       "      <td>415000000.0</td>\n",
       "      <td>652000000.0</td>\n",
       "      <td>2010</td>\n",
       "      <td>47</td>\n",
       "      <td>2010-06-18</td>\n",
       "      <td>200000000.0</td>\n",
       "      <td>415004880.0</td>\n",
       "      <td>1.068880e+09</td>\n",
       "      <td>868879522.0</td>\n",
       "      <td>high</td>\n",
       "    </tr>\n",
       "    <tr>\n",
       "      <th>1</th>\n",
       "      <td>INCEPTION</td>\n",
       "      <td>WB</td>\n",
       "      <td>292600000.0</td>\n",
       "      <td>535700000.0</td>\n",
       "      <td>2010</td>\n",
       "      <td>38</td>\n",
       "      <td>2010-07-16</td>\n",
       "      <td>160000000.0</td>\n",
       "      <td>292576195.0</td>\n",
       "      <td>8.355246e+08</td>\n",
       "      <td>675524642.0</td>\n",
       "      <td>high</td>\n",
       "    </tr>\n",
       "    <tr>\n",
       "      <th>2</th>\n",
       "      <td>SHREK FOREVER AFTER</td>\n",
       "      <td>P/DW</td>\n",
       "      <td>238700000.0</td>\n",
       "      <td>513900000.0</td>\n",
       "      <td>2010</td>\n",
       "      <td>27</td>\n",
       "      <td>2010-05-21</td>\n",
       "      <td>165000000.0</td>\n",
       "      <td>238736787.0</td>\n",
       "      <td>7.562447e+08</td>\n",
       "      <td>591244673.0</td>\n",
       "      <td>high</td>\n",
       "    </tr>\n",
       "    <tr>\n",
       "      <th>3</th>\n",
       "      <td>THE TWILIGHT SAGA ECLIPSE</td>\n",
       "      <td>Sum.</td>\n",
       "      <td>300500000.0</td>\n",
       "      <td>398000000.0</td>\n",
       "      <td>2010</td>\n",
       "      <td>53</td>\n",
       "      <td>2010-06-30</td>\n",
       "      <td>68000000.0</td>\n",
       "      <td>300531751.0</td>\n",
       "      <td>7.061028e+08</td>\n",
       "      <td>638102828.0</td>\n",
       "      <td>high</td>\n",
       "    </tr>\n",
       "    <tr>\n",
       "      <th>4</th>\n",
       "      <td>IRON MAN 2</td>\n",
       "      <td>Par.</td>\n",
       "      <td>312400000.0</td>\n",
       "      <td>311500000.0</td>\n",
       "      <td>2010</td>\n",
       "      <td>15</td>\n",
       "      <td>2010-05-07</td>\n",
       "      <td>170000000.0</td>\n",
       "      <td>312433331.0</td>\n",
       "      <td>6.211564e+08</td>\n",
       "      <td>451156389.0</td>\n",
       "      <td>high</td>\n",
       "    </tr>\n",
       "    <tr>\n",
       "      <th>...</th>\n",
       "      <td>...</td>\n",
       "      <td>...</td>\n",
       "      <td>...</td>\n",
       "      <td>...</td>\n",
       "      <td>...</td>\n",
       "      <td>...</td>\n",
       "      <td>...</td>\n",
       "      <td>...</td>\n",
       "      <td>...</td>\n",
       "      <td>...</td>\n",
       "      <td>...</td>\n",
       "      <td>...</td>\n",
       "    </tr>\n",
       "    <tr>\n",
       "      <th>1302</th>\n",
       "      <td>BEN IS BACK</td>\n",
       "      <td>RAtt.</td>\n",
       "      <td>3700000.0</td>\n",
       "      <td>0.0</td>\n",
       "      <td>2018</td>\n",
       "      <td>95</td>\n",
       "      <td>2018-12-07</td>\n",
       "      <td>13000000.0</td>\n",
       "      <td>3703182.0</td>\n",
       "      <td>9.633111e+06</td>\n",
       "      <td>-3366889.0</td>\n",
       "      <td>low</td>\n",
       "    </tr>\n",
       "    <tr>\n",
       "      <th>1303</th>\n",
       "      <td>BILAL A NEW BREED OF HERO</td>\n",
       "      <td>VE</td>\n",
       "      <td>491000.0</td>\n",
       "      <td>1700000.0</td>\n",
       "      <td>2018</td>\n",
       "      <td>100</td>\n",
       "      <td>2018-02-02</td>\n",
       "      <td>30000000.0</td>\n",
       "      <td>490973.0</td>\n",
       "      <td>6.485990e+05</td>\n",
       "      <td>-29351401.0</td>\n",
       "      <td>low</td>\n",
       "    </tr>\n",
       "    <tr>\n",
       "      <th>1304</th>\n",
       "      <td>MANDY</td>\n",
       "      <td>RLJ</td>\n",
       "      <td>1200000.0</td>\n",
       "      <td>0.0</td>\n",
       "      <td>2018</td>\n",
       "      <td>71</td>\n",
       "      <td>2018-09-14</td>\n",
       "      <td>6000000.0</td>\n",
       "      <td>1214525.0</td>\n",
       "      <td>1.427656e+06</td>\n",
       "      <td>-4572344.0</td>\n",
       "      <td>low</td>\n",
       "    </tr>\n",
       "    <tr>\n",
       "      <th>1305</th>\n",
       "      <td>LEAN ON PETE</td>\n",
       "      <td>A24</td>\n",
       "      <td>1200000.0</td>\n",
       "      <td>0.0</td>\n",
       "      <td>2018</td>\n",
       "      <td>13</td>\n",
       "      <td>2018-04-06</td>\n",
       "      <td>8000000.0</td>\n",
       "      <td>1163056.0</td>\n",
       "      <td>2.455027e+06</td>\n",
       "      <td>-5544973.0</td>\n",
       "      <td>low</td>\n",
       "    </tr>\n",
       "    <tr>\n",
       "      <th>1306</th>\n",
       "      <td>BORG VS MCENROE</td>\n",
       "      <td>Neon</td>\n",
       "      <td>231000.0</td>\n",
       "      <td>0.0</td>\n",
       "      <td>2018</td>\n",
       "      <td>70</td>\n",
       "      <td>2018-04-13</td>\n",
       "      <td>7500000.0</td>\n",
       "      <td>231346.0</td>\n",
       "      <td>3.257922e+06</td>\n",
       "      <td>-4242078.0</td>\n",
       "      <td>low</td>\n",
       "    </tr>\n",
       "  </tbody>\n",
       "</table>\n",
       "<p>1307 rows × 12 columns</p>\n",
       "</div>"
      ],
      "text/plain": [
       "                          title studio  domestic_gross_x  foreign_gross  year  \\\n",
       "0                   TOY STORY 3     BV       415000000.0    652000000.0  2010   \n",
       "1                     INCEPTION     WB       292600000.0    535700000.0  2010   \n",
       "2           SHREK FOREVER AFTER   P/DW       238700000.0    513900000.0  2010   \n",
       "3     THE TWILIGHT SAGA ECLIPSE   Sum.       300500000.0    398000000.0  2010   \n",
       "4                    IRON MAN 2   Par.       312400000.0    311500000.0  2010   \n",
       "...                         ...    ...               ...            ...   ...   \n",
       "1302                BEN IS BACK  RAtt.         3700000.0            0.0  2018   \n",
       "1303  BILAL A NEW BREED OF HERO     VE          491000.0      1700000.0  2018   \n",
       "1304                      MANDY    RLJ         1200000.0            0.0  2018   \n",
       "1305               LEAN ON PETE    A24         1200000.0            0.0  2018   \n",
       "1306            BORG VS MCENROE   Neon          231000.0            0.0  2018   \n",
       "\n",
       "       id release_date  production_budget  domestic_gross_y  worldwide_gross  \\\n",
       "0      47   2010-06-18        200000000.0       415004880.0     1.068880e+09   \n",
       "1      38   2010-07-16        160000000.0       292576195.0     8.355246e+08   \n",
       "2      27   2010-05-21        165000000.0       238736787.0     7.562447e+08   \n",
       "3      53   2010-06-30         68000000.0       300531751.0     7.061028e+08   \n",
       "4      15   2010-05-07        170000000.0       312433331.0     6.211564e+08   \n",
       "...   ...          ...                ...               ...              ...   \n",
       "1302   95   2018-12-07         13000000.0         3703182.0     9.633111e+06   \n",
       "1303  100   2018-02-02         30000000.0          490973.0     6.485990e+05   \n",
       "1304   71   2018-09-14          6000000.0         1214525.0     1.427656e+06   \n",
       "1305   13   2018-04-06          8000000.0         1163056.0     2.455027e+06   \n",
       "1306   70   2018-04-13          7500000.0          231346.0     3.257922e+06   \n",
       "\n",
       "           profit budget_type  \n",
       "0     868879522.0        high  \n",
       "1     675524642.0        high  \n",
       "2     591244673.0        high  \n",
       "3     638102828.0        high  \n",
       "4     451156389.0        high  \n",
       "...           ...         ...  \n",
       "1302   -3366889.0         low  \n",
       "1303  -29351401.0         low  \n",
       "1304   -4572344.0         low  \n",
       "1305   -5544973.0         low  \n",
       "1306   -4242078.0         low  \n",
       "\n",
       "[1307 rows x 12 columns]"
      ]
     },
     "execution_count": 198,
     "metadata": {},
     "output_type": "execute_result"
    }
   ],
   "source": [
    "grossJoinBudget"
   ]
  },
  {
   "cell_type": "code",
   "execution_count": 199,
   "metadata": {},
   "outputs": [],
   "source": [
    "grossJoinBudget['profitRatio'] = (grossJoinBudget['profit'] - grossJoinBudget['production_budget']) / grossJoinBudget['production_budget']"
   ]
  },
  {
   "cell_type": "code",
   "execution_count": 200,
   "metadata": {},
   "outputs": [
    {
     "data": {
      "text/html": [
       "<div>\n",
       "<style scoped>\n",
       "    .dataframe tbody tr th:only-of-type {\n",
       "        vertical-align: middle;\n",
       "    }\n",
       "\n",
       "    .dataframe tbody tr th {\n",
       "        vertical-align: top;\n",
       "    }\n",
       "\n",
       "    .dataframe thead th {\n",
       "        text-align: right;\n",
       "    }\n",
       "</style>\n",
       "<table border=\"1\" class=\"dataframe\">\n",
       "  <thead>\n",
       "    <tr style=\"text-align: right;\">\n",
       "      <th></th>\n",
       "      <th></th>\n",
       "      <th>domestic_gross_x</th>\n",
       "      <th>foreign_gross</th>\n",
       "      <th>id</th>\n",
       "      <th>production_budget</th>\n",
       "      <th>domestic_gross_y</th>\n",
       "      <th>worldwide_gross</th>\n",
       "      <th>profit</th>\n",
       "      <th>profitRatio</th>\n",
       "    </tr>\n",
       "    <tr>\n",
       "      <th>year</th>\n",
       "      <th>budget_type</th>\n",
       "      <th></th>\n",
       "      <th></th>\n",
       "      <th></th>\n",
       "      <th></th>\n",
       "      <th></th>\n",
       "      <th></th>\n",
       "      <th></th>\n",
       "      <th></th>\n",
       "    </tr>\n",
       "  </thead>\n",
       "  <tbody>\n",
       "    <tr>\n",
       "      <th rowspan=\"2\" valign=\"top\">2010</th>\n",
       "      <th>high</th>\n",
       "      <td>5.609314e+09</td>\n",
       "      <td>8.363600e+09</td>\n",
       "      <td>2510</td>\n",
       "      <td>5.425500e+09</td>\n",
       "      <td>5.628400e+09</td>\n",
       "      <td>1.390905e+10</td>\n",
       "      <td>8.483549e+09</td>\n",
       "      <td>30.068854</td>\n",
       "    </tr>\n",
       "    <tr>\n",
       "      <th>low</th>\n",
       "      <td>3.228715e+09</td>\n",
       "      <td>2.917650e+09</td>\n",
       "      <td>6520</td>\n",
       "      <td>2.364708e+09</td>\n",
       "      <td>3.220356e+09</td>\n",
       "      <td>6.188980e+09</td>\n",
       "      <td>3.824272e+09</td>\n",
       "      <td>198.929849</td>\n",
       "    </tr>\n",
       "    <tr>\n",
       "      <th rowspan=\"2\" valign=\"top\">2011</th>\n",
       "      <th>high</th>\n",
       "      <td>5.361400e+09</td>\n",
       "      <td>9.076700e+09</td>\n",
       "      <td>2257</td>\n",
       "      <td>5.108300e+09</td>\n",
       "      <td>5.361393e+09</td>\n",
       "      <td>1.438225e+10</td>\n",
       "      <td>9.273946e+09</td>\n",
       "      <td>35.693665</td>\n",
       "    </tr>\n",
       "    <tr>\n",
       "      <th>low</th>\n",
       "      <td>3.262835e+09</td>\n",
       "      <td>3.482319e+09</td>\n",
       "      <td>7007</td>\n",
       "      <td>2.475075e+09</td>\n",
       "      <td>3.290445e+09</td>\n",
       "      <td>6.874004e+09</td>\n",
       "      <td>4.398929e+09</td>\n",
       "      <td>194.598903</td>\n",
       "    </tr>\n",
       "    <tr>\n",
       "      <th rowspan=\"2\" valign=\"top\">2012</th>\n",
       "      <th>high</th>\n",
       "      <td>5.778600e+09</td>\n",
       "      <td>1.045529e+10</td>\n",
       "      <td>2321</td>\n",
       "      <td>5.044700e+09</td>\n",
       "      <td>5.776615e+09</td>\n",
       "      <td>1.635469e+10</td>\n",
       "      <td>1.130999e+10</td>\n",
       "      <td>57.291759</td>\n",
       "    </tr>\n",
       "    <tr>\n",
       "      <th>low</th>\n",
       "      <td>3.206779e+09</td>\n",
       "      <td>2.551294e+09</td>\n",
       "      <td>5567</td>\n",
       "      <td>1.994715e+09</td>\n",
       "      <td>3.194688e+09</td>\n",
       "      <td>6.017848e+09</td>\n",
       "      <td>4.023133e+09</td>\n",
       "      <td>348.204308</td>\n",
       "    </tr>\n",
       "    <tr>\n",
       "      <th rowspan=\"2\" valign=\"top\">2013</th>\n",
       "      <th>high</th>\n",
       "      <td>6.367405e+09</td>\n",
       "      <td>1.120540e+10</td>\n",
       "      <td>2168</td>\n",
       "      <td>5.815000e+09</td>\n",
       "      <td>6.369254e+09</td>\n",
       "      <td>1.749644e+10</td>\n",
       "      <td>1.168144e+10</td>\n",
       "      <td>47.252891</td>\n",
       "    </tr>\n",
       "    <tr>\n",
       "      <th>low</th>\n",
       "      <td>3.192639e+09</td>\n",
       "      <td>2.494485e+09</td>\n",
       "      <td>5020</td>\n",
       "      <td>1.710000e+09</td>\n",
       "      <td>3.141645e+09</td>\n",
       "      <td>5.686717e+09</td>\n",
       "      <td>3.976717e+09</td>\n",
       "      <td>261.934080</td>\n",
       "    </tr>\n",
       "    <tr>\n",
       "      <th rowspan=\"2\" valign=\"top\">2014</th>\n",
       "      <th>high</th>\n",
       "      <td>5.822100e+09</td>\n",
       "      <td>1.072660e+10</td>\n",
       "      <td>2080</td>\n",
       "      <td>4.678200e+09</td>\n",
       "      <td>5.821638e+09</td>\n",
       "      <td>1.641611e+10</td>\n",
       "      <td>1.173791e+10</td>\n",
       "      <td>60.852503</td>\n",
       "    </tr>\n",
       "    <tr>\n",
       "      <th>low</th>\n",
       "      <td>2.936820e+09</td>\n",
       "      <td>2.901715e+09</td>\n",
       "      <td>4619</td>\n",
       "      <td>1.514707e+09</td>\n",
       "      <td>2.900767e+09</td>\n",
       "      <td>5.823934e+09</td>\n",
       "      <td>4.309226e+09</td>\n",
       "      <td>225.013659</td>\n",
       "    </tr>\n",
       "    <tr>\n",
       "      <th rowspan=\"2\" valign=\"top\">2015</th>\n",
       "      <th>high</th>\n",
       "      <td>5.719746e+09</td>\n",
       "      <td>8.884602e+09</td>\n",
       "      <td>2136</td>\n",
       "      <td>4.930600e+09</td>\n",
       "      <td>5.818846e+09</td>\n",
       "      <td>1.685377e+10</td>\n",
       "      <td>1.192317e+10</td>\n",
       "      <td>52.443714</td>\n",
       "    </tr>\n",
       "    <tr>\n",
       "      <th>low</th>\n",
       "      <td>3.068817e+09</td>\n",
       "      <td>2.769898e+09</td>\n",
       "      <td>5269</td>\n",
       "      <td>1.841900e+09</td>\n",
       "      <td>3.082996e+09</td>\n",
       "      <td>6.037688e+09</td>\n",
       "      <td>4.195788e+09</td>\n",
       "      <td>655.068377</td>\n",
       "    </tr>\n",
       "    <tr>\n",
       "      <th rowspan=\"2\" valign=\"top\">2016</th>\n",
       "      <th>high</th>\n",
       "      <td>6.613225e+09</td>\n",
       "      <td>1.125200e+10</td>\n",
       "      <td>2417</td>\n",
       "      <td>5.428500e+09</td>\n",
       "      <td>6.651078e+09</td>\n",
       "      <td>1.784611e+10</td>\n",
       "      <td>1.241761e+10</td>\n",
       "      <td>57.056329</td>\n",
       "    </tr>\n",
       "    <tr>\n",
       "      <th>low</th>\n",
       "      <td>2.803702e+09</td>\n",
       "      <td>2.813378e+09</td>\n",
       "      <td>4934</td>\n",
       "      <td>1.724200e+09</td>\n",
       "      <td>2.801643e+09</td>\n",
       "      <td>5.730557e+09</td>\n",
       "      <td>4.006357e+09</td>\n",
       "      <td>212.183025</td>\n",
       "    </tr>\n",
       "    <tr>\n",
       "      <th rowspan=\"2\" valign=\"top\">2017</th>\n",
       "      <th>high</th>\n",
       "      <td>5.430300e+09</td>\n",
       "      <td>1.017910e+10</td>\n",
       "      <td>1801</td>\n",
       "      <td>4.866000e+09</td>\n",
       "      <td>5.430803e+09</td>\n",
       "      <td>1.647003e+10</td>\n",
       "      <td>1.160403e+10</td>\n",
       "      <td>57.331428</td>\n",
       "    </tr>\n",
       "    <tr>\n",
       "      <th>low</th>\n",
       "      <td>2.723883e+09</td>\n",
       "      <td>3.171022e+09</td>\n",
       "      <td>4147</td>\n",
       "      <td>1.440500e+09</td>\n",
       "      <td>2.719718e+09</td>\n",
       "      <td>5.921549e+09</td>\n",
       "      <td>4.481049e+09</td>\n",
       "      <td>281.684999</td>\n",
       "    </tr>\n",
       "    <tr>\n",
       "      <th rowspan=\"2\" valign=\"top\">2018</th>\n",
       "      <th>high</th>\n",
       "      <td>6.079600e+09</td>\n",
       "      <td>9.626501e+09</td>\n",
       "      <td>1917</td>\n",
       "      <td>4.077900e+09</td>\n",
       "      <td>6.085347e+09</td>\n",
       "      <td>1.699361e+10</td>\n",
       "      <td>1.291571e+10</td>\n",
       "      <td>73.725318</td>\n",
       "    </tr>\n",
       "    <tr>\n",
       "      <th>low</th>\n",
       "      <td>2.221622e+09</td>\n",
       "      <td>1.778612e+09</td>\n",
       "      <td>3600</td>\n",
       "      <td>1.335200e+09</td>\n",
       "      <td>2.221706e+09</td>\n",
       "      <td>4.018717e+09</td>\n",
       "      <td>2.683517e+09</td>\n",
       "      <td>148.024470</td>\n",
       "    </tr>\n",
       "  </tbody>\n",
       "</table>\n",
       "</div>"
      ],
      "text/plain": [
       "                  domestic_gross_x  foreign_gross    id  production_budget  \\\n",
       "year budget_type                                                             \n",
       "2010 high             5.609314e+09   8.363600e+09  2510       5.425500e+09   \n",
       "     low              3.228715e+09   2.917650e+09  6520       2.364708e+09   \n",
       "2011 high             5.361400e+09   9.076700e+09  2257       5.108300e+09   \n",
       "     low              3.262835e+09   3.482319e+09  7007       2.475075e+09   \n",
       "2012 high             5.778600e+09   1.045529e+10  2321       5.044700e+09   \n",
       "     low              3.206779e+09   2.551294e+09  5567       1.994715e+09   \n",
       "2013 high             6.367405e+09   1.120540e+10  2168       5.815000e+09   \n",
       "     low              3.192639e+09   2.494485e+09  5020       1.710000e+09   \n",
       "2014 high             5.822100e+09   1.072660e+10  2080       4.678200e+09   \n",
       "     low              2.936820e+09   2.901715e+09  4619       1.514707e+09   \n",
       "2015 high             5.719746e+09   8.884602e+09  2136       4.930600e+09   \n",
       "     low              3.068817e+09   2.769898e+09  5269       1.841900e+09   \n",
       "2016 high             6.613225e+09   1.125200e+10  2417       5.428500e+09   \n",
       "     low              2.803702e+09   2.813378e+09  4934       1.724200e+09   \n",
       "2017 high             5.430300e+09   1.017910e+10  1801       4.866000e+09   \n",
       "     low              2.723883e+09   3.171022e+09  4147       1.440500e+09   \n",
       "2018 high             6.079600e+09   9.626501e+09  1917       4.077900e+09   \n",
       "     low              2.221622e+09   1.778612e+09  3600       1.335200e+09   \n",
       "\n",
       "                  domestic_gross_y  worldwide_gross        profit  profitRatio  \n",
       "year budget_type                                                                \n",
       "2010 high             5.628400e+09     1.390905e+10  8.483549e+09    30.068854  \n",
       "     low              3.220356e+09     6.188980e+09  3.824272e+09   198.929849  \n",
       "2011 high             5.361393e+09     1.438225e+10  9.273946e+09    35.693665  \n",
       "     low              3.290445e+09     6.874004e+09  4.398929e+09   194.598903  \n",
       "2012 high             5.776615e+09     1.635469e+10  1.130999e+10    57.291759  \n",
       "     low              3.194688e+09     6.017848e+09  4.023133e+09   348.204308  \n",
       "2013 high             6.369254e+09     1.749644e+10  1.168144e+10    47.252891  \n",
       "     low              3.141645e+09     5.686717e+09  3.976717e+09   261.934080  \n",
       "2014 high             5.821638e+09     1.641611e+10  1.173791e+10    60.852503  \n",
       "     low              2.900767e+09     5.823934e+09  4.309226e+09   225.013659  \n",
       "2015 high             5.818846e+09     1.685377e+10  1.192317e+10    52.443714  \n",
       "     low              3.082996e+09     6.037688e+09  4.195788e+09   655.068377  \n",
       "2016 high             6.651078e+09     1.784611e+10  1.241761e+10    57.056329  \n",
       "     low              2.801643e+09     5.730557e+09  4.006357e+09   212.183025  \n",
       "2017 high             5.430803e+09     1.647003e+10  1.160403e+10    57.331428  \n",
       "     low              2.719718e+09     5.921549e+09  4.481049e+09   281.684999  \n",
       "2018 high             6.085347e+09     1.699361e+10  1.291571e+10    73.725318  \n",
       "     low              2.221706e+09     4.018717e+09  2.683517e+09   148.024470  "
      ]
     },
     "execution_count": 200,
     "metadata": {},
     "output_type": "execute_result"
    }
   ],
   "source": [
    "grossJoinBudget.groupby(['year', 'budget_type']).sum()"
   ]
  },
  {
   "cell_type": "code",
   "execution_count": 201,
   "metadata": {
    "scrolled": true
   },
   "outputs": [
    {
     "data": {
      "image/png": "[encoded data removed]",
      "text/plain": [
       "<Figure size 432x288 with 1 Axes>"
      ]
     },
     "metadata": {
      "needs_background": "light"
     },
     "output_type": "display_data"
    }
   ],
   "source": [
    "sns.lineplot(x='year', y='profitRatio', hue='budget_type', data=grossJoinBudget);"
   ]
  },
  {
   "cell_type": "markdown",
   "metadata": {},
   "source": [
    "#### Hypothesis test for budget vs profit ratios  \n",
    "<span style='color: red'>TODO</span>  Revise hypothesis testing code/markdown to one-tailed test\n",
    "\n",
    "We will conduct a one-tailed two sample t-test with a 5% level of significance to conclude whether low budget movies yield higher product ratios on average than high budget movies.\n",
    "\n",
    "    Null: There is no difference in profit ratios between high and low budget movies.\n",
    "    Alternative: Low budget movies yield higher product ratios on average than high budget movies."
   ]
  },
  {
   "cell_type": "markdown",
   "metadata": {},
   "source": [
    "<span style='color: red'>TODO</span>  \n",
    "Colton: Change code to use earlier column"
   ]
  },
  {
   "cell_type": "code",
   "execution_count": 203,
   "metadata": {},
   "outputs": [
    {
     "data": {
      "text/html": [
       "<div>\n",
       "<style scoped>\n",
       "    .dataframe tbody tr th:only-of-type {\n",
       "        vertical-align: middle;\n",
       "    }\n",
       "\n",
       "    .dataframe tbody tr th {\n",
       "        vertical-align: top;\n",
       "    }\n",
       "\n",
       "    .dataframe thead th {\n",
       "        text-align: right;\n",
       "    }\n",
       "</style>\n",
       "<table border=\"1\" class=\"dataframe\">\n",
       "  <thead>\n",
       "    <tr style=\"text-align: right;\">\n",
       "      <th></th>\n",
       "      <th>title</th>\n",
       "      <th>studio</th>\n",
       "      <th>domestic_gross_x</th>\n",
       "      <th>foreign_gross</th>\n",
       "      <th>year</th>\n",
       "      <th>id</th>\n",
       "      <th>release_date</th>\n",
       "      <th>production_budget</th>\n",
       "      <th>domestic_gross_y</th>\n",
       "      <th>worldwide_gross</th>\n",
       "      <th>profit</th>\n",
       "      <th>budget_type</th>\n",
       "      <th>profitRatio</th>\n",
       "    </tr>\n",
       "  </thead>\n",
       "  <tbody>\n",
       "    <tr>\n",
       "      <th>0</th>\n",
       "      <td>TOY STORY 3</td>\n",
       "      <td>BV</td>\n",
       "      <td>415000000.0</td>\n",
       "      <td>652000000.0</td>\n",
       "      <td>2010</td>\n",
       "      <td>47</td>\n",
       "      <td>2010-06-18</td>\n",
       "      <td>200000000.0</td>\n",
       "      <td>415004880.0</td>\n",
       "      <td>1.068880e+09</td>\n",
       "      <td>868879522.0</td>\n",
       "      <td>high</td>\n",
       "      <td>3.344398</td>\n",
       "    </tr>\n",
       "    <tr>\n",
       "      <th>1</th>\n",
       "      <td>INCEPTION</td>\n",
       "      <td>WB</td>\n",
       "      <td>292600000.0</td>\n",
       "      <td>535700000.0</td>\n",
       "      <td>2010</td>\n",
       "      <td>38</td>\n",
       "      <td>2010-07-16</td>\n",
       "      <td>160000000.0</td>\n",
       "      <td>292576195.0</td>\n",
       "      <td>8.355246e+08</td>\n",
       "      <td>675524642.0</td>\n",
       "      <td>high</td>\n",
       "      <td>3.222029</td>\n",
       "    </tr>\n",
       "    <tr>\n",
       "      <th>2</th>\n",
       "      <td>SHREK FOREVER AFTER</td>\n",
       "      <td>P/DW</td>\n",
       "      <td>238700000.0</td>\n",
       "      <td>513900000.0</td>\n",
       "      <td>2010</td>\n",
       "      <td>27</td>\n",
       "      <td>2010-05-21</td>\n",
       "      <td>165000000.0</td>\n",
       "      <td>238736787.0</td>\n",
       "      <td>7.562447e+08</td>\n",
       "      <td>591244673.0</td>\n",
       "      <td>high</td>\n",
       "      <td>2.583301</td>\n",
       "    </tr>\n",
       "    <tr>\n",
       "      <th>3</th>\n",
       "      <td>THE TWILIGHT SAGA ECLIPSE</td>\n",
       "      <td>Sum.</td>\n",
       "      <td>300500000.0</td>\n",
       "      <td>398000000.0</td>\n",
       "      <td>2010</td>\n",
       "      <td>53</td>\n",
       "      <td>2010-06-30</td>\n",
       "      <td>68000000.0</td>\n",
       "      <td>300531751.0</td>\n",
       "      <td>7.061028e+08</td>\n",
       "      <td>638102828.0</td>\n",
       "      <td>high</td>\n",
       "      <td>8.383865</td>\n",
       "    </tr>\n",
       "    <tr>\n",
       "      <th>4</th>\n",
       "      <td>IRON MAN 2</td>\n",
       "      <td>Par.</td>\n",
       "      <td>312400000.0</td>\n",
       "      <td>311500000.0</td>\n",
       "      <td>2010</td>\n",
       "      <td>15</td>\n",
       "      <td>2010-05-07</td>\n",
       "      <td>170000000.0</td>\n",
       "      <td>312433331.0</td>\n",
       "      <td>6.211564e+08</td>\n",
       "      <td>451156389.0</td>\n",
       "      <td>high</td>\n",
       "      <td>1.653861</td>\n",
       "    </tr>\n",
       "    <tr>\n",
       "      <th>...</th>\n",
       "      <td>...</td>\n",
       "      <td>...</td>\n",
       "      <td>...</td>\n",
       "      <td>...</td>\n",
       "      <td>...</td>\n",
       "      <td>...</td>\n",
       "      <td>...</td>\n",
       "      <td>...</td>\n",
       "      <td>...</td>\n",
       "      <td>...</td>\n",
       "      <td>...</td>\n",
       "      <td>...</td>\n",
       "      <td>...</td>\n",
       "    </tr>\n",
       "    <tr>\n",
       "      <th>1247</th>\n",
       "      <td>FIRST MAN</td>\n",
       "      <td>Uni.</td>\n",
       "      <td>44900000.0</td>\n",
       "      <td>60800000.0</td>\n",
       "      <td>2018</td>\n",
       "      <td>6</td>\n",
       "      <td>2018-10-12</td>\n",
       "      <td>60000000.0</td>\n",
       "      <td>44936545.0</td>\n",
       "      <td>1.052038e+08</td>\n",
       "      <td>45203825.0</td>\n",
       "      <td>high</td>\n",
       "      <td>-0.246603</td>\n",
       "    </tr>\n",
       "    <tr>\n",
       "      <th>1248</th>\n",
       "      <td>ALPHA</td>\n",
       "      <td>Studio 8</td>\n",
       "      <td>35900000.0</td>\n",
       "      <td>62300000.0</td>\n",
       "      <td>2018</td>\n",
       "      <td>79</td>\n",
       "      <td>2018-08-17</td>\n",
       "      <td>51000000.0</td>\n",
       "      <td>35851379.0</td>\n",
       "      <td>9.962487e+07</td>\n",
       "      <td>48624873.0</td>\n",
       "      <td>high</td>\n",
       "      <td>-0.046571</td>\n",
       "    </tr>\n",
       "    <tr>\n",
       "      <th>1256</th>\n",
       "      <td>SHERLOCK GNOMES</td>\n",
       "      <td>Par.</td>\n",
       "      <td>43200000.0</td>\n",
       "      <td>47100000.0</td>\n",
       "      <td>2018</td>\n",
       "      <td>54</td>\n",
       "      <td>2018-03-23</td>\n",
       "      <td>59000000.0</td>\n",
       "      <td>43242871.0</td>\n",
       "      <td>8.752765e+07</td>\n",
       "      <td>28527651.0</td>\n",
       "      <td>high</td>\n",
       "      <td>-0.516480</td>\n",
       "    </tr>\n",
       "    <tr>\n",
       "      <th>1257</th>\n",
       "      <td>MORTAL ENGINES</td>\n",
       "      <td>Uni.</td>\n",
       "      <td>16000000.0</td>\n",
       "      <td>67700000.0</td>\n",
       "      <td>2018</td>\n",
       "      <td>4</td>\n",
       "      <td>2018-12-14</td>\n",
       "      <td>100000000.0</td>\n",
       "      <td>15951040.0</td>\n",
       "      <td>8.528742e+07</td>\n",
       "      <td>-14712583.0</td>\n",
       "      <td>high</td>\n",
       "      <td>-1.147126</td>\n",
       "    </tr>\n",
       "    <tr>\n",
       "      <th>1261</th>\n",
       "      <td>VICE</td>\n",
       "      <td>Annapurna</td>\n",
       "      <td>47800000.0</td>\n",
       "      <td>28200000.0</td>\n",
       "      <td>2018</td>\n",
       "      <td>100</td>\n",
       "      <td>2018-12-25</td>\n",
       "      <td>60000000.0</td>\n",
       "      <td>47836282.0</td>\n",
       "      <td>7.088317e+07</td>\n",
       "      <td>10883171.0</td>\n",
       "      <td>high</td>\n",
       "      <td>-0.818614</td>\n",
       "    </tr>\n",
       "  </tbody>\n",
       "</table>\n",
       "<p>365 rows × 13 columns</p>\n",
       "</div>"
      ],
      "text/plain": [
       "                          title     studio  domestic_gross_x  foreign_gross  \\\n",
       "0                   TOY STORY 3         BV       415000000.0    652000000.0   \n",
       "1                     INCEPTION         WB       292600000.0    535700000.0   \n",
       "2           SHREK FOREVER AFTER       P/DW       238700000.0    513900000.0   \n",
       "3     THE TWILIGHT SAGA ECLIPSE       Sum.       300500000.0    398000000.0   \n",
       "4                    IRON MAN 2       Par.       312400000.0    311500000.0   \n",
       "...                         ...        ...               ...            ...   \n",
       "1247                  FIRST MAN       Uni.        44900000.0     60800000.0   \n",
       "1248                      ALPHA   Studio 8        35900000.0     62300000.0   \n",
       "1256            SHERLOCK GNOMES       Par.        43200000.0     47100000.0   \n",
       "1257             MORTAL ENGINES       Uni.        16000000.0     67700000.0   \n",
       "1261                       VICE  Annapurna        47800000.0     28200000.0   \n",
       "\n",
       "      year   id release_date  production_budget  domestic_gross_y  \\\n",
       "0     2010   47   2010-06-18        200000000.0       415004880.0   \n",
       "1     2010   38   2010-07-16        160000000.0       292576195.0   \n",
       "2     2010   27   2010-05-21        165000000.0       238736787.0   \n",
       "3     2010   53   2010-06-30         68000000.0       300531751.0   \n",
       "4     2010   15   2010-05-07        170000000.0       312433331.0   \n",
       "...    ...  ...          ...                ...               ...   \n",
       "1247  2018    6   2018-10-12         60000000.0        44936545.0   \n",
       "1248  2018   79   2018-08-17         51000000.0        35851379.0   \n",
       "1256  2018   54   2018-03-23         59000000.0        43242871.0   \n",
       "1257  2018    4   2018-12-14        100000000.0        15951040.0   \n",
       "1261  2018  100   2018-12-25         60000000.0        47836282.0   \n",
       "\n",
       "      worldwide_gross       profit budget_type  profitRatio  \n",
       "0        1.068880e+09  868879522.0        high     3.344398  \n",
       "1        8.355246e+08  675524642.0        high     3.222029  \n",
       "2        7.562447e+08  591244673.0        high     2.583301  \n",
       "3        7.061028e+08  638102828.0        high     8.383865  \n",
       "4        6.211564e+08  451156389.0        high     1.653861  \n",
       "...               ...          ...         ...          ...  \n",
       "1247     1.052038e+08   45203825.0        high    -0.246603  \n",
       "1248     9.962487e+07   48624873.0        high    -0.046571  \n",
       "1256     8.752765e+07   28527651.0        high    -0.516480  \n",
       "1257     8.528742e+07  -14712583.0        high    -1.147126  \n",
       "1261     7.088317e+07   10883171.0        high    -0.818614  \n",
       "\n",
       "[365 rows x 13 columns]"
      ]
     },
     "execution_count": 203,
     "metadata": {},
     "output_type": "execute_result"
    }
   ],
   "source": [
    "high = grossJoinBudget['production_budget'].values >  50000000\n",
    "low = grossJoinBudget['production_budget'].values <=  50000000\n",
    "grossJoinBudget.loc[high]"
   ]
  },
  {
   "cell_type": "code",
   "execution_count": 204,
   "metadata": {},
   "outputs": [],
   "source": [
    "s1 = grossJoinBudget.loc[high]['profitRatio']\n",
    "s2 = grossJoinBudget.loc[low]['profitRatio']"
   ]
  },
  {
   "cell_type": "code",
   "execution_count": 205,
   "metadata": {},
   "outputs": [
    {
     "data": {
      "text/plain": [
       "pandas.core.series.Series"
      ]
     },
     "execution_count": 205,
     "metadata": {},
     "output_type": "execute_result"
    }
   ],
   "source": [
    "type(s1)"
   ]
  },
  {
   "cell_type": "code",
   "execution_count": 206,
   "metadata": {},
   "outputs": [
    {
     "data": {
      "text/plain": [
       "10       6.794373\n",
       "11       9.351945\n",
       "12      23.482055\n",
       "25       5.207912\n",
       "28       3.623053\n",
       "          ...    \n",
       "1302    -1.258991\n",
       "1303    -1.978380\n",
       "1304    -1.762057\n",
       "1305    -1.693122\n",
       "1306    -1.565610\n",
       "Name: profitRatio, Length: 942, dtype: float64"
      ]
     },
     "execution_count": 206,
     "metadata": {},
     "output_type": "execute_result"
    }
   ],
   "source": [
    "s2"
   ]
  },
  {
   "cell_type": "code",
   "execution_count": 207,
   "metadata": {},
   "outputs": [
    {
     "data": {
      "image/png": "[encoded data removed]",
      "text/plain": [
       "<Figure size 432x288 with 1 Axes>"
      ]
     },
     "metadata": {
      "needs_background": "light"
     },
     "output_type": "display_data"
    }
   ],
   "source": [
    "plt.boxplot([s1, s2]);"
   ]
  },
  {
   "cell_type": "markdown",
   "metadata": {},
   "source": [
    "<span style='color: red'>TODO</span>  \n",
    "Colton: Consider changing to IQR formula; move removing of outliers to earlier in section"
   ]
  },
  {
   "cell_type": "code",
   "execution_count": 208,
   "metadata": {},
   "outputs": [],
   "source": [
    "s1 = s1[(s1>np.quantile(s1,0.25)) & (s1<np.quantile(s1,0.75))].tolist()"
   ]
  },
  {
   "cell_type": "code",
   "execution_count": 209,
   "metadata": {},
   "outputs": [],
   "source": [
    "s2 = s2[(s2>np.quantile(s2,0.25)) & (s2<np.quantile(s2,0.75))].tolist()"
   ]
  },
  {
   "cell_type": "code",
   "execution_count": 210,
   "metadata": {},
   "outputs": [
    {
     "data": {
      "image/png": "[encoded data removed]",
      "text/plain": [
       "<Figure size 432x288 with 1 Axes>"
      ]
     },
     "metadata": {
      "needs_background": "light"
     },
     "output_type": "display_data"
    }
   ],
   "source": [
    "plt.boxplot([s1, s2]);"
   ]
  },
  {
   "cell_type": "code",
   "execution_count": 211,
   "metadata": {},
   "outputs": [
    {
     "data": {
      "text/plain": [
       "3.3084124545623545e-09"
      ]
     },
     "execution_count": 211,
     "metadata": {},
     "output_type": "execute_result"
    }
   ],
   "source": [
    "stat, pval = st.ttest_ind(s1,s2,equal_var = False)\n",
    "pval/2"
   ]
  },
  {
   "cell_type": "markdown",
   "metadata": {},
   "source": [
    "**Conclusion:** We would reject the NULL  \n",
    "<span style=\"color: red;\">TODO</span>  \n",
    "What does it mean? Include business recommendation."
   ]
  },
  {
   "cell_type": "markdown",
   "metadata": {},
   "source": [
    "## Genre vs. Profit Ratio"
   ]
  },
  {
   "cell_type": "markdown",
   "metadata": {},
   "source": [
    "We want to take a look at how the major genres perform around the world relative to their global average performance to determine which genres are the most profitable."
   ]
  },
  {
   "cell_type": "code",
   "execution_count": 212,
   "metadata": {},
   "outputs": [],
   "source": [
    "q1= \"\"\"\n",
    "SELECT * \n",
    "FROM movie_basics\n",
    "INNER JOIN movie_ratings\n",
    "USING(\"movie_id\")\n",
    "INNER JOIN movie_akas\n",
    "USING(\"movie_id\")\n",
    "\n",
    "\n",
    "\n",
    "\"\"\"\n",
    "sql_dataset_merge1 = pd.read_sql(q1,conn)\n",
    "sql_dataset_merge1['title'] = sql_dataset_merge1['title'].str.upper()"
   ]
  },
  {
   "cell_type": "code",
   "execution_count": 213,
   "metadata": {},
   "outputs": [
    {
     "data": {
      "text/html": [
       "<div>\n",
       "<style scoped>\n",
       "    .dataframe tbody tr th:only-of-type {\n",
       "        vertical-align: middle;\n",
       "    }\n",
       "\n",
       "    .dataframe tbody tr th {\n",
       "        vertical-align: top;\n",
       "    }\n",
       "\n",
       "    .dataframe thead th {\n",
       "        text-align: right;\n",
       "    }\n",
       "</style>\n",
       "<table border=\"1\" class=\"dataframe\">\n",
       "  <thead>\n",
       "    <tr style=\"text-align: right;\">\n",
       "      <th></th>\n",
       "      <th>movie_id</th>\n",
       "      <th>primary_title</th>\n",
       "      <th>original_title</th>\n",
       "      <th>start_year</th>\n",
       "      <th>runtime_minutes</th>\n",
       "      <th>genres</th>\n",
       "      <th>averagerating</th>\n",
       "      <th>numvotes</th>\n",
       "      <th>ordering</th>\n",
       "      <th>title</th>\n",
       "      <th>region</th>\n",
       "      <th>language</th>\n",
       "      <th>types</th>\n",
       "      <th>attributes</th>\n",
       "      <th>is_original_title</th>\n",
       "    </tr>\n",
       "  </thead>\n",
       "  <tbody>\n",
       "    <tr>\n",
       "      <th>0</th>\n",
       "      <td>tt0063540</td>\n",
       "      <td>Sunghursh</td>\n",
       "      <td>Sunghursh</td>\n",
       "      <td>2013</td>\n",
       "      <td>175.0</td>\n",
       "      <td>Action,Crime,Drama</td>\n",
       "      <td>7.0</td>\n",
       "      <td>77</td>\n",
       "      <td>1</td>\n",
       "      <td>SANGHARSH</td>\n",
       "      <td>IN</td>\n",
       "      <td>hi</td>\n",
       "      <td>None</td>\n",
       "      <td>alternative transliteration</td>\n",
       "      <td>0.0</td>\n",
       "    </tr>\n",
       "    <tr>\n",
       "      <th>1</th>\n",
       "      <td>tt0063540</td>\n",
       "      <td>Sunghursh</td>\n",
       "      <td>Sunghursh</td>\n",
       "      <td>2013</td>\n",
       "      <td>175.0</td>\n",
       "      <td>Action,Crime,Drama</td>\n",
       "      <td>7.0</td>\n",
       "      <td>77</td>\n",
       "      <td>2</td>\n",
       "      <td>SUNGHURSH</td>\n",
       "      <td>None</td>\n",
       "      <td>None</td>\n",
       "      <td>original</td>\n",
       "      <td>None</td>\n",
       "      <td>1.0</td>\n",
       "    </tr>\n",
       "    <tr>\n",
       "      <th>2</th>\n",
       "      <td>tt0063540</td>\n",
       "      <td>Sunghursh</td>\n",
       "      <td>Sunghursh</td>\n",
       "      <td>2013</td>\n",
       "      <td>175.0</td>\n",
       "      <td>Action,Crime,Drama</td>\n",
       "      <td>7.0</td>\n",
       "      <td>77</td>\n",
       "      <td>3</td>\n",
       "      <td>SUNGHURSH</td>\n",
       "      <td>IN</td>\n",
       "      <td>None</td>\n",
       "      <td>None</td>\n",
       "      <td>None</td>\n",
       "      <td>0.0</td>\n",
       "    </tr>\n",
       "    <tr>\n",
       "      <th>3</th>\n",
       "      <td>tt0063540</td>\n",
       "      <td>Sunghursh</td>\n",
       "      <td>Sunghursh</td>\n",
       "      <td>2013</td>\n",
       "      <td>175.0</td>\n",
       "      <td>Action,Crime,Drama</td>\n",
       "      <td>7.0</td>\n",
       "      <td>77</td>\n",
       "      <td>4</td>\n",
       "      <td>SUNGHURSH</td>\n",
       "      <td>IN</td>\n",
       "      <td>hi</td>\n",
       "      <td>None</td>\n",
       "      <td>alternative transliteration</td>\n",
       "      <td>0.0</td>\n",
       "    </tr>\n",
       "    <tr>\n",
       "      <th>4</th>\n",
       "      <td>tt0063540</td>\n",
       "      <td>Sunghursh</td>\n",
       "      <td>Sunghursh</td>\n",
       "      <td>2013</td>\n",
       "      <td>175.0</td>\n",
       "      <td>Action,Crime,Drama</td>\n",
       "      <td>7.0</td>\n",
       "      <td>77</td>\n",
       "      <td>5</td>\n",
       "      <td>SUNGHARSH</td>\n",
       "      <td>IN</td>\n",
       "      <td>hi</td>\n",
       "      <td>None</td>\n",
       "      <td>alternative spelling</td>\n",
       "      <td>0.0</td>\n",
       "    </tr>\n",
       "    <tr>\n",
       "      <th>...</th>\n",
       "      <td>...</td>\n",
       "      <td>...</td>\n",
       "      <td>...</td>\n",
       "      <td>...</td>\n",
       "      <td>...</td>\n",
       "      <td>...</td>\n",
       "      <td>...</td>\n",
       "      <td>...</td>\n",
       "      <td>...</td>\n",
       "      <td>...</td>\n",
       "      <td>...</td>\n",
       "      <td>...</td>\n",
       "      <td>...</td>\n",
       "      <td>...</td>\n",
       "      <td>...</td>\n",
       "    </tr>\n",
       "    <tr>\n",
       "      <th>261801</th>\n",
       "      <td>tt9905462</td>\n",
       "      <td>Pengalila</td>\n",
       "      <td>Pengalila</td>\n",
       "      <td>2019</td>\n",
       "      <td>111.0</td>\n",
       "      <td>Drama</td>\n",
       "      <td>8.4</td>\n",
       "      <td>600</td>\n",
       "      <td>2</td>\n",
       "      <td>SISTERLEAF</td>\n",
       "      <td>IN</td>\n",
       "      <td>en</td>\n",
       "      <td>None</td>\n",
       "      <td>literal English title</td>\n",
       "      <td>0.0</td>\n",
       "    </tr>\n",
       "    <tr>\n",
       "      <th>261802</th>\n",
       "      <td>tt9905462</td>\n",
       "      <td>Pengalila</td>\n",
       "      <td>Pengalila</td>\n",
       "      <td>2019</td>\n",
       "      <td>111.0</td>\n",
       "      <td>Drama</td>\n",
       "      <td>8.4</td>\n",
       "      <td>600</td>\n",
       "      <td>3</td>\n",
       "      <td>PENGALILA</td>\n",
       "      <td>IN</td>\n",
       "      <td>None</td>\n",
       "      <td>None</td>\n",
       "      <td>None</td>\n",
       "      <td>0.0</td>\n",
       "    </tr>\n",
       "    <tr>\n",
       "      <th>261803</th>\n",
       "      <td>tt9911774</td>\n",
       "      <td>Padmavyuhathile Abhimanyu</td>\n",
       "      <td>Padmavyuhathile Abhimanyu</td>\n",
       "      <td>2019</td>\n",
       "      <td>130.0</td>\n",
       "      <td>Drama</td>\n",
       "      <td>8.4</td>\n",
       "      <td>365</td>\n",
       "      <td>1</td>\n",
       "      <td>PADMAVYUHATHILE ABHIMANYU</td>\n",
       "      <td>None</td>\n",
       "      <td>None</td>\n",
       "      <td>original</td>\n",
       "      <td>None</td>\n",
       "      <td>1.0</td>\n",
       "    </tr>\n",
       "    <tr>\n",
       "      <th>261804</th>\n",
       "      <td>tt9911774</td>\n",
       "      <td>Padmavyuhathile Abhimanyu</td>\n",
       "      <td>Padmavyuhathile Abhimanyu</td>\n",
       "      <td>2019</td>\n",
       "      <td>130.0</td>\n",
       "      <td>Drama</td>\n",
       "      <td>8.4</td>\n",
       "      <td>365</td>\n",
       "      <td>2</td>\n",
       "      <td>PATHMAVYUHATHILE ABHIMANYU</td>\n",
       "      <td>IN</td>\n",
       "      <td>ml</td>\n",
       "      <td>None</td>\n",
       "      <td>alternative spelling</td>\n",
       "      <td>0.0</td>\n",
       "    </tr>\n",
       "    <tr>\n",
       "      <th>261805</th>\n",
       "      <td>tt9911774</td>\n",
       "      <td>Padmavyuhathile Abhimanyu</td>\n",
       "      <td>Padmavyuhathile Abhimanyu</td>\n",
       "      <td>2019</td>\n",
       "      <td>130.0</td>\n",
       "      <td>Drama</td>\n",
       "      <td>8.4</td>\n",
       "      <td>365</td>\n",
       "      <td>3</td>\n",
       "      <td>PADMAVYOOHATHILE ABHIMANYU</td>\n",
       "      <td>IN</td>\n",
       "      <td>ml</td>\n",
       "      <td>None</td>\n",
       "      <td>alternative spelling</td>\n",
       "      <td>0.0</td>\n",
       "    </tr>\n",
       "  </tbody>\n",
       "</table>\n",
       "<p>261806 rows × 15 columns</p>\n",
       "</div>"
      ],
      "text/plain": [
       "         movie_id              primary_title             original_title  \\\n",
       "0       tt0063540                  Sunghursh                  Sunghursh   \n",
       "1       tt0063540                  Sunghursh                  Sunghursh   \n",
       "2       tt0063540                  Sunghursh                  Sunghursh   \n",
       "3       tt0063540                  Sunghursh                  Sunghursh   \n",
       "4       tt0063540                  Sunghursh                  Sunghursh   \n",
       "...           ...                        ...                        ...   \n",
       "261801  tt9905462                  Pengalila                  Pengalila   \n",
       "261802  tt9905462                  Pengalila                  Pengalila   \n",
       "261803  tt9911774  Padmavyuhathile Abhimanyu  Padmavyuhathile Abhimanyu   \n",
       "261804  tt9911774  Padmavyuhathile Abhimanyu  Padmavyuhathile Abhimanyu   \n",
       "261805  tt9911774  Padmavyuhathile Abhimanyu  Padmavyuhathile Abhimanyu   \n",
       "\n",
       "        start_year  runtime_minutes              genres  averagerating  \\\n",
       "0             2013            175.0  Action,Crime,Drama            7.0   \n",
       "1             2013            175.0  Action,Crime,Drama            7.0   \n",
       "2             2013            175.0  Action,Crime,Drama            7.0   \n",
       "3             2013            175.0  Action,Crime,Drama            7.0   \n",
       "4             2013            175.0  Action,Crime,Drama            7.0   \n",
       "...            ...              ...                 ...            ...   \n",
       "261801        2019            111.0               Drama            8.4   \n",
       "261802        2019            111.0               Drama            8.4   \n",
       "261803        2019            130.0               Drama            8.4   \n",
       "261804        2019            130.0               Drama            8.4   \n",
       "261805        2019            130.0               Drama            8.4   \n",
       "\n",
       "        numvotes  ordering                       title region language  \\\n",
       "0             77         1                   SANGHARSH     IN       hi   \n",
       "1             77         2                   SUNGHURSH   None     None   \n",
       "2             77         3                   SUNGHURSH     IN     None   \n",
       "3             77         4                   SUNGHURSH     IN       hi   \n",
       "4             77         5                   SUNGHARSH     IN       hi   \n",
       "...          ...       ...                         ...    ...      ...   \n",
       "261801       600         2                  SISTERLEAF     IN       en   \n",
       "261802       600         3                   PENGALILA     IN     None   \n",
       "261803       365         1   PADMAVYUHATHILE ABHIMANYU   None     None   \n",
       "261804       365         2  PATHMAVYUHATHILE ABHIMANYU     IN       ml   \n",
       "261805       365         3  PADMAVYOOHATHILE ABHIMANYU     IN       ml   \n",
       "\n",
       "           types                   attributes  is_original_title  \n",
       "0           None  alternative transliteration                0.0  \n",
       "1       original                         None                1.0  \n",
       "2           None                         None                0.0  \n",
       "3           None  alternative transliteration                0.0  \n",
       "4           None         alternative spelling                0.0  \n",
       "...          ...                          ...                ...  \n",
       "261801      None        literal English title                0.0  \n",
       "261802      None                         None                0.0  \n",
       "261803  original                         None                1.0  \n",
       "261804      None         alternative spelling                0.0  \n",
       "261805      None         alternative spelling                0.0  \n",
       "\n",
       "[261806 rows x 15 columns]"
      ]
     },
     "execution_count": 213,
     "metadata": {},
     "output_type": "execute_result"
    }
   ],
   "source": [
    "sql_dataset_merge1"
   ]
  },
  {
   "cell_type": "markdown",
   "metadata": {},
   "source": [
    "<span style='color: red'>TODO</span>  \n",
    "Van: Do we need to show the tables every time?"
   ]
  },
  {
   "cell_type": "code",
   "execution_count": 214,
   "metadata": {},
   "outputs": [
    {
     "data": {
      "text/html": [
       "<div>\n",
       "<style scoped>\n",
       "    .dataframe tbody tr th:only-of-type {\n",
       "        vertical-align: middle;\n",
       "    }\n",
       "\n",
       "    .dataframe tbody tr th {\n",
       "        vertical-align: top;\n",
       "    }\n",
       "\n",
       "    .dataframe thead th {\n",
       "        text-align: right;\n",
       "    }\n",
       "</style>\n",
       "<table border=\"1\" class=\"dataframe\">\n",
       "  <thead>\n",
       "    <tr style=\"text-align: right;\">\n",
       "      <th></th>\n",
       "      <th>id</th>\n",
       "      <th>release_date</th>\n",
       "      <th>title</th>\n",
       "      <th>production_budget</th>\n",
       "      <th>domestic_gross</th>\n",
       "      <th>worldwide_gross</th>\n",
       "      <th>profit</th>\n",
       "    </tr>\n",
       "  </thead>\n",
       "  <tbody>\n",
       "    <tr>\n",
       "      <th>0</th>\n",
       "      <td>1</td>\n",
       "      <td>2009-12-18</td>\n",
       "      <td>AVATAR</td>\n",
       "      <td>425000000.0</td>\n",
       "      <td>760507625.0</td>\n",
       "      <td>2.776345e+09</td>\n",
       "      <td>2.351345e+09</td>\n",
       "    </tr>\n",
       "    <tr>\n",
       "      <th>1</th>\n",
       "      <td>2</td>\n",
       "      <td>2011-05-20</td>\n",
       "      <td>PIRATES OF THE CARIBBEAN ON STRANGER TIDES</td>\n",
       "      <td>410600000.0</td>\n",
       "      <td>241063875.0</td>\n",
       "      <td>1.045664e+09</td>\n",
       "      <td>6.350639e+08</td>\n",
       "    </tr>\n",
       "    <tr>\n",
       "      <th>2</th>\n",
       "      <td>3</td>\n",
       "      <td>2019-06-07</td>\n",
       "      <td>DARK PHOENIX</td>\n",
       "      <td>350000000.0</td>\n",
       "      <td>42762350.0</td>\n",
       "      <td>1.497624e+08</td>\n",
       "      <td>-2.002376e+08</td>\n",
       "    </tr>\n",
       "    <tr>\n",
       "      <th>3</th>\n",
       "      <td>4</td>\n",
       "      <td>2015-05-01</td>\n",
       "      <td>AVENGERS AGE OF ULTRON</td>\n",
       "      <td>330600000.0</td>\n",
       "      <td>459005868.0</td>\n",
       "      <td>1.403014e+09</td>\n",
       "      <td>1.072414e+09</td>\n",
       "    </tr>\n",
       "    <tr>\n",
       "      <th>4</th>\n",
       "      <td>5</td>\n",
       "      <td>2017-12-15</td>\n",
       "      <td>STAR WARS EP VIII THE LAST JEDI</td>\n",
       "      <td>317000000.0</td>\n",
       "      <td>620181382.0</td>\n",
       "      <td>1.316722e+09</td>\n",
       "      <td>9.997217e+08</td>\n",
       "    </tr>\n",
       "    <tr>\n",
       "      <th>...</th>\n",
       "      <td>...</td>\n",
       "      <td>...</td>\n",
       "      <td>...</td>\n",
       "      <td>...</td>\n",
       "      <td>...</td>\n",
       "      <td>...</td>\n",
       "      <td>...</td>\n",
       "    </tr>\n",
       "    <tr>\n",
       "      <th>5777</th>\n",
       "      <td>78</td>\n",
       "      <td>2018-12-31</td>\n",
       "      <td>RED 11</td>\n",
       "      <td>7000.0</td>\n",
       "      <td>0.0</td>\n",
       "      <td>0.000000e+00</td>\n",
       "      <td>-7.000000e+03</td>\n",
       "    </tr>\n",
       "    <tr>\n",
       "      <th>5778</th>\n",
       "      <td>79</td>\n",
       "      <td>1999-04-02</td>\n",
       "      <td>FOLLOWING</td>\n",
       "      <td>6000.0</td>\n",
       "      <td>48482.0</td>\n",
       "      <td>2.404950e+05</td>\n",
       "      <td>2.344950e+05</td>\n",
       "    </tr>\n",
       "    <tr>\n",
       "      <th>5779</th>\n",
       "      <td>80</td>\n",
       "      <td>2005-07-13</td>\n",
       "      <td>RETURN TO THE LAND OF WONDERS</td>\n",
       "      <td>5000.0</td>\n",
       "      <td>1338.0</td>\n",
       "      <td>1.338000e+03</td>\n",
       "      <td>-3.662000e+03</td>\n",
       "    </tr>\n",
       "    <tr>\n",
       "      <th>5780</th>\n",
       "      <td>81</td>\n",
       "      <td>2015-09-29</td>\n",
       "      <td>A PLAGUE SO PLEASANT</td>\n",
       "      <td>1400.0</td>\n",
       "      <td>0.0</td>\n",
       "      <td>0.000000e+00</td>\n",
       "      <td>-1.400000e+03</td>\n",
       "    </tr>\n",
       "    <tr>\n",
       "      <th>5781</th>\n",
       "      <td>82</td>\n",
       "      <td>2005-08-05</td>\n",
       "      <td>MY DATE WITH DREW</td>\n",
       "      <td>1100.0</td>\n",
       "      <td>181041.0</td>\n",
       "      <td>1.810410e+05</td>\n",
       "      <td>1.799410e+05</td>\n",
       "    </tr>\n",
       "  </tbody>\n",
       "</table>\n",
       "<p>5782 rows × 7 columns</p>\n",
       "</div>"
      ],
      "text/plain": [
       "      id release_date                                       title  \\\n",
       "0      1   2009-12-18                                      AVATAR   \n",
       "1      2   2011-05-20  PIRATES OF THE CARIBBEAN ON STRANGER TIDES   \n",
       "2      3   2019-06-07                                DARK PHOENIX   \n",
       "3      4   2015-05-01                      AVENGERS AGE OF ULTRON   \n",
       "4      5   2017-12-15             STAR WARS EP VIII THE LAST JEDI   \n",
       "...   ..          ...                                         ...   \n",
       "5777  78   2018-12-31                                      RED 11   \n",
       "5778  79   1999-04-02                                   FOLLOWING   \n",
       "5779  80   2005-07-13               RETURN TO THE LAND OF WONDERS   \n",
       "5780  81   2015-09-29                        A PLAGUE SO PLEASANT   \n",
       "5781  82   2005-08-05                           MY DATE WITH DREW   \n",
       "\n",
       "      production_budget  domestic_gross  worldwide_gross        profit  \n",
       "0           425000000.0     760507625.0     2.776345e+09  2.351345e+09  \n",
       "1           410600000.0     241063875.0     1.045664e+09  6.350639e+08  \n",
       "2           350000000.0      42762350.0     1.497624e+08 -2.002376e+08  \n",
       "3           330600000.0     459005868.0     1.403014e+09  1.072414e+09  \n",
       "4           317000000.0     620181382.0     1.316722e+09  9.997217e+08  \n",
       "...                 ...             ...              ...           ...  \n",
       "5777             7000.0             0.0     0.000000e+00 -7.000000e+03  \n",
       "5778             6000.0         48482.0     2.404950e+05  2.344950e+05  \n",
       "5779             5000.0          1338.0     1.338000e+03 -3.662000e+03  \n",
       "5780             1400.0             0.0     0.000000e+00 -1.400000e+03  \n",
       "5781             1100.0        181041.0     1.810410e+05  1.799410e+05  \n",
       "\n",
       "[5782 rows x 7 columns]"
      ]
     },
     "execution_count": 214,
     "metadata": {},
     "output_type": "execute_result"
    }
   ],
   "source": [
    "movie_budgets"
   ]
  },
  {
   "cell_type": "code",
   "execution_count": 1,
   "metadata": {},
   "outputs": [
    {
     "ename": "NameError",
     "evalue": "name 'sql_dataset_merge1' is not defined",
     "output_type": "error",
     "traceback": [
      "\u001b[1;31m---------------------------------------------------------------------------\u001b[0m",
      "\u001b[1;31mNameError\u001b[0m                                 Traceback (most recent call last)",
      "\u001b[1;32m<ipython-input-1-5b8196aa1c4f>\u001b[0m in \u001b[0;36m<module>\u001b[1;34m\u001b[0m\n\u001b[0;32m      1\u001b[0m \u001b[1;31m#keep only original movie\u001b[0m\u001b[1;33m\u001b[0m\u001b[1;33m\u001b[0m\u001b[1;33m\u001b[0m\u001b[0m\n\u001b[1;32m----> 2\u001b[1;33m \u001b[0msql_dataset_merge1\u001b[0m\u001b[1;33m=\u001b[0m \u001b[0msql_dataset_merge1\u001b[0m\u001b[1;33m[\u001b[0m\u001b[0msql_dataset_merge1\u001b[0m\u001b[1;33m.\u001b[0m\u001b[0mis_original_title\u001b[0m\u001b[1;33m==\u001b[0m\u001b[1;36m1\u001b[0m\u001b[1;33m]\u001b[0m\u001b[1;33m\u001b[0m\u001b[1;33m\u001b[0m\u001b[0m\n\u001b[0m",
      "\u001b[1;31mNameError\u001b[0m: name 'sql_dataset_merge1' is not defined"
     ]
    }
   ],
   "source": [
    "#keep only original movie\n",
    "sql_dataset_merge1= sql_dataset_merge1[sql_dataset_merge1.is_original_title==1]"
   ]
  },
  {
   "cell_type": "code",
   "execution_count": 216,
   "metadata": {},
   "outputs": [
    {
     "data": {
      "text/html": [
       "<div>\n",
       "<style scoped>\n",
       "    .dataframe tbody tr th:only-of-type {\n",
       "        vertical-align: middle;\n",
       "    }\n",
       "\n",
       "    .dataframe tbody tr th {\n",
       "        vertical-align: top;\n",
       "    }\n",
       "\n",
       "    .dataframe thead th {\n",
       "        text-align: right;\n",
       "    }\n",
       "</style>\n",
       "<table border=\"1\" class=\"dataframe\">\n",
       "  <thead>\n",
       "    <tr style=\"text-align: right;\">\n",
       "      <th></th>\n",
       "      <th>id</th>\n",
       "      <th>release_date</th>\n",
       "      <th>title</th>\n",
       "      <th>production_budget</th>\n",
       "      <th>domestic_gross</th>\n",
       "      <th>worldwide_gross</th>\n",
       "      <th>profit</th>\n",
       "      <th>movie_id</th>\n",
       "      <th>primary_title</th>\n",
       "      <th>original_title</th>\n",
       "      <th>...</th>\n",
       "      <th>runtime_minutes</th>\n",
       "      <th>genres</th>\n",
       "      <th>averagerating</th>\n",
       "      <th>numvotes</th>\n",
       "      <th>ordering</th>\n",
       "      <th>region</th>\n",
       "      <th>language</th>\n",
       "      <th>types</th>\n",
       "      <th>attributes</th>\n",
       "      <th>is_original_title</th>\n",
       "    </tr>\n",
       "  </thead>\n",
       "  <tbody>\n",
       "    <tr>\n",
       "      <th>0</th>\n",
       "      <td>3</td>\n",
       "      <td>2019-06-07</td>\n",
       "      <td>DARK PHOENIX</td>\n",
       "      <td>350000000.0</td>\n",
       "      <td>42762350.0</td>\n",
       "      <td>1.497624e+08</td>\n",
       "      <td>-200237650.0</td>\n",
       "      <td>tt6565702</td>\n",
       "      <td>Dark Phoenix</td>\n",
       "      <td>Dark Phoenix</td>\n",
       "      <td>...</td>\n",
       "      <td>113.0</td>\n",
       "      <td>Action,Adventure,Sci-Fi</td>\n",
       "      <td>6.0</td>\n",
       "      <td>24451</td>\n",
       "      <td>5</td>\n",
       "      <td>None</td>\n",
       "      <td>None</td>\n",
       "      <td>original</td>\n",
       "      <td>None</td>\n",
       "      <td>1.0</td>\n",
       "    </tr>\n",
       "    <tr>\n",
       "      <th>1</th>\n",
       "      <td>9</td>\n",
       "      <td>2017-11-17</td>\n",
       "      <td>JUSTICE LEAGUE</td>\n",
       "      <td>300000000.0</td>\n",
       "      <td>229024295.0</td>\n",
       "      <td>6.559452e+08</td>\n",
       "      <td>355945209.0</td>\n",
       "      <td>tt0974015</td>\n",
       "      <td>Justice League</td>\n",
       "      <td>Justice League</td>\n",
       "      <td>...</td>\n",
       "      <td>120.0</td>\n",
       "      <td>Action,Adventure,Fantasy</td>\n",
       "      <td>6.5</td>\n",
       "      <td>329135</td>\n",
       "      <td>24</td>\n",
       "      <td>None</td>\n",
       "      <td>None</td>\n",
       "      <td>original</td>\n",
       "      <td>None</td>\n",
       "      <td>1.0</td>\n",
       "    </tr>\n",
       "    <tr>\n",
       "      <th>2</th>\n",
       "      <td>10</td>\n",
       "      <td>2015-11-06</td>\n",
       "      <td>SPECTRE</td>\n",
       "      <td>300000000.0</td>\n",
       "      <td>200074175.0</td>\n",
       "      <td>8.796209e+08</td>\n",
       "      <td>579620923.0</td>\n",
       "      <td>tt2379713</td>\n",
       "      <td>Spectre</td>\n",
       "      <td>Spectre</td>\n",
       "      <td>...</td>\n",
       "      <td>148.0</td>\n",
       "      <td>Action,Adventure,Thriller</td>\n",
       "      <td>6.8</td>\n",
       "      <td>352504</td>\n",
       "      <td>6</td>\n",
       "      <td>None</td>\n",
       "      <td>None</td>\n",
       "      <td>original</td>\n",
       "      <td>None</td>\n",
       "      <td>1.0</td>\n",
       "    </tr>\n",
       "    <tr>\n",
       "      <th>3</th>\n",
       "      <td>11</td>\n",
       "      <td>2012-07-20</td>\n",
       "      <td>THE DARK KNIGHT RISES</td>\n",
       "      <td>275000000.0</td>\n",
       "      <td>448139099.0</td>\n",
       "      <td>1.084439e+09</td>\n",
       "      <td>809439099.0</td>\n",
       "      <td>tt1345836</td>\n",
       "      <td>The Dark Knight Rises</td>\n",
       "      <td>The Dark Knight Rises</td>\n",
       "      <td>...</td>\n",
       "      <td>164.0</td>\n",
       "      <td>Action,Thriller</td>\n",
       "      <td>8.4</td>\n",
       "      <td>1387769</td>\n",
       "      <td>20</td>\n",
       "      <td>None</td>\n",
       "      <td>None</td>\n",
       "      <td>original</td>\n",
       "      <td>None</td>\n",
       "      <td>1.0</td>\n",
       "    </tr>\n",
       "    <tr>\n",
       "      <th>4</th>\n",
       "      <td>13</td>\n",
       "      <td>2013-07-02</td>\n",
       "      <td>THE LONE RANGER</td>\n",
       "      <td>275000000.0</td>\n",
       "      <td>89302115.0</td>\n",
       "      <td>2.600021e+08</td>\n",
       "      <td>-14997885.0</td>\n",
       "      <td>tt1210819</td>\n",
       "      <td>The Lone Ranger</td>\n",
       "      <td>The Lone Ranger</td>\n",
       "      <td>...</td>\n",
       "      <td>150.0</td>\n",
       "      <td>Action,Adventure,Western</td>\n",
       "      <td>6.4</td>\n",
       "      <td>208827</td>\n",
       "      <td>29</td>\n",
       "      <td>None</td>\n",
       "      <td>None</td>\n",
       "      <td>original</td>\n",
       "      <td>None</td>\n",
       "      <td>1.0</td>\n",
       "    </tr>\n",
       "    <tr>\n",
       "      <th>...</th>\n",
       "      <td>...</td>\n",
       "      <td>...</td>\n",
       "      <td>...</td>\n",
       "      <td>...</td>\n",
       "      <td>...</td>\n",
       "      <td>...</td>\n",
       "      <td>...</td>\n",
       "      <td>...</td>\n",
       "      <td>...</td>\n",
       "      <td>...</td>\n",
       "      <td>...</td>\n",
       "      <td>...</td>\n",
       "      <td>...</td>\n",
       "      <td>...</td>\n",
       "      <td>...</td>\n",
       "      <td>...</td>\n",
       "      <td>...</td>\n",
       "      <td>...</td>\n",
       "      <td>...</td>\n",
       "      <td>...</td>\n",
       "      <td>...</td>\n",
       "    </tr>\n",
       "    <tr>\n",
       "      <th>1906</th>\n",
       "      <td>56</td>\n",
       "      <td>2013-01-04</td>\n",
       "      <td>ALL SUPERHEROES MUST DIE</td>\n",
       "      <td>20000.0</td>\n",
       "      <td>0.0</td>\n",
       "      <td>0.000000e+00</td>\n",
       "      <td>-20000.0</td>\n",
       "      <td>tt1836212</td>\n",
       "      <td>All Superheroes Must Die</td>\n",
       "      <td>All Superheroes Must Die</td>\n",
       "      <td>...</td>\n",
       "      <td>78.0</td>\n",
       "      <td>Sci-Fi,Thriller</td>\n",
       "      <td>4.0</td>\n",
       "      <td>1977</td>\n",
       "      <td>6</td>\n",
       "      <td>None</td>\n",
       "      <td>None</td>\n",
       "      <td>original</td>\n",
       "      <td>None</td>\n",
       "      <td>1.0</td>\n",
       "    </tr>\n",
       "    <tr>\n",
       "      <th>1907</th>\n",
       "      <td>59</td>\n",
       "      <td>2011-11-25</td>\n",
       "      <td>THE RIDGES</td>\n",
       "      <td>17300.0</td>\n",
       "      <td>0.0</td>\n",
       "      <td>0.000000e+00</td>\n",
       "      <td>-17300.0</td>\n",
       "      <td>tt1781935</td>\n",
       "      <td>The Ridges</td>\n",
       "      <td>The Ridges</td>\n",
       "      <td>...</td>\n",
       "      <td>89.0</td>\n",
       "      <td>Drama,Horror,Thriller</td>\n",
       "      <td>2.9</td>\n",
       "      <td>127</td>\n",
       "      <td>9</td>\n",
       "      <td>None</td>\n",
       "      <td>None</td>\n",
       "      <td>original</td>\n",
       "      <td>None</td>\n",
       "      <td>1.0</td>\n",
       "    </tr>\n",
       "    <tr>\n",
       "      <th>1908</th>\n",
       "      <td>62</td>\n",
       "      <td>2014-12-31</td>\n",
       "      <td>STORIES OF OUR LIVES</td>\n",
       "      <td>15000.0</td>\n",
       "      <td>0.0</td>\n",
       "      <td>0.000000e+00</td>\n",
       "      <td>-15000.0</td>\n",
       "      <td>tt3973612</td>\n",
       "      <td>Stories of Our Lives</td>\n",
       "      <td>Stories of Our Lives</td>\n",
       "      <td>...</td>\n",
       "      <td>60.0</td>\n",
       "      <td>Drama</td>\n",
       "      <td>7.5</td>\n",
       "      <td>85</td>\n",
       "      <td>2</td>\n",
       "      <td>None</td>\n",
       "      <td>None</td>\n",
       "      <td>original</td>\n",
       "      <td>None</td>\n",
       "      <td>1.0</td>\n",
       "    </tr>\n",
       "    <tr>\n",
       "      <th>1909</th>\n",
       "      <td>73</td>\n",
       "      <td>2012-01-13</td>\n",
       "      <td>NEWLYWEDS</td>\n",
       "      <td>9000.0</td>\n",
       "      <td>4584.0</td>\n",
       "      <td>4.584000e+03</td>\n",
       "      <td>-4416.0</td>\n",
       "      <td>tt1880418</td>\n",
       "      <td>Newlyweds</td>\n",
       "      <td>Newlyweds</td>\n",
       "      <td>...</td>\n",
       "      <td>95.0</td>\n",
       "      <td>Comedy,Drama</td>\n",
       "      <td>6.4</td>\n",
       "      <td>1436</td>\n",
       "      <td>2</td>\n",
       "      <td>None</td>\n",
       "      <td>None</td>\n",
       "      <td>original</td>\n",
       "      <td>None</td>\n",
       "      <td>1.0</td>\n",
       "    </tr>\n",
       "    <tr>\n",
       "      <th>1910</th>\n",
       "      <td>78</td>\n",
       "      <td>2018-12-31</td>\n",
       "      <td>RED 11</td>\n",
       "      <td>7000.0</td>\n",
       "      <td>0.0</td>\n",
       "      <td>0.000000e+00</td>\n",
       "      <td>-7000.0</td>\n",
       "      <td>tt7837402</td>\n",
       "      <td>Red 11</td>\n",
       "      <td>Red 11</td>\n",
       "      <td>...</td>\n",
       "      <td>77.0</td>\n",
       "      <td>Horror,Sci-Fi,Thriller</td>\n",
       "      <td>5.6</td>\n",
       "      <td>43</td>\n",
       "      <td>1</td>\n",
       "      <td>None</td>\n",
       "      <td>None</td>\n",
       "      <td>original</td>\n",
       "      <td>None</td>\n",
       "      <td>1.0</td>\n",
       "    </tr>\n",
       "  </tbody>\n",
       "</table>\n",
       "<p>1911 rows × 21 columns</p>\n",
       "</div>"
      ],
      "text/plain": [
       "      id release_date                     title  production_budget  \\\n",
       "0      3   2019-06-07              DARK PHOENIX        350000000.0   \n",
       "1      9   2017-11-17            JUSTICE LEAGUE        300000000.0   \n",
       "2     10   2015-11-06                   SPECTRE        300000000.0   \n",
       "3     11   2012-07-20     THE DARK KNIGHT RISES        275000000.0   \n",
       "4     13   2013-07-02           THE LONE RANGER        275000000.0   \n",
       "...   ..          ...                       ...                ...   \n",
       "1906  56   2013-01-04  ALL SUPERHEROES MUST DIE            20000.0   \n",
       "1907  59   2011-11-25                THE RIDGES            17300.0   \n",
       "1908  62   2014-12-31      STORIES OF OUR LIVES            15000.0   \n",
       "1909  73   2012-01-13                 NEWLYWEDS             9000.0   \n",
       "1910  78   2018-12-31                    RED 11             7000.0   \n",
       "\n",
       "      domestic_gross  worldwide_gross       profit   movie_id  \\\n",
       "0         42762350.0     1.497624e+08 -200237650.0  tt6565702   \n",
       "1        229024295.0     6.559452e+08  355945209.0  tt0974015   \n",
       "2        200074175.0     8.796209e+08  579620923.0  tt2379713   \n",
       "3        448139099.0     1.084439e+09  809439099.0  tt1345836   \n",
       "4         89302115.0     2.600021e+08  -14997885.0  tt1210819   \n",
       "...              ...              ...          ...        ...   \n",
       "1906             0.0     0.000000e+00     -20000.0  tt1836212   \n",
       "1907             0.0     0.000000e+00     -17300.0  tt1781935   \n",
       "1908             0.0     0.000000e+00     -15000.0  tt3973612   \n",
       "1909          4584.0     4.584000e+03      -4416.0  tt1880418   \n",
       "1910             0.0     0.000000e+00      -7000.0  tt7837402   \n",
       "\n",
       "                 primary_title            original_title  ...  \\\n",
       "0                 Dark Phoenix              Dark Phoenix  ...   \n",
       "1               Justice League            Justice League  ...   \n",
       "2                      Spectre                   Spectre  ...   \n",
       "3        The Dark Knight Rises     The Dark Knight Rises  ...   \n",
       "4              The Lone Ranger           The Lone Ranger  ...   \n",
       "...                        ...                       ...  ...   \n",
       "1906  All Superheroes Must Die  All Superheroes Must Die  ...   \n",
       "1907                The Ridges                The Ridges  ...   \n",
       "1908      Stories of Our Lives      Stories of Our Lives  ...   \n",
       "1909                 Newlyweds                 Newlyweds  ...   \n",
       "1910                    Red 11                    Red 11  ...   \n",
       "\n",
       "      runtime_minutes                     genres averagerating  numvotes  \\\n",
       "0               113.0    Action,Adventure,Sci-Fi           6.0     24451   \n",
       "1               120.0   Action,Adventure,Fantasy           6.5    329135   \n",
       "2               148.0  Action,Adventure,Thriller           6.8    352504   \n",
       "3               164.0            Action,Thriller           8.4   1387769   \n",
       "4               150.0   Action,Adventure,Western           6.4    208827   \n",
       "...               ...                        ...           ...       ...   \n",
       "1906             78.0            Sci-Fi,Thriller           4.0      1977   \n",
       "1907             89.0      Drama,Horror,Thriller           2.9       127   \n",
       "1908             60.0                      Drama           7.5        85   \n",
       "1909             95.0               Comedy,Drama           6.4      1436   \n",
       "1910             77.0     Horror,Sci-Fi,Thriller           5.6        43   \n",
       "\n",
       "      ordering  region language     types attributes is_original_title  \n",
       "0            5    None     None  original       None               1.0  \n",
       "1           24    None     None  original       None               1.0  \n",
       "2            6    None     None  original       None               1.0  \n",
       "3           20    None     None  original       None               1.0  \n",
       "4           29    None     None  original       None               1.0  \n",
       "...        ...     ...      ...       ...        ...               ...  \n",
       "1906         6    None     None  original       None               1.0  \n",
       "1907         9    None     None  original       None               1.0  \n",
       "1908         2    None     None  original       None               1.0  \n",
       "1909         2    None     None  original       None               1.0  \n",
       "1910         1    None     None  original       None               1.0  \n",
       "\n",
       "[1911 rows x 21 columns]"
      ]
     },
     "execution_count": 216,
     "metadata": {},
     "output_type": "execute_result"
    }
   ],
   "source": [
    "data= movie_budgets.merge(sql_dataset_merge1, how= 'inner', left_on='title', right_on= 'title')\n",
    "data"
   ]
  },
  {
   "cell_type": "code",
   "execution_count": 217,
   "metadata": {},
   "outputs": [
    {
     "name": "stdout",
     "output_type": "stream",
     "text": [
      "<class 'pandas.core.frame.DataFrame'>\n",
      "Int64Index: 1911 entries, 0 to 1910\n",
      "Data columns (total 21 columns):\n",
      " #   Column             Non-Null Count  Dtype         \n",
      "---  ------             --------------  -----         \n",
      " 0   id                 1911 non-null   int64         \n",
      " 1   release_date       1911 non-null   datetime64[ns]\n",
      " 2   title              1911 non-null   object        \n",
      " 3   production_budget  1911 non-null   float64       \n",
      " 4   domestic_gross     1911 non-null   float64       \n",
      " 5   worldwide_gross    1911 non-null   float64       \n",
      " 6   profit             1911 non-null   float64       \n",
      " 7   movie_id           1911 non-null   object        \n",
      " 8   primary_title      1911 non-null   object        \n",
      " 9   original_title     1911 non-null   object        \n",
      " 10  start_year         1911 non-null   int64         \n",
      " 11  runtime_minutes    1898 non-null   float64       \n",
      " 12  genres             1909 non-null   object        \n",
      " 13  averagerating      1911 non-null   float64       \n",
      " 14  numvotes           1911 non-null   int64         \n",
      " 15  ordering           1911 non-null   int64         \n",
      " 16  region             0 non-null      object        \n",
      " 17  language           0 non-null      object        \n",
      " 18  types              1911 non-null   object        \n",
      " 19  attributes         0 non-null      object        \n",
      " 20  is_original_title  1911 non-null   float64       \n",
      "dtypes: datetime64[ns](1), float64(7), int64(4), object(9)\n",
      "memory usage: 328.5+ KB\n"
     ]
    }
   ],
   "source": [
    "data.info()"
   ]
  },
  {
   "cell_type": "code",
   "execution_count": 218,
   "metadata": {},
   "outputs": [],
   "source": [
    "dataset= data[[ 'release_date', 'title', 'production_budget',\n",
    "       'domestic_gross', 'worldwide_gross',\n",
    "       'start_year',\n",
    "       'runtime_minutes', 'genres', 'averagerating', 'numvotes', 'ordering']]\n",
    "\n"
   ]
  },
  {
   "cell_type": "markdown",
   "metadata": {},
   "source": [
    "<span style='color: red'>TODO</span>  \n",
    "Van: Justify dropping data"
   ]
  },
  {
   "cell_type": "code",
   "execution_count": 219,
   "metadata": {},
   "outputs": [
    {
     "name": "stdout",
     "output_type": "stream",
     "text": [
      "<class 'pandas.core.frame.DataFrame'>\n",
      "Int64Index: 1896 entries, 0 to 1910\n",
      "Data columns (total 11 columns):\n",
      " #   Column             Non-Null Count  Dtype         \n",
      "---  ------             --------------  -----         \n",
      " 0   release_date       1896 non-null   datetime64[ns]\n",
      " 1   title              1896 non-null   object        \n",
      " 2   production_budget  1896 non-null   float64       \n",
      " 3   domestic_gross     1896 non-null   float64       \n",
      " 4   worldwide_gross    1896 non-null   float64       \n",
      " 5   start_year         1896 non-null   int64         \n",
      " 6   runtime_minutes    1896 non-null   float64       \n",
      " 7   genres             1896 non-null   object        \n",
      " 8   averagerating      1896 non-null   float64       \n",
      " 9   numvotes           1896 non-null   int64         \n",
      " 10  ordering           1896 non-null   int64         \n",
      "dtypes: datetime64[ns](1), float64(5), int64(3), object(2)\n",
      "memory usage: 177.8+ KB\n"
     ]
    }
   ],
   "source": [
    "dataset=dataset.dropna()\n",
    "dataset.info()"
   ]
  },
  {
   "cell_type": "code",
   "execution_count": 220,
   "metadata": {},
   "outputs": [
    {
     "data": {
      "text/html": [
       "<div>\n",
       "<style scoped>\n",
       "    .dataframe tbody tr th:only-of-type {\n",
       "        vertical-align: middle;\n",
       "    }\n",
       "\n",
       "    .dataframe tbody tr th {\n",
       "        vertical-align: top;\n",
       "    }\n",
       "\n",
       "    .dataframe thead th {\n",
       "        text-align: right;\n",
       "    }\n",
       "</style>\n",
       "<table border=\"1\" class=\"dataframe\">\n",
       "  <thead>\n",
       "    <tr style=\"text-align: right;\">\n",
       "      <th></th>\n",
       "      <th>release_date</th>\n",
       "      <th>title</th>\n",
       "      <th>production_budget</th>\n",
       "      <th>domestic_gross</th>\n",
       "      <th>worldwide_gross</th>\n",
       "      <th>start_year</th>\n",
       "      <th>runtime_minutes</th>\n",
       "      <th>genres</th>\n",
       "      <th>averagerating</th>\n",
       "      <th>numvotes</th>\n",
       "      <th>ordering</th>\n",
       "      <th>profit</th>\n",
       "      <th>foreign_gross</th>\n",
       "      <th>profit_ratio</th>\n",
       "    </tr>\n",
       "  </thead>\n",
       "  <tbody>\n",
       "    <tr>\n",
       "      <th>1885</th>\n",
       "      <td>2015-07-10</td>\n",
       "      <td>THE GALLOWS</td>\n",
       "      <td>100000.0</td>\n",
       "      <td>22764410.0</td>\n",
       "      <td>41656474.0</td>\n",
       "      <td>2015</td>\n",
       "      <td>81.0</td>\n",
       "      <td>Horror,Mystery,Thriller</td>\n",
       "      <td>4.2</td>\n",
       "      <td>17763</td>\n",
       "      <td>15</td>\n",
       "      <td>41556474.0</td>\n",
       "      <td>18892064.0</td>\n",
       "      <td>414.564740</td>\n",
       "    </tr>\n",
       "    <tr>\n",
       "      <th>1801</th>\n",
       "      <td>1942-08-13</td>\n",
       "      <td>BAMBI</td>\n",
       "      <td>858000.0</td>\n",
       "      <td>102797000.0</td>\n",
       "      <td>268000000.0</td>\n",
       "      <td>2013</td>\n",
       "      <td>58.0</td>\n",
       "      <td>Biography,Documentary</td>\n",
       "      <td>7.0</td>\n",
       "      <td>101</td>\n",
       "      <td>2</td>\n",
       "      <td>267142000.0</td>\n",
       "      <td>165203000.0</td>\n",
       "      <td>310.354312</td>\n",
       "    </tr>\n",
       "    <tr>\n",
       "      <th>1504</th>\n",
       "      <td>1968-10-01</td>\n",
       "      <td>NIGHT OF THE LIVING DEAD</td>\n",
       "      <td>114000.0</td>\n",
       "      <td>12087064.0</td>\n",
       "      <td>30087064.0</td>\n",
       "      <td>2014</td>\n",
       "      <td>79.0</td>\n",
       "      <td>Horror</td>\n",
       "      <td>5.3</td>\n",
       "      <td>277</td>\n",
       "      <td>1</td>\n",
       "      <td>29973064.0</td>\n",
       "      <td>18000000.0</td>\n",
       "      <td>261.921614</td>\n",
       "    </tr>\n",
       "    <tr>\n",
       "      <th>1036</th>\n",
       "      <td>1978-10-17</td>\n",
       "      <td>HALLOWEEN</td>\n",
       "      <td>325000.0</td>\n",
       "      <td>47000000.0</td>\n",
       "      <td>70000000.0</td>\n",
       "      <td>2018</td>\n",
       "      <td>106.0</td>\n",
       "      <td>Horror,Thriller</td>\n",
       "      <td>6.6</td>\n",
       "      <td>88395</td>\n",
       "      <td>11</td>\n",
       "      <td>69675000.0</td>\n",
       "      <td>23000000.0</td>\n",
       "      <td>213.384615</td>\n",
       "    </tr>\n",
       "    <tr>\n",
       "      <th>1759</th>\n",
       "      <td>2012-01-06</td>\n",
       "      <td>THE DEVIL INSIDE</td>\n",
       "      <td>1000000.0</td>\n",
       "      <td>53262945.0</td>\n",
       "      <td>101759490.0</td>\n",
       "      <td>2012</td>\n",
       "      <td>83.0</td>\n",
       "      <td>Horror</td>\n",
       "      <td>4.2</td>\n",
       "      <td>33522</td>\n",
       "      <td>14</td>\n",
       "      <td>100759490.0</td>\n",
       "      <td>48496545.0</td>\n",
       "      <td>99.759490</td>\n",
       "    </tr>\n",
       "  </tbody>\n",
       "</table>\n",
       "</div>"
      ],
      "text/plain": [
       "     release_date                     title  production_budget  \\\n",
       "1885   2015-07-10               THE GALLOWS           100000.0   \n",
       "1801   1942-08-13                     BAMBI           858000.0   \n",
       "1504   1968-10-01  NIGHT OF THE LIVING DEAD           114000.0   \n",
       "1036   1978-10-17                 HALLOWEEN           325000.0   \n",
       "1759   2012-01-06          THE DEVIL INSIDE          1000000.0   \n",
       "\n",
       "      domestic_gross  worldwide_gross  start_year  runtime_minutes  \\\n",
       "1885      22764410.0       41656474.0        2015             81.0   \n",
       "1801     102797000.0      268000000.0        2013             58.0   \n",
       "1504      12087064.0       30087064.0        2014             79.0   \n",
       "1036      47000000.0       70000000.0        2018            106.0   \n",
       "1759      53262945.0      101759490.0        2012             83.0   \n",
       "\n",
       "                       genres  averagerating  numvotes  ordering       profit  \\\n",
       "1885  Horror,Mystery,Thriller            4.2     17763        15   41556474.0   \n",
       "1801    Biography,Documentary            7.0       101         2  267142000.0   \n",
       "1504                   Horror            5.3       277         1   29973064.0   \n",
       "1036          Horror,Thriller            6.6     88395        11   69675000.0   \n",
       "1759                   Horror            4.2     33522        14  100759490.0   \n",
       "\n",
       "      foreign_gross  profit_ratio  \n",
       "1885     18892064.0    414.564740  \n",
       "1801    165203000.0    310.354312  \n",
       "1504     18000000.0    261.921614  \n",
       "1036     23000000.0    213.384615  \n",
       "1759     48496545.0     99.759490  "
      ]
     },
     "execution_count": 220,
     "metadata": {},
     "output_type": "execute_result"
    }
   ],
   "source": [
    "## calulate profit by subtracting gross and budget and foreign gross by subtracting gross and budget domestic_gross\n",
    "dataset['profit']= dataset['worldwide_gross']- dataset['production_budget']\n",
    "dataset['foreign_gross']= dataset['worldwide_gross']- dataset['domestic_gross']\n",
    "# dataset.loc[dataset['profit'] < 0, 'profit']= 0\n",
    "##calulate profit ratio\n",
    "dataset['profit_ratio'] = (dataset['profit'] - dataset['production_budget']) / dataset['production_budget']\n",
    "## top 5 greatest profit ratio \n",
    "dataset.sort_values(['profit_ratio'], ascending=False).head()"
   ]
  },
  {
   "cell_type": "markdown",
   "metadata": {},
   "source": [
    "I want to split up the genres column cells so we can tally each genre individually. Next I'll remove the 'genres' column (with multiple values) and replace it with a 'genre' column (with single values). Then I'll make sure that there is a new row for each genre, so there will be multiple rows with the same movie_title.\n"
   ]
  },
  {
   "cell_type": "code",
   "execution_count": 221,
   "metadata": {},
   "outputs": [
    {
     "ename": "NameError",
     "evalue": "name 'dataset' is not defined",
     "output_type": "error",
     "traceback": [
      "\u001b[1;31m---------------------------------------------------------------------------\u001b[0m",
      "\u001b[1;31mNameError\u001b[0m                                 Traceback (most recent call last)",
      "\u001b[1;32m<ipython-input-2-912be5cb4189>\u001b[0m in \u001b[0;36m<module>\u001b[1;34m\u001b[0m\n\u001b[1;32m----> 1\u001b[1;33m \u001b[0mdf_split_genre\u001b[0m \u001b[1;33m=\u001b[0m \u001b[0mdataset\u001b[0m\u001b[1;33m.\u001b[0m\u001b[0mcopy\u001b[0m\u001b[1;33m(\u001b[0m\u001b[1;33m)\u001b[0m\u001b[1;33m\u001b[0m\u001b[1;33m\u001b[0m\u001b[0m\n\u001b[0m\u001b[0;32m      2\u001b[0m \u001b[0msplit_genre\u001b[0m \u001b[1;33m=\u001b[0m \u001b[0mdf_split_genre\u001b[0m\u001b[1;33m[\u001b[0m\u001b[1;34m'genres'\u001b[0m\u001b[1;33m]\u001b[0m\u001b[1;33m.\u001b[0m\u001b[0mstr\u001b[0m\u001b[1;33m.\u001b[0m\u001b[0msplit\u001b[0m\u001b[1;33m(\u001b[0m\u001b[1;34m','\u001b[0m\u001b[1;33m)\u001b[0m\u001b[1;33m.\u001b[0m\u001b[0mapply\u001b[0m\u001b[1;33m(\u001b[0m\u001b[0mpd\u001b[0m\u001b[1;33m.\u001b[0m\u001b[0mSeries\u001b[0m\u001b[1;33m,\u001b[0m \u001b[1;36m1\u001b[0m\u001b[1;33m)\u001b[0m\u001b[1;33m.\u001b[0m\u001b[0mstack\u001b[0m\u001b[1;33m(\u001b[0m\u001b[1;33m)\u001b[0m\u001b[1;33m.\u001b[0m\u001b[0mreset_index\u001b[0m\u001b[1;33m(\u001b[0m\u001b[0mlevel\u001b[0m\u001b[1;33m=\u001b[0m\u001b[1;36m1\u001b[0m\u001b[1;33m,\u001b[0m \u001b[0mdrop\u001b[0m\u001b[1;33m=\u001b[0m\u001b[1;32mTrue\u001b[0m\u001b[1;33m)\u001b[0m\u001b[1;33m\u001b[0m\u001b[1;33m\u001b[0m\u001b[0m\n\u001b[0;32m      3\u001b[0m \u001b[0msplit_genre\u001b[0m\u001b[1;33m.\u001b[0m\u001b[0mname\u001b[0m \u001b[1;33m=\u001b[0m \u001b[1;34m'genre_split'\u001b[0m\u001b[1;33m\u001b[0m\u001b[1;33m\u001b[0m\u001b[0m\n\u001b[0;32m      4\u001b[0m \u001b[0mdf_split_genre\u001b[0m \u001b[1;33m=\u001b[0m \u001b[0mdf_split_genre\u001b[0m\u001b[1;33m.\u001b[0m\u001b[0mdrop\u001b[0m\u001b[1;33m(\u001b[0m\u001b[1;33m[\u001b[0m\u001b[1;34m'genres'\u001b[0m\u001b[1;33m]\u001b[0m\u001b[1;33m,\u001b[0m \u001b[0maxis\u001b[0m\u001b[1;33m=\u001b[0m\u001b[1;36m1\u001b[0m\u001b[1;33m)\u001b[0m\u001b[1;33m.\u001b[0m\u001b[0mjoin\u001b[0m\u001b[1;33m(\u001b[0m\u001b[0msplit_genre\u001b[0m\u001b[1;33m)\u001b[0m\u001b[1;33m\u001b[0m\u001b[1;33m\u001b[0m\u001b[0m\n\u001b[0;32m      5\u001b[0m \u001b[1;33m\u001b[0m\u001b[0m\n",
      "\u001b[1;31mNameError\u001b[0m: name 'dataset' is not defined"
     ]
    }
   ],
   "source": [
    "df_split_genre = dataset.copy()\n",
    "split_genre = df_split_genre['genres'].str.split(',').apply(pd.Series, 1).stack().reset_index(level=1, drop=True)\n",
    "split_genre.name = 'genre_split'\n",
    "df_split_genre = df_split_genre.drop(['genres'], axis=1).join(split_genre)\n",
    "\n",
    "# limit data to 2010-present\n",
    "df_split_genre = df_split_genre.loc[df_split_genre['release_date'].dt.year >= 2010]"
   ]
  },
  {
   "cell_type": "code",
   "execution_count": 222,
   "metadata": {},
   "outputs": [
    {
     "name": "stdout",
     "output_type": "stream",
     "text": [
      "<class 'pandas.core.frame.DataFrame'>\n",
      "Int64Index: 4154 entries, 0 to 1910\n",
      "Data columns (total 14 columns):\n",
      " #   Column             Non-Null Count  Dtype         \n",
      "---  ------             --------------  -----         \n",
      " 0   release_date       4154 non-null   datetime64[ns]\n",
      " 1   title              4154 non-null   object        \n",
      " 2   production_budget  4154 non-null   float64       \n",
      " 3   domestic_gross     4154 non-null   float64       \n",
      " 4   worldwide_gross    4154 non-null   float64       \n",
      " 5   start_year         4154 non-null   int64         \n",
      " 6   runtime_minutes    4154 non-null   float64       \n",
      " 7   averagerating      4154 non-null   float64       \n",
      " 8   numvotes           4154 non-null   int64         \n",
      " 9   ordering           4154 non-null   int64         \n",
      " 10  profit             4154 non-null   float64       \n",
      " 11  foreign_gross      4154 non-null   float64       \n",
      " 12  profit_ratio       4154 non-null   float64       \n",
      " 13  genre_split        4154 non-null   object        \n",
      "dtypes: datetime64[ns](1), float64(8), int64(3), object(2)\n",
      "memory usage: 486.8+ KB\n"
     ]
    }
   ],
   "source": [
    "df_split_genre.info()"
   ]
  },
  {
   "cell_type": "code",
   "execution_count": 223,
   "metadata": {},
   "outputs": [
    {
     "data": {
      "text/plain": [
       "array(['Action', 'Adventure', 'Sci-Fi', 'Fantasy', 'Thriller', 'Western',\n",
       "       'Animation', 'Comedy', 'Crime', 'Drama', 'Family', 'Horror',\n",
       "       'Romance', 'Mystery', 'Musical', 'History', 'Sport', 'Documentary',\n",
       "       'Biography', 'War', 'Music'], dtype=object)"
      ]
     },
     "execution_count": 223,
     "metadata": {},
     "output_type": "execute_result"
    }
   ],
   "source": [
    "df_split_genre['genre_split'].unique()\n"
   ]
  },
  {
   "cell_type": "markdown",
   "metadata": {},
   "source": [
    "<span style='color: red'>TODO</span>  \n",
    "Remove extraneous text below?"
   ]
  },
  {
   "cell_type": "code",
   "execution_count": 224,
   "metadata": {},
   "outputs": [],
   "source": [
    "##create a new column, tital_gross_level, to splice the worldwide gross column into groups: low (under a million), mediun (millions), and high (billions).\n",
    "\n",
    "# bin_edges = [0, 1e+06, 1e+09, 2048134200.0]\n",
    "# bin_names = ['under_million', 'millions', 'billions']\n",
    "# dataset['total_gross_level'] = pd.cut(dataset['worldwide_gross'], bin_edges, labels=bin_names)\n",
    "# dataset['total_gross_level'].value_counts()"
   ]
  },
  {
   "cell_type": "markdown",
   "metadata": {},
   "source": [
    "### Visualize dataset"
   ]
  },
  {
   "cell_type": "code",
   "execution_count": 225,
   "metadata": {},
   "outputs": [
    {
     "data": {
      "image/png": "[encoded data removed]",
      "text/plain": [
       "<Figure size 432x288 with 1 Axes>"
      ]
     },
     "metadata": {
      "needs_background": "light"
     },
     "output_type": "display_data"
    }
   ],
   "source": [
    "df_split_genre['genre_split'].value_counts().plot(kind='bar', color='g');\n",
    "plt.title('Movies by Genre, 2010-2020', size=18)\n",
    "plt.xlabel('Genre', size=12)\n",
    "plt.ylabel('Movie count', size=12);"
   ]
  },
  {
   "cell_type": "markdown",
   "metadata": {},
   "source": [
    "In terms of the number of releases worldwide, dramas and comedies top the list ( in North America) between 2010 and 2020 as more than 500 comedy films were released and over 900 drama films have been released."
   ]
  },
  {
   "cell_type": "code",
   "execution_count": 226,
   "metadata": {},
   "outputs": [
    {
     "data": {
      "image/png": "[encoded data removed]",
      "text/plain": [
       "<Figure size 432x288 with 1 Axes>"
      ]
     },
     "metadata": {
      "needs_background": "light"
     },
     "output_type": "display_data"
    }
   ],
   "source": [
    "#line gross\n",
    "# df_split_genre['start_year']= df_split_genre['release_date'].dt.year\n",
    "gross_mean= df_split_genre.groupby(df_split_genre['start_year'])['worldwide_gross'].mean()\n",
    "#print(gross_mean)\n",
    "plt.plot(gross_mean)\n",
    "plt.title('Gross over the Years', size=15);\n",
    "plt.xlabel('Decade', size=12)\n",
    "plt.ylabel('Average Revenue', size=12);"
   ]
  },
  {
   "cell_type": "code",
   "execution_count": 227,
   "metadata": {},
   "outputs": [
    {
     "data": {
      "text/plain": [
       "genre_split\n",
       "War           -0.140078\n",
       "Western       -0.136391\n",
       "Crime          0.125456\n",
       "History        0.535570\n",
       "Action         0.654628\n",
       "Documentary    0.775998\n",
       "Family         0.828353\n",
       "Adventure      0.936586\n",
       "Sci-Fi         1.179491\n",
       "Comedy         1.217256\n",
       "Musical        1.320480\n",
       "Drama          1.366886\n",
       "Biography      1.427146\n",
       "Romance        1.535262\n",
       "Music          1.544313\n",
       "Animation      1.548393\n",
       "Sport          1.683029\n",
       "Fantasy        1.706606\n",
       "Thriller       4.088951\n",
       "Horror         6.590527\n",
       "Mystery        7.189304\n",
       "Name: profit_ratio, dtype: float64"
      ]
     },
     "execution_count": 227,
     "metadata": {},
     "output_type": "execute_result"
    }
   ],
   "source": [
    "df_split_genre.groupby('genre_split')['profit_ratio'].mean().sort_values()"
   ]
  },
  {
   "cell_type": "code",
   "execution_count": 228,
   "metadata": {},
   "outputs": [],
   "source": [
    "genre_profit=df_split_genre[['genre_split','profit_ratio']].sort_values('genre_split').reset_index(level=0, drop=True)\n",
    "# # generate a boxplot to see the data distribution by treatments. Using boxplot, we can \n",
    "# # easily detect the differences between different genre\n",
    "\n",
    "# ax = sns.boxplot(x='genre_split', y='profit_ratio', data=genre_profit)\n",
    "# plt.xticks(rotation=45)\n",
    "\n",
    "# plt.show()"
   ]
  },
  {
   "cell_type": "markdown",
   "metadata": {},
   "source": [
    "### Hypothesis testing\n",
    "\n",
    "<span style=\"color: red;\">TODO</span>  \n",
    "Declare H0/HA; set alpha=0.05"
   ]
  },
  {
   "cell_type": "code",
   "execution_count": 229,
   "metadata": {},
   "outputs": [
    {
     "data": {
      "text/html": [
       "<div>\n",
       "<style scoped>\n",
       "    .dataframe tbody tr th:only-of-type {\n",
       "        vertical-align: middle;\n",
       "    }\n",
       "\n",
       "    .dataframe tbody tr th {\n",
       "        vertical-align: top;\n",
       "    }\n",
       "\n",
       "    .dataframe thead th {\n",
       "        text-align: right;\n",
       "    }\n",
       "</style>\n",
       "<table border=\"1\" class=\"dataframe\">\n",
       "  <thead>\n",
       "    <tr style=\"text-align: right;\">\n",
       "      <th></th>\n",
       "      <th>sum_sq</th>\n",
       "      <th>df</th>\n",
       "      <th>F</th>\n",
       "      <th>PR(&gt;F)</th>\n",
       "    </tr>\n",
       "  </thead>\n",
       "  <tbody>\n",
       "    <tr>\n",
       "      <th>C(genre_split)</th>\n",
       "      <td>13362.988836</td>\n",
       "      <td>20.0</td>\n",
       "      <td>4.299643</td>\n",
       "      <td>4.868152e-10</td>\n",
       "    </tr>\n",
       "    <tr>\n",
       "      <th>Residual</th>\n",
       "      <td>642253.633366</td>\n",
       "      <td>4133.0</td>\n",
       "      <td>NaN</td>\n",
       "      <td>NaN</td>\n",
       "    </tr>\n",
       "  </tbody>\n",
       "</table>\n",
       "</div>"
      ],
      "text/plain": [
       "                       sum_sq      df         F        PR(>F)\n",
       "C(genre_split)   13362.988836    20.0  4.299643  4.868152e-10\n",
       "Residual        642253.633366  4133.0       NaN           NaN"
      ]
     },
     "execution_count": 229,
     "metadata": {},
     "output_type": "execute_result"
    }
   ],
   "source": [
    "import statsmodels.api as sm\n",
    "from statsmodels.formula.api import ols\n",
    "\n",
    "# Ordinary Least Squares (OLS) model\n",
    "model = ols('profit_ratio ~ C(genre_split)', data=genre_profit).fit()\n",
    "anova_table = sm.stats.anova_lm(model, typ=2)\n",
    "anova_table\n"
   ]
  },
  {
   "cell_type": "markdown",
   "metadata": {},
   "source": [
    "The p value obtained from ANOVA analysis is significant (p < 0.05), and therefore, we conclude that there are significant differences among genre."
   ]
  },
  {
   "cell_type": "code",
   "execution_count": 230,
   "metadata": {},
   "outputs": [
    {
     "data": {
      "image/png": "[encoded data removed]",
      "text/plain": [
       "<Figure size 432x288 with 1 Axes>"
      ]
     },
     "metadata": {
      "needs_background": "light"
     },
     "output_type": "display_data"
    }
   ],
   "source": [
    "profit_ratio_genre=df_split_genre.groupby('genre_split')['profit_ratio'].mean().sort_values()\n",
    "profit_ratio_genre.plot(kind='bar', color='y');\n",
    "plt.title('Profit ratio vs Genre, 2010-2020', size=18)\n",
    "plt.xlabel('Genre', size=12)\n",
    "plt.ylabel('Movie count', size=12);"
   ]
  },
  {
   "cell_type": "code",
   "execution_count": 231,
   "metadata": {},
   "outputs": [],
   "source": [
    "  \n",
    "# display model summary\n",
    "#print(model.summary())\n"
   ]
  },
  {
   "cell_type": "markdown",
   "metadata": {},
   "source": [
    "From ANOVA analysis, we know that genre differences are statistically significant, but ANOVA does not tell which genre are significantly different from each other. To know the pairs of significant different treatments, we will perform multiple pairwise comparison (post hoc comparison) analysis for all unplanned comparison using Tukey’s honestly significantly differenced (HSD) test.\n",
    "\n",
    "Note: When the ANOVA is significant, post hoc tests are used to see differences between specific groups. post hoc tests control the family-wise error rate (inflated type I error rate) due to multiple comparisons. post hoc tests adjust the p values (Bonferroni correction) or critical value (Tukey's HSD test).\n",
    "\n",
    "We have Tukey’s HSD test for multiple comparisons and corrects for family-wise error rate (FWER) (inflated type I error)\n",
    " \n",
    " \n",
    " Link reference:https://www.reneshbedre.com/blog/anova.html"
   ]
  },
  {
   "cell_type": "code",
   "execution_count": 232,
   "metadata": {},
   "outputs": [],
   "source": [
    "# !pip install bioinfokit;"
   ]
  },
  {
   "cell_type": "code",
   "execution_count": 233,
   "metadata": {},
   "outputs": [
    {
     "data": {
      "text/html": [
       "<div>\n",
       "<style scoped>\n",
       "    .dataframe tbody tr th:only-of-type {\n",
       "        vertical-align: middle;\n",
       "    }\n",
       "\n",
       "    .dataframe tbody tr th {\n",
       "        vertical-align: top;\n",
       "    }\n",
       "\n",
       "    .dataframe thead th {\n",
       "        text-align: right;\n",
       "    }\n",
       "</style>\n",
       "<table border=\"1\" class=\"dataframe\">\n",
       "  <thead>\n",
       "    <tr style=\"text-align: right;\">\n",
       "      <th></th>\n",
       "      <th>group1</th>\n",
       "      <th>group2</th>\n",
       "      <th>Diff</th>\n",
       "      <th>Lower</th>\n",
       "      <th>Upper</th>\n",
       "      <th>q-value</th>\n",
       "      <th>p-value</th>\n",
       "    </tr>\n",
       "  </thead>\n",
       "  <tbody>\n",
       "    <tr>\n",
       "      <th>0</th>\n",
       "      <td>Action</td>\n",
       "      <td>Adventure</td>\n",
       "      <td>0.281958</td>\n",
       "      <td>-3.038747</td>\n",
       "      <td>3.602664</td>\n",
       "      <td>0.428875</td>\n",
       "      <td>0.9</td>\n",
       "    </tr>\n",
       "    <tr>\n",
       "      <th>1</th>\n",
       "      <td>Action</td>\n",
       "      <td>Animation</td>\n",
       "      <td>0.893765</td>\n",
       "      <td>-4.179816</td>\n",
       "      <td>5.967346</td>\n",
       "      <td>0.889784</td>\n",
       "      <td>0.9</td>\n",
       "    </tr>\n",
       "    <tr>\n",
       "      <th>2</th>\n",
       "      <td>Action</td>\n",
       "      <td>Biography</td>\n",
       "      <td>0.772518</td>\n",
       "      <td>-3.444216</td>\n",
       "      <td>4.989253</td>\n",
       "      <td>0.925355</td>\n",
       "      <td>0.9</td>\n",
       "    </tr>\n",
       "    <tr>\n",
       "      <th>3</th>\n",
       "      <td>Action</td>\n",
       "      <td>Comedy</td>\n",
       "      <td>0.562629</td>\n",
       "      <td>-2.341882</td>\n",
       "      <td>3.467140</td>\n",
       "      <td>0.978419</td>\n",
       "      <td>0.9</td>\n",
       "    </tr>\n",
       "    <tr>\n",
       "      <th>4</th>\n",
       "      <td>Action</td>\n",
       "      <td>Crime</td>\n",
       "      <td>0.529172</td>\n",
       "      <td>-2.930290</td>\n",
       "      <td>3.988634</td>\n",
       "      <td>0.772617</td>\n",
       "      <td>0.9</td>\n",
       "    </tr>\n",
       "    <tr>\n",
       "      <th>...</th>\n",
       "      <td>...</td>\n",
       "      <td>...</td>\n",
       "      <td>...</td>\n",
       "      <td>...</td>\n",
       "      <td>...</td>\n",
       "      <td>...</td>\n",
       "      <td>...</td>\n",
       "    </tr>\n",
       "    <tr>\n",
       "      <th>205</th>\n",
       "      <td>Sport</td>\n",
       "      <td>War</td>\n",
       "      <td>1.823107</td>\n",
       "      <td>-9.882158</td>\n",
       "      <td>13.528371</td>\n",
       "      <td>0.786696</td>\n",
       "      <td>0.9</td>\n",
       "    </tr>\n",
       "    <tr>\n",
       "      <th>206</th>\n",
       "      <td>Sport</td>\n",
       "      <td>Western</td>\n",
       "      <td>1.819420</td>\n",
       "      <td>-12.052073</td>\n",
       "      <td>15.690914</td>\n",
       "      <td>0.662500</td>\n",
       "      <td>0.9</td>\n",
       "    </tr>\n",
       "    <tr>\n",
       "      <th>207</th>\n",
       "      <td>Thriller</td>\n",
       "      <td>War</td>\n",
       "      <td>4.229029</td>\n",
       "      <td>-5.382440</td>\n",
       "      <td>13.840498</td>\n",
       "      <td>2.222424</td>\n",
       "      <td>0.9</td>\n",
       "    </tr>\n",
       "    <tr>\n",
       "      <th>208</th>\n",
       "      <td>Thriller</td>\n",
       "      <td>Western</td>\n",
       "      <td>4.225342</td>\n",
       "      <td>-7.931362</td>\n",
       "      <td>16.382046</td>\n",
       "      <td>1.755586</td>\n",
       "      <td>0.9</td>\n",
       "    </tr>\n",
       "    <tr>\n",
       "      <th>209</th>\n",
       "      <td>War</td>\n",
       "      <td>Western</td>\n",
       "      <td>0.003687</td>\n",
       "      <td>-15.088583</td>\n",
       "      <td>15.095956</td>\n",
       "      <td>0.001234</td>\n",
       "      <td>0.9</td>\n",
       "    </tr>\n",
       "  </tbody>\n",
       "</table>\n",
       "<p>210 rows × 7 columns</p>\n",
       "</div>"
      ],
      "text/plain": [
       "       group1     group2      Diff      Lower      Upper   q-value  p-value\n",
       "0      Action  Adventure  0.281958  -3.038747   3.602664  0.428875      0.9\n",
       "1      Action  Animation  0.893765  -4.179816   5.967346  0.889784      0.9\n",
       "2      Action  Biography  0.772518  -3.444216   4.989253  0.925355      0.9\n",
       "3      Action     Comedy  0.562629  -2.341882   3.467140  0.978419      0.9\n",
       "4      Action      Crime  0.529172  -2.930290   3.988634  0.772617      0.9\n",
       "..        ...        ...       ...        ...        ...       ...      ...\n",
       "205     Sport        War  1.823107  -9.882158  13.528371  0.786696      0.9\n",
       "206     Sport    Western  1.819420 -12.052073  15.690914  0.662500      0.9\n",
       "207  Thriller        War  4.229029  -5.382440  13.840498  2.222424      0.9\n",
       "208  Thriller    Western  4.225342  -7.931362  16.382046  1.755586      0.9\n",
       "209       War    Western  0.003687 -15.088583  15.095956  0.001234      0.9\n",
       "\n",
       "[210 rows x 7 columns]"
      ]
     },
     "execution_count": 233,
     "metadata": {},
     "output_type": "execute_result"
    }
   ],
   "source": [
    "# we will use bioinfokit (v1.0.3 or later) for performing tukey HSD test\n",
    "# check documentation here https://github.com/reneshbedre/bioinfokit\n",
    "##install bioinfokit package\n",
    "from bioinfokit.analys import stat\n",
    "# perform multiple pairwise comparison (Tukey's HSD)\n",
    "# unequal sample size data, tukey_hsd uses Tukey-Kramer test\n",
    "res = stat()\n",
    "res.tukey_hsd(df=genre_profit, res_var='profit_ratio', xfac_var='genre_split', anova_model='profit_ratio ~ C(genre_split)')\n",
    "res.tukey_summary"
   ]
  },
  {
   "cell_type": "code",
   "execution_count": null,
   "metadata": {},
   "outputs": [],
   "source": []
  },
  {
   "cell_type": "code",
   "execution_count": 234,
   "metadata": {},
   "outputs": [
    {
     "data": {
      "text/html": [
       "<div>\n",
       "<style scoped>\n",
       "    .dataframe tbody tr th:only-of-type {\n",
       "        vertical-align: middle;\n",
       "    }\n",
       "\n",
       "    .dataframe tbody tr th {\n",
       "        vertical-align: top;\n",
       "    }\n",
       "\n",
       "    .dataframe thead th {\n",
       "        text-align: right;\n",
       "    }\n",
       "</style>\n",
       "<table border=\"1\" class=\"dataframe\">\n",
       "  <thead>\n",
       "    <tr style=\"text-align: right;\">\n",
       "      <th></th>\n",
       "      <th>group1</th>\n",
       "      <th>group2</th>\n",
       "      <th>Diff</th>\n",
       "      <th>Lower</th>\n",
       "      <th>Upper</th>\n",
       "      <th>q-value</th>\n",
       "      <th>p-value</th>\n",
       "    </tr>\n",
       "  </thead>\n",
       "  <tbody>\n",
       "    <tr>\n",
       "      <th>10</th>\n",
       "      <td>Action</td>\n",
       "      <td>Horror</td>\n",
       "      <td>5.935899</td>\n",
       "      <td>2.239476</td>\n",
       "      <td>9.632323</td>\n",
       "      <td>8.111120</td>\n",
       "      <td>0.001000</td>\n",
       "    </tr>\n",
       "    <tr>\n",
       "      <th>125</th>\n",
       "      <td>Drama</td>\n",
       "      <td>Mystery</td>\n",
       "      <td>5.822418</td>\n",
       "      <td>1.874750</td>\n",
       "      <td>9.770086</td>\n",
       "      <td>7.449700</td>\n",
       "      <td>0.001000</td>\n",
       "    </tr>\n",
       "    <tr>\n",
       "      <th>122</th>\n",
       "      <td>Drama</td>\n",
       "      <td>Horror</td>\n",
       "      <td>5.223641</td>\n",
       "      <td>1.876899</td>\n",
       "      <td>8.570383</td>\n",
       "      <td>7.883646</td>\n",
       "      <td>0.001000</td>\n",
       "    </tr>\n",
       "    <tr>\n",
       "      <th>98</th>\n",
       "      <td>Crime</td>\n",
       "      <td>Mystery</td>\n",
       "      <td>7.063848</td>\n",
       "      <td>2.513201</td>\n",
       "      <td>11.614495</td>\n",
       "      <td>7.840509</td>\n",
       "      <td>0.001000</td>\n",
       "    </tr>\n",
       "    <tr>\n",
       "      <th>83</th>\n",
       "      <td>Comedy</td>\n",
       "      <td>Mystery</td>\n",
       "      <td>5.972047</td>\n",
       "      <td>1.827570</td>\n",
       "      <td>10.116524</td>\n",
       "      <td>7.278293</td>\n",
       "      <td>0.001000</td>\n",
       "    </tr>\n",
       "    <tr>\n",
       "      <th>80</th>\n",
       "      <td>Comedy</td>\n",
       "      <td>Horror</td>\n",
       "      <td>5.373270</td>\n",
       "      <td>1.796500</td>\n",
       "      <td>8.950041</td>\n",
       "      <td>7.587935</td>\n",
       "      <td>0.001000</td>\n",
       "    </tr>\n",
       "    <tr>\n",
       "      <th>95</th>\n",
       "      <td>Crime</td>\n",
       "      <td>Horror</td>\n",
       "      <td>6.465071</td>\n",
       "      <td>2.424652</td>\n",
       "      <td>10.505490</td>\n",
       "      <td>8.082076</td>\n",
       "      <td>0.001000</td>\n",
       "    </tr>\n",
       "    <tr>\n",
       "      <th>32</th>\n",
       "      <td>Adventure</td>\n",
       "      <td>Mystery</td>\n",
       "      <td>6.252718</td>\n",
       "      <td>1.806642</td>\n",
       "      <td>10.698794</td>\n",
       "      <td>7.103428</td>\n",
       "      <td>0.001000</td>\n",
       "    </tr>\n",
       "    <tr>\n",
       "      <th>29</th>\n",
       "      <td>Adventure</td>\n",
       "      <td>Horror</td>\n",
       "      <td>5.653941</td>\n",
       "      <td>1.731672</td>\n",
       "      <td>9.576210</td>\n",
       "      <td>7.280982</td>\n",
       "      <td>0.001000</td>\n",
       "    </tr>\n",
       "    <tr>\n",
       "      <th>13</th>\n",
       "      <td>Action</td>\n",
       "      <td>Mystery</td>\n",
       "      <td>6.534676</td>\n",
       "      <td>2.286506</td>\n",
       "      <td>10.782846</td>\n",
       "      <td>7.769592</td>\n",
       "      <td>0.001000</td>\n",
       "    </tr>\n",
       "    <tr>\n",
       "      <th>189</th>\n",
       "      <td>Mystery</td>\n",
       "      <td>Romance</td>\n",
       "      <td>5.654042</td>\n",
       "      <td>0.929332</td>\n",
       "      <td>10.378751</td>\n",
       "      <td>6.044493</td>\n",
       "      <td>0.003527</td>\n",
       "    </tr>\n",
       "    <tr>\n",
       "      <th>168</th>\n",
       "      <td>Horror</td>\n",
       "      <td>Romance</td>\n",
       "      <td>5.055265</td>\n",
       "      <td>0.819762</td>\n",
       "      <td>9.290767</td>\n",
       "      <td>6.028580</td>\n",
       "      <td>0.003700</td>\n",
       "    </tr>\n",
       "    <tr>\n",
       "      <th>190</th>\n",
       "      <td>Mystery</td>\n",
       "      <td>Sci-Fi</td>\n",
       "      <td>6.009813</td>\n",
       "      <td>0.721216</td>\n",
       "      <td>11.298410</td>\n",
       "      <td>5.739796</td>\n",
       "      <td>0.008548</td>\n",
       "    </tr>\n",
       "    <tr>\n",
       "      <th>67</th>\n",
       "      <td>Biography</td>\n",
       "      <td>Mystery</td>\n",
       "      <td>5.762158</td>\n",
       "      <td>0.612269</td>\n",
       "      <td>10.912047</td>\n",
       "      <td>5.651494</td>\n",
       "      <td>0.010918</td>\n",
       "    </tr>\n",
       "    <tr>\n",
       "      <th>169</th>\n",
       "      <td>Horror</td>\n",
       "      <td>Sci-Fi</td>\n",
       "      <td>5.411036</td>\n",
       "      <td>0.554509</td>\n",
       "      <td>10.267563</td>\n",
       "      <td>5.627696</td>\n",
       "      <td>0.011657</td>\n",
       "    </tr>\n",
       "    <tr>\n",
       "      <th>64</th>\n",
       "      <td>Biography</td>\n",
       "      <td>Horror</td>\n",
       "      <td>5.163381</td>\n",
       "      <td>0.458282</td>\n",
       "      <td>9.868480</td>\n",
       "      <td>5.542956</td>\n",
       "      <td>0.014666</td>\n",
       "    </tr>\n",
       "    <tr>\n",
       "      <th>102</th>\n",
       "      <td>Crime</td>\n",
       "      <td>Thriller</td>\n",
       "      <td>3.963495</td>\n",
       "      <td>0.288001</td>\n",
       "      <td>7.638989</td>\n",
       "      <td>5.446765</td>\n",
       "      <td>0.018906</td>\n",
       "    </tr>\n",
       "    <tr>\n",
       "      <th>137</th>\n",
       "      <td>Family</td>\n",
       "      <td>Mystery</td>\n",
       "      <td>6.360951</td>\n",
       "      <td>0.324114</td>\n",
       "      <td>12.397788</td>\n",
       "      <td>5.322169</td>\n",
       "      <td>0.025974</td>\n",
       "    </tr>\n",
       "    <tr>\n",
       "      <th>17</th>\n",
       "      <td>Action</td>\n",
       "      <td>Thriller</td>\n",
       "      <td>3.434323</td>\n",
       "      <td>0.140720</td>\n",
       "      <td>6.727926</td>\n",
       "      <td>5.266789</td>\n",
       "      <td>0.029864</td>\n",
       "    </tr>\n",
       "    <tr>\n",
       "      <th>134</th>\n",
       "      <td>Family</td>\n",
       "      <td>Horror</td>\n",
       "      <td>5.762174</td>\n",
       "      <td>0.100019</td>\n",
       "      <td>11.424329</td>\n",
       "      <td>5.140207</td>\n",
       "      <td>0.040674</td>\n",
       "    </tr>\n",
       "  </tbody>\n",
       "</table>\n",
       "</div>"
      ],
      "text/plain": [
       "        group1    group2      Diff     Lower      Upper   q-value   p-value\n",
       "10      Action    Horror  5.935899  2.239476   9.632323  8.111120  0.001000\n",
       "125      Drama   Mystery  5.822418  1.874750   9.770086  7.449700  0.001000\n",
       "122      Drama    Horror  5.223641  1.876899   8.570383  7.883646  0.001000\n",
       "98       Crime   Mystery  7.063848  2.513201  11.614495  7.840509  0.001000\n",
       "83      Comedy   Mystery  5.972047  1.827570  10.116524  7.278293  0.001000\n",
       "80      Comedy    Horror  5.373270  1.796500   8.950041  7.587935  0.001000\n",
       "95       Crime    Horror  6.465071  2.424652  10.505490  8.082076  0.001000\n",
       "32   Adventure   Mystery  6.252718  1.806642  10.698794  7.103428  0.001000\n",
       "29   Adventure    Horror  5.653941  1.731672   9.576210  7.280982  0.001000\n",
       "13      Action   Mystery  6.534676  2.286506  10.782846  7.769592  0.001000\n",
       "189    Mystery   Romance  5.654042  0.929332  10.378751  6.044493  0.003527\n",
       "168     Horror   Romance  5.055265  0.819762   9.290767  6.028580  0.003700\n",
       "190    Mystery    Sci-Fi  6.009813  0.721216  11.298410  5.739796  0.008548\n",
       "67   Biography   Mystery  5.762158  0.612269  10.912047  5.651494  0.010918\n",
       "169     Horror    Sci-Fi  5.411036  0.554509  10.267563  5.627696  0.011657\n",
       "64   Biography    Horror  5.163381  0.458282   9.868480  5.542956  0.014666\n",
       "102      Crime  Thriller  3.963495  0.288001   7.638989  5.446765  0.018906\n",
       "137     Family   Mystery  6.360951  0.324114  12.397788  5.322169  0.025974\n",
       "17      Action  Thriller  3.434323  0.140720   6.727926  5.266789  0.029864\n",
       "134     Family    Horror  5.762174  0.100019  11.424329  5.140207  0.040674"
      ]
     },
     "execution_count": 234,
     "metadata": {},
     "output_type": "execute_result"
    }
   ],
   "source": [
    "##filter p-value less than 0.05\n",
    "res.tukey_summary[res.tukey_summary['p-value']< 0.05].sort_values('p-value')"
   ]
  },
  {
   "cell_type": "markdown",
   "metadata": {},
   "source": [
    "Above results from Tukey’s HSD suggests that all other pairwise comparisons for treatments rejects null hypothesis (p < 0.05) and indicates statistical significant differences."
   ]
  },
  {
   "cell_type": "markdown",
   "metadata": {},
   "source": [
    "# Nate work\n",
    "<span style='color: red'>TODO</span>  \n",
    "Rename this"
   ]
  },
  {
   "cell_type": "markdown",
   "metadata": {},
   "source": [
    "### Creating New Columns\n",
    "<span style=\"color: red;\">TODO</span>  \n",
    "Add markdown to explain feature engineering"
   ]
  },
  {
   "cell_type": "code",
   "execution_count": 235,
   "metadata": {},
   "outputs": [
    {
     "data": {
      "text/html": [
       "<div>\n",
       "<style scoped>\n",
       "    .dataframe tbody tr th:only-of-type {\n",
       "        vertical-align: middle;\n",
       "    }\n",
       "\n",
       "    .dataframe tbody tr th {\n",
       "        vertical-align: top;\n",
       "    }\n",
       "\n",
       "    .dataframe thead th {\n",
       "        text-align: right;\n",
       "    }\n",
       "</style>\n",
       "<table border=\"1\" class=\"dataframe\">\n",
       "  <thead>\n",
       "    <tr style=\"text-align: right;\">\n",
       "      <th></th>\n",
       "      <th>id</th>\n",
       "      <th>review</th>\n",
       "      <th>rating</th>\n",
       "      <th>fresh</th>\n",
       "      <th>critic</th>\n",
       "      <th>top_critic</th>\n",
       "      <th>publisher</th>\n",
       "      <th>date</th>\n",
       "      <th>num_stars</th>\n",
       "      <th>out_of_stars</th>\n",
       "      <th>rating_out_of_10</th>\n",
       "    </tr>\n",
       "  </thead>\n",
       "  <tbody>\n",
       "    <tr>\n",
       "      <th>0</th>\n",
       "      <td>3</td>\n",
       "      <td>A distinctly gallows take on contemporary fina...</td>\n",
       "      <td>3/5</td>\n",
       "      <td>1.0</td>\n",
       "      <td>PJ Nabarro</td>\n",
       "      <td>0</td>\n",
       "      <td>Patrick Nabarro</td>\n",
       "      <td>November 10, 2018</td>\n",
       "      <td>3.0</td>\n",
       "      <td>5.0</td>\n",
       "      <td>6.0</td>\n",
       "    </tr>\n",
       "    <tr>\n",
       "      <th>1</th>\n",
       "      <td>3</td>\n",
       "      <td>It's an allegory in search of a meaning that n...</td>\n",
       "      <td>-1/1</td>\n",
       "      <td>0.0</td>\n",
       "      <td>Annalee Newitz</td>\n",
       "      <td>0</td>\n",
       "      <td>io9.com</td>\n",
       "      <td>May 23, 2018</td>\n",
       "      <td>-1.0</td>\n",
       "      <td>1.0</td>\n",
       "      <td>-10.0</td>\n",
       "    </tr>\n",
       "    <tr>\n",
       "      <th>2</th>\n",
       "      <td>3</td>\n",
       "      <td>... life lived in a bubble in financial dealin...</td>\n",
       "      <td>-1/1</td>\n",
       "      <td>1.0</td>\n",
       "      <td>Sean Axmaker</td>\n",
       "      <td>0</td>\n",
       "      <td>Stream on Demand</td>\n",
       "      <td>January 4, 2018</td>\n",
       "      <td>-1.0</td>\n",
       "      <td>1.0</td>\n",
       "      <td>-10.0</td>\n",
       "    </tr>\n",
       "    <tr>\n",
       "      <th>3</th>\n",
       "      <td>3</td>\n",
       "      <td>Continuing along a line introduced in last yea...</td>\n",
       "      <td>-1/1</td>\n",
       "      <td>1.0</td>\n",
       "      <td>Daniel Kasman</td>\n",
       "      <td>0</td>\n",
       "      <td>MUBI</td>\n",
       "      <td>November 16, 2017</td>\n",
       "      <td>-1.0</td>\n",
       "      <td>1.0</td>\n",
       "      <td>-10.0</td>\n",
       "    </tr>\n",
       "    <tr>\n",
       "      <th>4</th>\n",
       "      <td>3</td>\n",
       "      <td>... a perverse twist on neorealism...</td>\n",
       "      <td>-1/1</td>\n",
       "      <td>1.0</td>\n",
       "      <td>NaN</td>\n",
       "      <td>0</td>\n",
       "      <td>Cinema Scope</td>\n",
       "      <td>October 12, 2017</td>\n",
       "      <td>-1.0</td>\n",
       "      <td>1.0</td>\n",
       "      <td>-10.0</td>\n",
       "    </tr>\n",
       "  </tbody>\n",
       "</table>\n",
       "</div>"
      ],
      "text/plain": [
       "   id                                             review rating  fresh  \\\n",
       "0   3  A distinctly gallows take on contemporary fina...    3/5    1.0   \n",
       "1   3  It's an allegory in search of a meaning that n...   -1/1    0.0   \n",
       "2   3  ... life lived in a bubble in financial dealin...   -1/1    1.0   \n",
       "3   3  Continuing along a line introduced in last yea...   -1/1    1.0   \n",
       "4   3             ... a perverse twist on neorealism...    -1/1    1.0   \n",
       "\n",
       "           critic  top_critic         publisher               date  num_stars  \\\n",
       "0      PJ Nabarro           0   Patrick Nabarro  November 10, 2018        3.0   \n",
       "1  Annalee Newitz           0           io9.com       May 23, 2018       -1.0   \n",
       "2    Sean Axmaker           0  Stream on Demand    January 4, 2018       -1.0   \n",
       "3   Daniel Kasman           0              MUBI  November 16, 2017       -1.0   \n",
       "4             NaN           0      Cinema Scope   October 12, 2017       -1.0   \n",
       "\n",
       "   out_of_stars  rating_out_of_10  \n",
       "0           5.0               6.0  \n",
       "1           1.0             -10.0  \n",
       "2           1.0             -10.0  \n",
       "3           1.0             -10.0  \n",
       "4           1.0             -10.0  "
      ]
     },
     "execution_count": 235,
     "metadata": {},
     "output_type": "execute_result"
    }
   ],
   "source": [
    "reviews['num_stars'] = reviews['rating'].map(lambda x : float(x.split('/')[0]))\n",
    "reviews['out_of_stars'] = reviews['rating'].map(lambda x : float(x.split('/')[1]))\n",
    "reviews['rating_out_of_10'] = reviews['num_stars'] / reviews['out_of_stars'] * 10\n",
    "reviews.head()"
   ]
  },
  {
   "cell_type": "code",
   "execution_count": 236,
   "metadata": {},
   "outputs": [],
   "source": [
    "reviews['rating'].replace('-1/1', np.nan, inplace=True)\n",
    "reviews['num_stars'].replace(-1.0, np.nan, inplace=True)\n",
    "reviews['out_of_stars'].replace(1.0, np.nan, inplace=True)\n",
    "reviews['rating_out_of_10'].replace(-10.0, np.nan, inplace=True)"
   ]
  },
  {
   "cell_type": "markdown",
   "metadata": {},
   "source": [
    "# Exploratory Data Analysis on Rotten Tomatoes Reviews"
   ]
  },
  {
   "cell_type": "code",
   "execution_count": 237,
   "metadata": {
    "scrolled": true
   },
   "outputs": [
    {
     "data": {
      "text/html": [
       "<div>\n",
       "<style scoped>\n",
       "    .dataframe tbody tr th:only-of-type {\n",
       "        vertical-align: middle;\n",
       "    }\n",
       "\n",
       "    .dataframe tbody tr th {\n",
       "        vertical-align: top;\n",
       "    }\n",
       "\n",
       "    .dataframe thead th {\n",
       "        text-align: right;\n",
       "    }\n",
       "</style>\n",
       "<table border=\"1\" class=\"dataframe\">\n",
       "  <thead>\n",
       "    <tr style=\"text-align: right;\">\n",
       "      <th></th>\n",
       "      <th>id</th>\n",
       "      <th>review</th>\n",
       "      <th>rating</th>\n",
       "      <th>fresh</th>\n",
       "      <th>critic</th>\n",
       "      <th>top_critic</th>\n",
       "      <th>publisher</th>\n",
       "      <th>date</th>\n",
       "      <th>num_stars</th>\n",
       "      <th>out_of_stars</th>\n",
       "      <th>rating_out_of_10</th>\n",
       "    </tr>\n",
       "  </thead>\n",
       "  <tbody>\n",
       "    <tr>\n",
       "      <th>0</th>\n",
       "      <td>3</td>\n",
       "      <td>A distinctly gallows take on contemporary fina...</td>\n",
       "      <td>3/5</td>\n",
       "      <td>1.0</td>\n",
       "      <td>PJ Nabarro</td>\n",
       "      <td>0</td>\n",
       "      <td>Patrick Nabarro</td>\n",
       "      <td>November 10, 2018</td>\n",
       "      <td>3.0</td>\n",
       "      <td>5.0</td>\n",
       "      <td>6.0</td>\n",
       "    </tr>\n",
       "    <tr>\n",
       "      <th>1</th>\n",
       "      <td>3</td>\n",
       "      <td>It's an allegory in search of a meaning that n...</td>\n",
       "      <td>NaN</td>\n",
       "      <td>0.0</td>\n",
       "      <td>Annalee Newitz</td>\n",
       "      <td>0</td>\n",
       "      <td>io9.com</td>\n",
       "      <td>May 23, 2018</td>\n",
       "      <td>NaN</td>\n",
       "      <td>NaN</td>\n",
       "      <td>NaN</td>\n",
       "    </tr>\n",
       "    <tr>\n",
       "      <th>2</th>\n",
       "      <td>3</td>\n",
       "      <td>... life lived in a bubble in financial dealin...</td>\n",
       "      <td>NaN</td>\n",
       "      <td>1.0</td>\n",
       "      <td>Sean Axmaker</td>\n",
       "      <td>0</td>\n",
       "      <td>Stream on Demand</td>\n",
       "      <td>January 4, 2018</td>\n",
       "      <td>NaN</td>\n",
       "      <td>NaN</td>\n",
       "      <td>NaN</td>\n",
       "    </tr>\n",
       "    <tr>\n",
       "      <th>3</th>\n",
       "      <td>3</td>\n",
       "      <td>Continuing along a line introduced in last yea...</td>\n",
       "      <td>NaN</td>\n",
       "      <td>1.0</td>\n",
       "      <td>Daniel Kasman</td>\n",
       "      <td>0</td>\n",
       "      <td>MUBI</td>\n",
       "      <td>November 16, 2017</td>\n",
       "      <td>NaN</td>\n",
       "      <td>NaN</td>\n",
       "      <td>NaN</td>\n",
       "    </tr>\n",
       "    <tr>\n",
       "      <th>4</th>\n",
       "      <td>3</td>\n",
       "      <td>... a perverse twist on neorealism...</td>\n",
       "      <td>NaN</td>\n",
       "      <td>1.0</td>\n",
       "      <td>NaN</td>\n",
       "      <td>0</td>\n",
       "      <td>Cinema Scope</td>\n",
       "      <td>October 12, 2017</td>\n",
       "      <td>NaN</td>\n",
       "      <td>NaN</td>\n",
       "      <td>NaN</td>\n",
       "    </tr>\n",
       "  </tbody>\n",
       "</table>\n",
       "</div>"
      ],
      "text/plain": [
       "   id                                             review rating  fresh  \\\n",
       "0   3  A distinctly gallows take on contemporary fina...    3/5    1.0   \n",
       "1   3  It's an allegory in search of a meaning that n...    NaN    0.0   \n",
       "2   3  ... life lived in a bubble in financial dealin...    NaN    1.0   \n",
       "3   3  Continuing along a line introduced in last yea...    NaN    1.0   \n",
       "4   3             ... a perverse twist on neorealism...     NaN    1.0   \n",
       "\n",
       "           critic  top_critic         publisher               date  num_stars  \\\n",
       "0      PJ Nabarro           0   Patrick Nabarro  November 10, 2018        3.0   \n",
       "1  Annalee Newitz           0           io9.com       May 23, 2018        NaN   \n",
       "2    Sean Axmaker           0  Stream on Demand    January 4, 2018        NaN   \n",
       "3   Daniel Kasman           0              MUBI  November 16, 2017        NaN   \n",
       "4             NaN           0      Cinema Scope   October 12, 2017        NaN   \n",
       "\n",
       "   out_of_stars  rating_out_of_10  \n",
       "0           5.0               6.0  \n",
       "1           NaN               NaN  \n",
       "2           NaN               NaN  \n",
       "3           NaN               NaN  \n",
       "4           NaN               NaN  "
      ]
     },
     "execution_count": 237,
     "metadata": {},
     "output_type": "execute_result"
    }
   ],
   "source": [
    "reviews.head()"
   ]
  },
  {
   "cell_type": "code",
   "execution_count": 239,
   "metadata": {},
   "outputs": [
    {
     "data": {
      "text/plain": [
       "54423"
      ]
     },
     "execution_count": 239,
     "metadata": {},
     "output_type": "execute_result"
    }
   ],
   "source": [
    "len(reviews)"
   ]
  },
  {
   "cell_type": "code",
   "execution_count": 241,
   "metadata": {},
   "outputs": [
    {
     "data": {
      "image/png": "[encoded data removed]",
      "text/plain": [
       "<Figure size 864x432 with 1 Axes>"
      ]
     },
     "metadata": {
      "needs_background": "light"
     },
     "output_type": "display_data"
    }
   ],
   "source": [
    "reviews['rating_out_of_10'].plot(figsize=(12,6), kind='hist', title='Distribution of rating (out of 10)');"
   ]
  },
  {
   "cell_type": "code",
   "execution_count": 242,
   "metadata": {},
   "outputs": [
    {
     "data": {
      "text/plain": [
       "5.91708490119365"
      ]
     },
     "execution_count": 242,
     "metadata": {},
     "output_type": "execute_result"
    }
   ],
   "source": [
    "reviews['rating_out_of_10'].mean()"
   ]
  },
  {
   "cell_type": "code",
   "execution_count": 243,
   "metadata": {},
   "outputs": [
    {
     "data": {
      "text/plain": [
       "6.0"
      ]
     },
     "execution_count": 243,
     "metadata": {},
     "output_type": "execute_result"
    }
   ],
   "source": [
    "reviews['rating_out_of_10'].median()"
   ]
  },
  {
   "cell_type": "code",
   "execution_count": 244,
   "metadata": {},
   "outputs": [
    {
     "data": {
      "text/plain": [
       "0    6.0\n",
       "dtype: float64"
      ]
     },
     "execution_count": 244,
     "metadata": {},
     "output_type": "execute_result"
    }
   ],
   "source": [
    "reviews['rating_out_of_10'].mode()"
   ]
  },
  {
   "cell_type": "markdown",
   "metadata": {},
   "source": [
    "We have found that movies average **6 out of 10 stars**. We could consider movies with below 6 out of 10 stars to be below average and movies with above 6 out of 10 stars to be above average."
   ]
  },
  {
   "cell_type": "markdown",
   "metadata": {},
   "source": [
    "# Research Question\n",
    "Do a **director's previous movie ratings** relate to the **profit** that their movies generate?"
   ]
  },
  {
   "cell_type": "markdown",
   "metadata": {},
   "source": [
    "## Approach\n",
    "To answer this question, we will begin by creating two groups of directors - those with a \"good\" average rating, and those with a \"bad\" average rating. We will determine a threshold by which we can classify ratings as \"good\" or \"bad\" by investigating the distribution of Rotten Tomatoes rating data within movies classified by Rotten Tomatoes as \"fresh\" and those classified as \"rotten\", as well as considering the results from the exploratory data analysis performed above.\n",
    "\n",
    "Upon choosing a threshold, we will use IMDB databases joined with movie budget data from The Numbers to calculate mean movie rating by director along with the director's mean profit. In particular, we are interested in established directors - those who have received over 1,000 reviews and have worked on at least two movies. We will then split these directors into two groups - one group with mean ratings of greater than or equal to the threshold, and one with mean ratings below the threshold.\n",
    "\n",
    "We will then investigate whether there is a relationship between mean rating by director and their mean profit. We will conduct a hypothesis test to determine if the mean profit for established directors with the higher mean ratings is greater than that of established directors with the lower mean ratings."
   ]
  },
  {
   "cell_type": "markdown",
   "metadata": {},
   "source": [
    "### Determining a Threshold"
   ]
  },
  {
   "cell_type": "code",
   "execution_count": 246,
   "metadata": {},
   "outputs": [],
   "source": [
    "rotten_tomatoes = movie_info.merge(reviews, on='id')"
   ]
  },
  {
   "cell_type": "code",
   "execution_count": 248,
   "metadata": {},
   "outputs": [],
   "source": [
    "fresh_reviews = rotten_tomatoes.loc[rotten_tomatoes['fresh'] == 1]\n",
    "rotten_reviews = rotten_tomatoes.loc[rotten_tomatoes['fresh'] == 0]"
   ]
  },
  {
   "cell_type": "code",
   "execution_count": 249,
   "metadata": {},
   "outputs": [
    {
     "name": "stderr",
     "output_type": "stream",
     "text": [
      "C:\\Users\\clineman\\Anaconda3\\envs\\learn-env\\lib\\site-packages\\numpy\\lib\\histograms.py:839: RuntimeWarning: invalid value encountered in greater_equal\n",
      "  keep = (tmp_a >= first_edge)\n",
      "C:\\Users\\clineman\\Anaconda3\\envs\\learn-env\\lib\\site-packages\\numpy\\lib\\histograms.py:840: RuntimeWarning: invalid value encountered in less_equal\n",
      "  keep &= (tmp_a <= last_edge)\n"
     ]
    },
    {
     "data": {
      "image/png": "[encoded data removed]",
      "text/plain": [
       "<Figure size 864x432 with 1 Axes>"
      ]
     },
     "metadata": {
      "needs_background": "light"
     },
     "output_type": "display_data"
    }
   ],
   "source": [
    "fig, ax = plt.subplots(figsize=(12,6))\n",
    "ax.hist(fresh_reviews['rating_out_of_10'], alpha=0.5)\n",
    "ax.hist(rotten_reviews['rating_out_of_10'], alpha=0.5)\n",
    "ax.set_title(\"Fresh vs. Rotten Reviews (out of 10)\")\n",
    "ax.set_xlabel(\"Rating (out of 10)\")\n",
    "ax.set_ylabel(\"Frequency\")\n",
    "ax.legend(['Fresh','Rotten'])\n",
    "plt.axvline(x=6, color='black', lw=3);"
   ]
  },
  {
   "cell_type": "markdown",
   "metadata": {},
   "source": [
    "Based upon the visualization above, as well as the distribution of ratings investigated in the preceding exploratory data analysis on Rotten Tomatoes reviews, we will set our threshold to **6 out of 10**."
   ]
  },
  {
   "cell_type": "markdown",
   "metadata": {},
   "source": [
    "### Gathering Data"
   ]
  },
  {
   "cell_type": "code",
   "execution_count": 250,
   "metadata": {},
   "outputs": [],
   "source": [
    "movie_budgets['profit'] = movie_budgets['worldwide_gross']-movie_budgets['production_budget']"
   ]
  },
  {
   "cell_type": "code",
   "execution_count": 251,
   "metadata": {},
   "outputs": [],
   "source": [
    "directorRatings = pd.read_sql(\"\"\"\n",
    "    SELECT \n",
    "    persons.primary_name AS director, movie_basics.original_title AS title, movie_ratings.averagerating AS AVG_Movie_rating\n",
    "    FROM persons\n",
    "    JOIN principals\n",
    "        USING(person_id)\n",
    "    JOIN movie_basics\n",
    "        USING(movie_id)\n",
    "    JOIN movie_ratings\n",
    "        USING(movie_id)\n",
    "    GROUP BY persons.primary_name\n",
    "    HAVING principals.category == 'director' AND movie_ratings.numvotes >= 1000 AND COUNT(movie_ratings.movie_id) > 1\n",
    "    ORDER BY AVG_Movie_rating DESC\n",
    "  ;\n",
    "\"\"\", conn)"
   ]
  },
  {
   "cell_type": "code",
   "execution_count": 252,
   "metadata": {},
   "outputs": [],
   "source": [
    "directorRatings['title'] = directorRatings['title'].str.upper()"
   ]
  },
  {
   "cell_type": "code",
   "execution_count": 255,
   "metadata": {},
   "outputs": [],
   "source": [
    "budgetJoinDirector = movie_budgets.merge(directorRatings, left_on = 'title', right_on='title')"
   ]
  },
  {
   "cell_type": "markdown",
   "metadata": {},
   "source": [
    "To obtain relevant data, we will only focus on data since **2010**:"
   ]
  },
  {
   "cell_type": "code",
   "execution_count": 258,
   "metadata": {},
   "outputs": [],
   "source": [
    "budgetJoinDirector['year'] = budgetJoinDirector['release_date'].dt.year"
   ]
  },
  {
   "cell_type": "code",
   "execution_count": 260,
   "metadata": {},
   "outputs": [],
   "source": [
    "budgetJoinDirector = budgetJoinDirector.loc[budgetJoinDirector['year'] >= 2010]"
   ]
  },
  {
   "cell_type": "code",
   "execution_count": 263,
   "metadata": {},
   "outputs": [],
   "source": [
    "budgetJoinDirector=budgetJoinDirector.drop('id', axis =1)\n",
    "budgetJoinDirector=budgetJoinDirector.drop('release_date', axis =1)\n",
    "budgetJoinDirector=budgetJoinDirector.drop('title', axis =1)\n"
   ]
  },
  {
   "cell_type": "code",
   "execution_count": 264,
   "metadata": {},
   "outputs": [],
   "source": [
    "budgetJoinDirector['profit'] = budgetJoinDirector['worldwide_gross']-budgetJoinDirector['production_budget']\n",
    "budgetJoinDirector['profitRatio'] = (budgetJoinDirector['worldwide_gross'] - budgetJoinDirector['production_budget'])/ budgetJoinDirector['production_budget']"
   ]
  },
  {
   "cell_type": "code",
   "execution_count": 266,
   "metadata": {},
   "outputs": [
    {
     "data": {
      "text/html": [
       "<div>\n",
       "<style scoped>\n",
       "    .dataframe tbody tr th:only-of-type {\n",
       "        vertical-align: middle;\n",
       "    }\n",
       "\n",
       "    .dataframe tbody tr th {\n",
       "        vertical-align: top;\n",
       "    }\n",
       "\n",
       "    .dataframe thead th {\n",
       "        text-align: right;\n",
       "    }\n",
       "</style>\n",
       "<table border=\"1\" class=\"dataframe\">\n",
       "  <thead>\n",
       "    <tr style=\"text-align: right;\">\n",
       "      <th></th>\n",
       "      <th>production_budget</th>\n",
       "      <th>domestic_gross</th>\n",
       "      <th>worldwide_gross</th>\n",
       "      <th>profit</th>\n",
       "      <th>AVG_Movie_rating</th>\n",
       "      <th>year</th>\n",
       "      <th>profitRatio</th>\n",
       "    </tr>\n",
       "    <tr>\n",
       "      <th>director</th>\n",
       "      <th></th>\n",
       "      <th></th>\n",
       "      <th></th>\n",
       "      <th></th>\n",
       "      <th></th>\n",
       "      <th></th>\n",
       "      <th></th>\n",
       "    </tr>\n",
       "  </thead>\n",
       "  <tbody>\n",
       "    <tr>\n",
       "      <th>Lee Unkrich</th>\n",
       "      <td>200000000.0</td>\n",
       "      <td>415004880.0</td>\n",
       "      <td>1.068880e+09</td>\n",
       "      <td>868879522.0</td>\n",
       "      <td>8.3</td>\n",
       "      <td>2010.0</td>\n",
       "      <td>4.344398</td>\n",
       "    </tr>\n",
       "    <tr>\n",
       "      <th>Charles Ferguson</th>\n",
       "      <td>2000000.0</td>\n",
       "      <td>4311834.0</td>\n",
       "      <td>7.799257e+06</td>\n",
       "      <td>5799257.0</td>\n",
       "      <td>8.3</td>\n",
       "      <td>2010.0</td>\n",
       "      <td>2.899628</td>\n",
       "    </tr>\n",
       "    <tr>\n",
       "      <th>Denis Villeneuve</th>\n",
       "      <td>6800000.0</td>\n",
       "      <td>6857096.0</td>\n",
       "      <td>1.603834e+07</td>\n",
       "      <td>9238343.0</td>\n",
       "      <td>8.3</td>\n",
       "      <td>2010.0</td>\n",
       "      <td>1.358580</td>\n",
       "    </tr>\n",
       "    <tr>\n",
       "      <th>Sadyk Sher-Niyaz</th>\n",
       "      <td>1400000.0</td>\n",
       "      <td>0.0</td>\n",
       "      <td>0.000000e+00</td>\n",
       "      <td>-1400000.0</td>\n",
       "      <td>8.3</td>\n",
       "      <td>2014.0</td>\n",
       "      <td>-1.000000</td>\n",
       "    </tr>\n",
       "    <tr>\n",
       "      <th>Asghar Farhadi</th>\n",
       "      <td>800000.0</td>\n",
       "      <td>7098492.0</td>\n",
       "      <td>2.442617e+07</td>\n",
       "      <td>23626169.0</td>\n",
       "      <td>8.3</td>\n",
       "      <td>2011.0</td>\n",
       "      <td>29.532711</td>\n",
       "    </tr>\n",
       "    <tr>\n",
       "      <th>...</th>\n",
       "      <td>...</td>\n",
       "      <td>...</td>\n",
       "      <td>...</td>\n",
       "      <td>...</td>\n",
       "      <td>...</td>\n",
       "      <td>...</td>\n",
       "      <td>...</td>\n",
       "    </tr>\n",
       "    <tr>\n",
       "      <th>Aaron Seltzer</th>\n",
       "      <td>20000000.0</td>\n",
       "      <td>36661504.0</td>\n",
       "      <td>8.142499e+07</td>\n",
       "      <td>61424988.0</td>\n",
       "      <td>3.4</td>\n",
       "      <td>2010.0</td>\n",
       "      <td>3.071249</td>\n",
       "    </tr>\n",
       "    <tr>\n",
       "      <th>Jason Friedberg</th>\n",
       "      <td>20000000.0</td>\n",
       "      <td>36661504.0</td>\n",
       "      <td>8.142499e+07</td>\n",
       "      <td>61424988.0</td>\n",
       "      <td>3.4</td>\n",
       "      <td>2010.0</td>\n",
       "      <td>3.071249</td>\n",
       "    </tr>\n",
       "    <tr>\n",
       "      <th>Gabriela Tagliavini</th>\n",
       "      <td>4700000.0</td>\n",
       "      <td>0.0</td>\n",
       "      <td>0.000000e+00</td>\n",
       "      <td>-4700000.0</td>\n",
       "      <td>3.3</td>\n",
       "      <td>2011.0</td>\n",
       "      <td>-1.000000</td>\n",
       "    </tr>\n",
       "    <tr>\n",
       "      <th>Dennis Dugan</th>\n",
       "      <td>79000000.0</td>\n",
       "      <td>74158157.0</td>\n",
       "      <td>1.505192e+08</td>\n",
       "      <td>71519217.0</td>\n",
       "      <td>3.3</td>\n",
       "      <td>2011.0</td>\n",
       "      <td>0.905307</td>\n",
       "    </tr>\n",
       "    <tr>\n",
       "      <th>Vic Armstrong</th>\n",
       "      <td>16000000.0</td>\n",
       "      <td>14019924.0</td>\n",
       "      <td>2.076921e+07</td>\n",
       "      <td>4769209.0</td>\n",
       "      <td>3.1</td>\n",
       "      <td>2014.0</td>\n",
       "      <td>0.298076</td>\n",
       "    </tr>\n",
       "  </tbody>\n",
       "</table>\n",
       "<p>484 rows × 7 columns</p>\n",
       "</div>"
      ],
      "text/plain": [
       "                     production_budget  domestic_gross  worldwide_gross  \\\n",
       "director                                                                  \n",
       "Lee Unkrich                200000000.0     415004880.0     1.068880e+09   \n",
       "Charles Ferguson             2000000.0       4311834.0     7.799257e+06   \n",
       "Denis Villeneuve             6800000.0       6857096.0     1.603834e+07   \n",
       "Sadyk Sher-Niyaz             1400000.0             0.0     0.000000e+00   \n",
       "Asghar Farhadi                800000.0       7098492.0     2.442617e+07   \n",
       "...                                ...             ...              ...   \n",
       "Aaron Seltzer               20000000.0      36661504.0     8.142499e+07   \n",
       "Jason Friedberg             20000000.0      36661504.0     8.142499e+07   \n",
       "Gabriela Tagliavini          4700000.0             0.0     0.000000e+00   \n",
       "Dennis Dugan                79000000.0      74158157.0     1.505192e+08   \n",
       "Vic Armstrong               16000000.0      14019924.0     2.076921e+07   \n",
       "\n",
       "                          profit  AVG_Movie_rating    year  profitRatio  \n",
       "director                                                                 \n",
       "Lee Unkrich          868879522.0               8.3  2010.0     4.344398  \n",
       "Charles Ferguson       5799257.0               8.3  2010.0     2.899628  \n",
       "Denis Villeneuve       9238343.0               8.3  2010.0     1.358580  \n",
       "Sadyk Sher-Niyaz      -1400000.0               8.3  2014.0    -1.000000  \n",
       "Asghar Farhadi        23626169.0               8.3  2011.0    29.532711  \n",
       "...                          ...               ...     ...          ...  \n",
       "Aaron Seltzer         61424988.0               3.4  2010.0     3.071249  \n",
       "Jason Friedberg       61424988.0               3.4  2010.0     3.071249  \n",
       "Gabriela Tagliavini   -4700000.0               3.3  2011.0    -1.000000  \n",
       "Dennis Dugan          71519217.0               3.3  2011.0     0.905307  \n",
       "Vic Armstrong          4769209.0               3.1  2014.0     0.298076  \n",
       "\n",
       "[484 rows x 7 columns]"
      ]
     },
     "execution_count": 266,
     "metadata": {},
     "output_type": "execute_result"
    }
   ],
   "source": [
    "budgetJoinDirector.groupby('director').mean().sort_values('AVG_Movie_rating', ascending = False)"
   ]
  },
  {
   "cell_type": "code",
   "execution_count": 267,
   "metadata": {},
   "outputs": [],
   "source": [
    "budgetJoinDirector['positive_review'] = budgetJoinDirector['AVG_Movie_rating'] >= 6"
   ]
  },
  {
   "cell_type": "code",
   "execution_count": 268,
   "metadata": {},
   "outputs": [
    {
     "data": {
      "text/html": [
       "<div>\n",
       "<style scoped>\n",
       "    .dataframe tbody tr th:only-of-type {\n",
       "        vertical-align: middle;\n",
       "    }\n",
       "\n",
       "    .dataframe tbody tr th {\n",
       "        vertical-align: top;\n",
       "    }\n",
       "\n",
       "    .dataframe thead th {\n",
       "        text-align: right;\n",
       "    }\n",
       "</style>\n",
       "<table border=\"1\" class=\"dataframe\">\n",
       "  <thead>\n",
       "    <tr style=\"text-align: right;\">\n",
       "      <th></th>\n",
       "      <th>production_budget</th>\n",
       "      <th>domestic_gross</th>\n",
       "      <th>worldwide_gross</th>\n",
       "      <th>profit</th>\n",
       "      <th>AVG_Movie_rating</th>\n",
       "      <th>year</th>\n",
       "      <th>profitRatio</th>\n",
       "      <th>positive_review</th>\n",
       "    </tr>\n",
       "    <tr>\n",
       "      <th>director</th>\n",
       "      <th></th>\n",
       "      <th></th>\n",
       "      <th></th>\n",
       "      <th></th>\n",
       "      <th></th>\n",
       "      <th></th>\n",
       "      <th></th>\n",
       "      <th></th>\n",
       "    </tr>\n",
       "  </thead>\n",
       "  <tbody>\n",
       "    <tr>\n",
       "      <th>Lee Unkrich</th>\n",
       "      <td>200000000.0</td>\n",
       "      <td>415004880.0</td>\n",
       "      <td>1.068880e+09</td>\n",
       "      <td>868879522.0</td>\n",
       "      <td>8.3</td>\n",
       "      <td>2010.0</td>\n",
       "      <td>4.344398</td>\n",
       "      <td>True</td>\n",
       "    </tr>\n",
       "    <tr>\n",
       "      <th>Charles Ferguson</th>\n",
       "      <td>2000000.0</td>\n",
       "      <td>4311834.0</td>\n",
       "      <td>7.799257e+06</td>\n",
       "      <td>5799257.0</td>\n",
       "      <td>8.3</td>\n",
       "      <td>2010.0</td>\n",
       "      <td>2.899628</td>\n",
       "      <td>True</td>\n",
       "    </tr>\n",
       "    <tr>\n",
       "      <th>Denis Villeneuve</th>\n",
       "      <td>6800000.0</td>\n",
       "      <td>6857096.0</td>\n",
       "      <td>1.603834e+07</td>\n",
       "      <td>9238343.0</td>\n",
       "      <td>8.3</td>\n",
       "      <td>2010.0</td>\n",
       "      <td>1.358580</td>\n",
       "      <td>True</td>\n",
       "    </tr>\n",
       "    <tr>\n",
       "      <th>Sadyk Sher-Niyaz</th>\n",
       "      <td>1400000.0</td>\n",
       "      <td>0.0</td>\n",
       "      <td>0.000000e+00</td>\n",
       "      <td>-1400000.0</td>\n",
       "      <td>8.3</td>\n",
       "      <td>2014.0</td>\n",
       "      <td>-1.000000</td>\n",
       "      <td>True</td>\n",
       "    </tr>\n",
       "    <tr>\n",
       "      <th>Asghar Farhadi</th>\n",
       "      <td>800000.0</td>\n",
       "      <td>7098492.0</td>\n",
       "      <td>2.442617e+07</td>\n",
       "      <td>23626169.0</td>\n",
       "      <td>8.3</td>\n",
       "      <td>2011.0</td>\n",
       "      <td>29.532711</td>\n",
       "      <td>True</td>\n",
       "    </tr>\n",
       "  </tbody>\n",
       "</table>\n",
       "</div>"
      ],
      "text/plain": [
       "                  production_budget  domestic_gross  worldwide_gross  \\\n",
       "director                                                               \n",
       "Lee Unkrich             200000000.0     415004880.0     1.068880e+09   \n",
       "Charles Ferguson          2000000.0       4311834.0     7.799257e+06   \n",
       "Denis Villeneuve          6800000.0       6857096.0     1.603834e+07   \n",
       "Sadyk Sher-Niyaz          1400000.0             0.0     0.000000e+00   \n",
       "Asghar Farhadi             800000.0       7098492.0     2.442617e+07   \n",
       "\n",
       "                       profit  AVG_Movie_rating    year  profitRatio  \\\n",
       "director                                                               \n",
       "Lee Unkrich       868879522.0               8.3  2010.0     4.344398   \n",
       "Charles Ferguson    5799257.0               8.3  2010.0     2.899628   \n",
       "Denis Villeneuve    9238343.0               8.3  2010.0     1.358580   \n",
       "Sadyk Sher-Niyaz   -1400000.0               8.3  2014.0    -1.000000   \n",
       "Asghar Farhadi     23626169.0               8.3  2011.0    29.532711   \n",
       "\n",
       "                  positive_review  \n",
       "director                           \n",
       "Lee Unkrich                  True  \n",
       "Charles Ferguson             True  \n",
       "Denis Villeneuve             True  \n",
       "Sadyk Sher-Niyaz             True  \n",
       "Asghar Farhadi               True  "
      ]
     },
     "execution_count": 268,
     "metadata": {},
     "output_type": "execute_result"
    }
   ],
   "source": [
    "grouped = budgetJoinDirector.groupby('director').mean().sort_values('AVG_Movie_rating', ascending = False)\n",
    "grouped.head()"
   ]
  },
  {
   "cell_type": "markdown",
   "metadata": {},
   "source": [
    "### Investigating Data\n",
    "\n",
    "<span style=\"color: red;\">TODO</span>  \n",
    "Elaborate on profit vs. profit ratio comparisons"
   ]
  },
  {
   "cell_type": "code",
   "execution_count": 269,
   "metadata": {},
   "outputs": [],
   "source": [
    "avg_movie_rating = grouped['AVG_Movie_rating']\n",
    "avg_profit = grouped['profit']\n",
    "profitRatioGroup = grouped['profitRatio']"
   ]
  },
  {
   "cell_type": "code",
   "execution_count": 273,
   "metadata": {
    "scrolled": false
   },
   "outputs": [
    {
     "name": "stderr",
     "output_type": "stream",
     "text": [
      "C:\\Users\\clineman\\Anaconda3\\envs\\learn-env\\lib\\site-packages\\seaborn\\distributions.py:2551: FutureWarning: `distplot` is a deprecated function and will be removed in a future version. Please adapt your code to use either `displot` (a figure-level function with similar flexibility) or `histplot` (an axes-level function for histograms).\n",
      "  warnings.warn(msg, FutureWarning)\n"
     ]
    },
    {
     "data": {
      "text/plain": [
       "Text(0.5, 1.0, 'Distribution of mean movie rating per director')"
      ]
     },
     "execution_count": 273,
     "metadata": {},
     "output_type": "execute_result"
    },
    {
     "data": {
      "image/png": "[encoded data removed]",
      "text/plain": [
       "<Figure size 864x432 with 1 Axes>"
      ]
     },
     "metadata": {
      "needs_background": "light"
     },
     "output_type": "display_data"
    }
   ],
   "source": [
    "fig, ax = plt.subplots(figsize=(12,6))\n",
    "sns.distplot(avg_movie_rating)\n",
    "ax.set_title('Distribution of mean movie rating per director')"
   ]
  },
  {
   "cell_type": "code",
   "execution_count": 274,
   "metadata": {},
   "outputs": [
    {
     "name": "stderr",
     "output_type": "stream",
     "text": [
      "C:\\Users\\clineman\\Anaconda3\\envs\\learn-env\\lib\\site-packages\\seaborn\\distributions.py:2551: FutureWarning: `distplot` is a deprecated function and will be removed in a future version. Please adapt your code to use either `displot` (a figure-level function with similar flexibility) or `histplot` (an axes-level function for histograms).\n",
      "  warnings.warn(msg, FutureWarning)\n"
     ]
    },
    {
     "data": {
      "text/plain": [
       "Text(0.5, 1.0, 'Distribution of mean profit per director')"
      ]
     },
     "execution_count": 274,
     "metadata": {},
     "output_type": "execute_result"
    },
    {
     "data": {
      "image/png": "[encoded data removed]",
      "text/plain": [
       "<Figure size 864x432 with 1 Axes>"
      ]
     },
     "metadata": {
      "needs_background": "light"
     },
     "output_type": "display_data"
    }
   ],
   "source": [
    "fig, ax = plt.subplots(figsize=(12,6))\n",
    "sns.distplot(avg_profit)\n",
    "ax.set_title('Distribution of mean profit per director')"
   ]
  },
  {
   "cell_type": "code",
   "execution_count": 275,
   "metadata": {},
   "outputs": [
    {
     "name": "stderr",
     "output_type": "stream",
     "text": [
      "C:\\Users\\clineman\\Anaconda3\\envs\\learn-env\\lib\\site-packages\\seaborn\\distributions.py:2551: FutureWarning: `distplot` is a deprecated function and will be removed in a future version. Please adapt your code to use either `displot` (a figure-level function with similar flexibility) or `histplot` (an axes-level function for histograms).\n",
      "  warnings.warn(msg, FutureWarning)\n"
     ]
    },
    {
     "data": {
      "text/plain": [
       "Text(0.5, 1.0, 'Distribution of profit Ratio per director')"
      ]
     },
     "execution_count": 275,
     "metadata": {},
     "output_type": "execute_result"
    },
    {
     "data": {
      "image/png": "[encoded data removed]",
      "text/plain": [
       "<Figure size 864x432 with 1 Axes>"
      ]
     },
     "metadata": {
      "needs_background": "light"
     },
     "output_type": "display_data"
    }
   ],
   "source": [
    "fig, ax = plt.subplots(figsize=(12,6))\n",
    "sns.distplot(profitRatioGroup)\n",
    "ax.set_title('Distribution of profit Ratio per director')"
   ]
  },
  {
   "cell_type": "markdown",
   "metadata": {},
   "source": [
    "It appears that our profit data contains several outliers. We will trim these outliers using the **IQR rule** before proceeding with our analysis so we can focus on typical profits."
   ]
  },
  {
   "cell_type": "markdown",
   "metadata": {},
   "source": [
    "### Investigating Trimmed Data"
   ]
  },
  {
   "cell_type": "code",
   "execution_count": 279,
   "metadata": {},
   "outputs": [],
   "source": [
    "Q1 = grouped['profit'].quantile(0.25)\n",
    "Q3 = grouped['profit'].quantile(0.75)\n",
    "IQR = Q3-Q1\n",
    "grouped_trimmed = grouped.loc[(grouped['profit'] >= Q1-1.5*IQR) & (grouped['profit'] <= Q3 + 1.5*IQR)]\n",
    "\n",
    "avg_movie_rating = grouped_trimmed['AVG_Movie_rating']\n",
    "avg_profit = grouped_trimmed['profit']\n",
    "#profitRatioGroup = grouped_trimmed['profitRatio']\n",
    "\n"
   ]
  },
  {
   "cell_type": "code",
   "execution_count": 280,
   "metadata": {},
   "outputs": [],
   "source": [
    "Q1 = grouped['profitRatio'].quantile(0.25)\n",
    "Q3 = grouped['profitRatio'].quantile(0.75)\n",
    "IQR = Q3-Q1\n",
    "\n",
    "grouped_clean = grouped.loc[(grouped['profitRatio'] >= Q1-(1.5*IQR)) & (grouped['profitRatio'] <= Q3 + 1.5*IQR)]\n",
    "\n",
    "profitRatio = grouped_clean['profitRatio']\n",
    "avg_movie_rating_ratio = grouped_clean['AVG_Movie_rating']"
   ]
  },
  {
   "cell_type": "code",
   "execution_count": 284,
   "metadata": {},
   "outputs": [
    {
     "name": "stderr",
     "output_type": "stream",
     "text": [
      "C:\\Users\\clineman\\Anaconda3\\envs\\learn-env\\lib\\site-packages\\seaborn\\distributions.py:2551: FutureWarning: `distplot` is a deprecated function and will be removed in a future version. Please adapt your code to use either `displot` (a figure-level function with similar flexibility) or `histplot` (an axes-level function for histograms).\n",
      "  warnings.warn(msg, FutureWarning)\n"
     ]
    },
    {
     "data": {
      "text/plain": [
       "Text(0.5, 1.0, 'Distribution of mean movie rating per director')"
      ]
     },
     "execution_count": 284,
     "metadata": {},
     "output_type": "execute_result"
    },
    {
     "data": {
      "image/png": "[encoded data removed]",
      "text/plain": [
       "<Figure size 864x432 with 1 Axes>"
      ]
     },
     "metadata": {
      "needs_background": "light"
     },
     "output_type": "display_data"
    }
   ],
   "source": [
    "fig, ax = plt.subplots(figsize=(12,6))\n",
    "sns.distplot(avg_movie_rating)\n",
    "ax.set_title('Distribution of mean movie rating per director')"
   ]
  },
  {
   "cell_type": "code",
   "execution_count": 285,
   "metadata": {},
   "outputs": [
    {
     "name": "stderr",
     "output_type": "stream",
     "text": [
      "C:\\Users\\clineman\\Anaconda3\\envs\\learn-env\\lib\\site-packages\\seaborn\\distributions.py:2551: FutureWarning: `distplot` is a deprecated function and will be removed in a future version. Please adapt your code to use either `displot` (a figure-level function with similar flexibility) or `histplot` (an axes-level function for histograms).\n",
      "  warnings.warn(msg, FutureWarning)\n"
     ]
    },
    {
     "data": {
      "image/png": "[encoded data removed]",
      "text/plain": [
       "<Figure size 864x432 with 1 Axes>"
      ]
     },
     "metadata": {
      "needs_background": "light"
     },
     "output_type": "display_data"
    }
   ],
   "source": [
    "fig, ax = plt.subplots(figsize=(12,6))\n",
    "sns.distplot(avg_profit)\n",
    "ax.set_title('Distribution of mean profit per director');"
   ]
  },
  {
   "cell_type": "code",
   "execution_count": 286,
   "metadata": {},
   "outputs": [
    {
     "name": "stderr",
     "output_type": "stream",
     "text": [
      "C:\\Users\\clineman\\Anaconda3\\envs\\learn-env\\lib\\site-packages\\seaborn\\distributions.py:2551: FutureWarning: `distplot` is a deprecated function and will be removed in a future version. Please adapt your code to use either `displot` (a figure-level function with similar flexibility) or `histplot` (an axes-level function for histograms).\n",
      "  warnings.warn(msg, FutureWarning)\n"
     ]
    },
    {
     "data": {
      "text/plain": [
       "Text(0.5, 1.0, 'Distribution of profit Ratio per director')"
      ]
     },
     "execution_count": 286,
     "metadata": {},
     "output_type": "execute_result"
    },
    {
     "data": {
      "image/png": "[encoded data removed]",
      "text/plain": [
       "<Figure size 864x432 with 1 Axes>"
      ]
     },
     "metadata": {
      "needs_background": "light"
     },
     "output_type": "display_data"
    }
   ],
   "source": [
    "fig, ax = plt.subplots(figsize=(12,6))\n",
    "sns.distplot(avg_movie_rating_ratio)\n",
    "ax.set_title('Distribution of profit Ratio per director')\n"
   ]
  },
  {
   "cell_type": "code",
   "execution_count": 287,
   "metadata": {},
   "outputs": [
    {
     "name": "stderr",
     "output_type": "stream",
     "text": [
      "C:\\Users\\clineman\\Anaconda3\\envs\\learn-env\\lib\\site-packages\\seaborn\\distributions.py:2551: FutureWarning: `distplot` is a deprecated function and will be removed in a future version. Please adapt your code to use either `displot` (a figure-level function with similar flexibility) or `histplot` (an axes-level function for histograms).\n",
      "  warnings.warn(msg, FutureWarning)\n"
     ]
    },
    {
     "data": {
      "text/plain": [
       "Text(0.5, 1.0, 'Distribution of profit Ratio per director')"
      ]
     },
     "execution_count": 287,
     "metadata": {},
     "output_type": "execute_result"
    },
    {
     "data": {
      "image/png": "[encoded data removed]",
      "text/plain": [
       "<Figure size 864x432 with 1 Axes>"
      ]
     },
     "metadata": {
      "needs_background": "light"
     },
     "output_type": "display_data"
    }
   ],
   "source": [
    "fig, ax = plt.subplots(figsize=(12,6))\n",
    "sns.distplot(profitRatio)\n",
    "ax.set_title('Distribution of profit Ratio per director')"
   ]
  },
  {
   "cell_type": "code",
   "execution_count": 288,
   "metadata": {},
   "outputs": [],
   "source": [
    "greaterThanEqual6_trimmed = grouped_trimmed.loc[avg_movie_rating >= 6]['profit']\n",
    "lessThan6_trimmed = grouped_trimmed.loc[avg_movie_rating < 6]['profit']"
   ]
  },
  {
   "cell_type": "code",
   "execution_count": 291,
   "metadata": {},
   "outputs": [],
   "source": [
    "greaterThanEqual6_trimmed_ratio = grouped_clean.loc[grouped_clean['AVG_Movie_rating'] >= 6]['profitRatio']\n",
    "lessThan6_trimmed_ratio = grouped_clean.loc[grouped_clean['AVG_Movie_rating'] < 6]['profitRatio']"
   ]
  },
  {
   "cell_type": "markdown",
   "metadata": {},
   "source": [
    "<span style='color: red'>TODO</span>  \n",
    "Nate: Move these plots to a side-by-side format"
   ]
  },
  {
   "cell_type": "code",
   "execution_count": 296,
   "metadata": {},
   "outputs": [
    {
     "name": "stderr",
     "output_type": "stream",
     "text": [
      "C:\\Users\\clineman\\Anaconda3\\envs\\learn-env\\lib\\site-packages\\seaborn\\_decorators.py:36: FutureWarning: Pass the following variables as keyword args: x, y. From version 0.12, the only valid positional argument will be `data`, and passing other arguments without an explicit keyword will result in an error or misinterpretation.\n",
      "  warnings.warn(\n"
     ]
    },
    {
     "data": {
      "image/png": "[encoded data removed]",
      "text/plain": [
       "<Figure size 864x432 with 1 Axes>"
      ]
     },
     "metadata": {
      "needs_background": "light"
     },
     "output_type": "display_data"
    }
   ],
   "source": [
    "fig, ax = plt.subplots(figsize=(12,6))\n",
    "ax = sns.regplot(avg_movie_rating, avg_profit)\n",
    "ax.axvline(6, color='red', lw=3, alpha=0.5);\n",
    "ax.set_title('Mean movie rating vs. mean profit per director')\n",
    "ax.set_xlabel('Mean movie rating')\n",
    "ax.set_ylabel('Mean profit');"
   ]
  },
  {
   "cell_type": "code",
   "execution_count": 297,
   "metadata": {},
   "outputs": [
    {
     "name": "stderr",
     "output_type": "stream",
     "text": [
      "C:\\Users\\clineman\\Anaconda3\\envs\\learn-env\\lib\\site-packages\\seaborn\\_decorators.py:36: FutureWarning: Pass the following variables as keyword args: x, y. From version 0.12, the only valid positional argument will be `data`, and passing other arguments without an explicit keyword will result in an error or misinterpretation.\n",
      "  warnings.warn(\n"
     ]
    },
    {
     "data": {
      "image/png": "[encoded data removed]",
      "text/plain": [
       "<Figure size 864x432 with 1 Axes>"
      ]
     },
     "metadata": {
      "needs_background": "light"
     },
     "output_type": "display_data"
    }
   ],
   "source": [
    "fig, ax = plt.subplots(figsize=(12,6))\n",
    "ax = sns.regplot(avg_movie_rating_ratio, profitRatio )\n",
    "ax.axvline(6, color='red', lw=3, alpha=0.5);\n",
    "ax.set_title('Mean movie rating vs.  profit Ratio per director')\n",
    "ax.set_xlabel('Mean movie rating')\n",
    "ax.set_ylabel('profit Ratio');"
   ]
  },
  {
   "cell_type": "code",
   "execution_count": 298,
   "metadata": {},
   "outputs": [
    {
     "data": {
      "text/plain": [
       "0.180997452442317"
      ]
     },
     "execution_count": 298,
     "metadata": {},
     "output_type": "execute_result"
    }
   ],
   "source": [
    "#for the profit\n",
    "np.corrcoef(avg_movie_rating, avg_profit)[0][1]"
   ]
  },
  {
   "cell_type": "code",
   "execution_count": 299,
   "metadata": {},
   "outputs": [
    {
     "data": {
      "text/plain": [
       "37372798.47979798"
      ]
     },
     "execution_count": 299,
     "metadata": {},
     "output_type": "execute_result"
    }
   ],
   "source": [
    "greaterThanEqual6_trimmed.mean()"
   ]
  },
  {
   "cell_type": "code",
   "execution_count": 300,
   "metadata": {},
   "outputs": [
    {
     "data": {
      "text/plain": [
       "18683923.664233577"
      ]
     },
     "execution_count": 300,
     "metadata": {},
     "output_type": "execute_result"
    }
   ],
   "source": [
    "lessThan6_trimmed.mean()"
   ]
  },
  {
   "cell_type": "code",
   "execution_count": 301,
   "metadata": {},
   "outputs": [
    {
     "data": {
      "text/plain": [
       "18688874.815564405"
      ]
     },
     "execution_count": 301,
     "metadata": {},
     "output_type": "execute_result"
    }
   ],
   "source": [
    "greaterThanEqual6_trimmed.mean() - lessThan6_trimmed.mean()"
   ]
  },
  {
   "cell_type": "code",
   "execution_count": 302,
   "metadata": {},
   "outputs": [
    {
     "data": {
      "text/plain": [
       "2851196205844287.0"
      ]
     },
     "execution_count": 302,
     "metadata": {},
     "output_type": "execute_result"
    }
   ],
   "source": [
    "greaterThanEqual6_trimmed.std(ddof=1)**2"
   ]
  },
  {
   "cell_type": "code",
   "execution_count": 303,
   "metadata": {},
   "outputs": [
    {
     "data": {
      "text/plain": [
       "1744435558069636.8"
      ]
     },
     "execution_count": 303,
     "metadata": {},
     "output_type": "execute_result"
    }
   ],
   "source": [
    "lessThan6_trimmed.std(ddof=1)**2"
   ]
  },
  {
   "cell_type": "code",
   "execution_count": 304,
   "metadata": {},
   "outputs": [
    {
     "data": {
      "text/plain": [
       "0.2689343683676368"
      ]
     },
     "execution_count": 304,
     "metadata": {},
     "output_type": "execute_result"
    }
   ],
   "source": [
    "#fir the profit ratio\n",
    "np.corrcoef(avg_movie_rating_ratio, profitRatio)[0][1]"
   ]
  },
  {
   "cell_type": "markdown",
   "metadata": {},
   "source": [
    "#### Observations\n",
    "* There is a **slight positive correlation** between mean movie rating per director and mean profit.\n",
    "\n",
    "* The means of these two categories **differ**.\n",
    "* The variances of these two categories **differ**."
   ]
  },
  {
   "cell_type": "markdown",
   "metadata": {},
   "source": [
    "## Rationale and Analysis\n",
    "<span style=\"color: red;\">TODO</span>  \n",
    "Consider more simple graphs to visualize things\n",
    "\n",
    "Using $\\alpha=0.05$, we will conduct a one-tailed unpaired Welch's t-test (which does NOT assume that population variances are equal) to test our hypothesis that established directors with a mean rating of greater than or equal to 6 produce a greater mean profit than those with a mean rating of less than 6.\n",
    "\n",
    "Let:\n",
    "> $\\mu_{GE6}$ denote the mean profit for directors with a mean rating of greater than or equal to 6;\n",
    "\n",
    "> $\\mu_{L6}$ denote the mean profit for directors with a mean rating of less than 6.\n",
    "\n",
    "$H_{0}: \\mu_{GE6} - \\mu_{L6} = 0$\n",
    "\n",
    "$H_{A}: \\mu_{GE6} - \\mu_{L6} > 0$"
   ]
  },
  {
   "cell_type": "code",
   "execution_count": 305,
   "metadata": {},
   "outputs": [
    {
     "data": {
      "text/plain": [
       "4.686646375630644e-05"
      ]
     },
     "execution_count": 305,
     "metadata": {},
     "output_type": "execute_result"
    }
   ],
   "source": [
    "#for profit\n",
    "statistic, pvalue = st.ttest_ind(greaterThanEqual6_trimmed, lessThan6_trimmed, equal_var=False)\n",
    "pvalue/2"
   ]
  },
  {
   "cell_type": "code",
   "execution_count": 306,
   "metadata": {},
   "outputs": [
    {
     "data": {
      "text/plain": [
       "5.2855105942360924e-05"
      ]
     },
     "execution_count": 306,
     "metadata": {},
     "output_type": "execute_result"
    }
   ],
   "source": [
    "#for profit ratio\n",
    "statistic, pvalue = st.ttest_ind(greaterThanEqual6_trimmed_ratio, lessThan6_trimmed_ratio, equal_var=False)\n",
    "pvalue/2"
   ]
  },
  {
   "cell_type": "markdown",
   "metadata": {},
   "source": [
    "### Conclusion\n",
    "If both groups do produce the same profits, there is approximately a 0.19% chance that we obtain a difference in sample means at least as large as obtained above. Given this probability and $\\alpha=0.05$, we conclude that established directors with a mean rating of greater than or equal to 6 produce **greater mean profits** than those with a mean rating of less than 6, with a 5% chance of committing a type I error.."
   ]
  },
  {
   "cell_type": "markdown",
   "metadata": {},
   "source": [
    "## Recommendation\n",
    "We recommend that ...  \n",
    "<span style='color: red'>TODO</span>  \n",
    "Nate"
   ]
  },
  {
   "cell_type": "markdown",
   "metadata": {},
   "source": [
    "## Season vs. Profit Ratio"
   ]
  },
  {
   "cell_type": "markdown",
   "metadata": {},
   "source": [
    "<span style='color: red'>TODO</span>  \n",
    "Alex D. (or Colton): Create explanatory markdown and comment code  \n",
    "Drop outliers  \n",
    "Add intro  \n",
    "Add conclusion  \n",
    "Add business suggestion"
   ]
  },
  {
   "cell_type": "code",
   "execution_count": 307,
   "metadata": {},
   "outputs": [
    {
     "data": {
      "text/plain": [
       "0       12 18 2009\n",
       "1       05 20 2011\n",
       "2       06 07 2019\n",
       "3       05 01 2015\n",
       "4       12 15 2017\n",
       "           ...    \n",
       "5777    12 31 2018\n",
       "5778    04 02 1999\n",
       "5779    07 13 2005\n",
       "5780    09 29 2015\n",
       "5781    08 05 2005\n",
       "Name: release_date, Length: 5782, dtype: object"
      ]
     },
     "execution_count": 307,
     "metadata": {},
     "output_type": "execute_result"
    }
   ],
   "source": [
    "movie_budgets['release_date'].dt.strftime('%m %d %Y')"
   ]
  },
  {
   "cell_type": "code",
   "execution_count": 308,
   "metadata": {
    "scrolled": true
   },
   "outputs": [
    {
     "data": {
      "text/html": [
       "<div>\n",
       "<style scoped>\n",
       "    .dataframe tbody tr th:only-of-type {\n",
       "        vertical-align: middle;\n",
       "    }\n",
       "\n",
       "    .dataframe tbody tr th {\n",
       "        vertical-align: top;\n",
       "    }\n",
       "\n",
       "    .dataframe thead th {\n",
       "        text-align: right;\n",
       "    }\n",
       "</style>\n",
       "<table border=\"1\" class=\"dataframe\">\n",
       "  <thead>\n",
       "    <tr style=\"text-align: right;\">\n",
       "      <th></th>\n",
       "      <th>id</th>\n",
       "      <th>release_date</th>\n",
       "      <th>title</th>\n",
       "      <th>production_budget</th>\n",
       "      <th>domestic_gross</th>\n",
       "      <th>worldwide_gross</th>\n",
       "      <th>profit</th>\n",
       "      <th>release_month</th>\n",
       "    </tr>\n",
       "  </thead>\n",
       "  <tbody>\n",
       "    <tr>\n",
       "      <th>0</th>\n",
       "      <td>1</td>\n",
       "      <td>2009-12-18</td>\n",
       "      <td>AVATAR</td>\n",
       "      <td>425000000.0</td>\n",
       "      <td>760507625.0</td>\n",
       "      <td>2.776345e+09</td>\n",
       "      <td>2.351345e+09</td>\n",
       "      <td>12</td>\n",
       "    </tr>\n",
       "    <tr>\n",
       "      <th>1</th>\n",
       "      <td>2</td>\n",
       "      <td>2011-05-20</td>\n",
       "      <td>PIRATES OF THE CARIBBEAN ON STRANGER TIDES</td>\n",
       "      <td>410600000.0</td>\n",
       "      <td>241063875.0</td>\n",
       "      <td>1.045664e+09</td>\n",
       "      <td>6.350639e+08</td>\n",
       "      <td>05</td>\n",
       "    </tr>\n",
       "    <tr>\n",
       "      <th>2</th>\n",
       "      <td>3</td>\n",
       "      <td>2019-06-07</td>\n",
       "      <td>DARK PHOENIX</td>\n",
       "      <td>350000000.0</td>\n",
       "      <td>42762350.0</td>\n",
       "      <td>1.497624e+08</td>\n",
       "      <td>-2.002376e+08</td>\n",
       "      <td>06</td>\n",
       "    </tr>\n",
       "    <tr>\n",
       "      <th>3</th>\n",
       "      <td>4</td>\n",
       "      <td>2015-05-01</td>\n",
       "      <td>AVENGERS AGE OF ULTRON</td>\n",
       "      <td>330600000.0</td>\n",
       "      <td>459005868.0</td>\n",
       "      <td>1.403014e+09</td>\n",
       "      <td>1.072414e+09</td>\n",
       "      <td>05</td>\n",
       "    </tr>\n",
       "    <tr>\n",
       "      <th>4</th>\n",
       "      <td>5</td>\n",
       "      <td>2017-12-15</td>\n",
       "      <td>STAR WARS EP VIII THE LAST JEDI</td>\n",
       "      <td>317000000.0</td>\n",
       "      <td>620181382.0</td>\n",
       "      <td>1.316722e+09</td>\n",
       "      <td>9.997217e+08</td>\n",
       "      <td>12</td>\n",
       "    </tr>\n",
       "    <tr>\n",
       "      <th>...</th>\n",
       "      <td>...</td>\n",
       "      <td>...</td>\n",
       "      <td>...</td>\n",
       "      <td>...</td>\n",
       "      <td>...</td>\n",
       "      <td>...</td>\n",
       "      <td>...</td>\n",
       "      <td>...</td>\n",
       "    </tr>\n",
       "    <tr>\n",
       "      <th>5777</th>\n",
       "      <td>78</td>\n",
       "      <td>2018-12-31</td>\n",
       "      <td>RED 11</td>\n",
       "      <td>7000.0</td>\n",
       "      <td>0.0</td>\n",
       "      <td>0.000000e+00</td>\n",
       "      <td>-7.000000e+03</td>\n",
       "      <td>12</td>\n",
       "    </tr>\n",
       "    <tr>\n",
       "      <th>5778</th>\n",
       "      <td>79</td>\n",
       "      <td>1999-04-02</td>\n",
       "      <td>FOLLOWING</td>\n",
       "      <td>6000.0</td>\n",
       "      <td>48482.0</td>\n",
       "      <td>2.404950e+05</td>\n",
       "      <td>2.344950e+05</td>\n",
       "      <td>04</td>\n",
       "    </tr>\n",
       "    <tr>\n",
       "      <th>5779</th>\n",
       "      <td>80</td>\n",
       "      <td>2005-07-13</td>\n",
       "      <td>RETURN TO THE LAND OF WONDERS</td>\n",
       "      <td>5000.0</td>\n",
       "      <td>1338.0</td>\n",
       "      <td>1.338000e+03</td>\n",
       "      <td>-3.662000e+03</td>\n",
       "      <td>07</td>\n",
       "    </tr>\n",
       "    <tr>\n",
       "      <th>5780</th>\n",
       "      <td>81</td>\n",
       "      <td>2015-09-29</td>\n",
       "      <td>A PLAGUE SO PLEASANT</td>\n",
       "      <td>1400.0</td>\n",
       "      <td>0.0</td>\n",
       "      <td>0.000000e+00</td>\n",
       "      <td>-1.400000e+03</td>\n",
       "      <td>09</td>\n",
       "    </tr>\n",
       "    <tr>\n",
       "      <th>5781</th>\n",
       "      <td>82</td>\n",
       "      <td>2005-08-05</td>\n",
       "      <td>MY DATE WITH DREW</td>\n",
       "      <td>1100.0</td>\n",
       "      <td>181041.0</td>\n",
       "      <td>1.810410e+05</td>\n",
       "      <td>1.799410e+05</td>\n",
       "      <td>08</td>\n",
       "    </tr>\n",
       "  </tbody>\n",
       "</table>\n",
       "<p>5782 rows × 8 columns</p>\n",
       "</div>"
      ],
      "text/plain": [
       "      id release_date                                       title  \\\n",
       "0      1   2009-12-18                                      AVATAR   \n",
       "1      2   2011-05-20  PIRATES OF THE CARIBBEAN ON STRANGER TIDES   \n",
       "2      3   2019-06-07                                DARK PHOENIX   \n",
       "3      4   2015-05-01                      AVENGERS AGE OF ULTRON   \n",
       "4      5   2017-12-15             STAR WARS EP VIII THE LAST JEDI   \n",
       "...   ..          ...                                         ...   \n",
       "5777  78   2018-12-31                                      RED 11   \n",
       "5778  79   1999-04-02                                   FOLLOWING   \n",
       "5779  80   2005-07-13               RETURN TO THE LAND OF WONDERS   \n",
       "5780  81   2015-09-29                        A PLAGUE SO PLEASANT   \n",
       "5781  82   2005-08-05                           MY DATE WITH DREW   \n",
       "\n",
       "      production_budget  domestic_gross  worldwide_gross        profit  \\\n",
       "0           425000000.0     760507625.0     2.776345e+09  2.351345e+09   \n",
       "1           410600000.0     241063875.0     1.045664e+09  6.350639e+08   \n",
       "2           350000000.0      42762350.0     1.497624e+08 -2.002376e+08   \n",
       "3           330600000.0     459005868.0     1.403014e+09  1.072414e+09   \n",
       "4           317000000.0     620181382.0     1.316722e+09  9.997217e+08   \n",
       "...                 ...             ...              ...           ...   \n",
       "5777             7000.0             0.0     0.000000e+00 -7.000000e+03   \n",
       "5778             6000.0         48482.0     2.404950e+05  2.344950e+05   \n",
       "5779             5000.0          1338.0     1.338000e+03 -3.662000e+03   \n",
       "5780             1400.0             0.0     0.000000e+00 -1.400000e+03   \n",
       "5781             1100.0        181041.0     1.810410e+05  1.799410e+05   \n",
       "\n",
       "     release_month  \n",
       "0               12  \n",
       "1               05  \n",
       "2               06  \n",
       "3               05  \n",
       "4               12  \n",
       "...            ...  \n",
       "5777            12  \n",
       "5778            04  \n",
       "5779            07  \n",
       "5780            09  \n",
       "5781            08  \n",
       "\n",
       "[5782 rows x 8 columns]"
      ]
     },
     "execution_count": 308,
     "metadata": {},
     "output_type": "execute_result"
    }
   ],
   "source": [
    "release_month = movie_budgets['release_date'].dt.strftime('%m')\n",
    "movie_budgets['release_month']= release_month\n",
    "movie_budgets"
   ]
  },
  {
   "cell_type": "code",
   "execution_count": 309,
   "metadata": {},
   "outputs": [
    {
     "data": {
      "text/html": [
       "<div>\n",
       "<style scoped>\n",
       "    .dataframe tbody tr th:only-of-type {\n",
       "        vertical-align: middle;\n",
       "    }\n",
       "\n",
       "    .dataframe tbody tr th {\n",
       "        vertical-align: top;\n",
       "    }\n",
       "\n",
       "    .dataframe thead th {\n",
       "        text-align: right;\n",
       "    }\n",
       "</style>\n",
       "<table border=\"1\" class=\"dataframe\">\n",
       "  <thead>\n",
       "    <tr style=\"text-align: right;\">\n",
       "      <th></th>\n",
       "      <th>id</th>\n",
       "      <th>release_date</th>\n",
       "      <th>title</th>\n",
       "      <th>production_budget</th>\n",
       "      <th>domestic_gross</th>\n",
       "      <th>worldwide_gross</th>\n",
       "      <th>profit</th>\n",
       "      <th>release_month</th>\n",
       "      <th>release_year</th>\n",
       "    </tr>\n",
       "  </thead>\n",
       "  <tbody>\n",
       "    <tr>\n",
       "      <th>0</th>\n",
       "      <td>1</td>\n",
       "      <td>2009-12-18</td>\n",
       "      <td>AVATAR</td>\n",
       "      <td>425000000.0</td>\n",
       "      <td>760507625.0</td>\n",
       "      <td>2.776345e+09</td>\n",
       "      <td>2.351345e+09</td>\n",
       "      <td>12</td>\n",
       "      <td>2009</td>\n",
       "    </tr>\n",
       "    <tr>\n",
       "      <th>1</th>\n",
       "      <td>2</td>\n",
       "      <td>2011-05-20</td>\n",
       "      <td>PIRATES OF THE CARIBBEAN ON STRANGER TIDES</td>\n",
       "      <td>410600000.0</td>\n",
       "      <td>241063875.0</td>\n",
       "      <td>1.045664e+09</td>\n",
       "      <td>6.350639e+08</td>\n",
       "      <td>05</td>\n",
       "      <td>2011</td>\n",
       "    </tr>\n",
       "    <tr>\n",
       "      <th>2</th>\n",
       "      <td>3</td>\n",
       "      <td>2019-06-07</td>\n",
       "      <td>DARK PHOENIX</td>\n",
       "      <td>350000000.0</td>\n",
       "      <td>42762350.0</td>\n",
       "      <td>1.497624e+08</td>\n",
       "      <td>-2.002376e+08</td>\n",
       "      <td>06</td>\n",
       "      <td>2019</td>\n",
       "    </tr>\n",
       "    <tr>\n",
       "      <th>3</th>\n",
       "      <td>4</td>\n",
       "      <td>2015-05-01</td>\n",
       "      <td>AVENGERS AGE OF ULTRON</td>\n",
       "      <td>330600000.0</td>\n",
       "      <td>459005868.0</td>\n",
       "      <td>1.403014e+09</td>\n",
       "      <td>1.072414e+09</td>\n",
       "      <td>05</td>\n",
       "      <td>2015</td>\n",
       "    </tr>\n",
       "    <tr>\n",
       "      <th>4</th>\n",
       "      <td>5</td>\n",
       "      <td>2017-12-15</td>\n",
       "      <td>STAR WARS EP VIII THE LAST JEDI</td>\n",
       "      <td>317000000.0</td>\n",
       "      <td>620181382.0</td>\n",
       "      <td>1.316722e+09</td>\n",
       "      <td>9.997217e+08</td>\n",
       "      <td>12</td>\n",
       "      <td>2017</td>\n",
       "    </tr>\n",
       "    <tr>\n",
       "      <th>...</th>\n",
       "      <td>...</td>\n",
       "      <td>...</td>\n",
       "      <td>...</td>\n",
       "      <td>...</td>\n",
       "      <td>...</td>\n",
       "      <td>...</td>\n",
       "      <td>...</td>\n",
       "      <td>...</td>\n",
       "      <td>...</td>\n",
       "    </tr>\n",
       "    <tr>\n",
       "      <th>5777</th>\n",
       "      <td>78</td>\n",
       "      <td>2018-12-31</td>\n",
       "      <td>RED 11</td>\n",
       "      <td>7000.0</td>\n",
       "      <td>0.0</td>\n",
       "      <td>0.000000e+00</td>\n",
       "      <td>-7.000000e+03</td>\n",
       "      <td>12</td>\n",
       "      <td>2018</td>\n",
       "    </tr>\n",
       "    <tr>\n",
       "      <th>5778</th>\n",
       "      <td>79</td>\n",
       "      <td>1999-04-02</td>\n",
       "      <td>FOLLOWING</td>\n",
       "      <td>6000.0</td>\n",
       "      <td>48482.0</td>\n",
       "      <td>2.404950e+05</td>\n",
       "      <td>2.344950e+05</td>\n",
       "      <td>04</td>\n",
       "      <td>1999</td>\n",
       "    </tr>\n",
       "    <tr>\n",
       "      <th>5779</th>\n",
       "      <td>80</td>\n",
       "      <td>2005-07-13</td>\n",
       "      <td>RETURN TO THE LAND OF WONDERS</td>\n",
       "      <td>5000.0</td>\n",
       "      <td>1338.0</td>\n",
       "      <td>1.338000e+03</td>\n",
       "      <td>-3.662000e+03</td>\n",
       "      <td>07</td>\n",
       "      <td>2005</td>\n",
       "    </tr>\n",
       "    <tr>\n",
       "      <th>5780</th>\n",
       "      <td>81</td>\n",
       "      <td>2015-09-29</td>\n",
       "      <td>A PLAGUE SO PLEASANT</td>\n",
       "      <td>1400.0</td>\n",
       "      <td>0.0</td>\n",
       "      <td>0.000000e+00</td>\n",
       "      <td>-1.400000e+03</td>\n",
       "      <td>09</td>\n",
       "      <td>2015</td>\n",
       "    </tr>\n",
       "    <tr>\n",
       "      <th>5781</th>\n",
       "      <td>82</td>\n",
       "      <td>2005-08-05</td>\n",
       "      <td>MY DATE WITH DREW</td>\n",
       "      <td>1100.0</td>\n",
       "      <td>181041.0</td>\n",
       "      <td>1.810410e+05</td>\n",
       "      <td>1.799410e+05</td>\n",
       "      <td>08</td>\n",
       "      <td>2005</td>\n",
       "    </tr>\n",
       "  </tbody>\n",
       "</table>\n",
       "<p>5782 rows × 9 columns</p>\n",
       "</div>"
      ],
      "text/plain": [
       "      id release_date                                       title  \\\n",
       "0      1   2009-12-18                                      AVATAR   \n",
       "1      2   2011-05-20  PIRATES OF THE CARIBBEAN ON STRANGER TIDES   \n",
       "2      3   2019-06-07                                DARK PHOENIX   \n",
       "3      4   2015-05-01                      AVENGERS AGE OF ULTRON   \n",
       "4      5   2017-12-15             STAR WARS EP VIII THE LAST JEDI   \n",
       "...   ..          ...                                         ...   \n",
       "5777  78   2018-12-31                                      RED 11   \n",
       "5778  79   1999-04-02                                   FOLLOWING   \n",
       "5779  80   2005-07-13               RETURN TO THE LAND OF WONDERS   \n",
       "5780  81   2015-09-29                        A PLAGUE SO PLEASANT   \n",
       "5781  82   2005-08-05                           MY DATE WITH DREW   \n",
       "\n",
       "      production_budget  domestic_gross  worldwide_gross        profit  \\\n",
       "0           425000000.0     760507625.0     2.776345e+09  2.351345e+09   \n",
       "1           410600000.0     241063875.0     1.045664e+09  6.350639e+08   \n",
       "2           350000000.0      42762350.0     1.497624e+08 -2.002376e+08   \n",
       "3           330600000.0     459005868.0     1.403014e+09  1.072414e+09   \n",
       "4           317000000.0     620181382.0     1.316722e+09  9.997217e+08   \n",
       "...                 ...             ...              ...           ...   \n",
       "5777             7000.0             0.0     0.000000e+00 -7.000000e+03   \n",
       "5778             6000.0         48482.0     2.404950e+05  2.344950e+05   \n",
       "5779             5000.0          1338.0     1.338000e+03 -3.662000e+03   \n",
       "5780             1400.0             0.0     0.000000e+00 -1.400000e+03   \n",
       "5781             1100.0        181041.0     1.810410e+05  1.799410e+05   \n",
       "\n",
       "     release_month release_year  \n",
       "0               12         2009  \n",
       "1               05         2011  \n",
       "2               06         2019  \n",
       "3               05         2015  \n",
       "4               12         2017  \n",
       "...            ...          ...  \n",
       "5777            12         2018  \n",
       "5778            04         1999  \n",
       "5779            07         2005  \n",
       "5780            09         2015  \n",
       "5781            08         2005  \n",
       "\n",
       "[5782 rows x 9 columns]"
      ]
     },
     "execution_count": 309,
     "metadata": {},
     "output_type": "execute_result"
    }
   ],
   "source": [
    "release_year = movie_budgets['release_date'].dt.strftime('%Y')\n",
    "movie_budgets['release_year']= release_year\n",
    "movie_budgets"
   ]
  },
  {
   "cell_type": "code",
   "execution_count": null,
   "metadata": {},
   "outputs": [],
   "source": []
  },
  {
   "cell_type": "code",
   "execution_count": 310,
   "metadata": {},
   "outputs": [],
   "source": [
    "#Season: spring = 1, summer=2, fall= 3, winter=4\n",
    "season_dict = {'01': '4',\n",
    "               '02': '4',\n",
    "               '03': '1', \n",
    "               '04': '1',\n",
    "               '05': '1',\n",
    "               '06': '2',\n",
    "               '07': '2',\n",
    "               '08': '2',\n",
    "               '09': '3',\n",
    "               '10': '3',\n",
    "               '11': '3',\n",
    "               '12': '4'}\n",
    "movie_budgets['Season'] = movie_budgets['release_month'].apply(lambda x: season_dict[x])"
   ]
  },
  {
   "cell_type": "code",
   "execution_count": 311,
   "metadata": {},
   "outputs": [],
   "source": [
    "movie_budgets['release_year']  = movie_budgets['release_year'].astype(\"int\")\n",
    "movie_budgets['release_month']  = movie_budgets['release_month'].astype(\"int\")\n",
    "movie_budgets['Season']  = movie_budgets['Season'].astype(\"int\")"
   ]
  },
  {
   "cell_type": "code",
   "execution_count": null,
   "metadata": {},
   "outputs": [],
   "source": []
  },
  {
   "cell_type": "code",
   "execution_count": null,
   "metadata": {},
   "outputs": [],
   "source": []
  },
  {
   "cell_type": "code",
   "execution_count": null,
   "metadata": {},
   "outputs": [],
   "source": []
  },
  {
   "cell_type": "markdown",
   "metadata": {},
   "source": [
    "## movie budgets with seasonal data"
   ]
  },
  {
   "cell_type": "code",
   "execution_count": null,
   "metadata": {},
   "outputs": [],
   "source": []
  },
  {
   "cell_type": "markdown",
   "metadata": {},
   "source": [
    "# Merg Gross and budgets"
   ]
  },
  {
   "cell_type": "code",
   "execution_count": 312,
   "metadata": {},
   "outputs": [
    {
     "data": {
      "text/html": [
       "<div>\n",
       "<style scoped>\n",
       "    .dataframe tbody tr th:only-of-type {\n",
       "        vertical-align: middle;\n",
       "    }\n",
       "\n",
       "    .dataframe tbody tr th {\n",
       "        vertical-align: top;\n",
       "    }\n",
       "\n",
       "    .dataframe thead th {\n",
       "        text-align: right;\n",
       "    }\n",
       "</style>\n",
       "<table border=\"1\" class=\"dataframe\">\n",
       "  <thead>\n",
       "    <tr style=\"text-align: right;\">\n",
       "      <th></th>\n",
       "      <th>title</th>\n",
       "      <th>studio</th>\n",
       "      <th>domestic_gross_x</th>\n",
       "      <th>foreign_gross</th>\n",
       "      <th>year</th>\n",
       "      <th>id</th>\n",
       "      <th>release_date</th>\n",
       "      <th>production_budget</th>\n",
       "      <th>domestic_gross_y</th>\n",
       "      <th>worldwide_gross</th>\n",
       "      <th>profit</th>\n",
       "      <th>release_month</th>\n",
       "      <th>release_year</th>\n",
       "      <th>Season</th>\n",
       "    </tr>\n",
       "  </thead>\n",
       "  <tbody>\n",
       "    <tr>\n",
       "      <th>0</th>\n",
       "      <td>TOY STORY 3</td>\n",
       "      <td>BV</td>\n",
       "      <td>415000000.0</td>\n",
       "      <td>652000000.0</td>\n",
       "      <td>2010</td>\n",
       "      <td>47</td>\n",
       "      <td>2010-06-18</td>\n",
       "      <td>200000000.0</td>\n",
       "      <td>415004880.0</td>\n",
       "      <td>1.068880e+09</td>\n",
       "      <td>868879522.0</td>\n",
       "      <td>6</td>\n",
       "      <td>2010</td>\n",
       "      <td>2</td>\n",
       "    </tr>\n",
       "    <tr>\n",
       "      <th>1</th>\n",
       "      <td>INCEPTION</td>\n",
       "      <td>WB</td>\n",
       "      <td>292600000.0</td>\n",
       "      <td>535700000.0</td>\n",
       "      <td>2010</td>\n",
       "      <td>38</td>\n",
       "      <td>2010-07-16</td>\n",
       "      <td>160000000.0</td>\n",
       "      <td>292576195.0</td>\n",
       "      <td>8.355246e+08</td>\n",
       "      <td>675524642.0</td>\n",
       "      <td>7</td>\n",
       "      <td>2010</td>\n",
       "      <td>2</td>\n",
       "    </tr>\n",
       "    <tr>\n",
       "      <th>2</th>\n",
       "      <td>SHREK FOREVER AFTER</td>\n",
       "      <td>P/DW</td>\n",
       "      <td>238700000.0</td>\n",
       "      <td>513900000.0</td>\n",
       "      <td>2010</td>\n",
       "      <td>27</td>\n",
       "      <td>2010-05-21</td>\n",
       "      <td>165000000.0</td>\n",
       "      <td>238736787.0</td>\n",
       "      <td>7.562447e+08</td>\n",
       "      <td>591244673.0</td>\n",
       "      <td>5</td>\n",
       "      <td>2010</td>\n",
       "      <td>1</td>\n",
       "    </tr>\n",
       "    <tr>\n",
       "      <th>3</th>\n",
       "      <td>THE TWILIGHT SAGA ECLIPSE</td>\n",
       "      <td>Sum.</td>\n",
       "      <td>300500000.0</td>\n",
       "      <td>398000000.0</td>\n",
       "      <td>2010</td>\n",
       "      <td>53</td>\n",
       "      <td>2010-06-30</td>\n",
       "      <td>68000000.0</td>\n",
       "      <td>300531751.0</td>\n",
       "      <td>7.061028e+08</td>\n",
       "      <td>638102828.0</td>\n",
       "      <td>6</td>\n",
       "      <td>2010</td>\n",
       "      <td>2</td>\n",
       "    </tr>\n",
       "    <tr>\n",
       "      <th>4</th>\n",
       "      <td>IRON MAN 2</td>\n",
       "      <td>Par.</td>\n",
       "      <td>312400000.0</td>\n",
       "      <td>311500000.0</td>\n",
       "      <td>2010</td>\n",
       "      <td>15</td>\n",
       "      <td>2010-05-07</td>\n",
       "      <td>170000000.0</td>\n",
       "      <td>312433331.0</td>\n",
       "      <td>6.211564e+08</td>\n",
       "      <td>451156389.0</td>\n",
       "      <td>5</td>\n",
       "      <td>2010</td>\n",
       "      <td>1</td>\n",
       "    </tr>\n",
       "    <tr>\n",
       "      <th>...</th>\n",
       "      <td>...</td>\n",
       "      <td>...</td>\n",
       "      <td>...</td>\n",
       "      <td>...</td>\n",
       "      <td>...</td>\n",
       "      <td>...</td>\n",
       "      <td>...</td>\n",
       "      <td>...</td>\n",
       "      <td>...</td>\n",
       "      <td>...</td>\n",
       "      <td>...</td>\n",
       "      <td>...</td>\n",
       "      <td>...</td>\n",
       "      <td>...</td>\n",
       "    </tr>\n",
       "    <tr>\n",
       "      <th>5777</th>\n",
       "      <td>78</td>\n",
       "      <td>2018-12-31</td>\n",
       "      <td>RED 11</td>\n",
       "      <td>7000.0</td>\n",
       "      <td>0.0</td>\n",
       "      <td>0.000000e+00</td>\n",
       "      <td>-7.000000e+03</td>\n",
       "      <td>12</td>\n",
       "      <td>2018</td>\n",
       "      <td>4</td>\n",
       "    </tr>\n",
       "    <tr>\n",
       "      <th>5778</th>\n",
       "      <td>79</td>\n",
       "      <td>1999-04-02</td>\n",
       "      <td>FOLLOWING</td>\n",
       "      <td>6000.0</td>\n",
       "      <td>48482.0</td>\n",
       "      <td>2.404950e+05</td>\n",
       "      <td>2.344950e+05</td>\n",
       "      <td>4</td>\n",
       "      <td>1999</td>\n",
       "      <td>1</td>\n",
       "    </tr>\n",
       "    <tr>\n",
       "      <th>5779</th>\n",
       "      <td>80</td>\n",
       "      <td>2005-07-13</td>\n",
       "      <td>RETURN TO THE LAND OF WONDERS</td>\n",
       "      <td>5000.0</td>\n",
       "      <td>1338.0</td>\n",
       "      <td>1.338000e+03</td>\n",
       "      <td>-3.662000e+03</td>\n",
       "      <td>7</td>\n",
       "      <td>2005</td>\n",
       "      <td>2</td>\n",
       "    </tr>\n",
       "    <tr>\n",
       "      <th>5780</th>\n",
       "      <td>81</td>\n",
       "      <td>2015-09-29</td>\n",
       "      <td>A PLAGUE SO PLEASANT</td>\n",
       "      <td>1400.0</td>\n",
       "      <td>0.0</td>\n",
       "      <td>0.000000e+00</td>\n",
       "      <td>-1.400000e+03</td>\n",
       "      <td>9</td>\n",
       "      <td>2015</td>\n",
       "      <td>3</td>\n",
       "    </tr>\n",
       "    <tr>\n",
       "      <th>5781</th>\n",
       "      <td>82</td>\n",
       "      <td>2005-08-05</td>\n",
       "      <td>MY DATE WITH DREW</td>\n",
       "      <td>1100.0</td>\n",
       "      <td>181041.0</td>\n",
       "      <td>1.810410e+05</td>\n",
       "      <td>1.799410e+05</td>\n",
       "      <td>8</td>\n",
       "      <td>2005</td>\n",
       "      <td>2</td>\n",
       "    </tr>\n",
       "  </tbody>\n",
       "</table>\n",
       "<p>5782 rows × 10 columns</p>\n",
       "</div>"
      ],
      "text/plain": [
       "      id release_date                                       title  \\\n",
       "0      1   2009-12-18                                      AVATAR   \n",
       "1      2   2011-05-20  PIRATES OF THE CARIBBEAN ON STRANGER TIDES   \n",
       "2      3   2019-06-07                                DARK PHOENIX   \n",
       "3      4   2015-05-01                      AVENGERS AGE OF ULTRON   \n",
       "4      5   2017-12-15             STAR WARS EP VIII THE LAST JEDI   \n",
       "...   ..          ...                                         ...   \n",
       "5777  78   2018-12-31                                      RED 11   \n",
       "5778  79   1999-04-02                                   FOLLOWING   \n",
       "5779  80   2005-07-13               RETURN TO THE LAND OF WONDERS   \n",
       "5780  81   2015-09-29                        A PLAGUE SO PLEASANT   \n",
       "5781  82   2005-08-05                           MY DATE WITH DREW   \n",
       "\n",
       "      production_budget  domestic_gross  worldwide_gross        profit  \\\n",
       "0           425000000.0     760507625.0     2.776345e+09  2.351345e+09   \n",
       "1           410600000.0     241063875.0     1.045664e+09  6.350639e+08   \n",
       "2           350000000.0      42762350.0     1.497624e+08 -2.002376e+08   \n",
       "3           330600000.0     459005868.0     1.403014e+09  1.072414e+09   \n",
       "4           317000000.0     620181382.0     1.316722e+09  9.997217e+08   \n",
       "...                 ...             ...              ...           ...   \n",
       "5777             7000.0             0.0     0.000000e+00 -7.000000e+03   \n",
       "5778             6000.0         48482.0     2.404950e+05  2.344950e+05   \n",
       "5779             5000.0          1338.0     1.338000e+03 -3.662000e+03   \n",
       "5780             1400.0             0.0     0.000000e+00 -1.400000e+03   \n",
       "5781             1100.0        181041.0     1.810410e+05  1.799410e+05   \n",
       "\n",
       "      release_month  release_year  Season  \n",
       "0                12          2009       4  \n",
       "1                 5          2011       1  \n",
       "2                 6          2019       2  \n",
       "3                 5          2015       1  \n",
       "4                12          2017       4  \n",
       "...             ...           ...     ...  \n",
       "5777             12          2018       4  \n",
       "5778              4          1999       1  \n",
       "5779              7          2005       2  \n",
       "5780              9          2015       3  \n",
       "5781              8          2005       2  \n",
       "\n",
       "[5782 rows x 10 columns]"
      ]
     },
     "execution_count": 150,
     "metadata": {},
     "output_type": "execute_result"
    }
   ],
   "source": [
    "movie_budgets"
   ]
  },
  {
   "cell_type": "code",
   "execution_count": 151,
   "metadata": {},
   "outputs": [
    {
     "name": "stdout",
     "output_type": "stream",
     "text": [
      "<class 'pandas.core.frame.DataFrame'>\n",
      "RangeIndex: 5782 entries, 0 to 5781\n",
      "Data columns (total 10 columns):\n",
      " #   Column             Non-Null Count  Dtype         \n",
      "---  ------             --------------  -----         \n",
      " 0   id                 5782 non-null   int64         \n",
      " 1   release_date       5782 non-null   datetime64[ns]\n",
      " 2   title              5782 non-null   object        \n",
      " 3   production_budget  5782 non-null   float64       \n",
      " 4   domestic_gross     5782 non-null   float64       \n",
      " 5   worldwide_gross    5782 non-null   float64       \n",
      " 6   profit             5782 non-null   float64       \n",
      " 7   release_month      5782 non-null   int32         \n",
      " 8   release_year       5782 non-null   int32         \n",
      " 9   Season             5782 non-null   int32         \n",
      "dtypes: datetime64[ns](1), float64(4), int32(3), int64(1), object(1)\n",
      "memory usage: 384.1+ KB\n"
     ]
    }
   ],
   "source": [
    "movie_budgets.info()"
   ]
  },
  {
   "cell_type": "markdown",
   "metadata": {},
   "source": [
    "## movie budgets with seasonal data"
   ]
  },
  {
   "cell_type": "code",
   "execution_count": 152,
   "metadata": {},
   "outputs": [
    {
     "data": {
      "text/html": [
       "<div>\n",
       "<style scoped>\n",
       "    .dataframe tbody tr th:only-of-type {\n",
       "        vertical-align: middle;\n",
       "    }\n",
       "\n",
       "    .dataframe tbody tr th {\n",
       "        vertical-align: top;\n",
       "    }\n",
       "\n",
       "    .dataframe thead th {\n",
       "        text-align: right;\n",
       "    }\n",
       "</style>\n",
       "<table border=\"1\" class=\"dataframe\">\n",
       "  <thead>\n",
       "    <tr style=\"text-align: right;\">\n",
       "      <th></th>\n",
       "      <th>id</th>\n",
       "      <th>release_date</th>\n",
       "      <th>title</th>\n",
       "      <th>production_budget</th>\n",
       "      <th>domestic_gross</th>\n",
       "      <th>worldwide_gross</th>\n",
       "      <th>profit</th>\n",
       "      <th>release_month</th>\n",
       "      <th>release_year</th>\n",
       "      <th>Season</th>\n",
       "    </tr>\n",
       "  </thead>\n",
       "  <tbody>\n",
       "    <tr>\n",
       "      <th>0</th>\n",
       "      <td>1</td>\n",
       "      <td>2009-12-18</td>\n",
       "      <td>AVATAR</td>\n",
       "      <td>425000000.0</td>\n",
       "      <td>760507625.0</td>\n",
       "      <td>2.776345e+09</td>\n",
       "      <td>2.351345e+09</td>\n",
       "      <td>12</td>\n",
       "      <td>2009</td>\n",
       "      <td>4</td>\n",
       "    </tr>\n",
       "    <tr>\n",
       "      <th>1</th>\n",
       "      <td>2</td>\n",
       "      <td>2011-05-20</td>\n",
       "      <td>PIRATES OF THE CARIBBEAN ON STRANGER TIDES</td>\n",
       "      <td>410600000.0</td>\n",
       "      <td>241063875.0</td>\n",
       "      <td>1.045664e+09</td>\n",
       "      <td>6.350639e+08</td>\n",
       "      <td>5</td>\n",
       "      <td>2011</td>\n",
       "      <td>1</td>\n",
       "    </tr>\n",
       "    <tr>\n",
       "      <th>2</th>\n",
       "      <td>3</td>\n",
       "      <td>2019-06-07</td>\n",
       "      <td>DARK PHOENIX</td>\n",
       "      <td>350000000.0</td>\n",
       "      <td>42762350.0</td>\n",
       "      <td>1.497624e+08</td>\n",
       "      <td>-2.002376e+08</td>\n",
       "      <td>6</td>\n",
       "      <td>2019</td>\n",
       "      <td>2</td>\n",
       "    </tr>\n",
       "    <tr>\n",
       "      <th>3</th>\n",
       "      <td>4</td>\n",
       "      <td>2015-05-01</td>\n",
       "      <td>AVENGERS AGE OF ULTRON</td>\n",
       "      <td>330600000.0</td>\n",
       "      <td>459005868.0</td>\n",
       "      <td>1.403014e+09</td>\n",
       "      <td>1.072414e+09</td>\n",
       "      <td>5</td>\n",
       "      <td>2015</td>\n",
       "      <td>1</td>\n",
       "    </tr>\n",
       "    <tr>\n",
       "      <th>4</th>\n",
       "      <td>5</td>\n",
       "      <td>2017-12-15</td>\n",
       "      <td>STAR WARS EP VIII THE LAST JEDI</td>\n",
       "      <td>317000000.0</td>\n",
       "      <td>620181382.0</td>\n",
       "      <td>1.316722e+09</td>\n",
       "      <td>9.997217e+08</td>\n",
       "      <td>12</td>\n",
       "      <td>2017</td>\n",
       "      <td>4</td>\n",
       "    </tr>\n",
       "    <tr>\n",
       "      <th>...</th>\n",
       "      <td>...</td>\n",
       "      <td>...</td>\n",
       "      <td>...</td>\n",
       "      <td>...</td>\n",
       "      <td>...</td>\n",
       "      <td>...</td>\n",
       "      <td>...</td>\n",
       "      <td>...</td>\n",
       "      <td>...</td>\n",
       "      <td>...</td>\n",
       "    </tr>\n",
       "    <tr>\n",
       "      <th>5777</th>\n",
       "      <td>78</td>\n",
       "      <td>2018-12-31</td>\n",
       "      <td>RED 11</td>\n",
       "      <td>7000.0</td>\n",
       "      <td>0.0</td>\n",
       "      <td>0.000000e+00</td>\n",
       "      <td>-7.000000e+03</td>\n",
       "      <td>12</td>\n",
       "      <td>2018</td>\n",
       "      <td>4</td>\n",
       "    </tr>\n",
       "    <tr>\n",
       "      <th>5778</th>\n",
       "      <td>79</td>\n",
       "      <td>1999-04-02</td>\n",
       "      <td>FOLLOWING</td>\n",
       "      <td>6000.0</td>\n",
       "      <td>48482.0</td>\n",
       "      <td>2.404950e+05</td>\n",
       "      <td>2.344950e+05</td>\n",
       "      <td>4</td>\n",
       "      <td>1999</td>\n",
       "      <td>1</td>\n",
       "    </tr>\n",
       "    <tr>\n",
       "      <th>5779</th>\n",
       "      <td>80</td>\n",
       "      <td>2005-07-13</td>\n",
       "      <td>RETURN TO THE LAND OF WONDERS</td>\n",
       "      <td>5000.0</td>\n",
       "      <td>1338.0</td>\n",
       "      <td>1.338000e+03</td>\n",
       "      <td>-3.662000e+03</td>\n",
       "      <td>7</td>\n",
       "      <td>2005</td>\n",
       "      <td>2</td>\n",
       "    </tr>\n",
       "    <tr>\n",
       "      <th>5780</th>\n",
       "      <td>81</td>\n",
       "      <td>2015-09-29</td>\n",
       "      <td>A PLAGUE SO PLEASANT</td>\n",
       "      <td>1400.0</td>\n",
       "      <td>0.0</td>\n",
       "      <td>0.000000e+00</td>\n",
       "      <td>-1.400000e+03</td>\n",
       "      <td>9</td>\n",
       "      <td>2015</td>\n",
       "      <td>3</td>\n",
       "    </tr>\n",
       "    <tr>\n",
       "      <th>5781</th>\n",
       "      <td>82</td>\n",
       "      <td>2005-08-05</td>\n",
       "      <td>MY DATE WITH DREW</td>\n",
       "      <td>1100.0</td>\n",
       "      <td>181041.0</td>\n",
       "      <td>1.810410e+05</td>\n",
       "      <td>1.799410e+05</td>\n",
       "      <td>8</td>\n",
       "      <td>2005</td>\n",
       "      <td>2</td>\n",
       "    </tr>\n",
       "  </tbody>\n",
       "</table>\n",
       "<p>5782 rows × 10 columns</p>\n",
       "</div>"
      ],
      "text/plain": [
       "      id release_date                                       title  \\\n",
       "0      1   2009-12-18                                      AVATAR   \n",
       "1      2   2011-05-20  PIRATES OF THE CARIBBEAN ON STRANGER TIDES   \n",
       "2      3   2019-06-07                                DARK PHOENIX   \n",
       "3      4   2015-05-01                      AVENGERS AGE OF ULTRON   \n",
       "4      5   2017-12-15             STAR WARS EP VIII THE LAST JEDI   \n",
       "...   ..          ...                                         ...   \n",
       "5777  78   2018-12-31                                      RED 11   \n",
       "5778  79   1999-04-02                                   FOLLOWING   \n",
       "5779  80   2005-07-13               RETURN TO THE LAND OF WONDERS   \n",
       "5780  81   2015-09-29                        A PLAGUE SO PLEASANT   \n",
       "5781  82   2005-08-05                           MY DATE WITH DREW   \n",
       "\n",
       "      production_budget  domestic_gross  worldwide_gross        profit  \\\n",
       "0           425000000.0     760507625.0     2.776345e+09  2.351345e+09   \n",
       "1           410600000.0     241063875.0     1.045664e+09  6.350639e+08   \n",
       "2           350000000.0      42762350.0     1.497624e+08 -2.002376e+08   \n",
       "3           330600000.0     459005868.0     1.403014e+09  1.072414e+09   \n",
       "4           317000000.0     620181382.0     1.316722e+09  9.997217e+08   \n",
       "...                 ...             ...              ...           ...   \n",
       "5777             7000.0             0.0     0.000000e+00 -7.000000e+03   \n",
       "5778             6000.0         48482.0     2.404950e+05  2.344950e+05   \n",
       "5779             5000.0          1338.0     1.338000e+03 -3.662000e+03   \n",
       "5780             1400.0             0.0     0.000000e+00 -1.400000e+03   \n",
       "5781             1100.0        181041.0     1.810410e+05  1.799410e+05   \n",
       "\n",
       "      release_month  release_year  Season  \n",
       "0                12          2009       4  \n",
       "1                 5          2011       1  \n",
       "2                 6          2019       2  \n",
       "3                 5          2015       1  \n",
       "4                12          2017       4  \n",
       "...             ...           ...     ...  \n",
       "5777             12          2018       4  \n",
       "5778              4          1999       1  \n",
       "5779              7          2005       2  \n",
       "5780              9          2015       3  \n",
       "5781              8          2005       2  \n",
       "\n",
       "[5782 rows x 10 columns]"
      ]
     },
     "execution_count": 152,
     "metadata": {},
     "output_type": "execute_result"
    }
   ],
   "source": [
    "movie_budgets"
   ]
  },
  {
   "cell_type": "markdown",
   "metadata": {},
   "source": [
    "#### Merge Gross and budgets"
   ]
  },
  {
   "cell_type": "code",
   "execution_count": 163,
   "metadata": {},
   "outputs": [
    {
     "data": {
      "text/html": [
       "<div>\n",
       "<style scoped>\n",
       "    .dataframe tbody tr th:only-of-type {\n",
       "        vertical-align: middle;\n",
       "    }\n",
       "\n",
       "    .dataframe tbody tr th {\n",
       "        vertical-align: top;\n",
       "    }\n",
       "\n",
       "    .dataframe thead th {\n",
       "        text-align: right;\n",
       "    }\n",
       "</style>\n",
       "<table border=\"1\" class=\"dataframe\">\n",
       "  <thead>\n",
       "    <tr style=\"text-align: right;\">\n",
       "      <th></th>\n",
       "      <th>title</th>\n",
       "      <th>studio</th>\n",
       "      <th>domestic_gross_x</th>\n",
       "      <th>foreign_gross</th>\n",
       "      <th>year</th>\n",
       "      <th>id</th>\n",
       "      <th>release_date</th>\n",
       "      <th>production_budget</th>\n",
       "      <th>domestic_gross_y</th>\n",
       "      <th>worldwide_gross</th>\n",
       "      <th>profit</th>\n",
       "      <th>release_month</th>\n",
       "      <th>release_year</th>\n",
       "      <th>Season</th>\n",
       "    </tr>\n",
       "  </thead>\n",
       "  <tbody>\n",
       "    <tr>\n",
       "      <th>0</th>\n",
       "      <td>TOY STORY 3</td>\n",
       "      <td>BV</td>\n",
       "      <td>415000000.0</td>\n",
       "      <td>652000000.0</td>\n",
       "      <td>2010</td>\n",
       "      <td>47</td>\n",
       "      <td>2010-06-18</td>\n",
       "      <td>200000000.0</td>\n",
       "      <td>415004880.0</td>\n",
       "      <td>1.068880e+09</td>\n",
       "      <td>868879522.0</td>\n",
       "      <td>6</td>\n",
       "      <td>2010</td>\n",
       "      <td>2</td>\n",
       "    </tr>\n",
       "    <tr>\n",
       "      <th>1</th>\n",
       "      <td>INCEPTION</td>\n",
       "      <td>WB</td>\n",
       "      <td>292600000.0</td>\n",
       "      <td>535700000.0</td>\n",
       "      <td>2010</td>\n",
       "      <td>38</td>\n",
       "      <td>2010-07-16</td>\n",
       "      <td>160000000.0</td>\n",
       "      <td>292576195.0</td>\n",
       "      <td>8.355246e+08</td>\n",
       "      <td>675524642.0</td>\n",
       "      <td>7</td>\n",
       "      <td>2010</td>\n",
       "      <td>2</td>\n",
       "    </tr>\n",
       "    <tr>\n",
       "      <th>2</th>\n",
       "      <td>SHREK FOREVER AFTER</td>\n",
       "      <td>P/DW</td>\n",
       "      <td>238700000.0</td>\n",
       "      <td>513900000.0</td>\n",
       "      <td>2010</td>\n",
       "      <td>27</td>\n",
       "      <td>2010-05-21</td>\n",
       "      <td>165000000.0</td>\n",
       "      <td>238736787.0</td>\n",
       "      <td>7.562447e+08</td>\n",
       "      <td>591244673.0</td>\n",
       "      <td>5</td>\n",
       "      <td>2010</td>\n",
       "      <td>1</td>\n",
       "    </tr>\n",
       "    <tr>\n",
       "      <th>3</th>\n",
       "      <td>THE TWILIGHT SAGA ECLIPSE</td>\n",
       "      <td>Sum.</td>\n",
       "      <td>300500000.0</td>\n",
       "      <td>398000000.0</td>\n",
       "      <td>2010</td>\n",
       "      <td>53</td>\n",
       "      <td>2010-06-30</td>\n",
       "      <td>68000000.0</td>\n",
       "      <td>300531751.0</td>\n",
       "      <td>7.061028e+08</td>\n",
       "      <td>638102828.0</td>\n",
       "      <td>6</td>\n",
       "      <td>2010</td>\n",
       "      <td>2</td>\n",
       "    </tr>\n",
       "    <tr>\n",
       "      <th>4</th>\n",
       "      <td>IRON MAN 2</td>\n",
       "      <td>Par.</td>\n",
       "      <td>312400000.0</td>\n",
       "      <td>311500000.0</td>\n",
       "      <td>2010</td>\n",
       "      <td>15</td>\n",
       "      <td>2010-05-07</td>\n",
       "      <td>170000000.0</td>\n",
       "      <td>312433331.0</td>\n",
       "      <td>6.211564e+08</td>\n",
       "      <td>451156389.0</td>\n",
       "      <td>5</td>\n",
       "      <td>2010</td>\n",
       "      <td>1</td>\n",
       "    </tr>\n",
       "    <tr>\n",
       "      <th>...</th>\n",
       "      <td>...</td>\n",
       "      <td>...</td>\n",
       "      <td>...</td>\n",
       "      <td>...</td>\n",
       "      <td>...</td>\n",
       "      <td>...</td>\n",
       "      <td>...</td>\n",
       "      <td>...</td>\n",
       "      <td>...</td>\n",
       "      <td>...</td>\n",
       "      <td>...</td>\n",
       "      <td>...</td>\n",
       "      <td>...</td>\n",
       "      <td>...</td>\n",
       "    </tr>\n",
       "    <tr>\n",
       "      <th>1302</th>\n",
       "      <td>BEN IS BACK</td>\n",
       "      <td>RAtt.</td>\n",
       "      <td>3700000.0</td>\n",
       "      <td>NaN</td>\n",
       "      <td>2018</td>\n",
       "      <td>95</td>\n",
       "      <td>2018-12-07</td>\n",
       "      <td>13000000.0</td>\n",
       "      <td>3703182.0</td>\n",
       "      <td>9.633111e+06</td>\n",
       "      <td>-3366889.0</td>\n",
       "      <td>12</td>\n",
       "      <td>2018</td>\n",
       "      <td>4</td>\n",
       "    </tr>\n",
       "    <tr>\n",
       "      <th>1303</th>\n",
       "      <td>BILAL A NEW BREED OF HERO</td>\n",
       "      <td>VE</td>\n",
       "      <td>491000.0</td>\n",
       "      <td>1700000.0</td>\n",
       "      <td>2018</td>\n",
       "      <td>100</td>\n",
       "      <td>2018-02-02</td>\n",
       "      <td>30000000.0</td>\n",
       "      <td>490973.0</td>\n",
       "      <td>6.485990e+05</td>\n",
       "      <td>-29351401.0</td>\n",
       "      <td>2</td>\n",
       "      <td>2018</td>\n",
       "      <td>4</td>\n",
       "    </tr>\n",
       "    <tr>\n",
       "      <th>1304</th>\n",
       "      <td>MANDY</td>\n",
       "      <td>RLJ</td>\n",
       "      <td>1200000.0</td>\n",
       "      <td>NaN</td>\n",
       "      <td>2018</td>\n",
       "      <td>71</td>\n",
       "      <td>2018-09-14</td>\n",
       "      <td>6000000.0</td>\n",
       "      <td>1214525.0</td>\n",
       "      <td>1.427656e+06</td>\n",
       "      <td>-4572344.0</td>\n",
       "      <td>9</td>\n",
       "      <td>2018</td>\n",
       "      <td>3</td>\n",
       "    </tr>\n",
       "    <tr>\n",
       "      <th>1305</th>\n",
       "      <td>LEAN ON PETE</td>\n",
       "      <td>A24</td>\n",
       "      <td>1200000.0</td>\n",
       "      <td>NaN</td>\n",
       "      <td>2018</td>\n",
       "      <td>13</td>\n",
       "      <td>2018-04-06</td>\n",
       "      <td>8000000.0</td>\n",
       "      <td>1163056.0</td>\n",
       "      <td>2.455027e+06</td>\n",
       "      <td>-5544973.0</td>\n",
       "      <td>4</td>\n",
       "      <td>2018</td>\n",
       "      <td>1</td>\n",
       "    </tr>\n",
       "    <tr>\n",
       "      <th>1306</th>\n",
       "      <td>BORG VS MCENROE</td>\n",
       "      <td>Neon</td>\n",
       "      <td>231000.0</td>\n",
       "      <td>NaN</td>\n",
       "      <td>2018</td>\n",
       "      <td>70</td>\n",
       "      <td>2018-04-13</td>\n",
       "      <td>7500000.0</td>\n",
       "      <td>231346.0</td>\n",
       "      <td>3.257922e+06</td>\n",
       "      <td>-4242078.0</td>\n",
       "      <td>4</td>\n",
       "      <td>2018</td>\n",
       "      <td>1</td>\n",
       "    </tr>\n",
       "  </tbody>\n",
       "</table>\n",
       "<p>1307 rows × 14 columns</p>\n",
       "</div>"
      ],
      "text/plain": [
       "                          title studio  domestic_gross_x  foreign_gross  year  \\\n",
       "0                   TOY STORY 3     BV       415000000.0    652000000.0  2010   \n",
       "1                     INCEPTION     WB       292600000.0    535700000.0  2010   \n",
       "2           SHREK FOREVER AFTER   P/DW       238700000.0    513900000.0  2010   \n",
       "3     THE TWILIGHT SAGA ECLIPSE   Sum.       300500000.0    398000000.0  2010   \n",
       "4                    IRON MAN 2   Par.       312400000.0    311500000.0  2010   \n",
       "...                         ...    ...               ...            ...   ...   \n",
       "1302                BEN IS BACK  RAtt.         3700000.0            NaN  2018   \n",
       "1303  BILAL A NEW BREED OF HERO     VE          491000.0      1700000.0  2018   \n",
       "1304                      MANDY    RLJ         1200000.0            NaN  2018   \n",
       "1305               LEAN ON PETE    A24         1200000.0            NaN  2018   \n",
       "1306            BORG VS MCENROE   Neon          231000.0            NaN  2018   \n",
       "\n",
       "       id release_date  production_budget  domestic_gross_y  worldwide_gross  \\\n",
       "0      47   2010-06-18        200000000.0       415004880.0     1.068880e+09   \n",
       "1      38   2010-07-16        160000000.0       292576195.0     8.355246e+08   \n",
       "2      27   2010-05-21        165000000.0       238736787.0     7.562447e+08   \n",
       "3      53   2010-06-30         68000000.0       300531751.0     7.061028e+08   \n",
       "4      15   2010-05-07        170000000.0       312433331.0     6.211564e+08   \n",
       "...   ...          ...                ...               ...              ...   \n",
       "1302   95   2018-12-07         13000000.0         3703182.0     9.633111e+06   \n",
       "1303  100   2018-02-02         30000000.0          490973.0     6.485990e+05   \n",
       "1304   71   2018-09-14          6000000.0         1214525.0     1.427656e+06   \n",
       "1305   13   2018-04-06          8000000.0         1163056.0     2.455027e+06   \n",
       "1306   70   2018-04-13          7500000.0          231346.0     3.257922e+06   \n",
       "\n",
       "           profit  release_month  release_year  Season  \n",
       "0     868879522.0              6          2010       2  \n",
       "1     675524642.0              7          2010       2  \n",
       "2     591244673.0              5          2010       1  \n",
       "3     638102828.0              6          2010       2  \n",
       "4     451156389.0              5          2010       1  \n",
       "...           ...            ...           ...     ...  \n",
       "1302   -3366889.0             12          2018       4  \n",
       "1303  -29351401.0              2          2018       4  \n",
       "1304   -4572344.0              9          2018       3  \n",
       "1305   -5544973.0              4          2018       1  \n",
       "1306   -4242078.0              4          2018       1  \n",
       "\n",
       "[1307 rows x 14 columns]"
      ]
     },
     "execution_count": 312,
     "metadata": {},
     "output_type": "execute_result"
    }
   ],
   "source": [
    "movieGrossJoinBudgets = pd.DataFrame.merge(movie_gross, movie_budgets, on = 'title')\n",
    "movieGrossJoinBudgets"
   ]
  },
  {
   "cell_type": "code",
   "execution_count": 313,
   "metadata": {},
   "outputs": [
    {
     "data": {
      "text/plain": [
       "title                  0\n",
       "studio                 1\n",
       "domestic_gross_x       2\n",
       "foreign_gross        171\n",
       "year                   0\n",
       "id                     0\n",
       "release_date           0\n",
       "production_budget      0\n",
       "domestic_gross_y       0\n",
       "worldwide_gross        0\n",
       "profit                 0\n",
       "release_month          0\n",
       "release_year           0\n",
       "Season                 0\n",
       "dtype: int64"
      ]
     },
     "execution_count": 313,
     "metadata": {},
     "output_type": "execute_result"
    }
   ],
   "source": [
    "movieGrossJoinBudgets.isna().sum()"
   ]
  },
  {
   "cell_type": "code",
   "execution_count": 314,
   "metadata": {},
   "outputs": [],
   "source": [
    "movieGrossJoinBudgets.fillna(0, inplace = True)"
   ]
  },
  {
   "cell_type": "code",
   "execution_count": 315,
   "metadata": {},
   "outputs": [
    {
     "data": {
      "text/plain": [
       "title                0\n",
       "studio               0\n",
       "domestic_gross_x     0\n",
       "foreign_gross        0\n",
       "year                 0\n",
       "id                   0\n",
       "release_date         0\n",
       "production_budget    0\n",
       "domestic_gross_y     0\n",
       "worldwide_gross      0\n",
       "profit               0\n",
       "release_month        0\n",
       "release_year         0\n",
       "Season               0\n",
       "dtype: int64"
      ]
     },
     "execution_count": 315,
     "metadata": {},
     "output_type": "execute_result"
    }
   ],
   "source": [
    "movieGrossJoinBudgets.isna().sum()"
   ]
  },
  {
   "cell_type": "code",
   "execution_count": 316,
   "metadata": {},
   "outputs": [
    {
     "data": {
      "text/html": [
       "<div>\n",
       "<style scoped>\n",
       "    .dataframe tbody tr th:only-of-type {\n",
       "        vertical-align: middle;\n",
       "    }\n",
       "\n",
       "    .dataframe tbody tr th {\n",
       "        vertical-align: top;\n",
       "    }\n",
       "\n",
       "    .dataframe thead th {\n",
       "        text-align: right;\n",
       "    }\n",
       "</style>\n",
       "<table border=\"1\" class=\"dataframe\">\n",
       "  <thead>\n",
       "    <tr style=\"text-align: right;\">\n",
       "      <th></th>\n",
       "      <th>title</th>\n",
       "      <th>studio</th>\n",
       "      <th>domestic_gross_x</th>\n",
       "      <th>foreign_gross</th>\n",
       "      <th>year</th>\n",
       "      <th>id</th>\n",
       "      <th>release_date</th>\n",
       "      <th>production_budget</th>\n",
       "      <th>worldwide_gross</th>\n",
       "      <th>profit</th>\n",
       "      <th>release_month</th>\n",
       "      <th>release_year</th>\n",
       "      <th>Season</th>\n",
       "    </tr>\n",
       "  </thead>\n",
       "  <tbody>\n",
       "    <tr>\n",
       "      <th>0</th>\n",
       "      <td>TOY STORY 3</td>\n",
       "      <td>BV</td>\n",
       "      <td>415000000.0</td>\n",
       "      <td>652000000.0</td>\n",
       "      <td>2010</td>\n",
       "      <td>47</td>\n",
       "      <td>2010-06-18</td>\n",
       "      <td>200000000.0</td>\n",
       "      <td>1.068880e+09</td>\n",
       "      <td>868879522.0</td>\n",
       "      <td>6</td>\n",
       "      <td>2010</td>\n",
       "      <td>2</td>\n",
       "    </tr>\n",
       "    <tr>\n",
       "      <th>1</th>\n",
       "      <td>INCEPTION</td>\n",
       "      <td>WB</td>\n",
       "      <td>292600000.0</td>\n",
       "      <td>535700000.0</td>\n",
       "      <td>2010</td>\n",
       "      <td>38</td>\n",
       "      <td>2010-07-16</td>\n",
       "      <td>160000000.0</td>\n",
       "      <td>8.355246e+08</td>\n",
       "      <td>675524642.0</td>\n",
       "      <td>7</td>\n",
       "      <td>2010</td>\n",
       "      <td>2</td>\n",
       "    </tr>\n",
       "    <tr>\n",
       "      <th>2</th>\n",
       "      <td>SHREK FOREVER AFTER</td>\n",
       "      <td>P/DW</td>\n",
       "      <td>238700000.0</td>\n",
       "      <td>513900000.0</td>\n",
       "      <td>2010</td>\n",
       "      <td>27</td>\n",
       "      <td>2010-05-21</td>\n",
       "      <td>165000000.0</td>\n",
       "      <td>7.562447e+08</td>\n",
       "      <td>591244673.0</td>\n",
       "      <td>5</td>\n",
       "      <td>2010</td>\n",
       "      <td>1</td>\n",
       "    </tr>\n",
       "    <tr>\n",
       "      <th>3</th>\n",
       "      <td>THE TWILIGHT SAGA ECLIPSE</td>\n",
       "      <td>Sum.</td>\n",
       "      <td>300500000.0</td>\n",
       "      <td>398000000.0</td>\n",
       "      <td>2010</td>\n",
       "      <td>53</td>\n",
       "      <td>2010-06-30</td>\n",
       "      <td>68000000.0</td>\n",
       "      <td>7.061028e+08</td>\n",
       "      <td>638102828.0</td>\n",
       "      <td>6</td>\n",
       "      <td>2010</td>\n",
       "      <td>2</td>\n",
       "    </tr>\n",
       "    <tr>\n",
       "      <th>4</th>\n",
       "      <td>IRON MAN 2</td>\n",
       "      <td>Par.</td>\n",
       "      <td>312400000.0</td>\n",
       "      <td>311500000.0</td>\n",
       "      <td>2010</td>\n",
       "      <td>15</td>\n",
       "      <td>2010-05-07</td>\n",
       "      <td>170000000.0</td>\n",
       "      <td>6.211564e+08</td>\n",
       "      <td>451156389.0</td>\n",
       "      <td>5</td>\n",
       "      <td>2010</td>\n",
       "      <td>1</td>\n",
       "    </tr>\n",
       "    <tr>\n",
       "      <th>...</th>\n",
       "      <td>...</td>\n",
       "      <td>...</td>\n",
       "      <td>...</td>\n",
       "      <td>...</td>\n",
       "      <td>...</td>\n",
       "      <td>...</td>\n",
       "      <td>...</td>\n",
       "      <td>...</td>\n",
       "      <td>...</td>\n",
       "      <td>...</td>\n",
       "      <td>...</td>\n",
       "      <td>...</td>\n",
       "      <td>...</td>\n",
       "    </tr>\n",
       "    <tr>\n",
       "      <th>1302</th>\n",
       "      <td>BEN IS BACK</td>\n",
       "      <td>RAtt.</td>\n",
       "      <td>3700000.0</td>\n",
       "      <td>0.0</td>\n",
       "      <td>2018</td>\n",
       "      <td>95</td>\n",
       "      <td>2018-12-07</td>\n",
       "      <td>13000000.0</td>\n",
       "      <td>9.633111e+06</td>\n",
       "      <td>-3366889.0</td>\n",
       "      <td>12</td>\n",
       "      <td>2018</td>\n",
       "      <td>4</td>\n",
       "    </tr>\n",
       "    <tr>\n",
       "      <th>1303</th>\n",
       "      <td>BILAL A NEW BREED OF HERO</td>\n",
       "      <td>VE</td>\n",
       "      <td>491000.0</td>\n",
       "      <td>1700000.0</td>\n",
       "      <td>2018</td>\n",
       "      <td>100</td>\n",
       "      <td>2018-02-02</td>\n",
       "      <td>30000000.0</td>\n",
       "      <td>6.485990e+05</td>\n",
       "      <td>-29351401.0</td>\n",
       "      <td>2</td>\n",
       "      <td>2018</td>\n",
       "      <td>4</td>\n",
       "    </tr>\n",
       "    <tr>\n",
       "      <th>1304</th>\n",
       "      <td>MANDY</td>\n",
       "      <td>RLJ</td>\n",
       "      <td>1200000.0</td>\n",
       "      <td>0.0</td>\n",
       "      <td>2018</td>\n",
       "      <td>71</td>\n",
       "      <td>2018-09-14</td>\n",
       "      <td>6000000.0</td>\n",
       "      <td>1.427656e+06</td>\n",
       "      <td>-4572344.0</td>\n",
       "      <td>9</td>\n",
       "      <td>2018</td>\n",
       "      <td>3</td>\n",
       "    </tr>\n",
       "    <tr>\n",
       "      <th>1305</th>\n",
       "      <td>LEAN ON PETE</td>\n",
       "      <td>A24</td>\n",
       "      <td>1200000.0</td>\n",
       "      <td>0.0</td>\n",
       "      <td>2018</td>\n",
       "      <td>13</td>\n",
       "      <td>2018-04-06</td>\n",
       "      <td>8000000.0</td>\n",
       "      <td>2.455027e+06</td>\n",
       "      <td>-5544973.0</td>\n",
       "      <td>4</td>\n",
       "      <td>2018</td>\n",
       "      <td>1</td>\n",
       "    </tr>\n",
       "    <tr>\n",
       "      <th>1306</th>\n",
       "      <td>BORG VS MCENROE</td>\n",
       "      <td>Neon</td>\n",
       "      <td>231000.0</td>\n",
       "      <td>0.0</td>\n",
       "      <td>2018</td>\n",
       "      <td>70</td>\n",
       "      <td>2018-04-13</td>\n",
       "      <td>7500000.0</td>\n",
       "      <td>3.257922e+06</td>\n",
       "      <td>-4242078.0</td>\n",
       "      <td>4</td>\n",
       "      <td>2018</td>\n",
       "      <td>1</td>\n",
       "    </tr>\n",
       "  </tbody>\n",
       "</table>\n",
       "<p>1307 rows × 13 columns</p>\n",
       "</div>"
      ],
      "text/plain": [
       "                          title studio  domestic_gross_x  foreign_gross  year  \\\n",
       "0                   TOY STORY 3     BV       415000000.0    652000000.0  2010   \n",
       "1                     INCEPTION     WB       292600000.0    535700000.0  2010   \n",
       "2           SHREK FOREVER AFTER   P/DW       238700000.0    513900000.0  2010   \n",
       "3     THE TWILIGHT SAGA ECLIPSE   Sum.       300500000.0    398000000.0  2010   \n",
       "4                    IRON MAN 2   Par.       312400000.0    311500000.0  2010   \n",
       "...                         ...    ...               ...            ...   ...   \n",
       "1302                BEN IS BACK  RAtt.         3700000.0            0.0  2018   \n",
       "1303  BILAL A NEW BREED OF HERO     VE          491000.0      1700000.0  2018   \n",
       "1304                      MANDY    RLJ         1200000.0            0.0  2018   \n",
       "1305               LEAN ON PETE    A24         1200000.0            0.0  2018   \n",
       "1306            BORG VS MCENROE   Neon          231000.0            0.0  2018   \n",
       "\n",
       "       id release_date  production_budget  worldwide_gross       profit  \\\n",
       "0      47   2010-06-18        200000000.0     1.068880e+09  868879522.0   \n",
       "1      38   2010-07-16        160000000.0     8.355246e+08  675524642.0   \n",
       "2      27   2010-05-21        165000000.0     7.562447e+08  591244673.0   \n",
       "3      53   2010-06-30         68000000.0     7.061028e+08  638102828.0   \n",
       "4      15   2010-05-07        170000000.0     6.211564e+08  451156389.0   \n",
       "...   ...          ...                ...              ...          ...   \n",
       "1302   95   2018-12-07         13000000.0     9.633111e+06   -3366889.0   \n",
       "1303  100   2018-02-02         30000000.0     6.485990e+05  -29351401.0   \n",
       "1304   71   2018-09-14          6000000.0     1.427656e+06   -4572344.0   \n",
       "1305   13   2018-04-06          8000000.0     2.455027e+06   -5544973.0   \n",
       "1306   70   2018-04-13          7500000.0     3.257922e+06   -4242078.0   \n",
       "\n",
       "      release_month  release_year  Season  \n",
       "0                 6          2010       2  \n",
       "1                 7          2010       2  \n",
       "2                 5          2010       1  \n",
       "3                 6          2010       2  \n",
       "4                 5          2010       1  \n",
       "...             ...           ...     ...  \n",
       "1302             12          2018       4  \n",
       "1303              2          2018       4  \n",
       "1304              9          2018       3  \n",
       "1305              4          2018       1  \n",
       "1306              4          2018       1  \n",
       "\n",
       "[1307 rows x 13 columns]"
      ]
     },
     "execution_count": 316,
     "metadata": {},
     "output_type": "execute_result"
    }
   ],
   "source": [
    "movieGrossJoinBudgets.drop(['domestic_gross_y'], axis=1, inplace=True)\n",
    "movieGrossJoinBudgets"
   ]
  },
  {
   "cell_type": "code",
   "execution_count": null,
   "metadata": {},
   "outputs": [],
   "source": []
  },
  {
   "cell_type": "code",
   "execution_count": null,
   "metadata": {},
   "outputs": [],
   "source": []
  },
  {
   "cell_type": "code",
   "execution_count": 317,
   "metadata": {},
   "outputs": [
    {
     "data": {
      "text/html": [
       "<div>\n",
       "<style scoped>\n",
       "    .dataframe tbody tr th:only-of-type {\n",
       "        vertical-align: middle;\n",
       "    }\n",
       "\n",
       "    .dataframe tbody tr th {\n",
       "        vertical-align: top;\n",
       "    }\n",
       "\n",
       "    .dataframe thead th {\n",
       "        text-align: right;\n",
       "    }\n",
       "</style>\n",
       "<table border=\"1\" class=\"dataframe\">\n",
       "  <thead>\n",
       "    <tr style=\"text-align: right;\">\n",
       "      <th></th>\n",
       "      <th>domestic_gross_x</th>\n",
       "      <th>foreign_gross</th>\n",
       "      <th>year</th>\n",
       "      <th>id</th>\n",
       "      <th>production_budget</th>\n",
       "      <th>worldwide_gross</th>\n",
       "      <th>profit</th>\n",
       "      <th>release_month</th>\n",
       "      <th>release_year</th>\n",
       "    </tr>\n",
       "    <tr>\n",
       "      <th>Season</th>\n",
       "      <th></th>\n",
       "      <th></th>\n",
       "      <th></th>\n",
       "      <th></th>\n",
       "      <th></th>\n",
       "      <th></th>\n",
       "      <th></th>\n",
       "      <th></th>\n",
       "      <th></th>\n",
       "    </tr>\n",
       "  </thead>\n",
       "  <tbody>\n",
       "    <tr>\n",
       "      <th>1</th>\n",
       "      <td>5.927270e+07</td>\n",
       "      <td>8.441192e+07</td>\n",
       "      <td>2013.434641</td>\n",
       "      <td>49.137255</td>\n",
       "      <td>5.171090e+07</td>\n",
       "      <td>1.562606e+08</td>\n",
       "      <td>1.045497e+08</td>\n",
       "      <td>3.928105</td>\n",
       "      <td>2013.294118</td>\n",
       "    </tr>\n",
       "    <tr>\n",
       "      <th>2</th>\n",
       "      <td>7.537734e+07</td>\n",
       "      <td>1.093422e+08</td>\n",
       "      <td>2013.610942</td>\n",
       "      <td>51.890578</td>\n",
       "      <td>5.357542e+07</td>\n",
       "      <td>1.883520e+08</td>\n",
       "      <td>1.347765e+08</td>\n",
       "      <td>6.987842</td>\n",
       "      <td>2013.328267</td>\n",
       "    </tr>\n",
       "    <tr>\n",
       "      <th>3</th>\n",
       "      <td>5.015159e+07</td>\n",
       "      <td>7.746215e+07</td>\n",
       "      <td>2013.454301</td>\n",
       "      <td>49.548387</td>\n",
       "      <td>4.009311e+07</td>\n",
       "      <td>1.273290e+08</td>\n",
       "      <td>8.723586e+07</td>\n",
       "      <td>10.034946</td>\n",
       "      <td>2013.295699</td>\n",
       "    </tr>\n",
       "    <tr>\n",
       "      <th>4</th>\n",
       "      <td>5.944840e+07</td>\n",
       "      <td>8.010209e+07</td>\n",
       "      <td>2013.723333</td>\n",
       "      <td>52.500000</td>\n",
       "      <td>4.470407e+07</td>\n",
       "      <td>1.395738e+08</td>\n",
       "      <td>9.486975e+07</td>\n",
       "      <td>5.810000</td>\n",
       "      <td>2013.750000</td>\n",
       "    </tr>\n",
       "  </tbody>\n",
       "</table>\n",
       "</div>"
      ],
      "text/plain": [
       "        domestic_gross_x  foreign_gross         year         id  \\\n",
       "Season                                                            \n",
       "1           5.927270e+07   8.441192e+07  2013.434641  49.137255   \n",
       "2           7.537734e+07   1.093422e+08  2013.610942  51.890578   \n",
       "3           5.015159e+07   7.746215e+07  2013.454301  49.548387   \n",
       "4           5.944840e+07   8.010209e+07  2013.723333  52.500000   \n",
       "\n",
       "        production_budget  worldwide_gross        profit  release_month  \\\n",
       "Season                                                                    \n",
       "1            5.171090e+07     1.562606e+08  1.045497e+08       3.928105   \n",
       "2            5.357542e+07     1.883520e+08  1.347765e+08       6.987842   \n",
       "3            4.009311e+07     1.273290e+08  8.723586e+07      10.034946   \n",
       "4            4.470407e+07     1.395738e+08  9.486975e+07       5.810000   \n",
       "\n",
       "        release_year  \n",
       "Season                \n",
       "1        2013.294118  \n",
       "2        2013.328267  \n",
       "3        2013.295699  \n",
       "4        2013.750000  "
      ]
     },
     "execution_count": 317,
     "metadata": {},
     "output_type": "execute_result"
    }
   ],
   "source": [
    "GrossJoinBudgetGrouped = movieGrossJoinBudgets.groupby('Season').mean()\n",
    "GrossJoinBudgetGrouped"
   ]
  },
  {
   "cell_type": "code",
   "execution_count": 318,
   "metadata": {},
   "outputs": [
    {
     "data": {
      "text/html": [
       "<div>\n",
       "<style scoped>\n",
       "    .dataframe tbody tr th:only-of-type {\n",
       "        vertical-align: middle;\n",
       "    }\n",
       "\n",
       "    .dataframe tbody tr th {\n",
       "        vertical-align: top;\n",
       "    }\n",
       "\n",
       "    .dataframe thead th {\n",
       "        text-align: right;\n",
       "    }\n",
       "</style>\n",
       "<table border=\"1\" class=\"dataframe\">\n",
       "  <thead>\n",
       "    <tr style=\"text-align: right;\">\n",
       "      <th></th>\n",
       "      <th>domestic_gross_x</th>\n",
       "      <th>foreign_gross</th>\n",
       "    </tr>\n",
       "    <tr>\n",
       "      <th>Season</th>\n",
       "      <th></th>\n",
       "      <th></th>\n",
       "    </tr>\n",
       "  </thead>\n",
       "  <tbody>\n",
       "    <tr>\n",
       "      <th>1</th>\n",
       "      <td>5.927270e+07</td>\n",
       "      <td>8.441192e+07</td>\n",
       "    </tr>\n",
       "    <tr>\n",
       "      <th>2</th>\n",
       "      <td>7.537734e+07</td>\n",
       "      <td>1.093422e+08</td>\n",
       "    </tr>\n",
       "    <tr>\n",
       "      <th>3</th>\n",
       "      <td>5.015159e+07</td>\n",
       "      <td>7.746215e+07</td>\n",
       "    </tr>\n",
       "    <tr>\n",
       "      <th>4</th>\n",
       "      <td>5.944840e+07</td>\n",
       "      <td>8.010209e+07</td>\n",
       "    </tr>\n",
       "  </tbody>\n",
       "</table>\n",
       "</div>"
      ],
      "text/plain": [
       "        domestic_gross_x  foreign_gross\n",
       "Season                                 \n",
       "1           5.927270e+07   8.441192e+07\n",
       "2           7.537734e+07   1.093422e+08\n",
       "3           5.015159e+07   7.746215e+07\n",
       "4           5.944840e+07   8.010209e+07"
      ]
     },
     "execution_count": 318,
     "metadata": {},
     "output_type": "execute_result"
    }
   ],
   "source": [
    "GrossJoinBudgetGrouped.drop(['year', 'id', 'production_budget', 'worldwide_gross', 'release_month', 'release_year', 'profit'], axis=1, inplace=True)\n",
    "GrossJoinBudgetGrouped"
   ]
  },
  {
   "cell_type": "code",
   "execution_count": 319,
   "metadata": {},
   "outputs": [
    {
     "data": {
      "image/png": "[encoded data removed]",
      "text/plain": [
       "<Figure size 432x288 with 1 Axes>"
      ]
     },
     "metadata": {
      "needs_background": "light"
     },
     "output_type": "display_data"
    }
   ],
   "source": [
    "w=0.4\n",
    "x = ['Spring', 'Summer', 'Fall', 'Winter']\n",
    "domestic_gross_x = [5.868469e+07, 7.679157e+07, 4.878626e+07, 5.906062e+07]\n",
    "foreign_gross = [8.363396e+07, 1.117212e+08, 7.503076e+07, 8.060080e+07]\n",
    "\n",
    "bar1 = np.arange(len(x))\n",
    "bar2 = [i+w for i in bar1]\n",
    "\n",
    "plt.bar(bar1,domestic_gross_x,w,label='Domestic Gross')\n",
    "plt.bar(bar2,foreign_gross,w,label='Foreign Gross')\n",
    "plt.title('Seasonal Gross Values')\n",
    "plt.xticks(bar1+w/2,x)\n",
    "plt.xlabel('Season')\n",
    "plt.ylabel('Gross Value')\n",
    "plt.legend()\n",
    "plt.show()"
   ]
  },
  {
   "cell_type": "code",
   "execution_count": null,
   "metadata": {},
   "outputs": [],
   "source": []
  },
  {
   "cell_type": "markdown",
   "metadata": {},
   "source": [
    "#### Hypothesis Testing"
   ]
  },
  {
   "cell_type": "markdown",
   "metadata": {},
   "source": [
    "##### Hypothesis\n",
    "    Null: There is no significant difference between the summer release dates and non summer release dates. H0:𝜇 ≥ 𝑥¯  \n",
    "    Alternative: The the gross value is significantly bigger when released than not released in summer mean. 𝐻𝑎: 𝜇<𝑥¯\n",
    "    Alpha= .02"
   ]
  },
  {
   "cell_type": "markdown",
   "metadata": {},
   "source": [
    "**We will be performing a**  \n",
    "<span style='color: red'>TODO</span>  \n",
    "Finish this"
   ]
  },
  {
   "cell_type": "code",
   "execution_count": 321,
   "metadata": {},
   "outputs": [
    {
     "data": {
      "image/png": "[encoded data removed]",
      "text/plain": [
       "<Figure size 432x288 with 1 Axes>"
      ]
     },
     "metadata": {
      "needs_background": "light"
     },
     "output_type": "display_data"
    }
   ],
   "source": [
    "summer = movieGrossJoinBudgets['Season'].values == 2\n",
    "forSummer = movieGrossJoinBudgets.loc[summer]['foreign_gross']\n",
    "domSummer = movieGrossJoinBudgets.loc[summer]['domestic_gross_x']\n",
    "plt.boxplot([forSummer, domSummer], );"
   ]
  },
  {
   "cell_type": "code",
   "execution_count": 322,
   "metadata": {},
   "outputs": [],
   "source": [
    "winter = movieGrossJoinBudgets['Season'].values == 4\n",
    "spring = movieGrossJoinBudgets['Season'].values == 1\n",
    "fall = movieGrossJoinBudgets['Season'].values == 3\n",
    "\n",
    "forSpring = movieGrossJoinBudgets.loc[spring]['foreign_gross']\n",
    "domSpring = movieGrossJoinBudgets.loc[spring]['domestic_gross_x']\n",
    "forFall = movieGrossJoinBudgets.loc[fall]['foreign_gross']\n",
    "domFall = movieGrossJoinBudgets.loc[fall]['domestic_gross_x']\n",
    "forWinter = movieGrossJoinBudgets.loc[winter]['foreign_gross']\n",
    "domWinter = movieGrossJoinBudgets.loc[winter]['domestic_gross_x']"
   ]
  },
  {
   "cell_type": "code",
   "execution_count": 323,
   "metadata": {},
   "outputs": [
    {
     "data": {
      "text/plain": [
       "{'whiskers': [<matplotlib.lines.Line2D at 0x2b697f58a00>,\n",
       "  <matplotlib.lines.Line2D at 0x2b697f58d90>,\n",
       "  <matplotlib.lines.Line2D at 0x2b697549250>,\n",
       "  <matplotlib.lines.Line2D at 0x2b6975495b0>],\n",
       " 'caps': [<matplotlib.lines.Line2D at 0x2b69729a130>,\n",
       "  <matplotlib.lines.Line2D at 0x2b69729a490>,\n",
       "  <matplotlib.lines.Line2D at 0x2b697549910>,\n",
       "  <matplotlib.lines.Line2D at 0x2b697549c70>],\n",
       " 'boxes': [<matplotlib.lines.Line2D at 0x2b697f586a0>,\n",
       "  <matplotlib.lines.Line2D at 0x2b69729aeb0>],\n",
       " 'medians': [<matplotlib.lines.Line2D at 0x2b69729a7f0>,\n",
       "  <matplotlib.lines.Line2D at 0x2b697549fd0>],\n",
       " 'fliers': [<matplotlib.lines.Line2D at 0x2b69729ab50>,\n",
       "  <matplotlib.lines.Line2D at 0x2b6ac7ec370>],\n",
       " 'means': []}"
      ]
     },
     "execution_count": 323,
     "metadata": {},
     "output_type": "execute_result"
    },
    {
     "data": {
      "image/png": "[encoded data removed]",
      "text/plain": [
       "<Figure size 432x288 with 1 Axes>"
      ]
     },
     "metadata": {
      "needs_background": "light"
     },
     "output_type": "display_data"
    }
   ],
   "source": [
    "forSummer = forSummer[(forSummer>np.quantile(forSummer,0.25)) & (forSummer<np.quantile(forSummer,0.75))].tolist()\n",
    "\n",
    "domSummer = domSummer[(domSummer>np.quantile(domSummer,0.25)) & (domSummer<np.quantile(domSummer,0.75))].tolist()\n",
    "\n",
    "plt.boxplot([s1, s2], )"
   ]
  },
  {
   "cell_type": "code",
   "execution_count": 324,
   "metadata": {},
   "outputs": [],
   "source": [
    "forSpring = forSpring[(forSpring>np.quantile(forSpring,0.25)) & (forSpring<np.quantile(forSpring,0.75))].tolist()\n",
    "\n",
    "domSpring = domSpring[(domSpring>np.quantile(domSpring,0.25)) & (domSpring<np.quantile(domSpring,0.75))].tolist()"
   ]
  },
  {
   "cell_type": "code",
   "execution_count": 325,
   "metadata": {},
   "outputs": [],
   "source": [
    "forFall = forFall[(forFall>np.quantile(forFall,0.25)) & (forFall<np.quantile(forFall,0.75))].tolist()\n",
    "\n",
    "domFall = domFall[(domFall>np.quantile(domFall,0.25)) & (domFall<np.quantile(domFall,0.75))].tolist()"
   ]
  },
  {
   "cell_type": "code",
   "execution_count": 326,
   "metadata": {},
   "outputs": [],
   "source": [
    "forWinter = forWinter[(forWinter>np.quantile(forWinter,0.25)) & (forWinter<np.quantile(forWinter,0.75))].tolist()\n",
    "\n",
    "domWinter = domWinter[(domWinter>np.quantile(domWinter,0.25)) & (domWinter<np.quantile(domWinter,0.75))].tolist()"
   ]
  },
  {
   "cell_type": "code",
   "execution_count": null,
   "metadata": {},
   "outputs": [],
   "source": []
  },
  {
   "cell_type": "code",
   "execution_count": null,
   "metadata": {},
   "outputs": [],
   "source": []
  },
  {
   "cell_type": "markdown",
   "metadata": {},
   "source": [
    "<span style=\"color: red;\">TODO</span>  \n",
    "Change 1 sample test to 2 sample test; divide p_val by 2 for 1-sample test; give explanation at beginning of section for hypothesis test approach"
   ]
  },
  {
   "cell_type": "code",
   "execution_count": 327,
   "metadata": {},
   "outputs": [
    {
     "data": {
      "text/plain": [
       "Ttest_1sampResult(statistic=-16.975658219619813, pvalue=1.0542502218032285e-37)"
      ]
     },
     "execution_count": 327,
     "metadata": {},
     "output_type": "execute_result"
    }
   ],
   "source": [
    "# T-test for foriegn market in summer\n",
    "st.ttest_1samp(forSummer, popmean = movieGrossJoinBudgets['foreign_gross'].mean())"
   ]
  },
  {
   "cell_type": "code",
   "execution_count": 328,
   "metadata": {},
   "outputs": [
    {
     "data": {
      "text/plain": [
       "Ttest_1sampResult(statistic=-9.362271608584594, pvalue=6.391346686277828e-17)"
      ]
     },
     "execution_count": 328,
     "metadata": {},
     "output_type": "execute_result"
    }
   ],
   "source": [
    "#T-test for domestic market for summer\n",
    "st.ttest_1samp(domSummer, popmean = movieGrossJoinBudgets['domestic_gross_x'].mean())"
   ]
  },
  {
   "cell_type": "markdown",
   "metadata": {},
   "source": [
    "#  Decision"
   ]
  },
  {
   "cell_type": "code",
   "execution_count": 329,
   "metadata": {},
   "outputs": [
    {
     "data": {
      "text/plain": [
       "'\\nSince pvalue both pvalue for foreign and domestic gross are less than an alpha = .02 we can succesfully reject the null.\\nStating that we are 98% sure that movies released in the Summer will result in larger gross profits.\\n'"
      ]
     },
     "execution_count": 329,
     "metadata": {},
     "output_type": "execute_result"
    }
   ],
   "source": [
    "\"\"\"\n",
    "Since pvalue both pvalue for foreign and domestic gross are less than an alpha = .02 we reject the null.\n",
    "Stating that we are 98% sure that movies released in the Summer will result in larger gross profits.\n",
    "\"\"\""
   ]
  },
  {
   "cell_type": "markdown",
   "metadata": {},
   "source": [
    "## ANOVA Test\n",
    "\n",
    "<span style=\"color: red;\">TODO</span>  \n",
    "Explain test\n",
    "Establish H0/HA and alpha = 0.02"
   ]
  },
  {
   "cell_type": "code",
   "execution_count": 330,
   "metadata": {},
   "outputs": [
    {
     "data": {
      "text/html": [
       "<div>\n",
       "<style scoped>\n",
       "    .dataframe tbody tr th:only-of-type {\n",
       "        vertical-align: middle;\n",
       "    }\n",
       "\n",
       "    .dataframe tbody tr th {\n",
       "        vertical-align: top;\n",
       "    }\n",
       "\n",
       "    .dataframe thead th {\n",
       "        text-align: right;\n",
       "    }\n",
       "</style>\n",
       "<table border=\"1\" class=\"dataframe\">\n",
       "  <thead>\n",
       "    <tr style=\"text-align: right;\">\n",
       "      <th></th>\n",
       "      <th>sum_sq</th>\n",
       "      <th>df</th>\n",
       "      <th>F</th>\n",
       "      <th>PR(&gt;F)</th>\n",
       "    </tr>\n",
       "  </thead>\n",
       "  <tbody>\n",
       "    <tr>\n",
       "      <th>C(Season)</th>\n",
       "      <td>2.137147e+17</td>\n",
       "      <td>3.0</td>\n",
       "      <td>3.314961</td>\n",
       "      <td>0.019339</td>\n",
       "    </tr>\n",
       "    <tr>\n",
       "      <th>Residual</th>\n",
       "      <td>2.800137e+19</td>\n",
       "      <td>1303.0</td>\n",
       "      <td>NaN</td>\n",
       "      <td>NaN</td>\n",
       "    </tr>\n",
       "  </tbody>\n",
       "</table>\n",
       "</div>"
      ],
      "text/plain": [
       "                 sum_sq      df         F    PR(>F)\n",
       "C(Season)  2.137147e+17     3.0  3.314961  0.019339\n",
       "Residual   2.800137e+19  1303.0       NaN       NaN"
      ]
     },
     "execution_count": 330,
     "metadata": {},
     "output_type": "execute_result"
    }
   ],
   "source": [
    "import statsmodels.api as sm\n",
    "from statsmodels.formula.api import ols\n",
    "\n",
    "model = ols('foreign_gross ~ C(Season)', data=movieGrossJoinBudgets).fit()\n",
    "anova_table = sm.stats.anova_lm(model, typ=2)\n",
    "anova_table"
   ]
  },
  {
   "cell_type": "code",
   "execution_count": 331,
   "metadata": {},
   "outputs": [
    {
     "data": {
      "text/html": [
       "<div>\n",
       "<style scoped>\n",
       "    .dataframe tbody tr th:only-of-type {\n",
       "        vertical-align: middle;\n",
       "    }\n",
       "\n",
       "    .dataframe tbody tr th {\n",
       "        vertical-align: top;\n",
       "    }\n",
       "\n",
       "    .dataframe thead th {\n",
       "        text-align: right;\n",
       "    }\n",
       "</style>\n",
       "<table border=\"1\" class=\"dataframe\">\n",
       "  <thead>\n",
       "    <tr style=\"text-align: right;\">\n",
       "      <th></th>\n",
       "      <th>sum_sq</th>\n",
       "      <th>df</th>\n",
       "      <th>F</th>\n",
       "      <th>PR(&gt;F)</th>\n",
       "    </tr>\n",
       "  </thead>\n",
       "  <tbody>\n",
       "    <tr>\n",
       "      <th>C(Season)</th>\n",
       "      <td>1.133534e+17</td>\n",
       "      <td>3.0</td>\n",
       "      <td>5.303284</td>\n",
       "      <td>0.001235</td>\n",
       "    </tr>\n",
       "    <tr>\n",
       "      <th>Residual</th>\n",
       "      <td>9.283526e+18</td>\n",
       "      <td>1303.0</td>\n",
       "      <td>NaN</td>\n",
       "      <td>NaN</td>\n",
       "    </tr>\n",
       "  </tbody>\n",
       "</table>\n",
       "</div>"
      ],
      "text/plain": [
       "                 sum_sq      df         F    PR(>F)\n",
       "C(Season)  1.133534e+17     3.0  5.303284  0.001235\n",
       "Residual   9.283526e+18  1303.0       NaN       NaN"
      ]
     },
     "execution_count": 331,
     "metadata": {},
     "output_type": "execute_result"
    }
   ],
   "source": [
    "model = ols('domestic_gross_x ~ C(Season)', data=movieGrossJoinBudgets).fit()\n",
    "anova_table = sm.stats.anova_lm(model, typ=2)\n",
    "anova_table"
   ]
  },
  {
   "cell_type": "markdown",
   "metadata": {},
   "source": [
    "We conclude that there is a statistical difference between at least one pair of seasons. "
   ]
  },
  {
   "cell_type": "markdown",
   "metadata": {},
   "source": [
    "We will test summer against each season to see if it performs significantly better than each."
   ]
  },
  {
   "cell_type": "code",
   "execution_count": 332,
   "metadata": {},
   "outputs": [
    {
     "data": {
      "text/plain": [
       "1.3961565172830544e-09"
      ]
     },
     "execution_count": 332,
     "metadata": {},
     "output_type": "execute_result"
    }
   ],
   "source": [
    "#summer vs spring: for\n",
    "stat, pval = st.ttest_ind(forSummer,forSpring,equal_var = False)\n",
    "pval/2"
   ]
  },
  {
   "cell_type": "code",
   "execution_count": 333,
   "metadata": {},
   "outputs": [
    {
     "data": {
      "text/plain": [
       "9.209279835177572e-05"
      ]
     },
     "execution_count": 333,
     "metadata": {},
     "output_type": "execute_result"
    }
   ],
   "source": [
    "#summer vs fall: for\n",
    "stat, pval =st.ttest_ind(forSummer,forFall,equal_var = False)\n",
    "pval/2"
   ]
  },
  {
   "cell_type": "code",
   "execution_count": 334,
   "metadata": {},
   "outputs": [
    {
     "data": {
      "text/plain": [
       "0.047716290774757"
      ]
     },
     "execution_count": 334,
     "metadata": {},
     "output_type": "execute_result"
    }
   ],
   "source": [
    "#summer vs winter: for\n",
    "stat, pval =st.ttest_ind(forSummer,forWinter,equal_var = False)\n",
    "pval/2"
   ]
  },
  {
   "cell_type": "code",
   "execution_count": 335,
   "metadata": {},
   "outputs": [
    {
     "data": {
      "text/plain": [
       "2.436180840113189e-10"
      ]
     },
     "execution_count": 335,
     "metadata": {},
     "output_type": "execute_result"
    }
   ],
   "source": [
    "#summer vs spring: Dom\n",
    "stat, pval =st.ttest_ind(domSummer,domSpring,equal_var = False)\n",
    "pval/2"
   ]
  },
  {
   "cell_type": "code",
   "execution_count": 336,
   "metadata": {},
   "outputs": [
    {
     "data": {
      "text/plain": [
       "3.9477440558149106e-13"
      ]
     },
     "execution_count": 336,
     "metadata": {},
     "output_type": "execute_result"
    }
   ],
   "source": [
    "#summer vs fall: dome\n",
    "stat, pval =st.ttest_ind(domSummer,domFall,equal_var= False)\n",
    "pval/2"
   ]
  },
  {
   "cell_type": "code",
   "execution_count": 337,
   "metadata": {},
   "outputs": [
    {
     "data": {
      "text/plain": [
       "0.0020624802234053045"
      ]
     },
     "execution_count": 337,
     "metadata": {},
     "output_type": "execute_result"
    }
   ],
   "source": [
    "#summer vs winter: dom\n",
    "stat, pval =st.ttest_ind(domSummer,domWinter,equal_var = False)\n",
    "pval/2"
   ]
  },
  {
   "cell_type": "markdown",
   "metadata": {},
   "source": [
    "<span style=\"color: red;\">TODO</span>  \n",
    "Rephrase since using one-tailed tests\n",
    "\n",
    "Given alpha=0.02:\n",
    "* We found a significant difference between summer and all other seasons for the domestic market.\n",
    "* We found a significant difference between summer with fall and winter for the foreign market.\n",
    "* We did not find a significant difference between summer and spring in the foreign market."
   ]
  },
  {
   "cell_type": "markdown",
   "metadata": {},
   "source": [
    "<span style='color: red'>TODO</span>  \n",
    "Alex W.:  \n",
    "Add conclusion  \n",
    "Make explicit business suggestions and actionable insights"
   ]
  },
  {
   "cell_type": "code",
   "execution_count": null,
   "metadata": {},
   "outputs": [],
   "source": []
  }
 ],
 "metadata": {
  "kernelspec": {
   "display_name": "Python 3",
   "language": "python",
   "name": "python3"
  },
  "language_info": {
   "codemirror_mode": {
    "name": "ipython",
    "version": 3
   },
   "file_extension": ".py",
   "mimetype": "text/x-python",
   "name": "python",
   "nbconvert_exporter": "python",
   "pygments_lexer": "ipython3",
   "version": "3.8.5"
  }
 },
 "nbformat": 4,
 "nbformat_minor": 4
}
