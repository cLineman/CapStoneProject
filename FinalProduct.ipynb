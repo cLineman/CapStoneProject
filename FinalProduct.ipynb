{
 "cells": [
  {
   "cell_type": "markdown",
   "metadata": {},
   "source": [
    "# AI Academy Semester 1 Capstone"
   ]
  },
  {
   "cell_type": "markdown",
   "metadata": {},
   "source": [
    "Last Updated: 2022-08-01  \n",
    "Collaborators: A. Donahue, C. Lineman, N. Netznik, T.V. Nguyen, A. White"
   ]
  },
  {
   "cell_type": "markdown",
   "metadata": {},
   "source": [
    "# Table of Contents\n",
    "\n",
    "1. [Background](#background)\n",
    "2. [Importing and Examining Data Sources](#imports)\n",
    "    1. [Imports](#imports)\n",
    "    2. [Data Discussion](#data)\n",
    "3. [Data Preparation and Cleaning](#cleaning)\n",
    "4. [Analysis of Selected Variables](#analysis)\n",
    "    1. [Budget](#budget)\n",
    "    2. [Genre](#genre)\n",
    "    3. [Director](#director)\n",
    "    4. [Season](#season)\n",
    "5. [Conclusion](#conclusion)"
   ]
  },
  {
   "cell_type": "markdown",
   "metadata": {},
   "source": [
    "<a name=\"background\"></a>\n",
    "# <span style=\"color: blue;\">Background</span>\n",
    "\n",
    "### Business Case\n",
    "\n",
    "Original video content is a growing field into which many big businesses are investing. The client, Computing Vision, would like to begin creating their own original videos, so they are creating a new movie studio. They are seeking assistance in understanding the current trends in films, specifically which kinds movies are currently doing the best at the box office. The head of their new studio will use these insights to drive their own choices in movie creation.\n",
    "\n",
    "### Scope\n",
    "\n",
    "This study will use a variety of historic data on recent movie performance to illuminate trends in profitability and to develop actionable insights for the head of Computing Vision's new movie studio. We will limit data to the range of 2010-present (where available) to ensure that insights are still valid.\n",
    "\n",
    "### Purpose\n",
    "\n",
    "The results of this study will provide statistical support for at least three actionable insights that Computing Vision can use to **maximize profits and performance** from their new movie studio.  \n",
    "Profit will be defined two ways within this study. Gross profit refers to the absolute amount of money earned by a movie release. Percent profit refers to a percentage of the initial budgit that the movie returned above and beyond the initial budget. Thus, a movie with a \\\\$3 million budget that made \\\\$9 million at the box office would have a gross profit of \\\\$9 million and a percent profit of 2.0 (or 200\\%)."
   ]
  },
  {
   "cell_type": "markdown",
   "metadata": {},
   "source": [
    "<a name=\"imports\"></a>\n",
    "# <span style=\"color: blue;\">Importing and Examining Data Sources</span>"
   ]
  },
  {
   "cell_type": "code",
   "execution_count": 91,
   "metadata": {},
   "outputs": [],
   "source": [
    "import pandas as pd\n",
    "import numpy as np\n",
    "import matplotlib.pyplot as plt\n",
    "import seaborn as sns\n",
    "import sqlite3\n",
    "import zipfile\n",
    "import scipy.stats as st\n",
    "import math\n",
    "\n",
    "# suppress futurewarnings from statistical packages\n",
    "import warnings\n",
    "warnings.simplefilter(action='ignore', category=FutureWarning)\n",
    "import matplotlib.ticker as mticker\n",
    "from tabulate import tabulate\n",
    "import plotly.express as px"
   ]
  },
  {
   "cell_type": "code",
   "execution_count": 92,
   "metadata": {},
   "outputs": [
    {
     "name": "stdout",
     "output_type": "stream",
     "text": [
      "Extracted all\n"
     ]
    }
   ],
   "source": [
    "#read data\n",
    "movie_gross = pd.read_csv('zippedData/bom.movie_gross.csv.gz')\n",
    "movie_info = pd.read_csv('zippedData/rt.movie_info.tsv.gz', sep='\\t')\n",
    "reviews = pd.read_csv('zippedData/rt.reviews.tsv.gz', sep='\\t', encoding='ANSI')\n",
    "movies = pd.read_csv('zippedData/tmdb.movies.csv.gz')\n",
    "movie_budgets = pd.read_csv('zippedData/tn.movie_budgets.csv.gz')\n",
    "\n",
    "zip_file = \"zippedData/im.db.zip\"\n",
    "try:\n",
    "    with zipfile.ZipFile(zip_file, 'r') as z:\n",
    "        z.extractall(\"zippedData/unZipped/\")\n",
    "        print(\"Extracted all\")\n",
    "except:\n",
    "    print(\"Invalid file\")\n",
    "\n",
    "conn = sqlite3.connect(\"zippedData/unZipped/im.db\")"
   ]
  },
  {
   "cell_type": "markdown",
   "metadata": {},
   "source": [
    "<a name=\"data\"></a>\n",
    "### Data Sources\n",
    "\n",
    "Our team has thoroughly reviewed 5 different sources of data in which we were able to pull detailed insights that will help lead Computing Vision to success in the movie creation realm. \n",
    "\n",
    "#### Sources\n",
    "\n",
    "* Box Office Mojo(https://www.boxofficemojo.com/)\n",
    "* IMDB (https://www.imdb.com/)\n",
    "* Rotten Tomatoes (https://www.rottentomatoes.com/)\n",
    "* TheMovieDB (https://www.themoviedb.org/)\n",
    "* The Numbers (https://www.the-numbers.com/)\n",
    "\n",
    "#### Box Office Mojo\n",
    "\n",
    "Our team imported Data from Box Office Mojo as we found that it to be a credible resource that provided with a large amount of data and information regarding movie gross values. We successfully pulled and sized the data to present us with a data frame of 3387 movies including the movie title, the studio of production, the domestic and foreign gross values of each movie, and the year the movie was released as well. \n",
    "\n",
    "\n",
    "\n",
    "#### IMDB\n",
    "\n",
    "Internet Movie Database (IMDb) is considered the largest and most comprehensive movie databases. This database provides information related to films, television series, home videos, video games, and streaming content. Our team found this source to be a valuable as it allowed us to view a large depository of movies specific information. This source allowed us to pull a wide arrange of data and source into different tables that includes information on movie personal, principals, directors, writer, rating, basics, etc.\n",
    "\n",
    "#### Rotten Tomatoes \n",
    "\n",
    "Rotten Tomatoes is a review aggregation website for film and television. Rotten Tomatoes is one of the most trusted recommendations recourses for quality of entertainment. Rotten tomatoes specify in reviews from critics and provides a comprehensive guide on ratings for movies. We were able to use this source to specify the relation of Rotten Tomatoes rating and movies success. As well link these rating to several different aspects in which we give insights on throughout the analysis. This source was able to provide was with multiple different data frames in which our team use primarily in two which include data on Movie reviews and Movie specific information.  Regarding movie information we were successfully able to pull data on 1560 movies with details regarding synopsis, MPA Rating (PG, PG13, R, etc.), genre, director, writer, Theater date, DVD release date, currency, Box office sales, movie runtime, and production studio.  \n",
    "\n",
    "As well with the use of Rotten tomatoes source we were able to import a data frame allowing us to view details on movie reviews. We were able to import 54432 data points that gave us compressive information regarding movie ID, distinct reviews, review rating, fresh/rotten specification, critic of the review, the top critic, publisher, and date of review. We must note that this data frame provided was with multiple reviews from different critics through different publishers on different dates for the movies. \n",
    "\n",
    "\n",
    "#### The MovieDB \n",
    "\n",
    "The Movie Database (TMDB) is a community-built movie and TV database. This data base was able to provide us insights on individual movie specifics and there rating.  We were able to successfully import 26517 movies with information regarding genre, language, title, popularity, release date, vote average and vote count regarding movie rating. \n",
    "\n",
    "#### The Numbers\n",
    "\n",
    "The Numbers is a film industry data website that tracks box office revenue.  We primarily used this source to generate a data frame that provided information regarding movie budgets. Digging deeper we were able to pull information for 5782 movies with details on Release date, Movie title, production budget, domestic gross, and worldwide gross. Our team found this provided data to valuable in regards of generating profit percentage and movie success throughout our overall analysis. \n",
    "\n",
    "#### Limitations  \n",
    "\n",
    "We must also note that our team did run into some limitations when it came to connecting and merging data frames due to differentiation in primary keys. Our team found that the best fit primary key to over come this issue was merging and connecting through movie titles. \n",
    "\n",
    "The specific limitation with the use of titles is that they could potentially be less consistent than numeric identifiers."
   ]
  },
  {
   "cell_type": "markdown",
   "metadata": {},
   "source": [
    "<a name=\"cleaning\"></a>\n",
    "# <span style=\"color: blue;\">Data Preparation & Cleaning</span>"
   ]
  },
  {
   "cell_type": "code",
   "execution_count": 93,
   "metadata": {},
   "outputs": [],
   "source": [
    "# Turn foreign gross to an int\n",
    "movie_gross['foreign_gross'] = movie_gross['foreign_gross'].str.replace(',','')\n",
    "movie_gross['foreign_gross'] = movie_gross[\"foreign_gross\"].astype(\"float64\")\n",
    "\n",
    "# Turned run time into an integer\n",
    "movie_info['runtime'] = movie_info['runtime'].str.replace(' minutes','')\n",
    "movie_info['runtime']  = movie_info['runtime'].astype(\"float64\")\n",
    "\n",
    "# Turned box_offices into an interger\n",
    "movie_info['box_office'] = movie_info['box_office'].str.replace(',','')\n",
    "movie_info['box_office'] = movie_info['box_office'].astype(\"float64\")\n",
    "\n",
    "# Change currency to binary variable\n",
    "for i in movie_info['currency']:\n",
    "    if i is not None:\n",
    "        i = 1\n",
    "    else:\n",
    "        i = 0\n",
    "\n",
    "# Update 'fresh'/'rotten' in reviews to boolean variable\n",
    "reviews['fresh'] = reviews['fresh'].str.replace('fresh','1')\n",
    "reviews['fresh'] = reviews['fresh'].str.replace('rotten','0')\n",
    "reviews['fresh']  = reviews['fresh'].astype(\"float64\")\n",
    "\n",
    "reviews.drop_duplicates(inplace=True)"
   ]
  },
  {
   "cell_type": "markdown",
   "metadata": {},
   "source": [
    "A brief analysis reveals that ratings within the Rotten Tomatoes reviews database are very inconsistent. We seek to clean and reorganize these ratings to make them usable.\n",
    "\n",
    "We will make the following modifications to the ratings column:\n",
    "\n",
    "* We will be changing all letter \"grades\" to numerical scores out of 10, evenly distributed between 0 and 10.\n",
    "    * Note that F+ and F- will be grouped with F.\n",
    "* We will be replacing all NaN ratings, ratings out of 2, all ratings without an \"out-of\" denominator, and any other nonsensical ratings with '-1/1'. This will allow us to split all ratings by the '/' character before making further calculations in the future; upon performing these calculations we will go back and reset all '-1/1' values to NaN."
   ]
  },
  {
   "cell_type": "code",
   "execution_count": 94,
   "metadata": {},
   "outputs": [],
   "source": [
    "# Change letter ratings to numerical (out of 10)\n",
    "reviews['rating'].replace('F+', 'F', inplace=True)\n",
    "reviews['rating'].replace('F-', 'F', inplace=True)\n",
    "\n",
    "letter_ratings = ['A+','A','A-','B+','B','B-','C+','C','C-','D+','D','D-','F']\n",
    "nums = list(np.round(np.linspace(0,10, 13), 1))\n",
    "num_ratings = [f'{str(num)}/10' for num in nums]\n",
    "mapping = dict(zip(letter_ratings, num_ratings))\n",
    "\n",
    "for rating in letter_ratings:\n",
    "    reviews.replace(rating, mapping[rating], inplace=True)\n",
    "\n",
    "reviews['rating'].fillna('-1/1', inplace=True)\n",
    "    \n",
    "# Remove all ratings that do not contain '/'\n",
    "for rating in reviews['rating'].unique():\n",
    "    if \"/\" not in rating:\n",
    "        reviews['rating'].replace(rating, '-1/1', inplace=True)\n",
    "\n",
    "# Remove other nonsensical ratings\n",
    "reviews['rating'].replace('R', '-1/1', inplace=True)\n",
    "reviews['rating'].replace('N', '-1/1', inplace=True)\n",
    "reviews['rating'].replace('T', '-1/1', inplace=True)\n",
    "\n",
    "reviews['rating'].replace('1/2', '-1/1', inplace=True)\n",
    "reviews['rating'].replace('2/2', '-1/1', inplace=True)\n",
    "reviews['rating'].replace('3/2', '-1/1', inplace=True)\n",
    "reviews['rating'].replace('3 1/2', '-1/1', inplace=True)\n",
    "reviews['rating'].replace('1-5', '-1/1', inplace=True)\n",
    "reviews['rating'].replace('5/4', '-1/1', inplace=True)\n",
    "reviews['rating'].replace('2.1/2', '-1/1', inplace=True)\n",
    "reviews['rating'].replace('5.5/5', '-1/1', inplace=True)"
   ]
  },
  {
   "cell_type": "code",
   "execution_count": 95,
   "metadata": {},
   "outputs": [],
   "source": [
    "# Remove unwanted symbols from string values and cast string values as floats\n",
    "\n",
    "movie_budgets['production_budget'] = movie_budgets['production_budget'].str.replace(',','')\n",
    "movie_budgets['production_budget'] = movie_budgets['production_budget'].str.replace('$', '')\n",
    "movie_budgets['production_budget'] = movie_budgets['production_budget'].astype(\"float64\")\n",
    "\n",
    "movie_budgets['domestic_gross'] = movie_budgets['domestic_gross'].str.replace(',','')\n",
    "movie_budgets['domestic_gross'] = movie_budgets['domestic_gross'].str.replace('$', '')\n",
    "movie_budgets['domestic_gross'] = movie_budgets['domestic_gross'].astype(\"float64\")\n",
    "\n",
    "movie_budgets['worldwide_gross'] = movie_budgets['worldwide_gross'].str.replace(',','')\n",
    "movie_budgets['worldwide_gross'] = movie_budgets['worldwide_gross'].str.replace('$', '')\n",
    "movie_budgets['worldwide_gross'] = movie_budgets['worldwide_gross'].astype(\"float64\")\n",
    "\n",
    "# Change type of release_date to datetime\n",
    "movie_budgets['release_date'] = pd.to_datetime(movie_budgets['release_date'])\n",
    "\n",
    "# Clean titles to make them consistent/comparable\n",
    "\n",
    "movie_gross['title'] = movie_gross['title'].str.strip().str.replace('[^\\w\\s]', '')\n",
    "movies['original_title'] = movies['original_title'].str.strip().str.replace('[^\\w\\s]', '')\n",
    "movie_budgets['movie'] = movie_budgets['movie'].str.replace(\"â€™\", \"'\") # replaces improperly encoded ' characters\n",
    "movie_budgets['movie'] = movie_budgets['movie'].str.strip().str.replace('[^\\w\\s]', '')\n",
    "\n",
    "movie_gross['title'] = movie_gross['title'].str.upper()\n",
    "movies['original_title'] = movies['original_title'].str.upper()\n",
    "movie_budgets['movie'] = movie_budgets['movie'].str.upper()\n"
   ]
  },
  {
   "cell_type": "markdown",
   "metadata": {},
   "source": [
    "<a name=\"analysis\"></a>\n",
    "# <span style=\"color: blue;\">Analysis of Selected Variables</span>"
   ]
  },
  {
   "cell_type": "markdown",
   "metadata": {},
   "source": [
    "<a name=\"budget\"></a>\n",
    "## Budget vs. Profit Ratio\n",
    "\n",
    "<span style=\"color: red;\">TODO</span>  \n",
    "Add justification and explanation\n",
    "\n",
    "The approach looking into Budget and Profit Ratio is see if that if lower budget movies return a higher rate of profit than a higher budget movie. We use profit ratio becasue it takes inflation into account and a better analysis of how much money you are making per what you are putting in. This information can help the business find out how to get more value for their dollars. "
   ]
  },
  {
   "cell_type": "code",
   "execution_count": 96,
   "metadata": {},
   "outputs": [],
   "source": [
    "#Setting up a total profit \n",
    "movie_budgets[\"profit\"] = movie_budgets['worldwide_gross'] - movie_budgets['production_budget']\n",
    "movie_budgets[\"profitRatio\"] = movie_budgets['profit'] / movie_budgets['production_budget']\n",
    "# Set up and merge of two dataframes \n",
    "movie_budgets.rename(columns = {'movie' : 'title'}, inplace = True)\n",
    "grossJoinBudget = pd.DataFrame.merge(movie_gross, movie_budgets, on = 'title')\n",
    "\n",
    "# Filling the nulls with 0 because if there is no value in a forgien or domestic market, then it is assumed that there \n",
    "# was not box office sales in that region.\n",
    "grossJoinBudget.fillna(0, inplace=True)"
   ]
  },
  {
   "cell_type": "markdown",
   "metadata": {},
   "source": [
    "We choose a 2.12 million dollar cut off because according to Stephen film study, the average low budget movie budget is around 2.12 million dollars. For more information you can use the following link: https://stephenfollows.com/average-budget-low-micro-budget-film/"
   ]
  },
  {
   "cell_type": "code",
   "execution_count": 97,
   "metadata": {},
   "outputs": [],
   "source": [
    "grossJoinBudget['budget_type'] = grossJoinBudget['production_budget'].map(lambda x: 'high' if x >= 2120000  else 'low' )"
   ]
  },
  {
   "cell_type": "markdown",
   "metadata": {},
   "source": [
    "We are removing 'THE GALLOWS' due to the severity of its distance from the distubution. This data point unjustly skewed the data. This is a fair compremise to keep the most data points and taking out any misleading data."
   ]
  },
  {
   "cell_type": "code",
   "execution_count": 99,
   "metadata": {},
   "outputs": [
    {
     "data": {
      "text/html": [
       "<div>\n",
       "<style scoped>\n",
       "    .dataframe tbody tr th:only-of-type {\n",
       "        vertical-align: middle;\n",
       "    }\n",
       "\n",
       "    .dataframe tbody tr th {\n",
       "        vertical-align: top;\n",
       "    }\n",
       "\n",
       "    .dataframe thead th {\n",
       "        text-align: right;\n",
       "    }\n",
       "</style>\n",
       "<table border=\"1\" class=\"dataframe\">\n",
       "  <thead>\n",
       "    <tr style=\"text-align: right;\">\n",
       "      <th></th>\n",
       "      <th>title</th>\n",
       "      <th>studio</th>\n",
       "      <th>domestic_gross_x</th>\n",
       "      <th>foreign_gross</th>\n",
       "      <th>year</th>\n",
       "      <th>id</th>\n",
       "      <th>release_date</th>\n",
       "      <th>production_budget</th>\n",
       "      <th>domestic_gross_y</th>\n",
       "      <th>worldwide_gross</th>\n",
       "      <th>profit</th>\n",
       "      <th>profitRatio</th>\n",
       "      <th>budget_type</th>\n",
       "    </tr>\n",
       "  </thead>\n",
       "  <tbody>\n",
       "    <tr>\n",
       "      <th>873</th>\n",
       "      <td>UNFRIENDED</td>\n",
       "      <td>Uni.</td>\n",
       "      <td>32500000.0</td>\n",
       "      <td>31600000.0</td>\n",
       "      <td>2015</td>\n",
       "      <td>14</td>\n",
       "      <td>2015-04-17</td>\n",
       "      <td>1000000.0</td>\n",
       "      <td>32789645.0</td>\n",
       "      <td>64364198.0</td>\n",
       "      <td>63364198.0</td>\n",
       "      <td>63.364198</td>\n",
       "      <td>low</td>\n",
       "    </tr>\n",
       "    <tr>\n",
       "      <th>917</th>\n",
       "      <td>IT FOLLOWS</td>\n",
       "      <td>RTWC</td>\n",
       "      <td>14700000.0</td>\n",
       "      <td>0.0</td>\n",
       "      <td>2015</td>\n",
       "      <td>94</td>\n",
       "      <td>2015-03-13</td>\n",
       "      <td>2000000.0</td>\n",
       "      <td>14674077.0</td>\n",
       "      <td>23250755.0</td>\n",
       "      <td>21250755.0</td>\n",
       "      <td>10.625378</td>\n",
       "      <td>low</td>\n",
       "    </tr>\n",
       "    <tr>\n",
       "      <th>923</th>\n",
       "      <td>WE ARE YOUR FRIENDS</td>\n",
       "      <td>WB</td>\n",
       "      <td>3600000.0</td>\n",
       "      <td>7500000.0</td>\n",
       "      <td>2015</td>\n",
       "      <td>20</td>\n",
       "      <td>2015-08-28</td>\n",
       "      <td>2000000.0</td>\n",
       "      <td>3591417.0</td>\n",
       "      <td>10153415.0</td>\n",
       "      <td>8153415.0</td>\n",
       "      <td>4.076708</td>\n",
       "      <td>low</td>\n",
       "    </tr>\n",
       "    <tr>\n",
       "      <th>928</th>\n",
       "      <td>THE GREEN INFERNO</td>\n",
       "      <td>BH Tilt</td>\n",
       "      <td>7200000.0</td>\n",
       "      <td>0.0</td>\n",
       "      <td>2015</td>\n",
       "      <td>31</td>\n",
       "      <td>2015-09-25</td>\n",
       "      <td>1000000.0</td>\n",
       "      <td>7192291.0</td>\n",
       "      <td>12931420.0</td>\n",
       "      <td>11931420.0</td>\n",
       "      <td>11.931420</td>\n",
       "      <td>low</td>\n",
       "    </tr>\n",
       "    <tr>\n",
       "      <th>940</th>\n",
       "      <td>THE DIARY OF A TEENAGE GIRL</td>\n",
       "      <td>SPC</td>\n",
       "      <td>1500000.0</td>\n",
       "      <td>0.0</td>\n",
       "      <td>2015</td>\n",
       "      <td>35</td>\n",
       "      <td>2015-08-07</td>\n",
       "      <td>2000000.0</td>\n",
       "      <td>1477002.0</td>\n",
       "      <td>2279959.0</td>\n",
       "      <td>279959.0</td>\n",
       "      <td>0.139980</td>\n",
       "      <td>low</td>\n",
       "    </tr>\n",
       "    <tr>\n",
       "      <th>941</th>\n",
       "      <td>MUSTANG</td>\n",
       "      <td>Cohen</td>\n",
       "      <td>845000.0</td>\n",
       "      <td>0.0</td>\n",
       "      <td>2015</td>\n",
       "      <td>21</td>\n",
       "      <td>2015-11-20</td>\n",
       "      <td>1400000.0</td>\n",
       "      <td>845464.0</td>\n",
       "      <td>5552584.0</td>\n",
       "      <td>4152584.0</td>\n",
       "      <td>2.966131</td>\n",
       "      <td>low</td>\n",
       "    </tr>\n",
       "    <tr>\n",
       "      <th>949</th>\n",
       "      <td>KNOCK KNOCK</td>\n",
       "      <td>LGP</td>\n",
       "      <td>36300.0</td>\n",
       "      <td>0.0</td>\n",
       "      <td>2015</td>\n",
       "      <td>62</td>\n",
       "      <td>2015-10-09</td>\n",
       "      <td>2000000.0</td>\n",
       "      <td>36336.0</td>\n",
       "      <td>6328516.0</td>\n",
       "      <td>4328516.0</td>\n",
       "      <td>2.164258</td>\n",
       "      <td>low</td>\n",
       "    </tr>\n",
       "  </tbody>\n",
       "</table>\n",
       "</div>"
      ],
      "text/plain": [
       "                           title   studio  domestic_gross_x  foreign_gross  \\\n",
       "873                   UNFRIENDED     Uni.        32500000.0     31600000.0   \n",
       "917                   IT FOLLOWS     RTWC        14700000.0            0.0   \n",
       "923          WE ARE YOUR FRIENDS       WB         3600000.0      7500000.0   \n",
       "928            THE GREEN INFERNO  BH Tilt         7200000.0            0.0   \n",
       "940  THE DIARY OF A TEENAGE GIRL      SPC         1500000.0            0.0   \n",
       "941                      MUSTANG    Cohen          845000.0            0.0   \n",
       "949                  KNOCK KNOCK      LGP           36300.0            0.0   \n",
       "\n",
       "     year  id release_date  production_budget  domestic_gross_y  \\\n",
       "873  2015  14   2015-04-17          1000000.0        32789645.0   \n",
       "917  2015  94   2015-03-13          2000000.0        14674077.0   \n",
       "923  2015  20   2015-08-28          2000000.0         3591417.0   \n",
       "928  2015  31   2015-09-25          1000000.0         7192291.0   \n",
       "940  2015  35   2015-08-07          2000000.0         1477002.0   \n",
       "941  2015  21   2015-11-20          1400000.0          845464.0   \n",
       "949  2015  62   2015-10-09          2000000.0           36336.0   \n",
       "\n",
       "     worldwide_gross      profit  profitRatio budget_type  \n",
       "873       64364198.0  63364198.0    63.364198         low  \n",
       "917       23250755.0  21250755.0    10.625378         low  \n",
       "923       10153415.0   8153415.0     4.076708         low  \n",
       "928       12931420.0  11931420.0    11.931420         low  \n",
       "940        2279959.0    279959.0     0.139980         low  \n",
       "941        5552584.0   4152584.0     2.966131         low  \n",
       "949        6328516.0   4328516.0     2.164258         low  "
      ]
     },
     "execution_count": 99,
     "metadata": {},
     "output_type": "execute_result"
    }
   ],
   "source": [
    "#Removing all the outliers\n",
    "grossJoinBudget = grossJoinBudget.loc[(grossJoinBudget['title'] != 'THE GALLOWS')]\n"
   ]
  },
  {
   "cell_type": "code",
   "execution_count": 113,
   "metadata": {},
   "outputs": [
    {
     "data": {
      "application/vnd.plotly.v1+json": {
       "config": {
        "plotlyServerURL": "https://plot.ly"
       },
       "data": [
        {
         "alignmentgroup": "True",
         "bingroup": "x",
         "histfunc": "avg",
         "hovertemplate": "budget_type=high<br>year=%{x}<br>avg of profitRatio=%{y}<extra></extra>",
         "legendgroup": "high",
         "marker": {
          "color": "#636efa"
         },
         "name": "high",
         "offsetgroup": "high",
         "orientation": "v",
         "showlegend": true,
         "type": "histogram",
         "x": [
          2010,
          2010,
          2010,
          2010,
          2010,
          2010,
          2010,
          2010,
          2010,
          2010,
          2010,
          2010,
          2010,
          2010,
          2010,
          2010,
          2010,
          2010,
          2010,
          2010,
          2010,
          2010,
          2010,
          2010,
          2010,
          2010,
          2010,
          2010,
          2010,
          2010,
          2010,
          2010,
          2010,
          2010,
          2010,
          2010,
          2010,
          2010,
          2010,
          2010,
          2010,
          2010,
          2010,
          2010,
          2010,
          2010,
          2010,
          2010,
          2010,
          2010,
          2010,
          2010,
          2010,
          2010,
          2010,
          2010,
          2010,
          2010,
          2010,
          2010,
          2010,
          2010,
          2010,
          2010,
          2010,
          2010,
          2010,
          2010,
          2010,
          2010,
          2010,
          2010,
          2010,
          2010,
          2010,
          2010,
          2010,
          2010,
          2010,
          2010,
          2010,
          2010,
          2010,
          2010,
          2010,
          2010,
          2010,
          2010,
          2010,
          2010,
          2010,
          2010,
          2010,
          2010,
          2010,
          2010,
          2010,
          2010,
          2010,
          2010,
          2010,
          2010,
          2010,
          2010,
          2010,
          2010,
          2010,
          2010,
          2010,
          2010,
          2010,
          2010,
          2010,
          2010,
          2010,
          2010,
          2010,
          2010,
          2010,
          2010,
          2010,
          2010,
          2010,
          2010,
          2010,
          2010,
          2010,
          2010,
          2010,
          2010,
          2010,
          2010,
          2010,
          2010,
          2010,
          2010,
          2010,
          2010,
          2010,
          2010,
          2010,
          2010,
          2010,
          2010,
          2010,
          2010,
          2010,
          2010,
          2010,
          2010,
          2010,
          2010,
          2010,
          2010,
          2010,
          2010,
          2010,
          2010,
          2010,
          2010,
          2010,
          2010,
          2010,
          2010,
          2010,
          2010,
          2010,
          2010,
          2010,
          2010,
          2010,
          2010,
          2010,
          2010,
          2010,
          2010,
          2010,
          2010,
          2010,
          2011,
          2011,
          2011,
          2011,
          2011,
          2011,
          2011,
          2011,
          2011,
          2011,
          2011,
          2011,
          2011,
          2011,
          2011,
          2011,
          2011,
          2011,
          2011,
          2011,
          2011,
          2011,
          2011,
          2011,
          2011,
          2011,
          2011,
          2011,
          2011,
          2011,
          2011,
          2011,
          2011,
          2011,
          2011,
          2011,
          2011,
          2011,
          2011,
          2011,
          2011,
          2011,
          2011,
          2011,
          2011,
          2011,
          2011,
          2011,
          2011,
          2011,
          2011,
          2011,
          2011,
          2011,
          2011,
          2011,
          2011,
          2011,
          2011,
          2011,
          2011,
          2011,
          2011,
          2011,
          2011,
          2011,
          2011,
          2011,
          2011,
          2011,
          2011,
          2011,
          2011,
          2011,
          2011,
          2011,
          2011,
          2011,
          2011,
          2011,
          2011,
          2011,
          2011,
          2011,
          2011,
          2011,
          2011,
          2011,
          2011,
          2011,
          2011,
          2011,
          2011,
          2011,
          2011,
          2011,
          2011,
          2011,
          2011,
          2011,
          2011,
          2011,
          2011,
          2011,
          2011,
          2011,
          2011,
          2011,
          2011,
          2011,
          2011,
          2011,
          2011,
          2011,
          2011,
          2011,
          2011,
          2011,
          2011,
          2011,
          2011,
          2011,
          2011,
          2011,
          2011,
          2011,
          2011,
          2011,
          2011,
          2011,
          2011,
          2011,
          2011,
          2011,
          2011,
          2011,
          2011,
          2011,
          2011,
          2011,
          2011,
          2011,
          2011,
          2011,
          2011,
          2011,
          2011,
          2011,
          2011,
          2011,
          2011,
          2011,
          2011,
          2011,
          2011,
          2011,
          2011,
          2011,
          2011,
          2011,
          2011,
          2011,
          2011,
          2011,
          2011,
          2012,
          2012,
          2012,
          2012,
          2012,
          2012,
          2012,
          2012,
          2012,
          2012,
          2012,
          2012,
          2012,
          2012,
          2012,
          2012,
          2012,
          2012,
          2012,
          2012,
          2012,
          2012,
          2012,
          2012,
          2012,
          2012,
          2012,
          2012,
          2012,
          2012,
          2012,
          2012,
          2012,
          2012,
          2012,
          2012,
          2012,
          2012,
          2012,
          2012,
          2012,
          2012,
          2012,
          2012,
          2012,
          2012,
          2012,
          2012,
          2012,
          2012,
          2012,
          2012,
          2012,
          2012,
          2012,
          2012,
          2012,
          2012,
          2012,
          2012,
          2012,
          2012,
          2012,
          2012,
          2012,
          2012,
          2012,
          2012,
          2012,
          2012,
          2012,
          2012,
          2012,
          2012,
          2012,
          2012,
          2012,
          2012,
          2012,
          2012,
          2012,
          2012,
          2012,
          2012,
          2012,
          2012,
          2012,
          2012,
          2012,
          2012,
          2012,
          2012,
          2012,
          2012,
          2012,
          2012,
          2012,
          2012,
          2012,
          2012,
          2012,
          2012,
          2012,
          2012,
          2012,
          2012,
          2012,
          2012,
          2012,
          2012,
          2012,
          2012,
          2012,
          2012,
          2012,
          2012,
          2012,
          2012,
          2012,
          2012,
          2012,
          2012,
          2012,
          2012,
          2012,
          2012,
          2012,
          2012,
          2012,
          2012,
          2012,
          2012,
          2012,
          2012,
          2012,
          2012,
          2012,
          2012,
          2012,
          2013,
          2013,
          2013,
          2013,
          2013,
          2013,
          2013,
          2013,
          2013,
          2013,
          2013,
          2013,
          2013,
          2013,
          2013,
          2013,
          2013,
          2013,
          2013,
          2013,
          2013,
          2013,
          2013,
          2013,
          2013,
          2013,
          2013,
          2013,
          2013,
          2013,
          2013,
          2013,
          2013,
          2013,
          2013,
          2013,
          2013,
          2013,
          2013,
          2013,
          2013,
          2013,
          2013,
          2013,
          2013,
          2013,
          2013,
          2013,
          2013,
          2013,
          2013,
          2013,
          2013,
          2013,
          2013,
          2013,
          2013,
          2013,
          2013,
          2013,
          2013,
          2013,
          2013,
          2013,
          2013,
          2013,
          2013,
          2013,
          2013,
          2013,
          2013,
          2013,
          2013,
          2013,
          2013,
          2013,
          2013,
          2013,
          2013,
          2013,
          2013,
          2013,
          2013,
          2013,
          2013,
          2013,
          2013,
          2013,
          2013,
          2013,
          2013,
          2013,
          2013,
          2013,
          2013,
          2013,
          2013,
          2013,
          2013,
          2013,
          2013,
          2013,
          2013,
          2013,
          2013,
          2013,
          2013,
          2013,
          2013,
          2013,
          2013,
          2013,
          2013,
          2013,
          2013,
          2013,
          2013,
          2013,
          2013,
          2013,
          2013,
          2013,
          2013,
          2013,
          2013,
          2013,
          2013,
          2013,
          2013,
          2013,
          2013,
          2013,
          2013,
          2013,
          2013,
          2013,
          2013,
          2014,
          2014,
          2014,
          2014,
          2014,
          2014,
          2014,
          2014,
          2014,
          2014,
          2014,
          2014,
          2014,
          2014,
          2014,
          2014,
          2014,
          2014,
          2014,
          2014,
          2014,
          2014,
          2014,
          2014,
          2014,
          2014,
          2014,
          2014,
          2014,
          2014,
          2014,
          2014,
          2014,
          2014,
          2014,
          2014,
          2014,
          2014,
          2014,
          2014,
          2014,
          2014,
          2014,
          2014,
          2014,
          2014,
          2014,
          2014,
          2014,
          2014,
          2014,
          2014,
          2014,
          2014,
          2014,
          2014,
          2014,
          2014,
          2014,
          2014,
          2014,
          2014,
          2014,
          2014,
          2014,
          2014,
          2014,
          2014,
          2014,
          2014,
          2014,
          2014,
          2014,
          2014,
          2014,
          2014,
          2014,
          2014,
          2014,
          2014,
          2014,
          2014,
          2014,
          2014,
          2014,
          2014,
          2014,
          2014,
          2014,
          2014,
          2014,
          2014,
          2014,
          2014,
          2014,
          2014,
          2014,
          2014,
          2014,
          2014,
          2014,
          2014,
          2014,
          2014,
          2014,
          2014,
          2014,
          2014,
          2014,
          2014,
          2014,
          2014,
          2014,
          2014,
          2014,
          2014,
          2014,
          2014,
          2014,
          2014,
          2014,
          2014,
          2014,
          2014,
          2014,
          2014,
          2014,
          2015,
          2015,
          2015,
          2015,
          2015,
          2015,
          2015,
          2015,
          2015,
          2015,
          2015,
          2015,
          2015,
          2015,
          2015,
          2015,
          2015,
          2015,
          2015,
          2015,
          2015,
          2015,
          2015,
          2015,
          2015,
          2015,
          2015,
          2015,
          2015,
          2015,
          2015,
          2015,
          2015,
          2015,
          2015,
          2015,
          2015,
          2015,
          2015,
          2015,
          2015,
          2015,
          2015,
          2015,
          2015,
          2015,
          2015,
          2015,
          2015,
          2015,
          2015,
          2015,
          2015,
          2015,
          2015,
          2015,
          2015,
          2015,
          2015,
          2015,
          2015,
          2015,
          2015,
          2015,
          2015,
          2015,
          2015,
          2015,
          2015,
          2015,
          2015,
          2015,
          2015,
          2015,
          2015,
          2015,
          2015,
          2015,
          2015,
          2015,
          2015,
          2015,
          2015,
          2015,
          2015,
          2015,
          2015,
          2015,
          2015,
          2015,
          2015,
          2015,
          2015,
          2015,
          2015,
          2015,
          2015,
          2015,
          2015,
          2015,
          2015,
          2015,
          2015,
          2015,
          2015,
          2015,
          2015,
          2015,
          2015,
          2015,
          2015,
          2015,
          2015,
          2015,
          2015,
          2015,
          2015,
          2015,
          2015,
          2015,
          2015,
          2015,
          2015,
          2015,
          2015,
          2015,
          2015,
          2015,
          2015,
          2015,
          2015,
          2015,
          2015,
          2015,
          2015,
          2015,
          2015,
          2015,
          2015,
          2015,
          2016,
          2016,
          2016,
          2016,
          2016,
          2016,
          2016,
          2016,
          2016,
          2016,
          2016,
          2016,
          2016,
          2016,
          2016,
          2016,
          2016,
          2016,
          2016,
          2016,
          2016,
          2016,
          2016,
          2016,
          2016,
          2016,
          2016,
          2016,
          2016,
          2016,
          2016,
          2016,
          2016,
          2016,
          2016,
          2016,
          2016,
          2016,
          2016,
          2016,
          2016,
          2016,
          2016,
          2016,
          2016,
          2016,
          2016,
          2016,
          2016,
          2016,
          2016,
          2016,
          2016,
          2016,
          2016,
          2016,
          2016,
          2016,
          2016,
          2016,
          2016,
          2016,
          2016,
          2016,
          2016,
          2016,
          2016,
          2016,
          2016,
          2016,
          2016,
          2016,
          2016,
          2016,
          2016,
          2016,
          2016,
          2016,
          2016,
          2016,
          2016,
          2016,
          2016,
          2016,
          2016,
          2016,
          2016,
          2016,
          2016,
          2016,
          2016,
          2016,
          2016,
          2016,
          2016,
          2016,
          2016,
          2016,
          2016,
          2016,
          2016,
          2016,
          2016,
          2016,
          2016,
          2016,
          2016,
          2016,
          2016,
          2016,
          2016,
          2016,
          2016,
          2016,
          2016,
          2016,
          2016,
          2016,
          2016,
          2016,
          2016,
          2016,
          2016,
          2016,
          2016,
          2016,
          2016,
          2016,
          2016,
          2016,
          2016,
          2016,
          2016,
          2016,
          2016,
          2016,
          2016,
          2016,
          2016,
          2016,
          2016,
          2017,
          2017,
          2017,
          2017,
          2017,
          2017,
          2017,
          2017,
          2017,
          2017,
          2017,
          2017,
          2017,
          2017,
          2017,
          2017,
          2017,
          2017,
          2017,
          2017,
          2017,
          2017,
          2017,
          2017,
          2017,
          2017,
          2017,
          2017,
          2017,
          2017,
          2017,
          2017,
          2017,
          2017,
          2017,
          2017,
          2017,
          2017,
          2017,
          2017,
          2017,
          2017,
          2017,
          2017,
          2017,
          2017,
          2017,
          2017,
          2017,
          2017,
          2017,
          2017,
          2017,
          2017,
          2017,
          2017,
          2017,
          2017,
          2017,
          2017,
          2017,
          2017,
          2017,
          2017,
          2017,
          2017,
          2017,
          2017,
          2017,
          2017,
          2017,
          2017,
          2017,
          2017,
          2017,
          2017,
          2017,
          2017,
          2017,
          2017,
          2017,
          2017,
          2017,
          2017,
          2017,
          2017,
          2017,
          2017,
          2017,
          2017,
          2017,
          2017,
          2017,
          2017,
          2017,
          2017,
          2017,
          2017,
          2017,
          2017,
          2017,
          2017,
          2017,
          2018,
          2018,
          2018,
          2018,
          2018,
          2018,
          2018,
          2018,
          2018,
          2018,
          2018,
          2018,
          2018,
          2018,
          2018,
          2018,
          2018,
          2018,
          2018,
          2018,
          2018,
          2018,
          2018,
          2018,
          2018,
          2018,
          2018,
          2018,
          2018,
          2018,
          2018,
          2018,
          2018,
          2018,
          2018,
          2018,
          2018,
          2018,
          2018,
          2018,
          2018,
          2018,
          2018,
          2018,
          2018,
          2018,
          2018,
          2018,
          2018,
          2018,
          2018,
          2018,
          2018,
          2018,
          2018,
          2018,
          2018,
          2018,
          2018,
          2018,
          2018,
          2018,
          2018,
          2018,
          2018,
          2018,
          2018,
          2018,
          2018,
          2018,
          2018,
          2018,
          2018,
          2018,
          2018,
          2018,
          2018,
          2018,
          2018,
          2018,
          2018,
          2018,
          2018,
          2018,
          2018,
          2018,
          2018,
          2018,
          2018,
          2018,
          2018,
          2018,
          2018,
          2018,
          2018,
          2018
         ],
         "xaxis": "x",
         "y": [
          4.34439761,
          4.2220290125,
          3.5833010484848486,
          9.383865117647058,
          2.653861111764706,
          1.2556816923076923,
          6.87629815942029,
          1.9992181333333334,
          1.6979803225806451,
          1.000313815,
          7.79437345,
          10.35194475,
          24.482054615384616,
          1.4760554461538462,
          0.5355190761904762,
          -0.1439652424242424,
          1.1314258733333333,
          2.10650574,
          4.145638086956522,
          2.743272275,
          1.2357730307692307,
          2.1019029263157893,
          1.78731369,
          2.2715630975609757,
          2.629645733333333,
          6.207912228571429,
          1.0715879285714285,
          1.3479039368421053,
          4.623053375,
          3.1840255384615386,
          0.3624145,
          2.2575237384615385,
          2.44331315,
          1.559683625,
          2.273994883333333,
          58.17067733333333,
          0.6112833727272727,
          7.58428965,
          0.7093647,
          0.7444307473684211,
          4.529637233333333,
          0.9843852125,
          3.1234292162162163,
          1.7685278727272726,
          0.39716717,
          -0.04910428,
          2.0179741555555557,
          6.8667814117647055,
          10.751126181818181,
          2.180859725,
          4.68134036,
          0.32972215294117646,
          1.3460497083333334,
          1.7865220263157895,
          1.1732054,
          1.6597107777777778,
          2.423877366666667,
          0.27430332,
          2.4832547857142857,
          -0.0247698,
          1.286396875,
          0.6464122727272728,
          3.6339474,
          0.2579203188405797,
          0.7979186,
          2.48584,
          0.084844125,
          0.3802076,
          3.0712494,
          1.7382846,
          1.1508908285714285,
          4.1302874,
          8.525090125,
          1.205852125,
          2.39753615,
          1.2418638666666666,
          5.8264973,
          0.8324375,
          5.3354114,
          2.345398388888889,
          0.7250356285714286,
          0.4562775777777778,
          0.49487675,
          2.5316325,
          0.5110786486486486,
          1.9708175789473685,
          0.02190707692307692,
          1.57227515,
          1.6241297368421053,
          1.43404885,
          -0.5864318583333333,
          0.10177463636363636,
          -0.43462630588235296,
          0.6697449285714285,
          2.7096776,
          4.000652420306966,
          0.3626246875,
          -0.4429672571428571,
          0.8103749047619048,
          1.3078372352941177,
          0.12400505714285714,
          0.49137270833333335,
          8.06886725,
          1.2831877333333332,
          0.7167852631578947,
          0.64194725,
          0.1945536,
          0.0656972962962963,
          0.8313080666666667,
          -0.04858353333333333,
          0.41351995,
          0.44119094444444446,
          0.8223054166666667,
          0.5293247142857143,
          -0.3309012,
          0.7703097692307692,
          0.3734658,
          1.500701625,
          0.09364377777777778,
          2.3085296428571427,
          -0.4313988125,
          3.7647879591836735,
          -0.7200732857142857,
          -0.7725998222222222,
          2.3030406,
          -0.48945212903225804,
          1.4318744285714287,
          -0.12799188888888888,
          0.9555245,
          -0.089913,
          -0.7972779761904762,
          -0.7654745531914894,
          0.6470693150684932,
          0.4375565714285714,
          -0.0538416,
          0.5469007142857143,
          -0.8152263636363636,
          -0.25508546666666665,
          -0.1370105,
          0.3622476666666667,
          -0.6458435,
          -0.47433013333333335,
          0.9234959523809524,
          -0.17088125,
          -0.65115616,
          0.2410068,
          -0.06611728571428571,
          -0.4443545263157895,
          -0.3503704,
          0.5233926666666666,
          -0.721747923076923,
          -0.68549064,
          -0.33572575,
          0.8646948913043478,
          0.07915066666666666,
          0.9740973333333334,
          0.8540891089108911,
          -0.4484611111111111,
          -0.6935719285714286,
          -0.9535379166666667,
          -0.8369522891566266,
          -0.8357061,
          -0.81822512,
          -0.990497,
          -0.9100470555555555,
          -0.9374562222222222,
          -0.908295125,
          -0.552150375,
          -0.95631915,
          -0.6591823333333333,
          -0.9296988571428572,
          -0.98610285,
          -0.9102815789473684,
          -0.9644081,
          2.8728492,
          -0.9434626,
          -0.9555296666666667,
          -0.9757761904761905,
          -0.9403906896551724,
          4.763028425641026,
          1.5466728567949342,
          4.40721608627451,
          3.4322503133333333,
          4.041307632,
          6.3308038125,
          4.124993845454545,
          1.800776915,
          3.2691344384615384,
          3.285307544,
          4.416886766666667,
          4.064367741935484,
          1.9955107866666666,
          1.8768765461538461,
          1.6469269714285715,
          1.22130190625,
          3.3636065375,
          1.398912190909091,
          7.911754553846154,
          4.1594549,
          0.8201822222222223,
          1.0832318454545455,
          1.8208324666666666,
          0.09767746,
          7.52480016,
          10.339420894736842,
          1.6871869125,
          2.0494853714285712,
          5.069074314285714,
          40.4079688,
          4.381610472222222,
          0.00026546666666666665,
          1.9945649682539683,
          1.2402218428571428,
          7.77539,
          3.7172557714285714,
          1.1350690625,
          2.5771538222222223,
          4.761663666666666,
          2.6586755777777777,
          2.875279125,
          0.7696817176470588,
          4.416759133333334,
          0.1700478962962963,
          1.92390318,
          0.9053065443037974,
          3.1884540285714285,
          4.96912312,
          0.7613779294117647,
          3.38839059375,
          1.94284656,
          1.2925265666666668,
          7.0160445,
          2.403077075,
          -0.09323027027027027,
          1.5285124501992031,
          1.37458146,
          2.0739399210526317,
          7.256578857142857,
          1.2260167,
          2.631903266666667,
          6.618009615384615,
          1.52905265,
          1.39973975,
          1.6255131621621621,
          1.596452,
          1.278165,
          0.19677852,
          1.1828200476190476,
          1.988191962962963,
          1.4173151428571429,
          0.2819628676470588,
          1.5728890625,
          1.4756674,
          2.8787052857142856,
          0.4025671,
          0.7964092470588235,
          2.3798228260869565,
          0.4614820576923077,
          1.17862715,
          3.0941774444444445,
          1.0483045,
          0.007812357142857143,
          0.8055090517241379,
          1.1781231333333333,
          0.80738155,
          0.8595461714285715,
          2.9445794666666667,
          -0.06558505714285714,
          0.7634807428571428,
          0.6715202333333333,
          1.619925111111111,
          1.3302027,
          1.236954705882353,
          0.463097,
          2.2841066875,
          -0.24491388,
          0.98433845,
          4.166841875,
          -0.7363349466666667,
          -0.16715668,
          4.4512287142857145,
          0.56505708,
          0.81328725,
          2.4240572,
          0.54997616,
          0.019769291666666668,
          0.50818925,
          -0.17914834,
          -0.25962345,
          0.55974192,
          4.3035638,
          -0.2946421714285714,
          -0.47756724,
          4.1722498,
          -0.5212281777777777,
          -0.0313846,
          0.895863,
          2.532909,
          5.009772647058823,
          0.9402664444444444,
          2.1404370769230767,
          -0.22156296666666667,
          -0.9877427611940298,
          1.3209891489361703,
          -0.36370356,
          -0.42489058181818185,
          3.4732521875,
          0.8913675,
          1.4509447272727272,
          0.345397875,
          -1,
          0.6658989655172414,
          -0.8125725853658536,
          -0.7597124761904762,
          -0.6012313684210526,
          -0.2137869,
          0.5378975714285714,
          -0.5031397692307692,
          0.0953586,
          -0.69531375,
          -0.551601125,
          -0.8759337333333334,
          0.04674021052631579,
          -0.435798,
          -0.9791224545454545,
          -0.8115749,
          -0.50274125,
          -0.6876625130890053,
          -0.504101,
          -0.8883058333333334,
          -0.7216823333333333,
          -0.7294873333333334,
          1.2371975,
          3.877779825,
          -0.9452934285714286,
          -0.75536825,
          -0.7624268,
          -0.9608313076923077,
          -0.47874304,
          -0.9554791428571429,
          -0.8301295,
          -0.9234281333333333,
          -0.9926839166666667,
          -0.8875400384615385,
          4.552634905,
          2.9434149054545453,
          3.068014272,
          8.26068565263158,
          5.0919584214390605,
          2.444955759090909,
          4.151181179310345,
          7.4740422375,
          4.174266691666666,
          10.12033254,
          1.997873145945946,
          2.0091607333333332,
          3.49948323,
          2.21958612,
          1.3589514470588235,
          7.395720088888889,
          3.4530095529411766,
          3.027166607594937,
          2.11979256,
          1.1165579448275862,
          1.0351338866666666,
          0.4248987136363636,
          0.028284,
          1.24284736,
          3.2053274,
          0.5880177866666667,
          2.7022712153846156,
          10.257735857142857,
          3.73598422,
          4.104286674157303,
          2.6228456,
          1.4534372,
          3.8288673571428573,
          5.587272,
          1.0425115529411764,
          3.23976515,
          1.7715214923076923,
          4.6822135,
          23.364250428571427,
          4.179304451612904,
          1.2911418571428572,
          1.4149931846153847,
          27.5635984,
          4.0167360606060605,
          12.463978,
          1.564046380952381,
          1.6178483333333333,
          0.28110935294117645,
          7.597059866666667,
          1.4753382727272728,
          3.83329532,
          1.0368848888888889,
          5.826138058823529,
          3.4361765,
          0.8019943666666667,
          0.10429206315789474,
          7.585682333333334,
          2.86535332,
          2.9362742,
          8.447813666666667,
          1.577748057142857,
          4.9232188571428575,
          1.3592804266666667,
          1.080789435897436,
          5.874752916666667,
          28.242602333333334,
          2.24996704,
          2.510440681818182,
          2.457023953488372,
          0.7437918571428571,
          0.44907402040816324,
          0.22054627272727273,
          3.303027875,
          2.34754435,
          1.3563322666666666,
          -0.12811525714285715,
          0.010178,
          0.381228975,
          0.8017416333333334,
          1.0541273,
          1.0920648846153846,
          1.7987836,
          -0.1316293448275862,
          -0.20301811666666666,
          2.8391070666666667,
          0.18146285714285715,
          5.391881449275362,
          0.03236685,
          1.6158962,
          -0.13816140476190475,
          -0.07849764444444444,
          1.5413697857142856,
          1.98589275,
          0.012193114285714285,
          0.12051448,
          1.5437925384615385,
          0.5815086956521739,
          1.7250365833333334,
          0.69715245,
          0.13301505454545454,
          -0.1030514,
          0.17699234615384615,
          0.35059776,
          -0.368283,
          -0.48023785,
          -0.2566174153846154,
          1.5555204494382022,
          2.792478762886598,
          0.46793253333333334,
          1.4470915555555555,
          0.2680603,
          1.7282846666666667,
          -0.9428571428571428,
          -0.211408,
          3.192467,
          -0.20238464285714286,
          0.1766959,
          -0.3742775882352941,
          0.6844958333333333,
          -0.62746792,
          0.4078253333333333,
          -0.1109906,
          -0.58495895,
          0.13853373333333333,
          -0.6976051052631579,
          -0.5291873,
          -0.534089,
          0.9737424,
          -0.36884065217391304,
          6.989561739130435,
          0.49166775,
          -0.67778696,
          -0.91197704,
          -0.7820377,
          -0.558567,
          -0.8999711666666667,
          0.0576065,
          1.6221005357142857,
          -0.9751867,
          7.483132733333333,
          5.07696136,
          11.831800460526315,
          2.84146742,
          5.652831130769231,
          2.717941645,
          5.306351572727273,
          1.9688867466666666,
          3.297350106666667,
          3.2449512962962963,
          1.7974455263157896,
          1.451795255,
          1.4599030736842105,
          2.6213639304347827,
          1.1631731894736843,
          2.89870414,
          1.6838621785714285,
          3.570256,
          2.1686138454545456,
          14.90000705,
          2.3070565,
          1.399305275,
          1.3849340916666666,
          1.125159837037037,
          2.517854474358974,
          6.23827772972973,
          1.62794441,
          -0.05453776363636364,
          5.44695735,
          2.0877976,
          0.9346128076923077,
          4.342506372093023,
          3.0117851636363637,
          0.36960258,
          1.2317728222222222,
          0.013782579487179487,
          1.0644086043956045,
          8.05126715,
          4.900849933333333,
          4.0103308,
          2.44371508,
          1.4696989714285715,
          31.384303,
          2.7451158,
          9.726867933333333,
          -0.13304677142857144,
          0.6846113690476191,
          8.873037733333334,
          0.48194235714285716,
          3.0326488214285714,
          1.1720166393442624,
          0.542110525,
          2.95434740625,
          0.16348439090909092,
          1.4652674347826087,
          2.2846435714285716,
          2.8373869333333332,
          1.0070376727272727,
          0.73501505,
          7.246949333333333,
          1.4937831052631578,
          2.358962535714286,
          4.717386722222222,
          0.26609278333333336,
          0.6150476551724138,
          29.422193666666665,
          -0.5115158333333333,
          6.4424315,
          -0.39171786153846155,
          3.004563736842105,
          0.85391525,
          1.0295524,
          3.2844535294117647,
          1.84037336,
          4.4548028125,
          5.8541786,
          1.0170893333333333,
          1.2546396071428572,
          22.9690232,
          4.107175909090909,
          11.122369,
          1.10173416,
          2.2062213636363635,
          0.6110252333333334,
          2.245828153846154,
          1.38330065,
          0.4900298769230769,
          0.38695394285714285,
          1.37542525,
          0.7451815,
          1.3497891818181817,
          2.8605156,
          1.4112508333333333,
          2.1340966,
          1.9948406363636364,
          2.1556959,
          2.1164747,
          11.930902,
          5.2298502,
          6.503378,
          1.0634466666666667,
          -0.14398096875,
          -0.1459885142857143,
          0.39321473333333334,
          6.9154602857142855,
          2.202681125,
          0.41212825,
          4.370762,
          1.692451294117647,
          1.2661155555555557,
          -0.014855857142857143,
          -0.34666753333333333,
          0.44105123076923075,
          -0.16383115,
          -0.2984375,
          5.36217675,
          -0.08634955,
          -0.591480825,
          0.22197811764705883,
          0.0029094166666666665,
          6.7506433333333336,
          -0.06363333333333333,
          -0.5891278363636364,
          -0.7633010769230769,
          -0.47225922,
          -0.4953941111111111,
          -0.5837065714285714,
          1.7667804,
          0.7778591111111111,
          -0.7456277142857143,
          2.754256333333333,
          5.123791084337349,
          -0.9995214193548387,
          -0.5341606153846153,
          -0.7237387142857142,
          -0.7849982,
          -0.9647512666666667,
          4.2573289333333335,
          2.782310484,
          3.5345148,
          3.2140929722222222,
          5.132601048,
          2.739313875,
          3.2023640529411765,
          3.1802621529411765,
          2.54498168,
          3.038662878787879,
          2.952289866666667,
          3.238526,
          8.436661586206897,
          2.7911253153846154,
          6.628823133333333,
          10.4376944,
          1.779867659090909,
          1.0816924494382023,
          5.042085065573771,
          1.7854852047244094,
          1.7140851153846153,
          9.244701794117647,
          2.0070913727272726,
          5.62667752,
          24.597236166666665,
          2.247234882352941,
          0.860734,
          14.052468222222222,
          0.9165322357142857,
          38.517372307692305,
          14.182697533333334,
          3.4476611,
          2.1463103285714284,
          1.09461378,
          2.7921067793594307,
          1.9419639242424243,
          2.507338618181818,
          4.289718096774194,
          2.9138398,
          1.5158126769230769,
          2.00858742,
          1.2671821142857143,
          5.149352,
          1.1896235333333334,
          1.8442386888888889,
          2.151737725,
          7.221846133333333,
          3.0843322,
          0.3558629125,
          11.392764555555555,
          0.86577085,
          1.648633925,
          19.6601264,
          0.03039258,
          2.6206888214285713,
          7.409691583333333,
          3.82038275,
          17.1809708,
          3.285022181818182,
          1.5411667,
          1.9318872666666667,
          1.169463925,
          1.201747,
          0.52238776,
          0.44204183636363636,
          6.1232881818181815,
          0.14731215384615384,
          1.9178305416666668,
          1.6221865714285715,
          2.224990590909091,
          0.6320683,
          1.6616082,
          2.3388288,
          0.8406623529411764,
          7.604842,
          -0.15780972857142858,
          0.6062370277777778,
          3.2182487692307693,
          1.2181638214285715,
          0.391425,
          10.80879909090909,
          2.2441957692307692,
          13.31826225,
          7.8230992,
          1.064816,
          5.633619375,
          0.54872124,
          -0.9660756666666667,
          0.56871648,
          4.921696235294117,
          4.163726714285715,
          1.4045926666666666,
          0.5792083846153846,
          0.11132893333333334,
          1.3213556666666666,
          1.0092608,
          0.1938992,
          1.7317872,
          1.16681175,
          -0.004443722222222222,
          4.30171525,
          0.328345,
          0.7990732857142857,
          -0.2116772222222222,
          0.5122646031746032,
          2.4998484,
          -0.11074640909090909,
          -0.2613827,
          -0.55765625,
          -0.5259368125,
          0.09856083333333333,
          4.8839826923076926,
          -0.4191028333333333,
          2.5787763265306123,
          -0.625852705882353,
          -0.6814283,
          0.331341,
          -0.4864018125,
          -0.37081533333333333,
          -0.7346488571428571,
          -0.71028075,
          -0.8145852,
          -0.8865562,
          -0.988112,
          -0.9947248333333333,
          -0.9973835555555556,
          -0.7246047102233387,
          6.669092390697674,
          6.9932778631578945,
          3.2438413883847548,
          14.680218554054054,
          1.9320697433333334,
          3.881348525714286,
          3.05616741875,
          5.067328175925926,
          13.274952525,
          2.947691125925926,
          2.9912188384615384,
          4.868753725,
          3.1478049,
          1.7880702838709677,
          3.3038481276595744,
          1.4673201333333334,
          0.7801121973333334,
          5.8261755,
          3.2028808243243243,
          4.09124855737705,
          1.6825080181818182,
          8.918119586206897,
          3.705256309090909,
          1.5261778787878788,
          1.7115756,
          2.578242276923077,
          1.7724217333333334,
          2.194325632352941,
          0.2154559882352941,
          6.22082075,
          3.92789275,
          0.016662117318435754,
          3.691015702702703,
          0.398743225,
          2.8072314285714284,
          3.06245845,
          1.3849175161290324,
          1.7397469655172413,
          0.6352364,
          3.0321113428571427,
          3.7558125714285713,
          0.010173153333333334,
          7.528317034482758,
          0.14605228421052632,
          11.0453155,
          1.662786325,
          0.3993277866666667,
          1.8329117368421053,
          2.5343553333333335,
          2.300209677419355,
          1.1428991020408164,
          0.68556765,
          0.8648655094339622,
          18.7355632,
          3.604423,
          -0.10306691,
          2.138548533333333,
          8.0384306,
          6.120873666666666,
          1.8131249666666667,
          1.3480800857142856,
          2.4857215652173914,
          6.7959374,
          0.3630337090909091,
          2.168113409090909,
          0.33923288,
          23.658413,
          1.2994845333333334,
          0.8765567058823529,
          4.643285545454545,
          4.326037,
          3.1192262,
          0.7569172571428572,
          2.348787,
          7.5689032,
          4.4104225,
          12.3504845,
          1.09709384,
          0.30490034285714285,
          0.5479512666666667,
          -0.4933977666666667,
          1.688701411764706,
          7.3399224,
          4.1210157647058825,
          -0.05975052,
          0.697018,
          1.3459716666666666,
          6.053417166666667,
          1.2870018333333333,
          2.6308068644067797,
          6.671862,
          0.3802100888888889,
          3.63991975,
          1.9506455384615384,
          0.8386755,
          1.7894448461538461,
          0.1859669,
          -0.221890825,
          1.7424530833333334,
          0.2948968846153846,
          0.08196528571428571,
          -0.3138624054054054,
          0.1360286,
          -0.535144325,
          1.4412245555555556,
          -0.7190713714285715,
          1.598690142857143,
          0.7503828,
          0.03699033333333333,
          1.4317792142857142,
          -0.6224556857142857,
          5.2195352173913045,
          0.10797715384615385,
          -0.08381114285714286,
          -0.83991558,
          -0.1534155,
          -0.68988156,
          0.1582725,
          8.367565153846154,
          -0.331583375,
          -0.11153505,
          -0.286729,
          -0.4539011666666667,
          -0.769548294117647,
          -0.8136127,
          -0.7742564666666667,
          0.8462748461538462,
          -0.5262126,
          -0.3353331,
          0.14839876923076922,
          -0.7425446666666666,
          -0.7525388571428572,
          -0.7716088888888889,
          -0.85091625,
          -0.80064025,
          -1,
          -0.8386873333333333,
          -0.9271518333333333,
          -0.9838903,
          -0.999862,
          3.560277652,
          4.24551428,
          4.106075965,
          5.79619744,
          10.823340453333333,
          2.470001124,
          3.457793627777778,
          12.810786086206896,
          3.2631993542857143,
          3.099421612121212,
          3.2501157666666667,
          7.459397186666667,
          2.047963741573034,
          2.6971367285714285,
          20.31755815,
          1.65951425625,
          2.4680693,
          2.830063638095238,
          1.3282995393939394,
          0.9383445833333334,
          3.826409410958904,
          1.753201072,
          0.8151472054054054,
          2.648055633333333,
          30.01627557894737,
          0.628988894117647,
          0.8172472148148148,
          2.9754092666666665,
          8.27086864,
          1.9269248933333334,
          3.3438961,
          9.4132599,
          2.25323475,
          3.321870085106383,
          8.0499358,
          1.6193347285714286,
          0.4260477142857143,
          0.5638410636363637,
          3.22261705,
          1.6657748166666666,
          2.824052075,
          -0.008308885714285714,
          28.761302,
          6.439171315789474,
          11.464226666666667,
          1.743471,
          2.1206829,
          -0.2140780512820513,
          0.12515717924528302,
          8.135649384615384,
          10.8514727,
          2.0901356842105265,
          1.0294066444444445,
          1.7028048648648648,
          20.6572844,
          1.9299052105263157,
          2.1073606,
          0.3165021806451613,
          8.137256434782609,
          2.461707222222222,
          4.116475444444444,
          1.3696970277777778,
          5.6354346363636365,
          0.72469006,
          2.5326142,
          8.092429555555556,
          8.145160823529412,
          1.7121450689655173,
          1.2999424242424242,
          4.6768258461538466,
          0.40996585454545453,
          0.3882274,
          1.678453375,
          1.9163945454545455,
          0.19193494,
          0.10697386,
          1.7202101,
          -0.2963891285714286,
          0.320949725,
          0.9310461724137931,
          0.07940767441860465,
          0.9591513043478261,
          1.31278815,
          2.8985577,
          1.499618,
          10.558434285714286,
          2.1320253333333334,
          3.074923,
          -0.29238164,
          2.0768449,
          0.43994137777777775,
          0.1140866,
          -0.17941514285714286,
          -0.53525496,
          1.7425050588235294,
          0.2971896,
          -0.27569294285714285,
          -0.6650087384615384,
          3.422615,
          0.3792094,
          1.1217781111111111,
          1.7232924615384615,
          -0.2087813,
          0.6964255555555555,
          -0.405775,
          -0.5638293894736842,
          1.5810214,
          3.0653902222222222,
          0.1360665,
          0.43311822222222224,
          0.2382122,
          1.72457325,
          1.03641,
          -0.3296346,
          -0.5711316666666667,
          -0.08765175,
          -0.5646608928571428,
          0.8742072,
          -0.543692,
          -0.5733194444444445,
          -0.5726304117647059,
          8.5382132,
          -0.587254625,
          -0.74840125,
          0.727169375,
          -0.6615425714285714,
          0.9457036666666667,
          -0.073606,
          -0.4562874,
          -0.2384994,
          1.4816813333333334,
          -0.7664159333333334,
          1.1455072,
          1.0203039495798318,
          -0.2537857142857143,
          -0.8491462,
          -0.5253596,
          2.8737426771653545,
          -0.14396033333333333,
          1.172836625,
          0.22927415,
          3.939385068,
          12.79637,
          9.716624366666666,
          4.029522,
          3.311581165,
          3.7054445777777776,
          4.47422252,
          3.5600462914285713,
          2.4271353782608696,
          18.927370542857144,
          1.18648403,
          1.7783103225806451,
          2.0328219405405403,
          3.087030096,
          2.33224912,
          2.2210017565789473,
          3.6031613095238093,
          2.930804769230769,
          1.1916649657142857,
          5.934518036363636,
          1.2299123466666666,
          6.85252975,
          2.883250225,
          19.358991,
          14.2302356,
          1.6112426126126127,
          54.7929612,
          0.40193193513513514,
          50.0735902,
          7.783430466666666,
          1.4589819278350515,
          5.708946617647059,
          0.19499086666666668,
          1.20796009,
          3.33124624,
          2.292976433333333,
          9.040553538461538,
          3.1274758222222223,
          2.5949776,
          1.93106305,
          3.283750225,
          12.34932625,
          4.026905733333333,
          -0.2021123657142857,
          3.0223817142857143,
          4.0316554642857145,
          1.71138424,
          3.5610910714285713,
          2.3309966842105263,
          24.002052,
          0.7533885857142857,
          0.89102545,
          9.2445196,
          2.2781807666666665,
          2.31669132,
          1.3202634857142856,
          6.8610769,
          0.0842879365079365,
          2.251006952380952,
          0.435959725,
          -0.506857616,
          2.1379005,
          5.2556228,
          5.1603136,
          0.37743278571428573,
          9.794572,
          -0.19907395588235294,
          3.8906735454545456,
          0.5263541724137931,
          1.34221785,
          0.21948566666666666,
          0.41770253333333335,
          0.23503274285714285,
          4.280665142857143,
          1.3384034444444444,
          0.61145664,
          0.6186171363636364,
          -0.220189375,
          1.8717667,
          1.4891249333333334,
          -0.07238832,
          3.214557702702703,
          -0.3538111315789474,
          -0.15846236,
          0.6268794666666667,
          2.9440406,
          -0.4292725666666667,
          -0.45061983333333333,
          0.9564454166666667,
          -0.41059036363636364,
          -0.26218484,
          2.7891364,
          -0.5975252,
          -0.7071082666666667,
          -0.72828928,
          -0.6928903636363636,
          -0.0759202,
          -0.8127843150684931,
          0.4984206666666667,
          0.14250858585858586,
          -0.6206261,
          -0.2417804,
          -0.9814005142857143,
          5.827114,
          5.74129112,
          6.681016464705882,
          5.212603555,
          6.1680915,
          15.272460763636364,
          6.151641427272727,
          2.26110043,
          3.7934204615384615,
          2.86193424,
          1.9748916573033708,
          1.9959068285714285,
          7.108922492307692,
          3.560741068627451,
          0.4296412618181818,
          5.751829436363637,
          5.94272954,
          1.6271424461538462,
          18.677782,
          13.001497347826087,
          1.432924272,
          0.8769686967741935,
          3.358664524590164,
          2.0386389,
          6.936657033333334,
          1.6711409625,
          3.27183044,
          1.4734172987012988,
          0.281368690744921,
          2.41715352,
          15.7885588,
          1.1152443623188406,
          9.509023461538462,
          0.29516390291262135,
          2.15829375,
          1.4945039166666667,
          1.549635775,
          2.1723806486486485,
          0.7533970833333333,
          0.9534288823529412,
          3.88143585,
          5.274261933333333,
          26.179241142857144,
          1.86105615625,
          3.4783489523809523,
          1.6654708,
          5.201155666666667,
          0.48351950847457625,
          -0.14712583,
          1.6710463666666666,
          6.0133905,
          1.7509352142857142,
          0.18138618333333334,
          0.8466522,
          1.168148457142857,
          3.0311371974522294,
          8.1113683,
          1.0319536571428571,
          5.5520633,
          0.8941463142857143,
          1.1919970333333334,
          0.6542054571428572,
          0.8698733333333334,
          -0.0942822,
          1.07203032,
          4.1620593,
          4.1723644,
          1.5848422777777778,
          0.86938932,
          6.130897833333333,
          0.12827729411764707,
          0.90366885,
          0.5246810869565217,
          -0.08736315625,
          -0.13506723333333334,
          11.67944,
          4.1058996,
          -0.2763487,
          0.2952238125,
          0.6549305833333333,
          2.2944056363636363,
          4.517761666666667,
          -0.6541301052631578,
          -0.7138906222222222,
          -0.1494134,
          -0.6634393,
          0.1752387,
          -0.64826925,
          -0.2259079,
          -0.5909893333333334,
          -0.39109,
          -0.25899146153846153,
          -0.9783800333333333,
          -0.7620573333333334,
          -0.693121625,
          -0.5656104
         ],
         "yaxis": "y"
        },
        {
         "alignmentgroup": "True",
         "bingroup": "x",
         "histfunc": "avg",
         "hovertemplate": "budget_type=low<br>year=%{x}<br>avg of profitRatio=%{y}<extra></extra>",
         "legendgroup": "low",
         "marker": {
          "color": "#EF553B"
         },
         "name": "low",
         "offsetgroup": "low",
         "orientation": "v",
         "showlegend": true,
         "type": "histogram",
         "x": [
          2010,
          2010,
          2010,
          2010,
          2010,
          2010,
          2010,
          2010,
          2010,
          2010,
          2010,
          2010,
          2010,
          2011,
          2011,
          2011,
          2011,
          2011,
          2011,
          2011,
          2011,
          2011,
          2011,
          2011,
          2011,
          2012,
          2012,
          2012,
          2012,
          2012,
          2012,
          2012,
          2012,
          2012,
          2012,
          2012,
          2012,
          2012,
          2012,
          2013,
          2013,
          2013,
          2013,
          2013,
          2013,
          2013,
          2013,
          2014,
          2014,
          2014,
          2014,
          2014,
          2014,
          2014,
          2014,
          2014,
          2014,
          2014,
          2015,
          2015,
          2015,
          2015,
          2015,
          2015,
          2015,
          2016,
          2016,
          2016,
          2016,
          2017,
          2017,
          2017,
          2017,
          2017,
          2017,
          2017,
          2017,
          2018,
          2018
         ],
         "xaxis": "x",
         "y": [
          37.98105555555556,
          9.701225064774986,
          7.0657755,
          15.56624,
          2.8996285,
          3.097488947368421,
          10.27946,
          6.649736,
          1.721096,
          0.07009266666666666,
          -0.2694451428571429,
          7.48298,
          -0.9486775,
          65.58059066666667,
          16.592942,
          13.9136,
          4.438911,
          11.01588,
          -0.065036,
          1.4115457894736843,
          -0.5318372222222222,
          -0.5645927777777778,
          0.239174,
          0.06553111111111111,
          0.361828,
          100.75949,
          41.411721,
          11.925073333333334,
          7.30538,
          10.495204,
          4.896424,
          3.5091535714285715,
          24.754941666666667,
          0.6306917647058824,
          2.181096296296296,
          2.0766666666666667,
          -0.4222425,
          0.3487133333333333,
          -0.9914695,
          -1,
          -1,
          25.887177,
          18.499605555555554,
          4.892466,
          1.614028,
          4.335386315789473,
          -0.7505,
          2.7411935,
          4.797192,
          3.3230168,
          6.195,
          2.32407,
          0.044195,
          -0.88887,
          0.156309,
          -0.147601,
          -0.457449375,
          -0.898947,
          63.364198,
          10.6253775,
          4.0767075,
          11.93142,
          0.1399795,
          2.9661314285714284,
          2.164258,
          7.593717,
          13.662703,
          -0.645164,
          -0.9867616666666666,
          8.617402,
          1.970997,
          4.647662,
          26.69782,
          -0.6100357894736842,
          -0.882492,
          0.47109,
          -0.9604,
          15.434588,
          8.496620666666667
         ],
         "yaxis": "y"
        }
       ],
       "layout": {
        "bargap": 0.2,
        "bargroupgap": 0.1,
        "barmode": "group",
        "height": 400,
        "legend": {
         "title": {
          "text": "budget_type"
         },
         "tracegroupgap": 0
        },
        "margin": {
         "t": 60
        },
        "template": {
         "data": {
          "bar": [
           {
            "error_x": {
             "color": "#2a3f5f"
            },
            "error_y": {
             "color": "#2a3f5f"
            },
            "marker": {
             "line": {
              "color": "#E5ECF6",
              "width": 0.5
             }
            },
            "type": "bar"
           }
          ],
          "barpolar": [
           {
            "marker": {
             "line": {
              "color": "#E5ECF6",
              "width": 0.5
             }
            },
            "type": "barpolar"
           }
          ],
          "carpet": [
           {
            "aaxis": {
             "endlinecolor": "#2a3f5f",
             "gridcolor": "white",
             "linecolor": "white",
             "minorgridcolor": "white",
             "startlinecolor": "#2a3f5f"
            },
            "baxis": {
             "endlinecolor": "#2a3f5f",
             "gridcolor": "white",
             "linecolor": "white",
             "minorgridcolor": "white",
             "startlinecolor": "#2a3f5f"
            },
            "type": "carpet"
           }
          ],
          "choropleth": [
           {
            "colorbar": {
             "outlinewidth": 0,
             "ticks": ""
            },
            "type": "choropleth"
           }
          ],
          "contour": [
           {
            "colorbar": {
             "outlinewidth": 0,
             "ticks": ""
            },
            "colorscale": [
             [
              0,
              "#0d0887"
             ],
             [
              0.1111111111111111,
              "#46039f"
             ],
             [
              0.2222222222222222,
              "#7201a8"
             ],
             [
              0.3333333333333333,
              "#9c179e"
             ],
             [
              0.4444444444444444,
              "#bd3786"
             ],
             [
              0.5555555555555556,
              "#d8576b"
             ],
             [
              0.6666666666666666,
              "#ed7953"
             ],
             [
              0.7777777777777778,
              "#fb9f3a"
             ],
             [
              0.8888888888888888,
              "#fdca26"
             ],
             [
              1,
              "#f0f921"
             ]
            ],
            "type": "contour"
           }
          ],
          "contourcarpet": [
           {
            "colorbar": {
             "outlinewidth": 0,
             "ticks": ""
            },
            "type": "contourcarpet"
           }
          ],
          "heatmap": [
           {
            "colorbar": {
             "outlinewidth": 0,
             "ticks": ""
            },
            "colorscale": [
             [
              0,
              "#0d0887"
             ],
             [
              0.1111111111111111,
              "#46039f"
             ],
             [
              0.2222222222222222,
              "#7201a8"
             ],
             [
              0.3333333333333333,
              "#9c179e"
             ],
             [
              0.4444444444444444,
              "#bd3786"
             ],
             [
              0.5555555555555556,
              "#d8576b"
             ],
             [
              0.6666666666666666,
              "#ed7953"
             ],
             [
              0.7777777777777778,
              "#fb9f3a"
             ],
             [
              0.8888888888888888,
              "#fdca26"
             ],
             [
              1,
              "#f0f921"
             ]
            ],
            "type": "heatmap"
           }
          ],
          "heatmapgl": [
           {
            "colorbar": {
             "outlinewidth": 0,
             "ticks": ""
            },
            "colorscale": [
             [
              0,
              "#0d0887"
             ],
             [
              0.1111111111111111,
              "#46039f"
             ],
             [
              0.2222222222222222,
              "#7201a8"
             ],
             [
              0.3333333333333333,
              "#9c179e"
             ],
             [
              0.4444444444444444,
              "#bd3786"
             ],
             [
              0.5555555555555556,
              "#d8576b"
             ],
             [
              0.6666666666666666,
              "#ed7953"
             ],
             [
              0.7777777777777778,
              "#fb9f3a"
             ],
             [
              0.8888888888888888,
              "#fdca26"
             ],
             [
              1,
              "#f0f921"
             ]
            ],
            "type": "heatmapgl"
           }
          ],
          "histogram": [
           {
            "marker": {
             "colorbar": {
              "outlinewidth": 0,
              "ticks": ""
             }
            },
            "type": "histogram"
           }
          ],
          "histogram2d": [
           {
            "colorbar": {
             "outlinewidth": 0,
             "ticks": ""
            },
            "colorscale": [
             [
              0,
              "#0d0887"
             ],
             [
              0.1111111111111111,
              "#46039f"
             ],
             [
              0.2222222222222222,
              "#7201a8"
             ],
             [
              0.3333333333333333,
              "#9c179e"
             ],
             [
              0.4444444444444444,
              "#bd3786"
             ],
             [
              0.5555555555555556,
              "#d8576b"
             ],
             [
              0.6666666666666666,
              "#ed7953"
             ],
             [
              0.7777777777777778,
              "#fb9f3a"
             ],
             [
              0.8888888888888888,
              "#fdca26"
             ],
             [
              1,
              "#f0f921"
             ]
            ],
            "type": "histogram2d"
           }
          ],
          "histogram2dcontour": [
           {
            "colorbar": {
             "outlinewidth": 0,
             "ticks": ""
            },
            "colorscale": [
             [
              0,
              "#0d0887"
             ],
             [
              0.1111111111111111,
              "#46039f"
             ],
             [
              0.2222222222222222,
              "#7201a8"
             ],
             [
              0.3333333333333333,
              "#9c179e"
             ],
             [
              0.4444444444444444,
              "#bd3786"
             ],
             [
              0.5555555555555556,
              "#d8576b"
             ],
             [
              0.6666666666666666,
              "#ed7953"
             ],
             [
              0.7777777777777778,
              "#fb9f3a"
             ],
             [
              0.8888888888888888,
              "#fdca26"
             ],
             [
              1,
              "#f0f921"
             ]
            ],
            "type": "histogram2dcontour"
           }
          ],
          "mesh3d": [
           {
            "colorbar": {
             "outlinewidth": 0,
             "ticks": ""
            },
            "type": "mesh3d"
           }
          ],
          "parcoords": [
           {
            "line": {
             "colorbar": {
              "outlinewidth": 0,
              "ticks": ""
             }
            },
            "type": "parcoords"
           }
          ],
          "pie": [
           {
            "automargin": true,
            "type": "pie"
           }
          ],
          "scatter": [
           {
            "marker": {
             "colorbar": {
              "outlinewidth": 0,
              "ticks": ""
             }
            },
            "type": "scatter"
           }
          ],
          "scatter3d": [
           {
            "line": {
             "colorbar": {
              "outlinewidth": 0,
              "ticks": ""
             }
            },
            "marker": {
             "colorbar": {
              "outlinewidth": 0,
              "ticks": ""
             }
            },
            "type": "scatter3d"
           }
          ],
          "scattercarpet": [
           {
            "marker": {
             "colorbar": {
              "outlinewidth": 0,
              "ticks": ""
             }
            },
            "type": "scattercarpet"
           }
          ],
          "scattergeo": [
           {
            "marker": {
             "colorbar": {
              "outlinewidth": 0,
              "ticks": ""
             }
            },
            "type": "scattergeo"
           }
          ],
          "scattergl": [
           {
            "marker": {
             "colorbar": {
              "outlinewidth": 0,
              "ticks": ""
             }
            },
            "type": "scattergl"
           }
          ],
          "scattermapbox": [
           {
            "marker": {
             "colorbar": {
              "outlinewidth": 0,
              "ticks": ""
             }
            },
            "type": "scattermapbox"
           }
          ],
          "scatterpolar": [
           {
            "marker": {
             "colorbar": {
              "outlinewidth": 0,
              "ticks": ""
             }
            },
            "type": "scatterpolar"
           }
          ],
          "scatterpolargl": [
           {
            "marker": {
             "colorbar": {
              "outlinewidth": 0,
              "ticks": ""
             }
            },
            "type": "scatterpolargl"
           }
          ],
          "scatterternary": [
           {
            "marker": {
             "colorbar": {
              "outlinewidth": 0,
              "ticks": ""
             }
            },
            "type": "scatterternary"
           }
          ],
          "surface": [
           {
            "colorbar": {
             "outlinewidth": 0,
             "ticks": ""
            },
            "colorscale": [
             [
              0,
              "#0d0887"
             ],
             [
              0.1111111111111111,
              "#46039f"
             ],
             [
              0.2222222222222222,
              "#7201a8"
             ],
             [
              0.3333333333333333,
              "#9c179e"
             ],
             [
              0.4444444444444444,
              "#bd3786"
             ],
             [
              0.5555555555555556,
              "#d8576b"
             ],
             [
              0.6666666666666666,
              "#ed7953"
             ],
             [
              0.7777777777777778,
              "#fb9f3a"
             ],
             [
              0.8888888888888888,
              "#fdca26"
             ],
             [
              1,
              "#f0f921"
             ]
            ],
            "type": "surface"
           }
          ],
          "table": [
           {
            "cells": {
             "fill": {
              "color": "#EBF0F8"
             },
             "line": {
              "color": "white"
             }
            },
            "header": {
             "fill": {
              "color": "#C8D4E3"
             },
             "line": {
              "color": "white"
             }
            },
            "type": "table"
           }
          ]
         },
         "layout": {
          "annotationdefaults": {
           "arrowcolor": "#2a3f5f",
           "arrowhead": 0,
           "arrowwidth": 1
          },
          "coloraxis": {
           "colorbar": {
            "outlinewidth": 0,
            "ticks": ""
           }
          },
          "colorscale": {
           "diverging": [
            [
             0,
             "#8e0152"
            ],
            [
             0.1,
             "#c51b7d"
            ],
            [
             0.2,
             "#de77ae"
            ],
            [
             0.3,
             "#f1b6da"
            ],
            [
             0.4,
             "#fde0ef"
            ],
            [
             0.5,
             "#f7f7f7"
            ],
            [
             0.6,
             "#e6f5d0"
            ],
            [
             0.7,
             "#b8e186"
            ],
            [
             0.8,
             "#7fbc41"
            ],
            [
             0.9,
             "#4d9221"
            ],
            [
             1,
             "#276419"
            ]
           ],
           "sequential": [
            [
             0,
             "#0d0887"
            ],
            [
             0.1111111111111111,
             "#46039f"
            ],
            [
             0.2222222222222222,
             "#7201a8"
            ],
            [
             0.3333333333333333,
             "#9c179e"
            ],
            [
             0.4444444444444444,
             "#bd3786"
            ],
            [
             0.5555555555555556,
             "#d8576b"
            ],
            [
             0.6666666666666666,
             "#ed7953"
            ],
            [
             0.7777777777777778,
             "#fb9f3a"
            ],
            [
             0.8888888888888888,
             "#fdca26"
            ],
            [
             1,
             "#f0f921"
            ]
           ],
           "sequentialminus": [
            [
             0,
             "#0d0887"
            ],
            [
             0.1111111111111111,
             "#46039f"
            ],
            [
             0.2222222222222222,
             "#7201a8"
            ],
            [
             0.3333333333333333,
             "#9c179e"
            ],
            [
             0.4444444444444444,
             "#bd3786"
            ],
            [
             0.5555555555555556,
             "#d8576b"
            ],
            [
             0.6666666666666666,
             "#ed7953"
            ],
            [
             0.7777777777777778,
             "#fb9f3a"
            ],
            [
             0.8888888888888888,
             "#fdca26"
            ],
            [
             1,
             "#f0f921"
            ]
           ]
          },
          "colorway": [
           "#636efa",
           "#EF553B",
           "#00cc96",
           "#ab63fa",
           "#FFA15A",
           "#19d3f3",
           "#FF6692",
           "#B6E880",
           "#FF97FF",
           "#FECB52"
          ],
          "font": {
           "color": "#2a3f5f"
          },
          "geo": {
           "bgcolor": "white",
           "lakecolor": "white",
           "landcolor": "#E5ECF6",
           "showlakes": true,
           "showland": true,
           "subunitcolor": "white"
          },
          "hoverlabel": {
           "align": "left"
          },
          "hovermode": "closest",
          "mapbox": {
           "style": "light"
          },
          "paper_bgcolor": "white",
          "plot_bgcolor": "#E5ECF6",
          "polar": {
           "angularaxis": {
            "gridcolor": "white",
            "linecolor": "white",
            "ticks": ""
           },
           "bgcolor": "#E5ECF6",
           "radialaxis": {
            "gridcolor": "white",
            "linecolor": "white",
            "ticks": ""
           }
          },
          "scene": {
           "xaxis": {
            "backgroundcolor": "#E5ECF6",
            "gridcolor": "white",
            "gridwidth": 2,
            "linecolor": "white",
            "showbackground": true,
            "ticks": "",
            "zerolinecolor": "white"
           },
           "yaxis": {
            "backgroundcolor": "#E5ECF6",
            "gridcolor": "white",
            "gridwidth": 2,
            "linecolor": "white",
            "showbackground": true,
            "ticks": "",
            "zerolinecolor": "white"
           },
           "zaxis": {
            "backgroundcolor": "#E5ECF6",
            "gridcolor": "white",
            "gridwidth": 2,
            "linecolor": "white",
            "showbackground": true,
            "ticks": "",
            "zerolinecolor": "white"
           }
          },
          "shapedefaults": {
           "line": {
            "color": "#2a3f5f"
           }
          },
          "ternary": {
           "aaxis": {
            "gridcolor": "white",
            "linecolor": "white",
            "ticks": ""
           },
           "baxis": {
            "gridcolor": "white",
            "linecolor": "white",
            "ticks": ""
           },
           "bgcolor": "#E5ECF6",
           "caxis": {
            "gridcolor": "white",
            "linecolor": "white",
            "ticks": ""
           }
          },
          "title": {
           "x": 0.05
          },
          "xaxis": {
           "automargin": true,
           "gridcolor": "white",
           "linecolor": "white",
           "ticks": "",
           "title": {
            "standoff": 15
           },
           "zerolinecolor": "white",
           "zerolinewidth": 2
          },
          "yaxis": {
           "automargin": true,
           "gridcolor": "white",
           "linecolor": "white",
           "ticks": "",
           "title": {
            "standoff": 15
           },
           "zerolinecolor": "white",
           "zerolinewidth": 2
          }
         }
        },
        "title": {
         "text": "Budget Type vs. Profit Ratio"
        },
        "xaxis": {
         "anchor": "y",
         "domain": [
          0,
          1
         ],
         "title": {
          "text": "Year"
         }
        },
        "yaxis": {
         "anchor": "x",
         "domain": [
          0,
          1
         ],
         "title": {
          "text": "Average Profit Ratio"
         }
        }
       }
      },
      "text/html": [
       "<div>                            <div id=\"cd5a6da0-6465-48b6-8a3d-d0d771babbe6\" class=\"plotly-graph-div\" style=\"height:400px; width:100%;\"></div>            <script type=\"text/javascript\">                require([\"plotly\"], function(Plotly) {                    window.PLOTLYENV=window.PLOTLYENV || {};                                    if (document.getElementById(\"cd5a6da0-6465-48b6-8a3d-d0d771babbe6\")) {                    Plotly.newPlot(                        \"cd5a6da0-6465-48b6-8a3d-d0d771babbe6\",                        [{\"alignmentgroup\": \"True\", \"bingroup\": \"x\", \"histfunc\": \"avg\", \"hovertemplate\": \"budget_type=high<br>year=%{x}<br>avg of profitRatio=%{y}<extra></extra>\", \"legendgroup\": \"high\", \"marker\": {\"color\": \"#636efa\"}, \"name\": \"high\", \"offsetgroup\": \"high\", \"orientation\": \"v\", \"showlegend\": true, \"type\": \"histogram\", \"x\": [2010, 2010, 2010, 2010, 2010, 2010, 2010, 2010, 2010, 2010, 2010, 2010, 2010, 2010, 2010, 2010, 2010, 2010, 2010, 2010, 2010, 2010, 2010, 2010, 2010, 2010, 2010, 2010, 2010, 2010, 2010, 2010, 2010, 2010, 2010, 2010, 2010, 2010, 2010, 2010, 2010, 2010, 2010, 2010, 2010, 2010, 2010, 2010, 2010, 2010, 2010, 2010, 2010, 2010, 2010, 2010, 2010, 2010, 2010, 2010, 2010, 2010, 2010, 2010, 2010, 2010, 2010, 2010, 2010, 2010, 2010, 2010, 2010, 2010, 2010, 2010, 2010, 2010, 2010, 2010, 2010, 2010, 2010, 2010, 2010, 2010, 2010, 2010, 2010, 2010, 2010, 2010, 2010, 2010, 2010, 2010, 2010, 2010, 2010, 2010, 2010, 2010, 2010, 2010, 2010, 2010, 2010, 2010, 2010, 2010, 2010, 2010, 2010, 2010, 2010, 2010, 2010, 2010, 2010, 2010, 2010, 2010, 2010, 2010, 2010, 2010, 2010, 2010, 2010, 2010, 2010, 2010, 2010, 2010, 2010, 2010, 2010, 2010, 2010, 2010, 2010, 2010, 2010, 2010, 2010, 2010, 2010, 2010, 2010, 2010, 2010, 2010, 2010, 2010, 2010, 2010, 2010, 2010, 2010, 2010, 2010, 2010, 2010, 2010, 2010, 2010, 2010, 2010, 2010, 2010, 2010, 2010, 2010, 2010, 2010, 2010, 2010, 2010, 2010, 2011, 2011, 2011, 2011, 2011, 2011, 2011, 2011, 2011, 2011, 2011, 2011, 2011, 2011, 2011, 2011, 2011, 2011, 2011, 2011, 2011, 2011, 2011, 2011, 2011, 2011, 2011, 2011, 2011, 2011, 2011, 2011, 2011, 2011, 2011, 2011, 2011, 2011, 2011, 2011, 2011, 2011, 2011, 2011, 2011, 2011, 2011, 2011, 2011, 2011, 2011, 2011, 2011, 2011, 2011, 2011, 2011, 2011, 2011, 2011, 2011, 2011, 2011, 2011, 2011, 2011, 2011, 2011, 2011, 2011, 2011, 2011, 2011, 2011, 2011, 2011, 2011, 2011, 2011, 2011, 2011, 2011, 2011, 2011, 2011, 2011, 2011, 2011, 2011, 2011, 2011, 2011, 2011, 2011, 2011, 2011, 2011, 2011, 2011, 2011, 2011, 2011, 2011, 2011, 2011, 2011, 2011, 2011, 2011, 2011, 2011, 2011, 2011, 2011, 2011, 2011, 2011, 2011, 2011, 2011, 2011, 2011, 2011, 2011, 2011, 2011, 2011, 2011, 2011, 2011, 2011, 2011, 2011, 2011, 2011, 2011, 2011, 2011, 2011, 2011, 2011, 2011, 2011, 2011, 2011, 2011, 2011, 2011, 2011, 2011, 2011, 2011, 2011, 2011, 2011, 2011, 2011, 2011, 2011, 2011, 2011, 2011, 2011, 2011, 2011, 2012, 2012, 2012, 2012, 2012, 2012, 2012, 2012, 2012, 2012, 2012, 2012, 2012, 2012, 2012, 2012, 2012, 2012, 2012, 2012, 2012, 2012, 2012, 2012, 2012, 2012, 2012, 2012, 2012, 2012, 2012, 2012, 2012, 2012, 2012, 2012, 2012, 2012, 2012, 2012, 2012, 2012, 2012, 2012, 2012, 2012, 2012, 2012, 2012, 2012, 2012, 2012, 2012, 2012, 2012, 2012, 2012, 2012, 2012, 2012, 2012, 2012, 2012, 2012, 2012, 2012, 2012, 2012, 2012, 2012, 2012, 2012, 2012, 2012, 2012, 2012, 2012, 2012, 2012, 2012, 2012, 2012, 2012, 2012, 2012, 2012, 2012, 2012, 2012, 2012, 2012, 2012, 2012, 2012, 2012, 2012, 2012, 2012, 2012, 2012, 2012, 2012, 2012, 2012, 2012, 2012, 2012, 2012, 2012, 2012, 2012, 2012, 2012, 2012, 2012, 2012, 2012, 2012, 2012, 2012, 2012, 2012, 2012, 2012, 2012, 2012, 2012, 2012, 2012, 2012, 2012, 2012, 2012, 2012, 2012, 2012, 2012, 2012, 2012, 2013, 2013, 2013, 2013, 2013, 2013, 2013, 2013, 2013, 2013, 2013, 2013, 2013, 2013, 2013, 2013, 2013, 2013, 2013, 2013, 2013, 2013, 2013, 2013, 2013, 2013, 2013, 2013, 2013, 2013, 2013, 2013, 2013, 2013, 2013, 2013, 2013, 2013, 2013, 2013, 2013, 2013, 2013, 2013, 2013, 2013, 2013, 2013, 2013, 2013, 2013, 2013, 2013, 2013, 2013, 2013, 2013, 2013, 2013, 2013, 2013, 2013, 2013, 2013, 2013, 2013, 2013, 2013, 2013, 2013, 2013, 2013, 2013, 2013, 2013, 2013, 2013, 2013, 2013, 2013, 2013, 2013, 2013, 2013, 2013, 2013, 2013, 2013, 2013, 2013, 2013, 2013, 2013, 2013, 2013, 2013, 2013, 2013, 2013, 2013, 2013, 2013, 2013, 2013, 2013, 2013, 2013, 2013, 2013, 2013, 2013, 2013, 2013, 2013, 2013, 2013, 2013, 2013, 2013, 2013, 2013, 2013, 2013, 2013, 2013, 2013, 2013, 2013, 2013, 2013, 2013, 2013, 2013, 2013, 2013, 2013, 2013, 2014, 2014, 2014, 2014, 2014, 2014, 2014, 2014, 2014, 2014, 2014, 2014, 2014, 2014, 2014, 2014, 2014, 2014, 2014, 2014, 2014, 2014, 2014, 2014, 2014, 2014, 2014, 2014, 2014, 2014, 2014, 2014, 2014, 2014, 2014, 2014, 2014, 2014, 2014, 2014, 2014, 2014, 2014, 2014, 2014, 2014, 2014, 2014, 2014, 2014, 2014, 2014, 2014, 2014, 2014, 2014, 2014, 2014, 2014, 2014, 2014, 2014, 2014, 2014, 2014, 2014, 2014, 2014, 2014, 2014, 2014, 2014, 2014, 2014, 2014, 2014, 2014, 2014, 2014, 2014, 2014, 2014, 2014, 2014, 2014, 2014, 2014, 2014, 2014, 2014, 2014, 2014, 2014, 2014, 2014, 2014, 2014, 2014, 2014, 2014, 2014, 2014, 2014, 2014, 2014, 2014, 2014, 2014, 2014, 2014, 2014, 2014, 2014, 2014, 2014, 2014, 2014, 2014, 2014, 2014, 2014, 2014, 2014, 2014, 2014, 2014, 2014, 2015, 2015, 2015, 2015, 2015, 2015, 2015, 2015, 2015, 2015, 2015, 2015, 2015, 2015, 2015, 2015, 2015, 2015, 2015, 2015, 2015, 2015, 2015, 2015, 2015, 2015, 2015, 2015, 2015, 2015, 2015, 2015, 2015, 2015, 2015, 2015, 2015, 2015, 2015, 2015, 2015, 2015, 2015, 2015, 2015, 2015, 2015, 2015, 2015, 2015, 2015, 2015, 2015, 2015, 2015, 2015, 2015, 2015, 2015, 2015, 2015, 2015, 2015, 2015, 2015, 2015, 2015, 2015, 2015, 2015, 2015, 2015, 2015, 2015, 2015, 2015, 2015, 2015, 2015, 2015, 2015, 2015, 2015, 2015, 2015, 2015, 2015, 2015, 2015, 2015, 2015, 2015, 2015, 2015, 2015, 2015, 2015, 2015, 2015, 2015, 2015, 2015, 2015, 2015, 2015, 2015, 2015, 2015, 2015, 2015, 2015, 2015, 2015, 2015, 2015, 2015, 2015, 2015, 2015, 2015, 2015, 2015, 2015, 2015, 2015, 2015, 2015, 2015, 2015, 2015, 2015, 2015, 2015, 2015, 2015, 2015, 2015, 2015, 2015, 2015, 2016, 2016, 2016, 2016, 2016, 2016, 2016, 2016, 2016, 2016, 2016, 2016, 2016, 2016, 2016, 2016, 2016, 2016, 2016, 2016, 2016, 2016, 2016, 2016, 2016, 2016, 2016, 2016, 2016, 2016, 2016, 2016, 2016, 2016, 2016, 2016, 2016, 2016, 2016, 2016, 2016, 2016, 2016, 2016, 2016, 2016, 2016, 2016, 2016, 2016, 2016, 2016, 2016, 2016, 2016, 2016, 2016, 2016, 2016, 2016, 2016, 2016, 2016, 2016, 2016, 2016, 2016, 2016, 2016, 2016, 2016, 2016, 2016, 2016, 2016, 2016, 2016, 2016, 2016, 2016, 2016, 2016, 2016, 2016, 2016, 2016, 2016, 2016, 2016, 2016, 2016, 2016, 2016, 2016, 2016, 2016, 2016, 2016, 2016, 2016, 2016, 2016, 2016, 2016, 2016, 2016, 2016, 2016, 2016, 2016, 2016, 2016, 2016, 2016, 2016, 2016, 2016, 2016, 2016, 2016, 2016, 2016, 2016, 2016, 2016, 2016, 2016, 2016, 2016, 2016, 2016, 2016, 2016, 2016, 2016, 2016, 2016, 2016, 2016, 2016, 2016, 2017, 2017, 2017, 2017, 2017, 2017, 2017, 2017, 2017, 2017, 2017, 2017, 2017, 2017, 2017, 2017, 2017, 2017, 2017, 2017, 2017, 2017, 2017, 2017, 2017, 2017, 2017, 2017, 2017, 2017, 2017, 2017, 2017, 2017, 2017, 2017, 2017, 2017, 2017, 2017, 2017, 2017, 2017, 2017, 2017, 2017, 2017, 2017, 2017, 2017, 2017, 2017, 2017, 2017, 2017, 2017, 2017, 2017, 2017, 2017, 2017, 2017, 2017, 2017, 2017, 2017, 2017, 2017, 2017, 2017, 2017, 2017, 2017, 2017, 2017, 2017, 2017, 2017, 2017, 2017, 2017, 2017, 2017, 2017, 2017, 2017, 2017, 2017, 2017, 2017, 2017, 2017, 2017, 2017, 2017, 2017, 2017, 2017, 2017, 2017, 2017, 2017, 2017, 2018, 2018, 2018, 2018, 2018, 2018, 2018, 2018, 2018, 2018, 2018, 2018, 2018, 2018, 2018, 2018, 2018, 2018, 2018, 2018, 2018, 2018, 2018, 2018, 2018, 2018, 2018, 2018, 2018, 2018, 2018, 2018, 2018, 2018, 2018, 2018, 2018, 2018, 2018, 2018, 2018, 2018, 2018, 2018, 2018, 2018, 2018, 2018, 2018, 2018, 2018, 2018, 2018, 2018, 2018, 2018, 2018, 2018, 2018, 2018, 2018, 2018, 2018, 2018, 2018, 2018, 2018, 2018, 2018, 2018, 2018, 2018, 2018, 2018, 2018, 2018, 2018, 2018, 2018, 2018, 2018, 2018, 2018, 2018, 2018, 2018, 2018, 2018, 2018, 2018, 2018, 2018, 2018, 2018, 2018, 2018], \"xaxis\": \"x\", \"y\": [4.34439761, 4.2220290125, 3.5833010484848486, 9.383865117647058, 2.653861111764706, 1.2556816923076923, 6.87629815942029, 1.9992181333333334, 1.6979803225806451, 1.000313815, 7.79437345, 10.35194475, 24.482054615384616, 1.4760554461538462, 0.5355190761904762, -0.1439652424242424, 1.1314258733333333, 2.10650574, 4.145638086956522, 2.743272275, 1.2357730307692307, 2.1019029263157893, 1.78731369, 2.2715630975609757, 2.629645733333333, 6.207912228571429, 1.0715879285714285, 1.3479039368421053, 4.623053375, 3.1840255384615386, 0.3624145, 2.2575237384615385, 2.44331315, 1.559683625, 2.273994883333333, 58.17067733333333, 0.6112833727272727, 7.58428965, 0.7093647, 0.7444307473684211, 4.529637233333333, 0.9843852125, 3.1234292162162163, 1.7685278727272726, 0.39716717, -0.04910428, 2.0179741555555557, 6.8667814117647055, 10.751126181818181, 2.180859725, 4.68134036, 0.32972215294117646, 1.3460497083333334, 1.7865220263157895, 1.1732054, 1.6597107777777778, 2.423877366666667, 0.27430332, 2.4832547857142857, -0.0247698, 1.286396875, 0.6464122727272728, 3.6339474, 0.2579203188405797, 0.7979186, 2.48584, 0.084844125, 0.3802076, 3.0712494, 1.7382846, 1.1508908285714285, 4.1302874, 8.525090125, 1.205852125, 2.39753615, 1.2418638666666666, 5.8264973, 0.8324375, 5.3354114, 2.345398388888889, 0.7250356285714286, 0.4562775777777778, 0.49487675, 2.5316325, 0.5110786486486486, 1.9708175789473685, 0.02190707692307692, 1.57227515, 1.6241297368421053, 1.43404885, -0.5864318583333333, 0.10177463636363636, -0.43462630588235296, 0.6697449285714285, 2.7096776, 4.000652420306966, 0.3626246875, -0.4429672571428571, 0.8103749047619048, 1.3078372352941177, 0.12400505714285714, 0.49137270833333335, 8.06886725, 1.2831877333333332, 0.7167852631578947, 0.64194725, 0.1945536, 0.0656972962962963, 0.8313080666666667, -0.04858353333333333, 0.41351995, 0.44119094444444446, 0.8223054166666667, 0.5293247142857143, -0.3309012, 0.7703097692307692, 0.3734658, 1.500701625, 0.09364377777777778, 2.3085296428571427, -0.4313988125, 3.7647879591836735, -0.7200732857142857, -0.7725998222222222, 2.3030406, -0.48945212903225804, 1.4318744285714287, -0.12799188888888888, 0.9555245, -0.089913, -0.7972779761904762, -0.7654745531914894, 0.6470693150684932, 0.4375565714285714, -0.0538416, 0.5469007142857143, -0.8152263636363636, -0.25508546666666665, -0.1370105, 0.3622476666666667, -0.6458435, -0.47433013333333335, 0.9234959523809524, -0.17088125, -0.65115616, 0.2410068, -0.06611728571428571, -0.4443545263157895, -0.3503704, 0.5233926666666666, -0.721747923076923, -0.68549064, -0.33572575, 0.8646948913043478, 0.07915066666666666, 0.9740973333333334, 0.8540891089108911, -0.4484611111111111, -0.6935719285714286, -0.9535379166666667, -0.8369522891566266, -0.8357061, -0.81822512, -0.990497, -0.9100470555555555, -0.9374562222222222, -0.908295125, -0.552150375, -0.95631915, -0.6591823333333333, -0.9296988571428572, -0.98610285, -0.9102815789473684, -0.9644081, 2.8728492, -0.9434626, -0.9555296666666667, -0.9757761904761905, -0.9403906896551724, 4.763028425641026, 1.5466728567949342, 4.40721608627451, 3.4322503133333333, 4.041307632, 6.3308038125, 4.124993845454545, 1.800776915, 3.2691344384615384, 3.285307544, 4.416886766666667, 4.064367741935484, 1.9955107866666666, 1.8768765461538461, 1.6469269714285715, 1.22130190625, 3.3636065375, 1.398912190909091, 7.911754553846154, 4.1594549, 0.8201822222222223, 1.0832318454545455, 1.8208324666666666, 0.09767746, 7.52480016, 10.339420894736842, 1.6871869125, 2.0494853714285712, 5.069074314285714, 40.4079688, 4.381610472222222, 0.00026546666666666665, 1.9945649682539683, 1.2402218428571428, 7.77539, 3.7172557714285714, 1.1350690625, 2.5771538222222223, 4.761663666666666, 2.6586755777777777, 2.875279125, 0.7696817176470588, 4.416759133333334, 0.1700478962962963, 1.92390318, 0.9053065443037974, 3.1884540285714285, 4.96912312, 0.7613779294117647, 3.38839059375, 1.94284656, 1.2925265666666668, 7.0160445, 2.403077075, -0.09323027027027027, 1.5285124501992031, 1.37458146, 2.0739399210526317, 7.256578857142857, 1.2260167, 2.631903266666667, 6.618009615384615, 1.52905265, 1.39973975, 1.6255131621621621, 1.596452, 1.278165, 0.19677852, 1.1828200476190476, 1.988191962962963, 1.4173151428571429, 0.2819628676470588, 1.5728890625, 1.4756674, 2.8787052857142856, 0.4025671, 0.7964092470588235, 2.3798228260869565, 0.4614820576923077, 1.17862715, 3.0941774444444445, 1.0483045, 0.007812357142857143, 0.8055090517241379, 1.1781231333333333, 0.80738155, 0.8595461714285715, 2.9445794666666667, -0.06558505714285714, 0.7634807428571428, 0.6715202333333333, 1.619925111111111, 1.3302027, 1.236954705882353, 0.463097, 2.2841066875, -0.24491388, 0.98433845, 4.166841875, -0.7363349466666667, -0.16715668, 4.4512287142857145, 0.56505708, 0.81328725, 2.4240572, 0.54997616, 0.019769291666666668, 0.50818925, -0.17914834, -0.25962345, 0.55974192, 4.3035638, -0.2946421714285714, -0.47756724, 4.1722498, -0.5212281777777777, -0.0313846, 0.895863, 2.532909, 5.009772647058823, 0.9402664444444444, 2.1404370769230767, -0.22156296666666667, -0.9877427611940298, 1.3209891489361703, -0.36370356, -0.42489058181818185, 3.4732521875, 0.8913675, 1.4509447272727272, 0.345397875, -1.0, 0.6658989655172414, -0.8125725853658536, -0.7597124761904762, -0.6012313684210526, -0.2137869, 0.5378975714285714, -0.5031397692307692, 0.0953586, -0.69531375, -0.551601125, -0.8759337333333334, 0.04674021052631579, -0.435798, -0.9791224545454545, -0.8115749, -0.50274125, -0.6876625130890053, -0.504101, -0.8883058333333334, -0.7216823333333333, -0.7294873333333334, 1.2371975, 3.877779825, -0.9452934285714286, -0.75536825, -0.7624268, -0.9608313076923077, -0.47874304, -0.9554791428571429, -0.8301295, -0.9234281333333333, -0.9926839166666667, -0.8875400384615385, 4.552634905, 2.9434149054545453, 3.068014272, 8.26068565263158, 5.0919584214390605, 2.444955759090909, 4.151181179310345, 7.4740422375, 4.174266691666666, 10.12033254, 1.997873145945946, 2.0091607333333332, 3.49948323, 2.21958612, 1.3589514470588235, 7.395720088888889, 3.4530095529411766, 3.027166607594937, 2.11979256, 1.1165579448275862, 1.0351338866666666, 0.4248987136363636, 0.028284, 1.24284736, 3.2053274, 0.5880177866666667, 2.7022712153846156, 10.257735857142857, 3.73598422, 4.104286674157303, 2.6228456, 1.4534372, 3.8288673571428573, 5.587272, 1.0425115529411764, 3.23976515, 1.7715214923076923, 4.6822135, 23.364250428571427, 4.179304451612904, 1.2911418571428572, 1.4149931846153847, 27.5635984, 4.0167360606060605, 12.463978, 1.564046380952381, 1.6178483333333333, 0.28110935294117645, 7.597059866666667, 1.4753382727272728, 3.83329532, 1.0368848888888889, 5.826138058823529, 3.4361765, 0.8019943666666667, 0.10429206315789474, 7.585682333333334, 2.86535332, 2.9362742, 8.447813666666667, 1.577748057142857, 4.9232188571428575, 1.3592804266666667, 1.080789435897436, 5.874752916666667, 28.242602333333334, 2.24996704, 2.510440681818182, 2.457023953488372, 0.7437918571428571, 0.44907402040816324, 0.22054627272727273, 3.303027875, 2.34754435, 1.3563322666666666, -0.12811525714285715, 0.010178, 0.381228975, 0.8017416333333334, 1.0541273, 1.0920648846153846, 1.7987836, -0.1316293448275862, -0.20301811666666666, 2.8391070666666667, 0.18146285714285715, 5.391881449275362, 0.03236685, 1.6158962, -0.13816140476190475, -0.07849764444444444, 1.5413697857142856, 1.98589275, 0.012193114285714285, 0.12051448, 1.5437925384615385, 0.5815086956521739, 1.7250365833333334, 0.69715245, 0.13301505454545454, -0.1030514, 0.17699234615384615, 0.35059776, -0.368283, -0.48023785, -0.2566174153846154, 1.5555204494382022, 2.792478762886598, 0.46793253333333334, 1.4470915555555555, 0.2680603, 1.7282846666666667, -0.9428571428571428, -0.211408, 3.192467, -0.20238464285714286, 0.1766959, -0.3742775882352941, 0.6844958333333333, -0.62746792, 0.4078253333333333, -0.1109906, -0.58495895, 0.13853373333333333, -0.6976051052631579, -0.5291873, -0.534089, 0.9737424, -0.36884065217391304, 6.989561739130435, 0.49166775, -0.67778696, -0.91197704, -0.7820377, -0.558567, -0.8999711666666667, 0.0576065, 1.6221005357142857, -0.9751867, 7.483132733333333, 5.07696136, 11.831800460526315, 2.84146742, 5.652831130769231, 2.717941645, 5.306351572727273, 1.9688867466666666, 3.297350106666667, 3.2449512962962963, 1.7974455263157896, 1.451795255, 1.4599030736842105, 2.6213639304347827, 1.1631731894736843, 2.89870414, 1.6838621785714285, 3.570256, 2.1686138454545456, 14.90000705, 2.3070565, 1.399305275, 1.3849340916666666, 1.125159837037037, 2.517854474358974, 6.23827772972973, 1.62794441, -0.05453776363636364, 5.44695735, 2.0877976, 0.9346128076923077, 4.342506372093023, 3.0117851636363637, 0.36960258, 1.2317728222222222, 0.013782579487179487, 1.0644086043956045, 8.05126715, 4.900849933333333, 4.0103308, 2.44371508, 1.4696989714285715, 31.384303, 2.7451158, 9.726867933333333, -0.13304677142857144, 0.6846113690476191, 8.873037733333334, 0.48194235714285716, 3.0326488214285714, 1.1720166393442624, 0.542110525, 2.95434740625, 0.16348439090909092, 1.4652674347826087, 2.2846435714285716, 2.8373869333333332, 1.0070376727272727, 0.73501505, 7.246949333333333, 1.4937831052631578, 2.358962535714286, 4.717386722222222, 0.26609278333333336, 0.6150476551724138, 29.422193666666665, -0.5115158333333333, 6.4424315, -0.39171786153846155, 3.004563736842105, 0.85391525, 1.0295524, 3.2844535294117647, 1.84037336, 4.4548028125, 5.8541786, 1.0170893333333333, 1.2546396071428572, 22.9690232, 4.107175909090909, 11.122369, 1.10173416, 2.2062213636363635, 0.6110252333333334, 2.245828153846154, 1.38330065, 0.4900298769230769, 0.38695394285714285, 1.37542525, 0.7451815, 1.3497891818181817, 2.8605156, 1.4112508333333333, 2.1340966, 1.9948406363636364, 2.1556959, 2.1164747, 11.930902, 5.2298502, 6.503378, 1.0634466666666667, -0.14398096875, -0.1459885142857143, 0.39321473333333334, 6.9154602857142855, 2.202681125, 0.41212825, 4.370762, 1.692451294117647, 1.2661155555555557, -0.014855857142857143, -0.34666753333333333, 0.44105123076923075, -0.16383115, -0.2984375, 5.36217675, -0.08634955, -0.591480825, 0.22197811764705883, 0.0029094166666666665, 6.7506433333333336, -0.06363333333333333, -0.5891278363636364, -0.7633010769230769, -0.47225922, -0.4953941111111111, -0.5837065714285714, 1.7667804, 0.7778591111111111, -0.7456277142857143, 2.754256333333333, 5.123791084337349, -0.9995214193548387, -0.5341606153846153, -0.7237387142857142, -0.7849982, -0.9647512666666667, 4.2573289333333335, 2.782310484, 3.5345148, 3.2140929722222222, 5.132601048, 2.739313875, 3.2023640529411765, 3.1802621529411765, 2.54498168, 3.038662878787879, 2.952289866666667, 3.238526, 8.436661586206897, 2.7911253153846154, 6.628823133333333, 10.4376944, 1.779867659090909, 1.0816924494382023, 5.042085065573771, 1.7854852047244094, 1.7140851153846153, 9.244701794117647, 2.0070913727272726, 5.62667752, 24.597236166666665, 2.247234882352941, 0.860734, 14.052468222222222, 0.9165322357142857, 38.517372307692305, 14.182697533333334, 3.4476611, 2.1463103285714284, 1.09461378, 2.7921067793594307, 1.9419639242424243, 2.507338618181818, 4.289718096774194, 2.9138398, 1.5158126769230769, 2.00858742, 1.2671821142857143, 5.149352, 1.1896235333333334, 1.8442386888888889, 2.151737725, 7.221846133333333, 3.0843322, 0.3558629125, 11.392764555555555, 0.86577085, 1.648633925, 19.6601264, 0.03039258, 2.6206888214285713, 7.409691583333333, 3.82038275, 17.1809708, 3.285022181818182, 1.5411667, 1.9318872666666667, 1.169463925, 1.201747, 0.52238776, 0.44204183636363636, 6.1232881818181815, 0.14731215384615384, 1.9178305416666668, 1.6221865714285715, 2.224990590909091, 0.6320683, 1.6616082, 2.3388288, 0.8406623529411764, 7.604842, -0.15780972857142858, 0.6062370277777778, 3.2182487692307693, 1.2181638214285715, 0.391425, 10.80879909090909, 2.2441957692307692, 13.31826225, 7.8230992, 1.064816, 5.633619375, 0.54872124, -0.9660756666666667, 0.56871648, 4.921696235294117, 4.163726714285715, 1.4045926666666666, 0.5792083846153846, 0.11132893333333334, 1.3213556666666666, 1.0092608, 0.1938992, 1.7317872, 1.16681175, -0.004443722222222222, 4.30171525, 0.328345, 0.7990732857142857, -0.2116772222222222, 0.5122646031746032, 2.4998484, -0.11074640909090909, -0.2613827, -0.55765625, -0.5259368125, 0.09856083333333333, 4.8839826923076926, -0.4191028333333333, 2.5787763265306123, -0.625852705882353, -0.6814283, 0.331341, -0.4864018125, -0.37081533333333333, -0.7346488571428571, -0.71028075, -0.8145852, -0.8865562, -0.988112, -0.9947248333333333, -0.9973835555555556, -0.7246047102233387, 6.669092390697674, 6.9932778631578945, 3.2438413883847548, 14.680218554054054, 1.9320697433333334, 3.881348525714286, 3.05616741875, 5.067328175925926, 13.274952525, 2.947691125925926, 2.9912188384615384, 4.868753725, 3.1478049, 1.7880702838709677, 3.3038481276595744, 1.4673201333333334, 0.7801121973333334, 5.8261755, 3.2028808243243243, 4.09124855737705, 1.6825080181818182, 8.918119586206897, 3.705256309090909, 1.5261778787878788, 1.7115756, 2.578242276923077, 1.7724217333333334, 2.194325632352941, 0.2154559882352941, 6.22082075, 3.92789275, 0.016662117318435754, 3.691015702702703, 0.398743225, 2.8072314285714284, 3.06245845, 1.3849175161290324, 1.7397469655172413, 0.6352364, 3.0321113428571427, 3.7558125714285713, 0.010173153333333334, 7.528317034482758, 0.14605228421052632, 11.0453155, 1.662786325, 0.3993277866666667, 1.8329117368421053, 2.5343553333333335, 2.300209677419355, 1.1428991020408164, 0.68556765, 0.8648655094339622, 18.7355632, 3.604423, -0.10306691, 2.138548533333333, 8.0384306, 6.120873666666666, 1.8131249666666667, 1.3480800857142856, 2.4857215652173914, 6.7959374, 0.3630337090909091, 2.168113409090909, 0.33923288, 23.658413, 1.2994845333333334, 0.8765567058823529, 4.643285545454545, 4.326037, 3.1192262, 0.7569172571428572, 2.348787, 7.5689032, 4.4104225, 12.3504845, 1.09709384, 0.30490034285714285, 0.5479512666666667, -0.4933977666666667, 1.688701411764706, 7.3399224, 4.1210157647058825, -0.05975052, 0.697018, 1.3459716666666666, 6.053417166666667, 1.2870018333333333, 2.6308068644067797, 6.671862, 0.3802100888888889, 3.63991975, 1.9506455384615384, 0.8386755, 1.7894448461538461, 0.1859669, -0.221890825, 1.7424530833333334, 0.2948968846153846, 0.08196528571428571, -0.3138624054054054, 0.1360286, -0.535144325, 1.4412245555555556, -0.7190713714285715, 1.598690142857143, 0.7503828, 0.03699033333333333, 1.4317792142857142, -0.6224556857142857, 5.2195352173913045, 0.10797715384615385, -0.08381114285714286, -0.83991558, -0.1534155, -0.68988156, 0.1582725, 8.367565153846154, -0.331583375, -0.11153505, -0.286729, -0.4539011666666667, -0.769548294117647, -0.8136127, -0.7742564666666667, 0.8462748461538462, -0.5262126, -0.3353331, 0.14839876923076922, -0.7425446666666666, -0.7525388571428572, -0.7716088888888889, -0.85091625, -0.80064025, -1.0, -0.8386873333333333, -0.9271518333333333, -0.9838903, -0.999862, 3.560277652, 4.24551428, 4.106075965, 5.79619744, 10.823340453333333, 2.470001124, 3.457793627777778, 12.810786086206896, 3.2631993542857143, 3.099421612121212, 3.2501157666666667, 7.459397186666667, 2.047963741573034, 2.6971367285714285, 20.31755815, 1.65951425625, 2.4680693, 2.830063638095238, 1.3282995393939394, 0.9383445833333334, 3.826409410958904, 1.753201072, 0.8151472054054054, 2.648055633333333, 30.01627557894737, 0.628988894117647, 0.8172472148148148, 2.9754092666666665, 8.27086864, 1.9269248933333334, 3.3438961, 9.4132599, 2.25323475, 3.321870085106383, 8.0499358, 1.6193347285714286, 0.4260477142857143, 0.5638410636363637, 3.22261705, 1.6657748166666666, 2.824052075, -0.008308885714285714, 28.761302, 6.439171315789474, 11.464226666666667, 1.743471, 2.1206829, -0.2140780512820513, 0.12515717924528302, 8.135649384615384, 10.8514727, 2.0901356842105265, 1.0294066444444445, 1.7028048648648648, 20.6572844, 1.9299052105263157, 2.1073606, 0.3165021806451613, 8.137256434782609, 2.461707222222222, 4.116475444444444, 1.3696970277777778, 5.6354346363636365, 0.72469006, 2.5326142, 8.092429555555556, 8.145160823529412, 1.7121450689655173, 1.2999424242424242, 4.6768258461538466, 0.40996585454545453, 0.3882274, 1.678453375, 1.9163945454545455, 0.19193494, 0.10697386, 1.7202101, -0.2963891285714286, 0.320949725, 0.9310461724137931, 0.07940767441860465, 0.9591513043478261, 1.31278815, 2.8985577, 1.499618, 10.558434285714286, 2.1320253333333334, 3.074923, -0.29238164, 2.0768449, 0.43994137777777775, 0.1140866, -0.17941514285714286, -0.53525496, 1.7425050588235294, 0.2971896, -0.27569294285714285, -0.6650087384615384, 3.422615, 0.3792094, 1.1217781111111111, 1.7232924615384615, -0.2087813, 0.6964255555555555, -0.405775, -0.5638293894736842, 1.5810214, 3.0653902222222222, 0.1360665, 0.43311822222222224, 0.2382122, 1.72457325, 1.03641, -0.3296346, -0.5711316666666667, -0.08765175, -0.5646608928571428, 0.8742072, -0.543692, -0.5733194444444445, -0.5726304117647059, 8.5382132, -0.587254625, -0.74840125, 0.727169375, -0.6615425714285714, 0.9457036666666667, -0.073606, -0.4562874, -0.2384994, 1.4816813333333334, -0.7664159333333334, 1.1455072, 1.0203039495798318, -0.2537857142857143, -0.8491462, -0.5253596, 2.8737426771653545, -0.14396033333333333, 1.172836625, 0.22927415, 3.939385068, 12.79637, 9.716624366666666, 4.029522, 3.311581165, 3.7054445777777776, 4.47422252, 3.5600462914285713, 2.4271353782608696, 18.927370542857144, 1.18648403, 1.7783103225806451, 2.0328219405405403, 3.087030096, 2.33224912, 2.2210017565789473, 3.6031613095238093, 2.930804769230769, 1.1916649657142857, 5.934518036363636, 1.2299123466666666, 6.85252975, 2.883250225, 19.358991, 14.2302356, 1.6112426126126127, 54.7929612, 0.40193193513513514, 50.0735902, 7.783430466666666, 1.4589819278350515, 5.708946617647059, 0.19499086666666668, 1.20796009, 3.33124624, 2.292976433333333, 9.040553538461538, 3.1274758222222223, 2.5949776, 1.93106305, 3.283750225, 12.34932625, 4.026905733333333, -0.2021123657142857, 3.0223817142857143, 4.0316554642857145, 1.71138424, 3.5610910714285713, 2.3309966842105263, 24.002052, 0.7533885857142857, 0.89102545, 9.2445196, 2.2781807666666665, 2.31669132, 1.3202634857142856, 6.8610769, 0.0842879365079365, 2.251006952380952, 0.435959725, -0.506857616, 2.1379005, 5.2556228, 5.1603136, 0.37743278571428573, 9.794572, -0.19907395588235294, 3.8906735454545456, 0.5263541724137931, 1.34221785, 0.21948566666666666, 0.41770253333333335, 0.23503274285714285, 4.280665142857143, 1.3384034444444444, 0.61145664, 0.6186171363636364, -0.220189375, 1.8717667, 1.4891249333333334, -0.07238832, 3.214557702702703, -0.3538111315789474, -0.15846236, 0.6268794666666667, 2.9440406, -0.4292725666666667, -0.45061983333333333, 0.9564454166666667, -0.41059036363636364, -0.26218484, 2.7891364, -0.5975252, -0.7071082666666667, -0.72828928, -0.6928903636363636, -0.0759202, -0.8127843150684931, 0.4984206666666667, 0.14250858585858586, -0.6206261, -0.2417804, -0.9814005142857143, 5.827114, 5.74129112, 6.681016464705882, 5.212603555, 6.1680915, 15.272460763636364, 6.151641427272727, 2.26110043, 3.7934204615384615, 2.86193424, 1.9748916573033708, 1.9959068285714285, 7.108922492307692, 3.560741068627451, 0.4296412618181818, 5.751829436363637, 5.94272954, 1.6271424461538462, 18.677782, 13.001497347826087, 1.432924272, 0.8769686967741935, 3.358664524590164, 2.0386389, 6.936657033333334, 1.6711409625, 3.27183044, 1.4734172987012988, 0.281368690744921, 2.41715352, 15.7885588, 1.1152443623188406, 9.509023461538462, 0.29516390291262135, 2.15829375, 1.4945039166666667, 1.549635775, 2.1723806486486485, 0.7533970833333333, 0.9534288823529412, 3.88143585, 5.274261933333333, 26.179241142857144, 1.86105615625, 3.4783489523809523, 1.6654708, 5.201155666666667, 0.48351950847457625, -0.14712583, 1.6710463666666666, 6.0133905, 1.7509352142857142, 0.18138618333333334, 0.8466522, 1.168148457142857, 3.0311371974522294, 8.1113683, 1.0319536571428571, 5.5520633, 0.8941463142857143, 1.1919970333333334, 0.6542054571428572, 0.8698733333333334, -0.0942822, 1.07203032, 4.1620593, 4.1723644, 1.5848422777777778, 0.86938932, 6.130897833333333, 0.12827729411764707, 0.90366885, 0.5246810869565217, -0.08736315625, -0.13506723333333334, 11.67944, 4.1058996, -0.2763487, 0.2952238125, 0.6549305833333333, 2.2944056363636363, 4.517761666666667, -0.6541301052631578, -0.7138906222222222, -0.1494134, -0.6634393, 0.1752387, -0.64826925, -0.2259079, -0.5909893333333334, -0.39109, -0.25899146153846153, -0.9783800333333333, -0.7620573333333334, -0.693121625, -0.5656104], \"yaxis\": \"y\"}, {\"alignmentgroup\": \"True\", \"bingroup\": \"x\", \"histfunc\": \"avg\", \"hovertemplate\": \"budget_type=low<br>year=%{x}<br>avg of profitRatio=%{y}<extra></extra>\", \"legendgroup\": \"low\", \"marker\": {\"color\": \"#EF553B\"}, \"name\": \"low\", \"offsetgroup\": \"low\", \"orientation\": \"v\", \"showlegend\": true, \"type\": \"histogram\", \"x\": [2010, 2010, 2010, 2010, 2010, 2010, 2010, 2010, 2010, 2010, 2010, 2010, 2010, 2011, 2011, 2011, 2011, 2011, 2011, 2011, 2011, 2011, 2011, 2011, 2011, 2012, 2012, 2012, 2012, 2012, 2012, 2012, 2012, 2012, 2012, 2012, 2012, 2012, 2012, 2013, 2013, 2013, 2013, 2013, 2013, 2013, 2013, 2014, 2014, 2014, 2014, 2014, 2014, 2014, 2014, 2014, 2014, 2014, 2015, 2015, 2015, 2015, 2015, 2015, 2015, 2016, 2016, 2016, 2016, 2017, 2017, 2017, 2017, 2017, 2017, 2017, 2017, 2018, 2018], \"xaxis\": \"x\", \"y\": [37.98105555555556, 9.701225064774986, 7.0657755, 15.56624, 2.8996285, 3.097488947368421, 10.27946, 6.649736, 1.721096, 0.07009266666666666, -0.2694451428571429, 7.48298, -0.9486775, 65.58059066666667, 16.592942, 13.9136, 4.438911, 11.01588, -0.065036, 1.4115457894736843, -0.5318372222222222, -0.5645927777777778, 0.239174, 0.06553111111111111, 0.361828, 100.75949, 41.411721, 11.925073333333334, 7.30538, 10.495204, 4.896424, 3.5091535714285715, 24.754941666666667, 0.6306917647058824, 2.181096296296296, 2.0766666666666667, -0.4222425, 0.3487133333333333, -0.9914695, -1.0, -1.0, 25.887177, 18.499605555555554, 4.892466, 1.614028, 4.335386315789473, -0.7505, 2.7411935, 4.797192, 3.3230168, 6.195, 2.32407, 0.044195, -0.88887, 0.156309, -0.147601, -0.457449375, -0.898947, 63.364198, 10.6253775, 4.0767075, 11.93142, 0.1399795, 2.9661314285714284, 2.164258, 7.593717, 13.662703, -0.645164, -0.9867616666666666, 8.617402, 1.970997, 4.647662, 26.69782, -0.6100357894736842, -0.882492, 0.47109, -0.9604, 15.434588, 8.496620666666667], \"yaxis\": \"y\"}],                        {\"bargap\": 0.2, \"bargroupgap\": 0.1, \"barmode\": \"group\", \"height\": 400, \"legend\": {\"title\": {\"text\": \"budget_type\"}, \"tracegroupgap\": 0}, \"margin\": {\"t\": 60}, \"template\": {\"data\": {\"bar\": [{\"error_x\": {\"color\": \"#2a3f5f\"}, \"error_y\": {\"color\": \"#2a3f5f\"}, \"marker\": {\"line\": {\"color\": \"#E5ECF6\", \"width\": 0.5}}, \"type\": \"bar\"}], \"barpolar\": [{\"marker\": {\"line\": {\"color\": \"#E5ECF6\", \"width\": 0.5}}, \"type\": \"barpolar\"}], \"carpet\": [{\"aaxis\": {\"endlinecolor\": \"#2a3f5f\", \"gridcolor\": \"white\", \"linecolor\": \"white\", \"minorgridcolor\": \"white\", \"startlinecolor\": \"#2a3f5f\"}, \"baxis\": {\"endlinecolor\": \"#2a3f5f\", \"gridcolor\": \"white\", \"linecolor\": \"white\", \"minorgridcolor\": \"white\", \"startlinecolor\": \"#2a3f5f\"}, \"type\": \"carpet\"}], \"choropleth\": [{\"colorbar\": {\"outlinewidth\": 0, \"ticks\": \"\"}, \"type\": \"choropleth\"}], \"contour\": [{\"colorbar\": {\"outlinewidth\": 0, \"ticks\": \"\"}, \"colorscale\": [[0.0, \"#0d0887\"], [0.1111111111111111, \"#46039f\"], [0.2222222222222222, \"#7201a8\"], [0.3333333333333333, \"#9c179e\"], [0.4444444444444444, \"#bd3786\"], [0.5555555555555556, \"#d8576b\"], [0.6666666666666666, \"#ed7953\"], [0.7777777777777778, \"#fb9f3a\"], [0.8888888888888888, \"#fdca26\"], [1.0, \"#f0f921\"]], \"type\": \"contour\"}], \"contourcarpet\": [{\"colorbar\": {\"outlinewidth\": 0, \"ticks\": \"\"}, \"type\": \"contourcarpet\"}], \"heatmap\": [{\"colorbar\": {\"outlinewidth\": 0, \"ticks\": \"\"}, \"colorscale\": [[0.0, \"#0d0887\"], [0.1111111111111111, \"#46039f\"], [0.2222222222222222, \"#7201a8\"], [0.3333333333333333, \"#9c179e\"], [0.4444444444444444, \"#bd3786\"], [0.5555555555555556, \"#d8576b\"], [0.6666666666666666, \"#ed7953\"], [0.7777777777777778, \"#fb9f3a\"], [0.8888888888888888, \"#fdca26\"], [1.0, \"#f0f921\"]], \"type\": \"heatmap\"}], \"heatmapgl\": [{\"colorbar\": {\"outlinewidth\": 0, \"ticks\": \"\"}, \"colorscale\": [[0.0, \"#0d0887\"], [0.1111111111111111, \"#46039f\"], [0.2222222222222222, \"#7201a8\"], [0.3333333333333333, \"#9c179e\"], [0.4444444444444444, \"#bd3786\"], [0.5555555555555556, \"#d8576b\"], [0.6666666666666666, \"#ed7953\"], [0.7777777777777778, \"#fb9f3a\"], [0.8888888888888888, \"#fdca26\"], [1.0, \"#f0f921\"]], \"type\": \"heatmapgl\"}], \"histogram\": [{\"marker\": {\"colorbar\": {\"outlinewidth\": 0, \"ticks\": \"\"}}, \"type\": \"histogram\"}], \"histogram2d\": [{\"colorbar\": {\"outlinewidth\": 0, \"ticks\": \"\"}, \"colorscale\": [[0.0, \"#0d0887\"], [0.1111111111111111, \"#46039f\"], [0.2222222222222222, \"#7201a8\"], [0.3333333333333333, \"#9c179e\"], [0.4444444444444444, \"#bd3786\"], [0.5555555555555556, \"#d8576b\"], [0.6666666666666666, \"#ed7953\"], [0.7777777777777778, \"#fb9f3a\"], [0.8888888888888888, \"#fdca26\"], [1.0, \"#f0f921\"]], \"type\": \"histogram2d\"}], \"histogram2dcontour\": [{\"colorbar\": {\"outlinewidth\": 0, \"ticks\": \"\"}, \"colorscale\": [[0.0, \"#0d0887\"], [0.1111111111111111, \"#46039f\"], [0.2222222222222222, \"#7201a8\"], [0.3333333333333333, \"#9c179e\"], [0.4444444444444444, \"#bd3786\"], [0.5555555555555556, \"#d8576b\"], [0.6666666666666666, \"#ed7953\"], [0.7777777777777778, \"#fb9f3a\"], [0.8888888888888888, \"#fdca26\"], [1.0, \"#f0f921\"]], \"type\": \"histogram2dcontour\"}], \"mesh3d\": [{\"colorbar\": {\"outlinewidth\": 0, \"ticks\": \"\"}, \"type\": \"mesh3d\"}], \"parcoords\": [{\"line\": {\"colorbar\": {\"outlinewidth\": 0, \"ticks\": \"\"}}, \"type\": \"parcoords\"}], \"pie\": [{\"automargin\": true, \"type\": \"pie\"}], \"scatter\": [{\"marker\": {\"colorbar\": {\"outlinewidth\": 0, \"ticks\": \"\"}}, \"type\": \"scatter\"}], \"scatter3d\": [{\"line\": {\"colorbar\": {\"outlinewidth\": 0, \"ticks\": \"\"}}, \"marker\": {\"colorbar\": {\"outlinewidth\": 0, \"ticks\": \"\"}}, \"type\": \"scatter3d\"}], \"scattercarpet\": [{\"marker\": {\"colorbar\": {\"outlinewidth\": 0, \"ticks\": \"\"}}, \"type\": \"scattercarpet\"}], \"scattergeo\": [{\"marker\": {\"colorbar\": {\"outlinewidth\": 0, \"ticks\": \"\"}}, \"type\": \"scattergeo\"}], \"scattergl\": [{\"marker\": {\"colorbar\": {\"outlinewidth\": 0, \"ticks\": \"\"}}, \"type\": \"scattergl\"}], \"scattermapbox\": [{\"marker\": {\"colorbar\": {\"outlinewidth\": 0, \"ticks\": \"\"}}, \"type\": \"scattermapbox\"}], \"scatterpolar\": [{\"marker\": {\"colorbar\": {\"outlinewidth\": 0, \"ticks\": \"\"}}, \"type\": \"scatterpolar\"}], \"scatterpolargl\": [{\"marker\": {\"colorbar\": {\"outlinewidth\": 0, \"ticks\": \"\"}}, \"type\": \"scatterpolargl\"}], \"scatterternary\": [{\"marker\": {\"colorbar\": {\"outlinewidth\": 0, \"ticks\": \"\"}}, \"type\": \"scatterternary\"}], \"surface\": [{\"colorbar\": {\"outlinewidth\": 0, \"ticks\": \"\"}, \"colorscale\": [[0.0, \"#0d0887\"], [0.1111111111111111, \"#46039f\"], [0.2222222222222222, \"#7201a8\"], [0.3333333333333333, \"#9c179e\"], [0.4444444444444444, \"#bd3786\"], [0.5555555555555556, \"#d8576b\"], [0.6666666666666666, \"#ed7953\"], [0.7777777777777778, \"#fb9f3a\"], [0.8888888888888888, \"#fdca26\"], [1.0, \"#f0f921\"]], \"type\": \"surface\"}], \"table\": [{\"cells\": {\"fill\": {\"color\": \"#EBF0F8\"}, \"line\": {\"color\": \"white\"}}, \"header\": {\"fill\": {\"color\": \"#C8D4E3\"}, \"line\": {\"color\": \"white\"}}, \"type\": \"table\"}]}, \"layout\": {\"annotationdefaults\": {\"arrowcolor\": \"#2a3f5f\", \"arrowhead\": 0, \"arrowwidth\": 1}, \"coloraxis\": {\"colorbar\": {\"outlinewidth\": 0, \"ticks\": \"\"}}, \"colorscale\": {\"diverging\": [[0, \"#8e0152\"], [0.1, \"#c51b7d\"], [0.2, \"#de77ae\"], [0.3, \"#f1b6da\"], [0.4, \"#fde0ef\"], [0.5, \"#f7f7f7\"], [0.6, \"#e6f5d0\"], [0.7, \"#b8e186\"], [0.8, \"#7fbc41\"], [0.9, \"#4d9221\"], [1, \"#276419\"]], \"sequential\": [[0.0, \"#0d0887\"], [0.1111111111111111, \"#46039f\"], [0.2222222222222222, \"#7201a8\"], [0.3333333333333333, \"#9c179e\"], [0.4444444444444444, \"#bd3786\"], [0.5555555555555556, \"#d8576b\"], [0.6666666666666666, \"#ed7953\"], [0.7777777777777778, \"#fb9f3a\"], [0.8888888888888888, \"#fdca26\"], [1.0, \"#f0f921\"]], \"sequentialminus\": [[0.0, \"#0d0887\"], [0.1111111111111111, \"#46039f\"], [0.2222222222222222, \"#7201a8\"], [0.3333333333333333, \"#9c179e\"], [0.4444444444444444, \"#bd3786\"], [0.5555555555555556, \"#d8576b\"], [0.6666666666666666, \"#ed7953\"], [0.7777777777777778, \"#fb9f3a\"], [0.8888888888888888, \"#fdca26\"], [1.0, \"#f0f921\"]]}, \"colorway\": [\"#636efa\", \"#EF553B\", \"#00cc96\", \"#ab63fa\", \"#FFA15A\", \"#19d3f3\", \"#FF6692\", \"#B6E880\", \"#FF97FF\", \"#FECB52\"], \"font\": {\"color\": \"#2a3f5f\"}, \"geo\": {\"bgcolor\": \"white\", \"lakecolor\": \"white\", \"landcolor\": \"#E5ECF6\", \"showlakes\": true, \"showland\": true, \"subunitcolor\": \"white\"}, \"hoverlabel\": {\"align\": \"left\"}, \"hovermode\": \"closest\", \"mapbox\": {\"style\": \"light\"}, \"paper_bgcolor\": \"white\", \"plot_bgcolor\": \"#E5ECF6\", \"polar\": {\"angularaxis\": {\"gridcolor\": \"white\", \"linecolor\": \"white\", \"ticks\": \"\"}, \"bgcolor\": \"#E5ECF6\", \"radialaxis\": {\"gridcolor\": \"white\", \"linecolor\": \"white\", \"ticks\": \"\"}}, \"scene\": {\"xaxis\": {\"backgroundcolor\": \"#E5ECF6\", \"gridcolor\": \"white\", \"gridwidth\": 2, \"linecolor\": \"white\", \"showbackground\": true, \"ticks\": \"\", \"zerolinecolor\": \"white\"}, \"yaxis\": {\"backgroundcolor\": \"#E5ECF6\", \"gridcolor\": \"white\", \"gridwidth\": 2, \"linecolor\": \"white\", \"showbackground\": true, \"ticks\": \"\", \"zerolinecolor\": \"white\"}, \"zaxis\": {\"backgroundcolor\": \"#E5ECF6\", \"gridcolor\": \"white\", \"gridwidth\": 2, \"linecolor\": \"white\", \"showbackground\": true, \"ticks\": \"\", \"zerolinecolor\": \"white\"}}, \"shapedefaults\": {\"line\": {\"color\": \"#2a3f5f\"}}, \"ternary\": {\"aaxis\": {\"gridcolor\": \"white\", \"linecolor\": \"white\", \"ticks\": \"\"}, \"baxis\": {\"gridcolor\": \"white\", \"linecolor\": \"white\", \"ticks\": \"\"}, \"bgcolor\": \"#E5ECF6\", \"caxis\": {\"gridcolor\": \"white\", \"linecolor\": \"white\", \"ticks\": \"\"}}, \"title\": {\"x\": 0.05}, \"xaxis\": {\"automargin\": true, \"gridcolor\": \"white\", \"linecolor\": \"white\", \"ticks\": \"\", \"title\": {\"standoff\": 15}, \"zerolinecolor\": \"white\", \"zerolinewidth\": 2}, \"yaxis\": {\"automargin\": true, \"gridcolor\": \"white\", \"linecolor\": \"white\", \"ticks\": \"\", \"title\": {\"standoff\": 15}, \"zerolinecolor\": \"white\", \"zerolinewidth\": 2}}}, \"title\": {\"text\": \"Budget Type vs. Profit Ratio\"}, \"xaxis\": {\"anchor\": \"y\", \"domain\": [0.0, 1.0], \"title\": {\"text\": \"Year\"}}, \"yaxis\": {\"anchor\": \"x\", \"domain\": [0.0, 1.0], \"title\": {\"text\": \"Average Profit Ratio\"}}},                        {\"responsive\": true}                    ).then(function(){\n",
       "                            \n",
       "var gd = document.getElementById('cd5a6da0-6465-48b6-8a3d-d0d771babbe6');\n",
       "var x = new MutationObserver(function (mutations, observer) {{\n",
       "        var display = window.getComputedStyle(gd).display;\n",
       "        if (!display || display === 'none') {{\n",
       "            console.log([gd, 'removed!']);\n",
       "            Plotly.purge(gd);\n",
       "            observer.disconnect();\n",
       "        }}\n",
       "}});\n",
       "\n",
       "// Listen for the removal of the full notebook cells\n",
       "var notebookContainer = gd.closest('#notebook-container');\n",
       "if (notebookContainer) {{\n",
       "    x.observe(notebookContainer, {childList: true});\n",
       "}}\n",
       "\n",
       "// Listen for the clearing of the current output cell\n",
       "var outputEl = gd.closest('.output');\n",
       "if (outputEl) {{\n",
       "    x.observe(outputEl, {childList: true});\n",
       "}}\n",
       "\n",
       "                        })                };                });            </script>        </div>"
      ]
     },
     "metadata": {},
     "output_type": "display_data"
    }
   ],
   "source": [
    "fig = px.histogram(grossJoinBudget, x=\"year\", y=\"profitRatio\",\n",
    "            barmode='group', color = 'budget_type', histfunc='avg',\n",
    "             height=400)\n",
    "\n",
    "fig.update_layout(\n",
    "    title_text=\"Budget Type vs. Profit Ratio\", # title of plot\n",
    "    xaxis_title_text= 'Year', # xaxis label\n",
    "    yaxis_title_text='Average Profit Ratio', # yaxis label\n",
    "    bargap=0.2, # gap between bars of adjacent location coordinates\n",
    "    bargroupgap=0.1 # gap between bars of the same location coordinates\n",
    ")\n",
    "\n",
    "\n",
    "\n",
    "fig.show()"
   ]
  },
  {
   "cell_type": "markdown",
   "metadata": {},
   "source": [
    "From this bar chart, we can see that Low budget films tend to have a higher profit ration. We should look further into this data to see if there is a satisitcal significants to lower budget movies producing higher Profit Ratios. "
   ]
  },
  {
   "cell_type": "markdown",
   "metadata": {},
   "source": [
    "#### Hypothesis test for budget vs profit ratios  \n",
    "\n",
    "We will conduct a one-tailed two sample t-test with a 5% level of significance to conclude whether low budget movies yield higher product ratios on average than high budget movies.\n",
    "\n",
    "    Null: There is no difference in profit ratios between high and low budget movies.\n",
    "    Alternative: Low budget movies yield higher product ratios on average than high budget movies."
   ]
  },
  {
   "cell_type": "code",
   "execution_count": 101,
   "metadata": {},
   "outputs": [
    {
     "data": {
      "image/png": "[encoded data removed]",
      "text/plain": [
       "<Figure size 432x288 with 1 Axes>"
      ]
     },
     "metadata": {
      "needs_background": "light"
     },
     "output_type": "display_data"
    }
   ],
   "source": [
    "#Breaking the profit into high budget and low budget\n",
    "HighProfitRatioSample = grossJoinBudget.loc[(grossJoinBudget['budget_type'] == 'high')]['profitRatio']\n",
    "LowProfitRatioSample = grossJoinBudget.loc[(grossJoinBudget['budget_type'] == 'low')]['profitRatio']\n",
    "\n",
    "#drops all the null values\n",
    "HighProfitRatioSample =HighProfitRatioSample.dropna()\n",
    "LowProfitRatioSample =LowProfitRatioSample.dropna()\n",
    "\n",
    "#demonstrates the distrubtion of the data set.\n",
    "plt.boxplot([HighProfitRatioSample, LowProfitRatioSample]);"
   ]
  },
  {
   "cell_type": "markdown",
   "metadata": {},
   "source": [
    "This box and whiskey plot deminstrates the distubution of values in the high budget and the low budget. From this plot we can not see much if a diffence between the two. Lets see if a 1 tail 2 sample t-test will give us any more insight."
   ]
  },
  {
   "cell_type": "code",
   "execution_count": 102,
   "metadata": {},
   "outputs": [
    {
     "data": {
      "text/plain": [
       "0.001060586812345834"
      ]
     },
     "execution_count": 102,
     "metadata": {},
     "output_type": "execute_result"
    }
   ],
   "source": [
    "#1-tail 2-sample t-test\n",
    "stat, pval = st.ttest_ind(LowProfitRatioSample,HighProfitRatioSample,equal_var = False)\n",
    "pval/2"
   ]
  },
  {
   "cell_type": "markdown",
   "metadata": {},
   "source": [
    "**Conclusion:** \n",
    "\n",
    "From our hypothesis testing we can reject the Null hypothesis. This means that low budget movies have a better profit margin than higher budget movies. This could save a movie studio money becuase they will make better profit margins.\n",
    "\n",
    "**Business Recommendation**\n",
    "\n",
    "Our team would recommend that you product lower budget movies compared to higher budget movies. From our research we have found that even though you will be making less of a gross profit, you will be making a better profit margin. This will allow you to make more money in the long run. It will minizie your expensies while increaseing your profit margins. Saving the company money and putting more money in the bank."
   ]
  },
  {
   "cell_type": "markdown",
   "metadata": {},
   "source": [
    "<a name=\"genre\"></a>\n",
    "## Genre vs. Profit Ratio"
   ]
  },
  {
   "cell_type": "markdown",
   "metadata": {},
   "source": [
    "The movie business might look pretty glamorous and lucrative. We wanted to take a look at how the major genres perform around the world relative to their global average performance to determine which genres are the most profitable.I also think that genre is so important for any studio creating a new movie . If we investigate this data, we can to an extent understand what genre is the best for audience. I wanted to use this dataset to get a deeper understanding of profit ratio between difference genre. I will be performing ANOVA and t-test between the genres and profit ratio."
   ]
  },
  {
   "cell_type": "code",
   "execution_count": null,
   "metadata": {},
   "outputs": [],
   "source": [
    "movie_budgets1 =pd.read_csv('C:/Users/thivnguyen/Git/Flatiron/CapStoneProject/zippedData/tn.movie_budgets.csv.gz')\n",
    "def clean_currency(x):\n",
    "    \"\"\" If the value is a string, then remove currency symbol and delimiters\n",
    "    otherwise, the value is numeric and can be converted\n",
    "    \"\"\"\n",
    "    if isinstance(x, str):\n",
    "        return(x.replace('$', '').replace(',', ''))\n",
    "    return(x)\n",
    "\n",
    "movie_budgets1['production_budget'] = movie_budgets1['production_budget'].apply(clean_currency).astype('float64')\n",
    "movie_budgets1['domestic_gross'] = movie_budgets1['domestic_gross'].apply(clean_currency).astype('float64')\n",
    "movie_budgets1['worldwide_gross'] = movie_budgets1['worldwide_gross'].apply(clean_currency).astype('float64')\n",
    "movie_budgets1[\"release_date\"] = pd.to_datetime(movie_budgets1[\"release_date\"])\n",
    "\n",
    "q1= \"\"\"\n",
    "SELECT * \n",
    "FROM movie_basics\n",
    "INNER JOIN movie_ratings\n",
    "USING(\"movie_id\")\n",
    "INNER JOIN movie_akas\n",
    "USING(\"movie_id\")\n",
    "\"\"\"\n",
    "sql_dataset_merge1 = pd.read_sql(q1,conn)\n",
    "#find and remove duplicate rows across'movie_id', 'title', 'start_year' columns \n",
    "duplicateRows = sql_dataset_merge1[sql_dataset_merge1.duplicated(['movie_id','title', 'start_year'])]\n",
    "data1= sql_dataset_merge1.drop(duplicateRows.index,axis=0)\n",
    "#create new \"release_year\" column for merging 2 datatset\n",
    "movie_budgets1['release_year']= movie_budgets1['release_date'].dt.year\n",
    "##merge 2 dataset by using title and released year\n",
    "merge_data= movie_budgets1.merge(data1, how= 'inner', left_on=['movie','release_year'], right_on= ['title','start_year'])\n",
    "dataset= merge_data[[ 'release_date', 'movie', 'production_budget',\n",
    "       'domestic_gross', 'worldwide_gross',\n",
    "       'start_year',\n",
    "       'runtime_minutes', 'genres']]\n",
    "#drop 7 rows with NA\n",
    "dataset=dataset.dropna()\n",
    "## calulate profit by subtracting gross and budget  by subtracting gross and budget domestic_gross\n",
    "dataset['profit']= dataset['worldwide_gross']- dataset['production_budget']\n",
    "##calulate profit ratio\n",
    "dataset['profit_ratio'] = (dataset['profit'] - dataset['production_budget'])/ dataset['production_budget']\n",
    "\n",
    "\n",
    "## top 5 greatest profit ratio \n",
    "dataset.sort_values(['profit_ratio'], ascending=False).head()\n",
    "\n",
    "##this code check which movies in specific genre\n",
    "#dataset[dataset['genres']. str.contains(\"Drama\")]"
   ]
  },
  {
   "cell_type": "markdown",
   "metadata": {},
   "source": [
    "The dataset contain 1581 movies after 2010. Each movie include 1 main genre or adding 2 sub-genre.After exploring dataset, I found that action movie is the most expensive genre with high budget. It makes sense because action film take longer to shot to build sequence of sence look like put people in danger to draw attention of audience. Therefore, action movie bring low profit ratio. While horror movie is low budget with high profit ratio such as The Gallow(2015), The Devil Inside(2012),...\n",
    "\n",
    "\n",
    "I want to split up the genres column cells so we can tally each genre individually. Next I'll remove the 'genres' column (with multiple values) and replace it with a 'genre' column (with single values). Then I'll make sure that there is a new row for each genre, so there will be multiple rows with the same movie_title.\n"
   ]
  },
  {
   "cell_type": "markdown",
   "metadata": {},
   "source": [
    "I want to split up the genres column cells so we can tally each genre individually. Next I'll remove the 'genres' column (with multiple values) and replace it with a 'genre' column (with single values). Then I'll make sure that there is a new row for each genre, so there will be multiple rows with the same movie_title.\n"
   ]
  },
  {
   "cell_type": "code",
   "execution_count": null,
   "metadata": {},
   "outputs": [],
   "source": [
    "\n",
    "df_split_genre = dataset.copy()\n",
    "# limit data to 2010-present\n",
    "df_split_genre = df_split_genre.loc[df_split_genre['release_date'].dt.year >= 2010]\n",
    "split_genre = df_split_genre['genres'].str.split(',').apply(pd.Series, 1).stack().reset_index(level=1, drop=True)\n",
    "split_genre.name = 'genre_split'\n",
    "df_split_genre = df_split_genre.drop(['genres'], axis=1).join(split_genre)\n",
    "##remove outlier with only 1 movie genre which is News\n",
    "df_split_genre= df_split_genre[df_split_genre['genre_split']. str.contains(\"News\")== False]\n",
    "##differrence genre in the dataset\n",
    "#df_split_genre['genre_split'].unique()"
   ]
  },
  {
   "cell_type": "markdown",
   "metadata": {},
   "source": [
    "### Visualize dataset"
   ]
  },
  {
   "cell_type": "code",
   "execution_count": null,
   "metadata": {},
   "outputs": [],
   "source": [
    "\n",
    "##histogram\n",
    "df_split_genre['genre_split'].value_counts().plot(kind='bar', color='g');\n",
    "plt.title('Movie releases by Genre, 2010-2019', size=18)\n",
    "plt.xlabel('Genre', size=12)\n",
    "plt.ylabel('Movie count', size=12);"
   ]
  },
  {
   "cell_type": "markdown",
   "metadata": {},
   "source": [
    "In terms of the number of releases worldwide, dramas,comedies,action top the list between 2010 and 2019 as nearly 500 action films were released, more than 500 comedy films were released and over 700 drama films have been released.This means that the public nowadays love these kind of genres more than other. It doesn't mean that if you do that you will be sucessful because these genre require a lot of elements such as big star, high buget, so on."
   ]
  },
  {
   "cell_type": "code",
   "execution_count": null,
   "metadata": {},
   "outputs": [],
   "source": [
    "\n",
    "df_split_genre['start_year']= df_split_genre['release_date'].dt.year\n",
    "gross_mean= df_split_genre.groupby(dataset['start_year'])['profit_ratio'].mean()\n",
    "#print(gross_mean)\n",
    "plt.plot(gross_mean)\n",
    "plt.axhline(df_split_genre['profit_ratio'].mean(), color ='red')\n",
    "plt.title('Average profit ratio  movie over the Years', size=15);\n",
    "plt.xlabel('Released year', size=12)\n",
    "plt.ylabel('Percent', size=12)\n",
    "plt.legend;"
   ]
  },
  {
   "cell_type": "markdown",
   "metadata": {},
   "source": [
    "We could see the average profit ratio tend to go up but the trend decrease significantly after 2018 because of the economic and covid 19. The red line show average of all profit ratio over the year which is 1.7%. This mean that it is not easy to making sucessful film making money."
   ]
  },
  {
   "cell_type": "markdown",
   "metadata": {},
   "source": [
    "### Hypothesis testing\n",
    "\n"
   ]
  },
  {
   "cell_type": "code",
   "execution_count": null,
   "metadata": {},
   "outputs": [],
   "source": [
    "#tranform data set to keep only genre and profit ratio\n",
    "profit_ratio_genre=df_split_genre.groupby('genre_split')['profit_ratio'].mean().sort_values()\n",
    "genre_profit=df_split_genre[['genre_split','profit_ratio']].sort_values('genre_split').reset_index(level=0, drop=True)\n",
    "profit_ratio_genre=df_split_genre.groupby('genre_split')['profit_ratio'].mean().sort_values()\n",
    "profit_ratio_genre.plot(kind='bar', color='y');\n",
    "plt.title('Profit ratio vs Genre, 2010-2020', size=18)\n",
    "plt.xlabel('Genre', size=12)\n",
    "plt.ylabel('Movie count', size=12);"
   ]
  },
  {
   "cell_type": "markdown",
   "metadata": {},
   "source": [
    "It is clear that Mystery , Horror, Thriller is top 3 of genre with highest profit ratio. These genres have inbuild audience. This mean that as long as you have something to deliver on it for example if you do haunting movie the ghost has to be scary ot if you do thriller, the movie has to be sufficiently thrilling, the audience doesn't care a lot of actors or actress is big name or not. I would recommend, if you starting out of making films, these genres are good chance to make money. \n",
    "Next, I use one-way ANOVA to determine whether there are any statistically significant differences between the means of profit ratio in  different genres."
   ]
  },
  {
   "cell_type": "code",
   "execution_count": null,
   "metadata": {},
   "outputs": [],
   "source": [
    "import statsmodels.api as sm\n",
    "from statsmodels.formula.api import ols\n",
    "\n",
    "# Ordinary Least Squares (OLS) model\n",
    "model = ols('profit_ratio ~ C(genre_split)', data=genre_profit).fit()\n",
    "anova_table = sm.stats.anova_lm(model, typ=2)\n",
    "anova_table\n"
   ]
  },
  {
   "cell_type": "markdown",
   "metadata": {},
   "source": [
    "The p value obtained from ANOVA analysis is significant (p < 0.05), and therefore, we conclude that there are significant differences among genre.\n",
    "\n",
    "Then I want to know whether or not horror movie  have the different mean profit_ratio  with Mystery movie with t test"
   ]
  },
  {
   "cell_type": "code",
   "execution_count": null,
   "metadata": {},
   "outputs": [],
   "source": [
    "horror=df_split_genre[df_split_genre['genre_split'] ==\"Horror\"]['profit_ratio']\n",
    "#horror\n",
    "mystery=df_split_genre[df_split_genre['genre_split'] ==\"Mystery\"]['profit_ratio']\n",
    "#mystery\n",
    "import scipy.stats as stats\n",
    "\n",
    "# #perform two sample t-test\n",
    "stats.ttest_ind(a=horror, b=mystery,nan_policy='omit')"
   ]
  },
  {
   "cell_type": "markdown",
   "metadata": {},
   "source": [
    "We see that p value greater than 0.05 so we fail to reject the null hypothesis. There is no difference of the mean profit ratio between horror and mystery."
   ]
  },
  {
   "cell_type": "markdown",
   "metadata": {},
   "source": [
    "I want to know whether or not horror movie  have the different mean profit_ratio with action movie with t-test"
   ]
  },
  {
   "cell_type": "code",
   "execution_count": null,
   "metadata": {},
   "outputs": [],
   "source": [
    "horror=df_split_genre[df_split_genre['genre_split'] ==\"Horror\"]['profit_ratio']\n",
    "#horror\n",
    "action=df_split_genre[df_split_genre['genre_split'] ==\"Action\"]['profit_ratio']\n",
    "#action\n",
    "stats.ttest_ind(a=horror, b=action ,nan_policy='omit')"
   ]
  },
  {
   "cell_type": "markdown",
   "metadata": {},
   "source": [
    "We see that p value less than 0.05 so we fail to reject the null hypothesis. There is difference of the mean profit ratio between horror and action."
   ]
  },
  {
   "cell_type": "markdown",
   "metadata": {},
   "source": [
    "## Conclusion 1\n",
    "It is clear there is correlation between profit ration and movie genre.Top 3 genres making the most profit ratio are Mystery, Horror and Thriller.As some movie commbined 2 or 3 genres, it hard to focus only one genre. It also depend on demand of customer at particular time because the public can be fickle (changing frequently). In future, we do futher analysis to see how to combine difference genres to maximize profit."
   ]
  },
  {
   "cell_type": "markdown",
   "metadata": {},
   "source": [
    "# Ratings by Director versus Profit and Profit Ratio\n",
    "\n",
    "In addition to exploring profits of different movie genres, we will explore which kinds of directors could help Computing Vision generate profits most effectively. In particular, we will be investingating the relationship between average movie rating by director with profit and profit ratio."
   ]
  },
  {
   "cell_type": "markdown",
   "metadata": {},
   "source": [
    "### Creating Standardized Ratings Column "
   ]
  },
  {
   "cell_type": "code",
   "execution_count": null,
   "metadata": {},
   "outputs": [],
   "source": [
    "# Create columns representing all movie ratings out of 10 stars\n",
    "reviews['num_stars'] = reviews['rating'].map(lambda x : float(x.split('/')[0]))\n",
    "reviews['out_of_stars'] = reviews['rating'].map(lambda x : float(x.split('/')[1]))\n",
    "reviews['rating_out_of_10'] = reviews['num_stars'] / reviews['out_of_stars'] * 10\n",
    "\n",
    "# Replace bogus values with NaN\n",
    "reviews['rating'].replace('-1/1', np.nan, inplace=True)\n",
    "reviews['num_stars'].replace(-1.0, np.nan, inplace=True)\n",
    "reviews['out_of_stars'].replace(1.0, np.nan, inplace=True)\n",
    "reviews['rating_out_of_10'].replace(-10.0, np.nan, inplace=True)"
   ]
  },
  {
   "cell_type": "markdown",
   "metadata": {},
   "source": [
    "# Exploratory Data Analysis on Rotten Tomatoes Ratings"
   ]
  },
  {
   "cell_type": "markdown",
   "metadata": {},
   "source": [
    "The following histogram presents the distribution of movie ratings (out of 10). The ratings, each between 0 and 10, are classified into 10 bins whose frequencies are plotted."
   ]
  },
  {
   "cell_type": "code",
   "execution_count": null,
   "metadata": {},
   "outputs": [],
   "source": [
    "reviews['rating_out_of_10'].plot(figsize=(12,6), kind='hist', title='Distribution of rating (out of 10)', bins=10);"
   ]
  },
  {
   "cell_type": "code",
   "execution_count": null,
   "metadata": {},
   "outputs": [],
   "source": [
    "reviews['rating_out_of_10'].mean()"
   ]
  },
  {
   "cell_type": "code",
   "execution_count": null,
   "metadata": {},
   "outputs": [],
   "source": [
    "reviews['rating_out_of_10'].median()"
   ]
  },
  {
   "cell_type": "code",
   "execution_count": null,
   "metadata": {},
   "outputs": [],
   "source": [
    "reviews['rating_out_of_10'].mode()"
   ]
  },
  {
   "cell_type": "markdown",
   "metadata": {},
   "source": [
    "We have found that movies average approximately **6 out of 10 stars**. We could consider movies with below 6 out of 10 stars to be below average and movies with above 6 out of 10 stars to be above average."
   ]
  },
  {
   "cell_type": "markdown",
   "metadata": {},
   "source": [
    "# Research Question\n",
    "Do a **director's previous movie ratings** relate to the **profit** and/or **profit ratio** that their movies generate?"
   ]
  },
  {
   "cell_type": "markdown",
   "metadata": {},
   "source": [
    "## Approach\n",
    "To answer this question, we will begin by creating two groups of directors - those with a \"good\" average movie rating, and those with a \"bad\" average movie rating. We will determine a threshold by which we can classify ratings as \"good\" or \"bad\" upon investigating Rotten Tomatoes rating data. To determine the threshold, we will group the reviews into those with a \"fresh\" flag and those with a \"rotten\" flag, then will investigate the distribution of ratings in each. We will also consider the results from the exploratory data analysis performed above.\n",
    "\n",
    "Upon choosing a threshold, we will use IMDB databases joined with movie budget data from The Numbers to calculate mean movie rating by director along with the director's mean profit and mean profit ratio. In particular, we are interested in established directors - those who have received over 1,000 reviews and have worked on at least two movies. We will then split these directors into two groups - one group with mean ratings of greater than or equal to the threshold, and one with mean ratings below the threshold.\n",
    "\n",
    "We will then conduct hypothesis tests to determine whether there is a relationship between:\n",
    "* Mean rating by director and mean profit\n",
    "* Mean rating by director and mean profit ratio"
   ]
  },
  {
   "cell_type": "markdown",
   "metadata": {},
   "source": [
    "### Determining a Threshold"
   ]
  },
  {
   "cell_type": "code",
   "execution_count": null,
   "metadata": {},
   "outputs": [],
   "source": [
    "rotten_tomatoes = movie_info.merge(reviews, on='id')"
   ]
  },
  {
   "cell_type": "code",
   "execution_count": null,
   "metadata": {},
   "outputs": [],
   "source": [
    "# Obtain lists of \"rotten\" and \"fresh\" reviews\n",
    "fresh_reviews = rotten_tomatoes.loc[rotten_tomatoes['fresh'] == 1]\n",
    "rotten_reviews = rotten_tomatoes.loc[rotten_tomatoes['fresh'] == 0]"
   ]
  },
  {
   "cell_type": "markdown",
   "metadata": {},
   "source": [
    "Here we will investigate the distributions of \"rotten\" movie review ratings and \"fresh\" movie review ratings. We will generate overlayed histograms to visualize how the distributions of rotten movie ratings and fresh movie ratings compare to each other."
   ]
  },
  {
   "cell_type": "code",
   "execution_count": null,
   "metadata": {},
   "outputs": [],
   "source": [
    "fig, ax = plt.subplots(figsize=(12,6))\n",
    "ax.hist(fresh_reviews['rating_out_of_10'], alpha=0.5)\n",
    "ax.hist(rotten_reviews['rating_out_of_10'], alpha=0.5)\n",
    "ax.set_title(\"Fresh vs. Rotten Reviews (out of 10)\")\n",
    "ax.set_xlabel(\"Rating (out of 10)\")\n",
    "ax.set_ylabel(\"Frequency\")\n",
    "ax.legend(['Fresh','Rotten'])\n",
    "plt.axvline(x=6, color='black', lw=3);"
   ]
  },
  {
   "cell_type": "markdown",
   "metadata": {},
   "source": [
    "We note that there are some low ratings corresponding to \"fresh\" reviews, as well as some high ratings corresponding to \"rotten\" reviews. We are unsure of why this occurs.\n",
    "\n",
    "Based upon the visualization above, 6 stars out of 10 appears to be the point where reviews transition from mostly rotten to mostly fresh. We also observed previously that the overall distribution of ratings has a center near 6 out of 10. We will use **6 stars out of 10** as a threshold to differentiate between positive reviews and negative reviews."
   ]
  },
  {
   "cell_type": "markdown",
   "metadata": {},
   "source": [
    "### Gathering Data"
   ]
  },
  {
   "cell_type": "code",
   "execution_count": null,
   "metadata": {},
   "outputs": [],
   "source": [
    "movie_budgets['profit'] = movie_budgets['worldwide_gross']-movie_budgets['production_budget']"
   ]
  },
  {
   "cell_type": "code",
   "execution_count": null,
   "metadata": {},
   "outputs": [],
   "source": [
    "directorRatings = pd.read_sql(\"\"\"\n",
    "    SELECT \n",
    "    persons.primary_name AS director, movie_basics.original_title AS title, movie_ratings.averagerating AS AVG_Movie_rating\n",
    "    FROM persons\n",
    "    JOIN principals\n",
    "        USING(person_id)\n",
    "    JOIN movie_basics\n",
    "        USING(movie_id)\n",
    "    JOIN movie_ratings\n",
    "        USING(movie_id)\n",
    "    GROUP BY persons.primary_name\n",
    "    HAVING principals.category == 'director' AND movie_ratings.numvotes >= 1000 AND COUNT(movie_ratings.movie_id) > 1\n",
    "    ORDER BY AVG_Movie_rating DESC\n",
    "  ;\n",
    "\"\"\", conn)"
   ]
  },
  {
   "cell_type": "code",
   "execution_count": null,
   "metadata": {},
   "outputs": [],
   "source": [
    "directorRatings['title'] = directorRatings['title'].str.upper()"
   ]
  },
  {
   "cell_type": "code",
   "execution_count": null,
   "metadata": {},
   "outputs": [],
   "source": [
    "budgetJoinDirector = movie_budgets.merge(directorRatings, left_on = 'title', right_on='title')"
   ]
  },
  {
   "cell_type": "markdown",
   "metadata": {},
   "source": [
    "### Investigating Data"
   ]
  },
  {
   "cell_type": "code",
   "execution_count": null,
   "metadata": {},
   "outputs": [],
   "source": [
    "budgetJoinDirector['year'] = budgetJoinDirector['release_date'].dt.year"
   ]
  },
  {
   "cell_type": "code",
   "execution_count": null,
   "metadata": {},
   "outputs": [],
   "source": [
    "budgetJoinDirector = budgetJoinDirector.loc[budgetJoinDirector['year'] >= 2010]"
   ]
  },
  {
   "cell_type": "code",
   "execution_count": null,
   "metadata": {},
   "outputs": [],
   "source": [
    "budgetJoinDirector=budgetJoinDirector.drop('id', axis =1)\n",
    "budgetJoinDirector=budgetJoinDirector.drop('release_date', axis =1)\n",
    "budgetJoinDirector=budgetJoinDirector.drop('title', axis =1)\n"
   ]
  },
  {
   "cell_type": "code",
   "execution_count": null,
   "metadata": {},
   "outputs": [],
   "source": [
    "budgetJoinDirector['profit'] = budgetJoinDirector['worldwide_gross']-budgetJoinDirector['production_budget']\n",
    "budgetJoinDirector['profitRatio'] = (budgetJoinDirector['worldwide_gross'] - budgetJoinDirector['production_budget'])/ budgetJoinDirector['production_budget']"
   ]
  },
  {
   "cell_type": "code",
   "execution_count": null,
   "metadata": {},
   "outputs": [],
   "source": [
    "budgetJoinDirector['positive_review'] = budgetJoinDirector['AVG_Movie_rating'] >= 6"
   ]
  },
  {
   "cell_type": "code",
   "execution_count": null,
   "metadata": {},
   "outputs": [],
   "source": [
    "grouped = budgetJoinDirector.groupby('director').mean().sort_values('AVG_Movie_rating', ascending = False)"
   ]
  },
  {
   "cell_type": "markdown",
   "metadata": {},
   "source": [
    "### Investigating Data"
   ]
  },
  {
   "cell_type": "code",
   "execution_count": null,
   "metadata": {},
   "outputs": [],
   "source": [
    "avg_movie_rating = grouped['AVG_Movie_rating']\n",
    "avg_profit = grouped['profit']\n",
    "profitRatioGroup = grouped['profitRatio']"
   ]
  },
  {
   "cell_type": "markdown",
   "metadata": {},
   "source": [
    "We will first investigate the distributions of profit and profit ratio. Below are histograms corresponding to each. Note that the axes have differing units and scales. Also note the use of scientific notation along the x and y axes in the first plot."
   ]
  },
  {
   "cell_type": "code",
   "execution_count": null,
   "metadata": {},
   "outputs": [],
   "source": [
    "fig, ax = plt.subplots(ncols=2, figsize=(15,6))\n",
    "sns.distplot(avg_profit, ax=ax[0])\n",
    "sns.distplot(profitRatioGroup, ax=ax[1])\n",
    "ax[0].set_title('Distribution of profit')\n",
    "ax[0].set_xlabel('Profit')\n",
    "ax[0].set_ylabel('Density')\n",
    "ax[1].set_title('Distribution of profit ratio')\n",
    "ax[1].set_xlabel('Profit Ratio')\n",
    "ax[1].set_ylabel('Density');"
   ]
  },
  {
   "cell_type": "markdown",
   "metadata": {},
   "source": [
    "It appears that our profit and profit ratio data contains several outliers. We will trim these outliers using the **IQR rule** before proceeding with our analysis so we can focus on typical profits."
   ]
  },
  {
   "cell_type": "markdown",
   "metadata": {},
   "source": [
    "### Investigating Trimmed Data"
   ]
  },
  {
   "cell_type": "code",
   "execution_count": null,
   "metadata": {},
   "outputs": [],
   "source": [
    "# IQR Rule: keep values in interval [Q1 - 1.5*IQR, Q3 + 1.5*IQR]\n",
    "\n",
    "Q1 = grouped['profit'].quantile(0.25)\n",
    "Q3 = grouped['profit'].quantile(0.75)\n",
    "IQR = Q3-Q1\n",
    "grouped_trimmed = grouped.loc[(grouped['profit'] >= Q1-1.5*IQR) & (grouped['profit'] <= Q3 + 1.5*IQR)]\n",
    "avg_movie_rating = grouped_trimmed['AVG_Movie_rating']\n",
    "avg_profit = grouped_trimmed['profit']\n",
    "\n",
    "Q1 = grouped['profitRatio'].quantile(0.25)\n",
    "Q3 = grouped['profitRatio'].quantile(0.75)\n",
    "IQR = Q3-Q1\n",
    "grouped_clean = grouped.loc[(grouped['profitRatio'] >= Q1-(1.5*IQR)) & (grouped['profitRatio'] <= Q3 + 1.5*IQR)]\n",
    "profitRatio = grouped_clean['profitRatio']\n",
    "avg_movie_rating_ratio = grouped_clean['AVG_Movie_rating']"
   ]
  },
  {
   "cell_type": "markdown",
   "metadata": {},
   "source": [
    "Again we plot the distributions of profit and profit ratio. Observe that extreme values have been trimmed."
   ]
  },
  {
   "cell_type": "code",
   "execution_count": null,
   "metadata": {},
   "outputs": [],
   "source": [
    "avg_movie_rating = grouped['AVG_Movie_rating']\n",
    "avg_profit = grouped['profit']\n",
    "profitRatioGroup = grouped['profitRatio']"
   ]
  },
  {
   "cell_type": "code",
   "execution_count": null,
   "metadata": {
    "scrolled": false
   },
   "outputs": [],
   "source": [
    "fig, ax = plt.subplots(ncols=2, figsize=(15,6))\n",
    "sns.distplot(avg_profit, ax=ax[0])\n",
    "sns.distplot(profitRatio, ax=ax[1])\n",
    "ax[0].set_title('Distribution of profit')\n",
    "ax[0].set_xlabel('Profit')\n",
    "ax[0].set_ylabel('Density')\n",
    "ax[1].set_title('Distribution of profit ratio')\n",
    "ax[1].set_xlabel('Profit Ratio')\n",
    "ax[1].set_ylabel('Density');"
   ]
  },
  {
   "cell_type": "code",
   "execution_count": null,
   "metadata": {},
   "outputs": [],
   "source": [
    "# Split profits into two groups based on mean director rating\n",
    "greaterThanEqual6_trimmed = grouped_trimmed.loc[avg_movie_rating >= 6]['profit']\n",
    "lessThan6_trimmed = grouped_trimmed.loc[avg_movie_rating < 6]['profit']\n",
    "\n",
    "# Split profit ratios into two groups based on mean director rating\n",
    "greaterThanEqual6_trimmed_ratio = grouped_clean.loc[grouped_clean['AVG_Movie_rating'] >= 6]['profitRatio']\n",
    "lessThan6_trimmed_ratio = grouped_clean.loc[grouped_clean['AVG_Movie_rating'] < 6]['profitRatio']"
   ]
  },
  {
   "cell_type": "markdown",
   "metadata": {},
   "source": [
    "Below we will generate scatter plots with regression lines for mean movie rating by director vs. mean profit and mean movie rating by director vs. mean profit ratio. We will also plot a vertical red line in each graph at x=6 where we differentiate good ratings from bad ratings. These plots will allow us to visualize the relationships between director and profit as well as profit ratio. Again note the different units and scales of the y-axes as well as the use of scientific notation in the y-axis in the first graph."
   ]
  },
  {
   "cell_type": "code",
   "execution_count": null,
   "metadata": {},
   "outputs": [],
   "source": [
    "fig, ax = plt.subplots(ncols=2, figsize=(15,6))\n",
    "sns.regplot(avg_movie_rating, avg_profit, ax=ax[0])\n",
    "ax[0].axvline(6, color='red', lw=3, alpha=0.5);\n",
    "ax[0].set_title('Mean Movie Rating vs. Mean Profit by Director')\n",
    "ax[0].set_xlabel('Mean Movie Rating (stars out of 10)')\n",
    "ax[0].set_ylabel('Mean Profit ($)')\n",
    "\n",
    "sns.regplot(avg_movie_rating_ratio, profitRatio, ax=ax[1])\n",
    "ax[1].axvline(6, color='red', lw=3, alpha=0.5);\n",
    "ax[1].set_title('Mean Movie Rating vs. Mean Profit Ratio by Director')\n",
    "ax[1].set_xlabel('Mean Movie Rating (stars out of 10)')\n",
    "ax[1].set_ylabel('Mean Profit Ratio')\n",
    "plt.ticklabel_format(style='plain');"
   ]
  },
  {
   "cell_type": "markdown",
   "metadata": {},
   "source": [
    "It appears that our profit data contains several outliers. We will trim these outliers using the **IQR rule** before proceeding with our analysis so we can focus on typical profits."
   ]
  },
  {
   "cell_type": "markdown",
   "metadata": {},
   "source": [
    "### Investigating Trimmed Data"
   ]
  },
  {
   "cell_type": "code",
   "execution_count": null,
   "metadata": {},
   "outputs": [],
   "source": [
    "Q1 = grouped['profit'].quantile(0.25)\n",
    "Q3 = grouped['profit'].quantile(0.75)\n",
    "IQR = Q3-Q1\n",
    "grouped_trimmed = grouped.loc[(grouped['profit'] >= Q1-1.5*IQR) & (grouped['profit'] <= Q3 + 1.5*IQR)]\n",
    "\n",
    "avg_movie_rating = grouped_trimmed['AVG_Movie_rating']\n",
    "avg_profit = grouped_trimmed['profit']"
   ]
  },
  {
   "cell_type": "code",
   "execution_count": null,
   "metadata": {},
   "outputs": [],
   "source": [
    "Q1 = grouped['profitRatio'].quantile(0.25)\n",
    "Q3 = grouped['profitRatio'].quantile(0.75)\n",
    "IQR = Q3-Q1\n",
    "\n",
    "grouped_clean = grouped.loc[(grouped['profitRatio'] >= Q1-(1.5*IQR)) & (grouped['profitRatio'] <= Q3 + 1.5*IQR)]\n",
    "\n",
    "profitRatio = grouped_clean['profitRatio']\n",
    "avg_movie_rating_ratio = grouped_clean['AVG_Movie_rating']"
   ]
  },
  {
   "cell_type": "code",
   "execution_count": null,
   "metadata": {},
   "outputs": [],
   "source": [
    "fig, ax = plt.subplots(figsize=(12,6))\n",
    "sns.distplot(avg_movie_rating)\n",
    "ax.set_title('Distribution of mean movie rating per director')"
   ]
  },
  {
   "cell_type": "code",
   "execution_count": null,
   "metadata": {},
   "outputs": [],
   "source": [
    "fig, ax = plt.subplots(figsize=(12,6))\n",
    "sns.distplot(avg_profit)\n",
    "ax.set_title('Distribution of mean profit per director');"
   ]
  },
  {
   "cell_type": "code",
   "execution_count": null,
   "metadata": {},
   "outputs": [],
   "source": [
    "fig, ax = plt.subplots(figsize=(12,6))\n",
    "sns.distplot(avg_movie_rating_ratio)\n",
    "ax.set_title('Distribution of profit Ratio per director')\n"
   ]
  },
  {
   "cell_type": "code",
   "execution_count": null,
   "metadata": {},
   "outputs": [],
   "source": [
    "fig, ax = plt.subplots(figsize=(12,6))\n",
    "sns.distplot(profitRatio)\n",
    "ax.set_title('Distribution of profit Ratio per director')"
   ]
  },
  {
   "cell_type": "code",
   "execution_count": null,
   "metadata": {},
   "outputs": [],
   "source": [
    "greaterThanEqual6_trimmed = grouped_trimmed.loc[avg_movie_rating >= 6]['profit']\n",
    "lessThan6_trimmed = grouped_trimmed.loc[avg_movie_rating < 6]['profit']"
   ]
  },
  {
   "cell_type": "code",
   "execution_count": null,
   "metadata": {},
   "outputs": [],
   "source": [
    "greaterThanEqual6_trimmed_ratio = grouped_clean.loc[grouped_clean['AVG_Movie_rating'] >= 6]['profitRatio']\n",
    "lessThan6_trimmed_ratio = grouped_clean.loc[grouped_clean['AVG_Movie_rating'] < 6]['profitRatio']"
   ]
  },
  {
   "cell_type": "markdown",
   "metadata": {},
   "source": [
    "<span style='color: red'>TODO</span>  \n",
    "Nate: Move these plots to a side-by-side format"
   ]
  },
  {
   "cell_type": "code",
   "execution_count": null,
   "metadata": {},
   "outputs": [],
   "source": [
    "fig, ax = plt.subplots(figsize=(12,6))\n",
    "ax = sns.regplot(avg_movie_rating, avg_profit)\n",
    "ax.axvline(6, color='red', lw=3, alpha=0.5);\n",
    "ax.set_title('Mean movie rating vs. mean profit per director')\n",
    "ax.set_xlabel('Mean movie rating')\n",
    "ax.set_ylabel('Mean profit');"
   ]
  },
  {
   "cell_type": "code",
   "execution_count": null,
   "metadata": {},
   "outputs": [],
   "source": [
    "fig, ax = plt.subplots(figsize=(12,6))\n",
    "ax = sns.regplot(avg_movie_rating_ratio, profitRatio )\n",
    "ax.axvline(6, color='red', lw=3, alpha=0.5);\n",
    "ax.set_title('Mean movie rating vs.  profit Ratio per director')\n",
    "ax.set_xlabel('Mean movie rating')\n",
    "ax.set_ylabel('profit Ratio');"
   ]
  },
  {
   "cell_type": "code",
   "execution_count": null,
   "metadata": {},
   "outputs": [],
   "source": [
    "#for the profit\n",
    "np.corrcoef(avg_movie_rating, avg_profit)[0][1]"
   ]
  },
  {
   "cell_type": "code",
   "execution_count": null,
   "metadata": {},
   "outputs": [],
   "source": [
    "greaterThanEqual6_trimmed.mean()"
   ]
  },
  {
   "cell_type": "code",
   "execution_count": null,
   "metadata": {},
   "outputs": [],
   "source": [
    "lessThan6_trimmed.mean()"
   ]
  },
  {
   "cell_type": "code",
   "execution_count": null,
   "metadata": {},
   "outputs": [],
   "source": [
    "greaterThanEqual6_trimmed.mean() - lessThan6_trimmed.mean()"
   ]
  },
  {
   "cell_type": "code",
   "execution_count": null,
   "metadata": {},
   "outputs": [],
   "source": [
    "greaterThanEqual6_trimmed.std(ddof=1)**2"
   ]
  },
  {
   "cell_type": "code",
   "execution_count": null,
   "metadata": {},
   "outputs": [],
   "source": [
    "lessThan6_trimmed.std(ddof=1)**2"
   ]
  },
  {
   "cell_type": "code",
   "execution_count": null,
   "metadata": {},
   "outputs": [],
   "source": [
    "#fir the profit ratio\n",
    "np.corrcoef(avg_movie_rating_ratio, profitRatio)[0][1]"
   ]
  },
  {
   "cell_type": "markdown",
   "metadata": {},
   "source": [
    "#### Observations\n",
    "* There is a **slight positive relationship** between mean movie rating by director and mean profit.\n",
    "* There is a **slight positive relationship** between mean movie rating by director and mean profit ratio.\n",
    "* Mean profit **differs** by rating group; so does mean profit ratio.\n",
    "* Variance of profit **differs** by rating group, so does variance of profit ratio."
   ]
  },
  {
   "cell_type": "markdown",
   "metadata": {},
   "source": [
    "## Analysis\n",
    "\n",
    "We will use hypothesis testing to evaluate our suspicion that directors with high historical ratings (averaging at least 6 out of 10) generate higher profits and profit ratios than directors with low historical ratings (averaging less than 6 out of 10). Using $\\alpha=0.05$, we will conduct one-tailed unpaired Welch's t-tests (which do *not* assume that population variances are equal).\n",
    "\n",
    "### Test 1\n",
    "Let:\n",
    "\n",
    "> $\\mu_{Profit, GE6}$ denote the mean profit for directors with a mean rating of greater than or equal to 6;\n",
    "\n",
    "> $\\mu_{Profit, L6}$ denote the mean profit for directors with a mean rating of less than 6.\n",
    "\n",
    "\n",
    "$H_{0}: \\mu_{Profit, GE6} - \\mu_{Profit, L6} = 0$\n",
    "\n",
    "$H_{A}: \\mu_{Profit, GE6} - \\mu_{Profit, L6} > 0$\n",
    "\n",
    "### Test 2\n",
    "Let:\n",
    "\n",
    "> $\\mu_{Ratio, GE6}$ denote the mean profit *ratio* for directors with a mean rating of greater than or equal to 6;\n",
    "\n",
    "> $\\mu_{Ratio, L6}$ denote the mean profit *ratio* for directors with a mean rating of less than 6.\n",
    "\n",
    "\n",
    "$H_{0}: \\mu_{Ratio, GE6} - \\mu_{Ratio, L6} = 0$\n",
    "\n",
    "$H_{A}: \\mu_{Ratio, GE6} - \\mu_{Ratio, L6} > 0$"
   ]
  },
  {
   "cell_type": "code",
   "execution_count": null,
   "metadata": {},
   "outputs": [],
   "source": [
    "# Test 1\n",
    "statistic, pvalue = st.ttest_ind(greaterThanEqual6_trimmed, lessThan6_trimmed, equal_var=False)\n",
    "pvalue/2"
   ]
  },
  {
   "cell_type": "code",
   "execution_count": null,
   "metadata": {},
   "outputs": [],
   "source": [
    "# Test 2\n",
    "statistic, pvalue = st.ttest_ind(greaterThanEqual6_trimmed_ratio, lessThan6_trimmed_ratio, equal_var=False)\n",
    "pvalue/2"
   ]
  },
  {
   "cell_type": "markdown",
   "metadata": {},
   "source": [
    "### Results\n",
    "Each of these p-values falls below our level of significance of $0.05$. We reject the null hypothesis in both cases."
   ]
  },
  {
   "cell_type": "markdown",
   "metadata": {},
   "source": [
    "### Conclusion\n",
    "Our hypothesis tests yield strong evidence that directors with a mean rating greater than or equal to 6 out of 10 produce **greater mean profits and greater mean profit ratios** than directors with a lower mean rating."
   ]
  },
  {
   "cell_type": "markdown",
   "metadata": {},
   "source": [
    "## Recommendation\n",
    "We recommend that Computing Vision hire directors with **strong historical movie ratings**."
   ]
  },
  {
   "cell_type": "markdown",
   "metadata": {},
   "source": [
    "<a name=\"season\"></a>\n",
    "## Season vs. Gross Profit "
   ]
  },
  {
   "cell_type": "markdown",
   "metadata": {},
   "source": [
    "# Research Question"
   ]
  },
  {
   "cell_type": "markdown",
   "metadata": {},
   "source": [
    "##### Is there a direct correlation in which season a movie is released and the gross profits generated?"
   ]
  },
  {
   "cell_type": "markdown",
   "metadata": {},
   "source": [
    "# Approach"
   ]
  },
  {
   "cell_type": "markdown",
   "metadata": {},
   "source": [
    "We will begin by making needed adjustments to to the movie budgets and movie gross data frames. Following the required adjustments we will merge the two data frames into one. We will then filter and clean the merged data frame to till we recieve the desired output to run our statistical analysis and create the appropriate visualizions that compare season relase date to gross profits"
   ]
  },
  {
   "cell_type": "markdown",
   "metadata": {},
   "source": [
    "separate release date"
   ]
  },
  {
   "cell_type": "markdown",
   "metadata": {},
   "source": [
    "Create new collumn as release month"
   ]
  },
  {
   "cell_type": "code",
   "execution_count": null,
   "metadata": {
    "scrolled": true
   },
   "outputs": [],
   "source": [
    "release_month = movie_budgets['release_date'].dt.strftime('%m')\n",
    "movie_budgets['release_month']= release_month"
   ]
  },
  {
   "cell_type": "markdown",
   "metadata": {},
   "source": [
    "Create new collumn for relase year"
   ]
  },
  {
   "cell_type": "code",
   "execution_count": null,
   "metadata": {},
   "outputs": [],
   "source": [
    "release_year = movie_budgets['release_date'].dt.strftime('%Y')\n",
    "movie_budgets['release_year']= release_year"
   ]
  },
  {
   "cell_type": "code",
   "execution_count": null,
   "metadata": {},
   "outputs": [],
   "source": [
    "#create dictionary to set individual month number to correlated season\n",
    "#Season: spring = 1, summer=2, fall= 3, winter=4\n",
    "season_dict = {'01': '4',\n",
    "               '02': '4',\n",
    "               '03': '1', \n",
    "               '04': '1',\n",
    "               '05': '1',\n",
    "               '06': '2',\n",
    "               '07': '2',\n",
    "               '08': '2',\n",
    "               '09': '3',\n",
    "               '10': '3',\n",
    "               '11': '3',\n",
    "               '12': '4'}\n",
    "movie_budgets['Season'] = movie_budgets['release_month'].apply(lambda x: season_dict[x])"
   ]
  },
  {
   "cell_type": "markdown",
   "metadata": {},
   "source": [
    "convert relase month, release year, and season to integers"
   ]
  },
  {
   "cell_type": "code",
   "execution_count": null,
   "metadata": {},
   "outputs": [],
   "source": [
    "movie_budgets['release_year']  = movie_budgets['release_year'].astype(\"int\")\n",
    "movie_budgets['release_month']  = movie_budgets['release_month'].astype(\"int\")\n",
    "movie_budgets['Season']  = movie_budgets['Season'].astype(\"int\")"
   ]
  },
  {
   "cell_type": "markdown",
   "metadata": {},
   "source": [
    "#### Merge Gross and budgets"
   ]
  },
  {
   "cell_type": "code",
   "execution_count": null,
   "metadata": {},
   "outputs": [],
   "source": [
    "movieGrossJoinBudgets = pd.DataFrame.merge(movie_gross, movie_budgets, on = 'title')"
   ]
  },
  {
   "cell_type": "markdown",
   "metadata": {},
   "source": [
    "Check for null values\n",
    "\n",
    "Set Null Values to 0 because it is assumed that if there is no value for foreign and domestic markets that there were no sales in that market. Changing null values to 0 allowed us to build a better analysis"
   ]
  },
  {
   "cell_type": "code",
   "execution_count": null,
   "metadata": {},
   "outputs": [],
   "source": [
    "movieGrossJoinBudgets.fillna(0, inplace = True)"
   ]
  },
  {
   "cell_type": "markdown",
   "metadata": {},
   "source": [
    "calculate for inflations in the merged data frame. This will give us a more accurate representation of the data"
   ]
  },
  {
   "cell_type": "code",
   "execution_count": null,
   "metadata": {},
   "outputs": [],
   "source": [
    "i = 0\n",
    "for row in movieGrossJoinBudgets.itertuples(index = False):\n",
    "    if row[4] == 2010:\n",
    "        movieGrossJoinBudgets.iat[i,2] = row[2] * ((8*.0151) + 1)\n",
    "\n",
    "    if row[4] == 2011:\n",
    "        movieGrossJoinBudgets.iat[i,2] = row[2] * ((7*.0151) + 1)\n",
    "\n",
    "    if row[4] == 2012:\n",
    "        movieGrossJoinBudgets.iat[i,2] = row[2] * ((6*.0151) + 1)\n",
    "\n",
    "    if row[4] == 2013:\n",
    "        movieGrossJoinBudgets.iat[i,2] = row[2] * ((5*.0151) + 1)\n",
    "\n",
    "    if row[4] == 2014:\n",
    "        movieGrossJoinBudgets.iat[i,2] = row[2] * ((4*.0151) + 1)\n",
    "\n",
    "    if row[4] == 2015:\n",
    "        movieGrossJoinBudgets.iat[i,2] = row[2] * ((3*.0151) + 1)\n",
    "\n",
    "    if row[4] == 2016:\n",
    "        movieGrossJoinBudgets.iat[i,2] = row[2] * ((2*.0151) + 1)\n",
    "\n",
    "    if row[4] == 2017:\n",
    "        movieGrossJoinBudgets.iat[i,2] = row[2] * ((1*.0151) + 1)\n",
    "\n",
    "    i +=1"
   ]
  },
  {
   "cell_type": "code",
   "execution_count": null,
   "metadata": {},
   "outputs": [],
   "source": [
    "i = 0\n",
    "for row in movieGrossJoinBudgets.itertuples(index = False):\n",
    "    if row[4] == 2010:\n",
    "        movieGrossJoinBudgets.iat[i,3] = row[3] * ((8*.0151) + 1)\n",
    "\n",
    "    if row[4] == 2011:\n",
    "        movieGrossJoinBudgets.iat[i,3] = row[3] * ((7*.0151) + 1)\n",
    "\n",
    "    if row[4] == 2012:\n",
    "        movieGrossJoinBudgets.iat[i,3] = row[3] * ((6*.0151) + 1)\n",
    "\n",
    "    if row[4] == 2013:\n",
    "        movieGrossJoinBudgets.iat[i,3] = row[3] * ((5*.0151) + 1)\n",
    "\n",
    "    if row[4] == 2014:\n",
    "        movieGrossJoinBudgets.iat[i,3] = row[3] * ((4*.0151) + 1)\n",
    "\n",
    "    if row[4] == 2015:\n",
    "        movieGrossJoinBudgets.iat[i,3] = row[3] * ((3*.0151) + 1)\n",
    "\n",
    "    if row[4] == 2016:\n",
    "        movieGrossJoinBudgets.iat[i,3] = row[3] * ((2*.0151) + 1)\n",
    "\n",
    "    if row[4] == 2017:\n",
    "        movieGrossJoinBudgets.iat[i,3] = row[3] * ((1*.0151) + 1)\n",
    "\n",
    "    i +=1"
   ]
  },
  {
   "cell_type": "code",
   "execution_count": null,
   "metadata": {},
   "outputs": [],
   "source": [
    "#Drop collumn domestic_gross_y\n",
    "# before this step there were two domestic gross collumns and this collumn is not needed for our analysis\n",
    "movieGrossJoinBudgets.drop(['domestic_gross_y'], axis=1, inplace=True)"
   ]
  },
  {
   "cell_type": "code",
   "execution_count": null,
   "metadata": {},
   "outputs": [],
   "source": [
    "#group the merged datafram by seasons.\n",
    "#use group data mean values.\n",
    "#We are mesureing the the gross profit for each season. \n",
    "GrossJoinBudgetGrouped = movieGrossJoinBudgets.groupby('Season').mean()"
   ]
  },
  {
   "cell_type": "code",
   "execution_count": null,
   "metadata": {},
   "outputs": [],
   "source": [
    "#Drop all unneeded collumns for the remainder of the analysis.\n",
    "GrossJoinBudgetGrouped.drop(['year', 'id', 'production_budget', 'worldwide_gross', 'release_month', 'release_year', 'profit'], axis=1, inplace=True)"
   ]
  },
  {
   "cell_type": "markdown",
   "metadata": {},
   "source": [
    "Remove Outliers"
   ]
  },
  {
   "cell_type": "code",
   "execution_count": null,
   "metadata": {},
   "outputs": [],
   "source": [
    "Q1 = movieGrossJoinBudgets['domestic_gross_x'].quantile(0.25)\n",
    "Q3 = movieGrossJoinBudgets['domestic_gross_x'].quantile(0.75)\n",
    "IQR = Q3 - Q1\n",
    "\n",
    "grouped_trimmed = movieGrossJoinBudgets.loc[(movieGrossJoinBudgets['domestic_gross_x'] >= Q1-1.5*IQR) & (movieGrossJoinBudgets['domestic_gross_x'] <= Q3 + 1.5*IQR)]\n",
    "\n",
    "domSpring = grouped_trimmed.loc[(movieGrossJoinBudgets['Season'] == 1)]['domestic_gross_x']\n",
    "domSummer = grouped_trimmed.loc[(movieGrossJoinBudgets['Season'] == 2)]['domestic_gross_x']\n",
    "domFall = grouped_trimmed.loc[(movieGrossJoinBudgets['Season'] == 3)]['domestic_gross_x']\n",
    "domWinter = grouped_trimmed.loc[(movieGrossJoinBudgets['Season'] == 4)]['domestic_gross_x']"
   ]
  },
  {
   "cell_type": "code",
   "execution_count": null,
   "metadata": {},
   "outputs": [],
   "source": [
    "Q1 = movieGrossJoinBudgets['foreign_gross'].quantile(0.25)\n",
    "Q3 = movieGrossJoinBudgets['foreign_gross'].quantile(0.75)\n",
    "IQR = Q3 - Q1\n",
    "\n",
    "grouped_trimmed = movieGrossJoinBudgets.loc[(movieGrossJoinBudgets['foreign_gross'] >= Q1-1.5*IQR) & (movieGrossJoinBudgets['foreign_gross'] <= Q3 + 1.5*IQR)]\n",
    "\n",
    "forSpring = grouped_trimmed.loc[(movieGrossJoinBudgets['Season'] == 1)]['foreign_gross']\n",
    "forSummer = grouped_trimmed.loc[(movieGrossJoinBudgets['Season'] == 2)]['foreign_gross']\n",
    "forFall = grouped_trimmed.loc[(movieGrossJoinBudgets['Season'] == 3)]['foreign_gross']\n",
    "forWinter = grouped_trimmed.loc[(movieGrossJoinBudgets['Season'] == 4)]['foreign_gross']"
   ]
  },
  {
   "cell_type": "markdown",
   "metadata": {},
   "source": [
    "Creat a chart to represent the data"
   ]
  },
  {
   "cell_type": "code",
   "execution_count": null,
   "metadata": {},
   "outputs": [],
   "source": [
    "w=0.4\n",
    "x = ['Spring', 'Summer', 'Fall', 'Winter']\n",
    "domestic_gross_x = [6.286046e+07, 8.006786e+07, 5.330879e+07, 6.289587e+07]\n",
    "foreign_gross = [8.961715e+07, 1.160124e+08, 8.214393e+07, 8.460717e+07]\n",
    "\n",
    "bar1 = np.arange(len(x))\n",
    "bar2 = [i+w for i in bar1]\n",
    "\n",
    "plt.bar(bar1,domestic_gross_x,w,label='Domestic Gross')\n",
    "plt.bar(bar2,foreign_gross,w,label='Foreign Gross')\n",
    "plt.title('Seasonal Gross Values')\n",
    "plt.xticks(bar1+w/2,x)\n",
    "plt.xlabel('Season')\n",
    "plt.ylabel('Gross Profit ($)')\n",
    "plt.gcf().axes[0].yaxis.get_major_formatter().set_scientific(False)\n",
    "plt.legend()\n",
    "plt.show()"
   ]
  },
  {
   "cell_type": "markdown",
   "metadata": {},
   "source": [
    "Here we see a bar chart comparing the average gross profit for each season of the movies from the data's release date. The chart looks to clearly show that summer release dates generate the highest gross profit. Now let us test this through a hypthoesis test."
   ]
  },
  {
   "cell_type": "markdown",
   "metadata": {},
   "source": [
    "#### Hypothesis Testing"
   ]
  },
  {
   "cell_type": "markdown",
   "metadata": {},
   "source": [
    "##### Hypothesis\n",
    "    Null: There is no significant difference between the summer release dates and non summer release dates. H0:𝜇 ≥ 𝑥¯  \n",
    "    Alternative: The the gross value is significantly bigger when released than not released in summer mean. 𝐻𝑎: 𝜇<𝑥¯\n",
    "    Alpha= .02"
   ]
  },
  {
   "cell_type": "markdown",
   "metadata": {},
   "source": [
    "**We will be performing a one sample T-test**  \n"
   ]
  },
  {
   "cell_type": "code",
   "execution_count": null,
   "metadata": {},
   "outputs": [],
   "source": [
    "winter = movieGrossJoinBudgets['Season'].values == 4\n",
    "spring = movieGrossJoinBudgets['Season'].values == 1\n",
    "fall = movieGrossJoinBudgets['Season'].values == 3\n",
    "\n",
    "forSpring = movieGrossJoinBudgets.loc[spring]['foreign_gross']\n",
    "domSpring = movieGrossJoinBudgets.loc[spring]['domestic_gross_x']\n",
    "forFall = movieGrossJoinBudgets.loc[fall]['foreign_gross']\n",
    "domFall = movieGrossJoinBudgets.loc[fall]['domestic_gross_x']\n",
    "forWinter = movieGrossJoinBudgets.loc[winter]['foreign_gross']\n",
    "domWinter = movieGrossJoinBudgets.loc[winter]['domestic_gross_x']"
   ]
  },
  {
   "cell_type": "code",
   "execution_count": null,
   "metadata": {
    "scrolled": true
   },
   "outputs": [],
   "source": [
    "# T-test for foriegn market in summer\n",
    "stat, pval = st.ttest_1samp(forSummer, movieGrossJoinBudgets['foreign_gross'].mean())\n",
    "print(pval)"
   ]
  },
  {
   "cell_type": "code",
   "execution_count": null,
   "metadata": {},
   "outputs": [],
   "source": [
    "#T-test for domestic market for summer\n",
    "stat, pval = st.ttest_1samp(domSummer, movieGrossJoinBudgets['domestic_gross_x'].mean())\n",
    "print(pval)"
   ]
  },
  {
   "cell_type": "markdown",
   "metadata": {},
   "source": [
    "#  Decision"
   ]
  },
  {
   "cell_type": "markdown",
   "metadata": {},
   "source": [
    "Since pvalue both pvalue for foreign and domestic gross are less than an alpha = .02 we reject the null.  \n",
    "Stating that we are 98% sure that movies released in the Summer will result in larger gross profits."
   ]
  },
  {
   "cell_type": "markdown",
   "metadata": {},
   "source": [
    "## ANOVA Test\n",
    "\n"
   ]
  },
  {
   "cell_type": "markdown",
   "metadata": {},
   "source": [
    "Ho: There is no significant differnce in gross profit values between seasons\n",
    "\n",
    "Ha: There is a significant difference in gross profit values between seasons\n",
    "\n",
    "Alpha =0.02"
   ]
  },
  {
   "cell_type": "code",
   "execution_count": null,
   "metadata": {},
   "outputs": [],
   "source": [
    "import statsmodels.api as sm\n",
    "from statsmodels.formula.api import ols\n",
    "\n",
    "model = ols('foreign_gross ~ C(Season)', data=movieGrossJoinBudgets).fit()\n",
    "anova_table = sm.stats.anova_lm(model, typ=2)\n",
    "anova_table"
   ]
  },
  {
   "cell_type": "code",
   "execution_count": null,
   "metadata": {},
   "outputs": [],
   "source": [
    "model = ols('domestic_gross_x ~ C(Season)', data=movieGrossJoinBudgets).fit()\n",
    "anova_table = sm.stats.anova_lm(model, typ=2)\n",
    "anova_table"
   ]
  },
  {
   "cell_type": "markdown",
   "metadata": {},
   "source": [
    "We conclude that there is a statistical difference between at least one pair of seasons. "
   ]
  },
  {
   "cell_type": "markdown",
   "metadata": {},
   "source": [
    "We will test summer against each season to see if it performs significantly better than each."
   ]
  },
  {
   "cell_type": "markdown",
   "metadata": {},
   "source": [
    "#### Now lets test summer to each season of the year "
   ]
  },
  {
   "cell_type": "code",
   "execution_count": null,
   "metadata": {},
   "outputs": [],
   "source": [
    "#summer vs spring: foreign\n",
    "stat, pval = st.ttest_ind(forSummer,forSpring,equal_var = False)\n",
    "sumVsprF = pval/2"
   ]
  },
  {
   "cell_type": "code",
   "execution_count": null,
   "metadata": {},
   "outputs": [],
   "source": [
    "#summer vs fall: foreign\n",
    "stat, pval =st.ttest_ind(forSummer,forFall,equal_var = False)\n",
    "sumVfallF = pval/2"
   ]
  },
  {
   "cell_type": "code",
   "execution_count": null,
   "metadata": {},
   "outputs": [],
   "source": [
    "#summer vs winter: foreign\n",
    "stat, pval =st.ttest_ind(forSummer,forWinter,equal_var = False)\n",
    "sumVwinF = pval/2"
   ]
  },
  {
   "cell_type": "code",
   "execution_count": null,
   "metadata": {},
   "outputs": [],
   "source": [
    "#summer vs spring: Domestic\n",
    "stat, pval =st.ttest_ind(domSummer,domSpring,equal_var = False)\n",
    "sumVsprD = pval/2"
   ]
  },
  {
   "cell_type": "code",
   "execution_count": null,
   "metadata": {},
   "outputs": [],
   "source": [
    "#summer vs fall: domestic\n",
    "stat, pval =st.ttest_ind(domSummer,domFall,equal_var= False)\n",
    "sumVFallD =  pval/2"
   ]
  },
  {
   "cell_type": "code",
   "execution_count": null,
   "metadata": {},
   "outputs": [],
   "source": [
    "#summer vs winter: domestic\n",
    "stat, pval =st.ttest_ind(domSummer,domWinter,equal_var = False)\n",
    "sumVWinD = pval/2\n"
   ]
  },
  {
   "cell_type": "code",
   "execution_count": null,
   "metadata": {},
   "outputs": [],
   "source": [
    "table = [[' ', 'Domestic P-value', 'Foreign P-value'], \n",
    "         ['summer vs spring', sumVsprD, sumVsprF], ['summer vs fall', sumVFallD, sumVfallF], \n",
    "         ['summer vs winter', sumVWinD, sumVwinF]]"
   ]
  },
  {
   "cell_type": "code",
   "execution_count": null,
   "metadata": {},
   "outputs": [],
   "source": [
    "print(tabulate(table, headers = 'firstrow', tablefmt = 'fancy_grid'))"
   ]
  },
  {
   "cell_type": "markdown",
   "metadata": {},
   "source": [
    "Given alpha=0.02:\n",
    "* We found a significant conclusion that summer is greater than all other seasons for the foreign market.\n",
    "* We found a significant conclusion that summer is greater thans spring and winter for the domestic market.\n",
    "* We did not find a significant difference showing that summer is greatter than fall in the domestic market."
   ]
  },
  {
   "cell_type": "markdown",
   "metadata": {},
   "source": [
    "### Conclusion and Recomendation \n",
    "\n",
    "We conclude that in most scenariors the compnay will generate the highest amount of gross profit if they release the film in the summer. We are 98% confident that this is true comparing summer to all seasons in the foreign market and comparing summer to Winter, and spring in the domestic market"
   ]
  },
  {
   "cell_type": "markdown",
   "metadata": {},
   "source": [
    "<span style='color: red'>TODO</span>  \n",
    "Alex W.:  \n",
    "Add conclusion  \n",
    "Make explicit business suggestions and actionable insights"
   ]
  },
  {
   "cell_type": "markdown",
   "metadata": {},
   "source": [
    "<a name=\"conclusion\"></a>\n",
    "# <span style=\"color: blue\">Conclusion</span>\n",
    "\n",
    "### Findings\n",
    "\n",
    "(budget, genres, directors, release season)  \n",
    "Budget:  \n",
    "Genre:  \n",
    "Director:  \n",
    "Release Season: \n",
    "\n",
    "### Recommendations\n",
    "\n",
    "(budget, genres, directors, release season)  \n",
    "Budget: high or low?  \n",
    "Genre: what kind?  \n",
    "Director: who?  \n",
    "Release Season: when?\n",
    "\n",
    "### Future Research\n",
    "\n",
    "During our exploration of the data sets, we identified seveal areas of potential interest for future research.  \n",
    "\n",
    "First, Natural language Processing technologies could extract key words from the written reviews and create a linkage mapping of possitve and negative review words. These could be used to guide the development direction of the studio.  \n",
    "\n",
    "Second, we examined release dates using the whole set of movies in our database. However, it seems likely that certain styles of movie would perform better with distinct seasonal releases. For example, Halloween movies would likely be more popular in the fall, and spiritual movies might be better received during the winter.  \n",
    "\n",
    "Third, our genre studies did not examine the effect of crossing genre on movie performance. It would be interesting to research the effects of blending genres, such as action and horror, on a film's performance.\n",
    "\n",
    "\n",
    "### Appendix\n",
    " \n",
    "<em>Personal Notebooks</em>\n",
    "- [A. Donahue](https://github.com/cLineman/CapStoneProject/blob/main/personal_notebooks/Alex_Donahue.ipynb)\n",
    "- [C. Lineman](https://github.com/cLineman/CapStoneProject/blob/main/personal_notebooks/ColtonLineman.ipynb)\n",
    "- [N. Netznik](https://github.com/cLineman/CapStoneProject/blob/main/personal_notebooks/NateNetznik.ipynb)\n",
    "- [T.V. Nguyen](https://github.com/cLineman/CapStoneProject/blob/main/personal_notebooks/ThiVanNguyen.ipynb)\n",
    "- [A. White](https://github.com/cLineman/CapStoneProject/blob/main/personal_notebooks/AlexanderWhite.ipynb)\n",
    "\n",
    "(significant tables / graphs) \n",
    "\n",
    "### Special Thanks\n",
    "\n",
    "Our team would like to acknowledge Deloitte for its emphasis on training tomorrow's leaders through the development of this program. Specifically, we would like to recognize Ayush Giri for his work as our mentor. We would also like to acknowledge the impact of the Flatiron team and their instruction.\n",
    "\n",
    "#### Thank you for your time."
   ]
  }
 ],
 "metadata": {
  "kernelspec": {
   "display_name": "Python 3",
   "language": "python",
   "name": "python3"
  },
  "language_info": {
   "codemirror_mode": {
    "name": "ipython",
    "version": 3
   },
   "file_extension": ".py",
   "mimetype": "text/x-python",
   "name": "python",
   "nbconvert_exporter": "python",
   "pygments_lexer": "ipython3",
   "version": "3.8.5"
  }
 },
 "nbformat": 4,
 "nbformat_minor": 4
}
